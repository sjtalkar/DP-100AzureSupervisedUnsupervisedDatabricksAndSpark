{
 "cells": [
  {
   "cell_type": "markdown",
   "metadata": {
    "application/vnd.databricks.v1+cell": {
     "cellMetadata": {},
     "inputWidgets": {},
     "nuid": "7dc1c353-d34e-4e8f-aad3-b03a8932bae0",
     "showTitle": false,
     "title": ""
    }
   },
   "source": [
    "d-sandbox\n",
    "\n",
    "<div style=\"text-align: center; line-height: 0; padding-top: 9px;\">\n",
    "  <img src=\"https://databricks.com/wp-content/uploads/2018/03/db-academy-rgb-1200px.png\" alt=\"Databricks Learning\" style=\"width: 600px\">\n",
    "</div>"
   ]
  },
  {
   "cell_type": "markdown",
   "metadata": {
    "application/vnd.databricks.v1+cell": {
     "cellMetadata": {},
     "inputWidgets": {},
     "nuid": "6ca1df26-68b2-4162-88de-826ba716933d",
     "showTitle": false,
     "title": ""
    }
   },
   "source": [
    "# IDBML 03 - Creating a Model with AutoML\n",
    "\n",
    "<img src=\"https://files.training.databricks.com/images/idbml/03-image.png\">"
   ]
  },
  {
   "cell_type": "markdown",
   "metadata": {
    "application/vnd.databricks.v1+cell": {
     "cellMetadata": {},
     "inputWidgets": {},
     "nuid": "ce85fec1-4a6c-4822-8555-06034193c3e1",
     "showTitle": false,
     "title": ""
    }
   },
   "source": [
    "## Classroom Setup\n",
    "\n",
    "First, we'll run the `Classroom-Setup` notebook to set up our environment."
   ]
  },
  {
   "cell_type": "code",
   "execution_count": 0,
   "metadata": {
    "application/vnd.databricks.v1+cell": {
     "cellMetadata": {},
     "inputWidgets": {},
     "nuid": "dc26e34f-efe0-446c-a96e-94879bf93469",
     "showTitle": false,
     "title": ""
    }
   },
   "outputs": [],
   "source": [
    "%run \"./Includes/Classroom-Setup\""
   ]
  },
  {
   "cell_type": "markdown",
   "metadata": {
    "application/vnd.databricks.v1+cell": {
     "cellMetadata": {},
     "inputWidgets": {},
     "nuid": "82c154d5-faa5-43b7-9f09-6a59d9b92af8",
     "showTitle": false,
     "title": ""
    }
   },
   "source": [
    "## AutoML UI\n",
    "\n",
    "As a reminder, AutoML can be used both via the user interface and via a Python-based API.\n",
    "\n",
    "In this demonstration, we're going to develop a baseline model using the user interface.\n",
    "\n",
    "### Creating an AutoML Experiment\n",
    "\n",
    "#### Navagating to AutoML\n",
    "\n",
    "To do this, start by clicking on the **Experiments** tab in the left sidebar of the Databricks Machine Learning platform.\n",
    "\n",
    "Next, click on the **Start AutoML Experiment** button to begin a new AutoML Experiment."
   ]
  },
  {
   "cell_type": "markdown",
   "metadata": {
    "application/vnd.databricks.v1+cell": {
     "cellMetadata": {},
     "inputWidgets": {},
     "nuid": "ccae6fb6-ed57-477c-ae1e-4103c9216441",
     "showTitle": false,
     "title": ""
    }
   },
   "source": [
    "#### Setting up the Experiment\n",
    "\n",
    "When prompted, enter the details below – be sure to look for the table in your **own** database!\n",
    "\n",
    "<img src=\"https://files.training.databricks.com/images/idbml/automl-1.png\">"
   ]
  },
  {
   "cell_type": "markdown",
   "metadata": {
    "application/vnd.databricks.v1+cell": {
     "cellMetadata": {},
     "inputWidgets": {},
     "nuid": "79d54a27-d469-4779-a9ee-3bfb584a753f",
     "showTitle": false,
     "title": ""
    }
   },
   "source": [
    "#### Running the Experiment\n",
    "\n",
    "When you're ready to run the experiment, click **Start AutoML**. At this point, AutoML will start automatically generating models to predict price based on the features in the feature table.\n",
    "\n",
    "<img src=\"https://files.training.databricks.com/images/idbml/automl-2.png\">\n",
    "\n",
    "As the experiment runs, you will start to see MLflow runs appear in the experiment page indicating the models have been completed.\n",
    "\n",
    "<img src=\"https://files.training.databricks.com/images/idbml/automl-3.png\">\n",
    "\n",
    "You will also see the **Stop Experiment** button. You can stop the AutoML process by clicking this button at any time.\n",
    "\n",
    "<img src=\"https://files.training.databricks.com/images/idbml/automl-4.png\">"
   ]
  },
  {
   "cell_type": "markdown",
   "metadata": {
    "application/vnd.databricks.v1+cell": {
     "cellMetadata": {},
     "inputWidgets": {},
     "nuid": "99dabb83-0edf-4d95-8049-2a47add8f01e",
     "showTitle": false,
     "title": ""
    }
   },
   "source": [
    "#### Evaluating the Results\n",
    "\n",
    "AutoML will automatically evaluate each of your models. You can view each of these model's results in the experiment page. AutoML will also provide an easy link for you to view the notebook that generated the best model.\n",
    "\n",
    "<img src=\"https://files.training.databricks.com/images/idbml/automl-5.png\">"
   ]
  },
  {
   "cell_type": "markdown",
   "metadata": {
    "application/vnd.databricks.v1+cell": {
     "cellMetadata": {},
     "inputWidgets": {},
     "nuid": "d659fa06-e2c0-45d9-bec2-8b8a4dc5d25e",
     "showTitle": false,
     "title": ""
    }
   },
   "source": [
    "#### Viewing the Best Model\n",
    "\n",
    "When you view the notebook for the best model, you're able to copy code, edit code, and even clone the exact notebook into your production workflow.\n",
    "\n",
    "<img src=\"https://files.training.databricks.com/images/idbml/automl-6.png\">"
   ]
  },
  {
   "cell_type": "markdown",
   "metadata": {
    "application/vnd.databricks.v1+cell": {
     "cellMetadata": {},
     "inputWidgets": {},
     "nuid": "f1f5dcbe-7ac4-41ad-b42f-1e507f29dc69",
     "showTitle": false,
     "title": ""
    }
   },
   "source": [
    "-sandbox\n",
    "&copy; 2021 Databricks, Inc. All rights reserved.<br/>\n",
    "Apache, Apache Spark, Spark and the Spark logo are trademarks of the <a href=\"http://www.apache.org/\">Apache Software Foundation</a>.<br/>\n",
    "<br/>\n",
    "<a href=\"https://databricks.com/privacy-policy\">Privacy Policy</a> | <a href=\"https://databricks.com/terms-of-use\">Terms of Use</a> | <a href=\"http://help.databricks.com/\">Support</a>"
   ]
  }
 ],
 "metadata": {
  "application/vnd.databricks.v1+notebook": {
   "dashboards": [],
   "language": "python",
   "notebookMetadata": {
    "pythonIndentUnit": 2
   },
   "notebookName": "IDBML 03 - Creating a Model with AutoML",
   "notebookOrigID": 3350865296187794,
   "widgets": {}
  }
 },
 "nbformat": 4,
 "nbformat_minor": 0
}
