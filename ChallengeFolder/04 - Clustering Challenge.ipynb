{
  "cells": [
    {
      "cell_type": "markdown",
      "source": [
        "# Clustering Challenge\n",
        "\n",
        "Clustering is an *unsupervised* machine learning technique in which you train a model to group similar entities into clusters based on their features.\n",
        "\n",
        "In this exercise, you must separate a dataset consisting of three numeric features (**A**, **B**, and **C**) into clusters. Run the cell below to load the data."
      ],
      "metadata": {}
    },
    {
      "cell_type": "code",
      "source": [
        "import pandas as pd\n",
        "\n",
        "data = pd.read_csv('data/clusters.csv')\n",
        "data.head()"
      ],
      "outputs": [],
      "execution_count": null,
      "metadata": {}
    },
    {
      "cell_type": "markdown",
      "source": [
        "Your challenge is to identify the number of discrete clusters present in the data, and create a clustering model that separates the data into that number of clusters. You should also visualize the clusters to evaluate the level of separation achieved by your model.\n",
        "\n",
        "Add markdown and code cells as required to create your solution.\n",
        "\n",
        "> **Note**: There is no single \"correct\" solution. A sample solution is provided in [04 - Clustering Solution.ipynb](04%20-%20Clustering%20Solution.ipynb)."
      ],
      "metadata": {}
    },
    {
      "cell_type": "code",
      "source": [
        "# Your code to create a clustering solution"
      ],
      "outputs": [],
      "execution_count": null,
      "metadata": {}
    },
    {
      "cell_type": "code",
      "source": [
        "from sklearn.datasets import make_blobs\r\n",
        "from sklearn.cluster import KMeans\r\n",
        "\r\n",
        "\r\n",
        "X, y = make_blobs(random_state = 10)\r\n",
        "\r\n",
        "kmeans = KMeans(n_clusters = 3)\r\n",
        "kmeans.fit(X)\r\n",
        "\r\n"
      ],
      "outputs": [
        {
          "output_type": "execute_result",
          "execution_count": 2,
          "data": {
            "text/plain": "KMeans(algorithm='auto', copy_x=True, init='k-means++', max_iter=300,\n       n_clusters=3, n_init=10, n_jobs=None, precompute_distances='auto',\n       random_state=None, tol=0.0001, verbose=0)"
          },
          "metadata": {}
        }
      ],
      "execution_count": 2,
      "metadata": {
        "collapsed": true,
        "jupyter": {
          "source_hidden": false,
          "outputs_hidden": false
        },
        "nteract": {
          "transient": {
            "deleting": false
          }
        },
        "gather": {
          "logged": 1624372487514
        }
      }
    },
    {
      "cell_type": "code",
      "source": [
        "kmeans.labels_"
      ],
      "outputs": [
        {
          "output_type": "execute_result",
          "execution_count": 13,
          "data": {
            "text/plain": "array([2, 2, 1, 0, 1, 1, 0, 2, 1, 0, 0, 1, 1, 2, 2, 1, 0, 1, 0, 1, 0, 2,\n       1, 2, 0, 1, 1, 1, 1, 0, 2, 1, 1, 0, 2, 2, 2, 1, 1, 1, 2, 0, 2, 2,\n       1, 0, 0, 0, 2, 0, 1, 2, 0, 0, 2, 0, 1, 2, 0, 0, 1, 1, 2, 2, 2, 0,\n       0, 2, 2, 2, 1, 0, 1, 1, 2, 1, 1, 2, 0, 0, 0, 1, 0, 1, 2, 1, 2, 0,\n       2, 2, 0, 0, 0, 2, 2, 2, 1, 0, 0, 0], dtype=int32)"
          },
          "metadata": {}
        }
      ],
      "execution_count": 13,
      "metadata": {
        "collapsed": true,
        "jupyter": {
          "source_hidden": false,
          "outputs_hidden": false
        },
        "nteract": {
          "transient": {
            "deleting": false
          }
        },
        "gather": {
          "logged": 1624372748583
        }
      }
    },
    {
      "cell_type": "code",
      "source": [
        "import pandas as pd\r\n",
        "import altair as alt\r\n",
        "X_df = pd.DataFrame(X, columns=[\"Feature1\", \"Feature2\"])\r\n",
        "X_df['label'] = pd.Series(kmeans.labels_)\r\n"
      ],
      "outputs": [],
      "execution_count": 15,
      "metadata": {
        "collapsed": true,
        "jupyter": {
          "source_hidden": false,
          "outputs_hidden": false
        },
        "nteract": {
          "transient": {
            "deleting": false
          }
        },
        "gather": {
          "logged": 1624372777627
        }
      }
    },
    {
      "cell_type": "code",
      "source": [],
      "outputs": [],
      "execution_count": null,
      "metadata": {
        "collapsed": true,
        "jupyter": {
          "source_hidden": false,
          "outputs_hidden": false
        },
        "nteract": {
          "transient": {
            "deleting": false
          }
        }
      }
    },
    {
      "cell_type": "code",
      "source": [
        "def createClusteringChart(df):\r\n",
        "\r\n",
        "    legend_list =  [f\"Cluster {i}\" for i in X_df['label'].unique().tolist()]\r\n",
        "    df['legend'] = pd.Series(legend_list)\r\n",
        "\r\n",
        "    chart = alt.Chart(\r\n",
        "            X_df, title=\"Clusterings for random data\"\r\n",
        "    ).mark_circle(\r\n",
        "    \r\n",
        "    ).encode(\r\n",
        "        x=alt.X(\"Feature1:Q\", title=\"Feature 1\"),\r\n",
        "        y=alt.Y(\"Feature2:Q\", title=\"Feature 2\"),\r\n",
        "        color = alt.Color(\"legend:N\", )  \r\n",
        "    )\r\n",
        "    return chart\r\n",
        "\r\n",
        "\r\n"
      ],
      "outputs": [],
      "execution_count": 45,
      "metadata": {
        "collapsed": true,
        "jupyter": {
          "source_hidden": false,
          "outputs_hidden": false
        },
        "nteract": {
          "transient": {
            "deleting": false
          }
        },
        "gather": {
          "logged": 1624375347015
        }
      }
    },
    {
      "cell_type": "code",
      "source": [
        "createClusteringChart(X_df)"
      ],
      "outputs": [
        {
          "output_type": "execute_result",
          "execution_count": 46,
          "data": {
            "text/html": "\n<div id=\"altair-viz-449ffc1730d9485e8e63dcf2f649d2f8\"></div>\n<script type=\"text/javascript\">\n  (function(spec, embedOpt){\n    let outputDiv = document.currentScript.previousElementSibling;\n    if (outputDiv.id !== \"altair-viz-449ffc1730d9485e8e63dcf2f649d2f8\") {\n      outputDiv = document.getElementById(\"altair-viz-449ffc1730d9485e8e63dcf2f649d2f8\");\n    }\n    const paths = {\n      \"vega\": \"https://cdn.jsdelivr.net/npm//vega@5?noext\",\n      \"vega-lib\": \"https://cdn.jsdelivr.net/npm//vega-lib?noext\",\n      \"vega-lite\": \"https://cdn.jsdelivr.net/npm//vega-lite@4.8.1?noext\",\n      \"vega-embed\": \"https://cdn.jsdelivr.net/npm//vega-embed@6?noext\",\n    };\n\n    function loadScript(lib) {\n      return new Promise(function(resolve, reject) {\n        var s = document.createElement('script');\n        s.src = paths[lib];\n        s.async = true;\n        s.onload = () => resolve(paths[lib]);\n        s.onerror = () => reject(`Error loading script: ${paths[lib]}`);\n        document.getElementsByTagName(\"head\")[0].appendChild(s);\n      });\n    }\n\n    function showError(err) {\n      outputDiv.innerHTML = `<div class=\"error\" style=\"color:red;\">${err}</div>`;\n      throw err;\n    }\n\n    function displayChart(vegaEmbed) {\n      vegaEmbed(outputDiv, spec, embedOpt)\n        .catch(err => showError(`Javascript Error: ${err.message}<br>This usually means there's a typo in your chart specification. See the javascript console for the full traceback.`));\n    }\n\n    if(typeof define === \"function\" && define.amd) {\n      requirejs.config({paths});\n      require([\"vega-embed\"], displayChart, err => showError(`Error loading script: ${err.message}`));\n    } else if (typeof vegaEmbed === \"function\") {\n      displayChart(vegaEmbed);\n    } else {\n      loadScript(\"vega\")\n        .then(() => loadScript(\"vega-lite\"))\n        .then(() => loadScript(\"vega-embed\"))\n        .catch(showError)\n        .then(() => displayChart(vegaEmbed));\n    }\n  })({\"config\": {\"view\": {\"continuousWidth\": 400, \"continuousHeight\": 300}}, \"data\": {\"name\": \"data-b5212df2826593b32809746fef737dea\"}, \"mark\": \"circle\", \"encoding\": {\"color\": {\"type\": \"nominal\", \"field\": \"legend\"}, \"x\": {\"type\": \"quantitative\", \"field\": \"Feature1\", \"title\": \"Feature 1\"}, \"y\": {\"type\": \"quantitative\", \"field\": \"Feature2\", \"title\": \"Feature 2\"}}, \"title\": \"Clusterings for random data\", \"$schema\": \"https://vega.github.io/schema/vega-lite/v4.8.1.json\", \"datasets\": {\"data-b5212df2826593b32809746fef737dea\": [{\"Feature1\": -7.969701159167765, \"Feature2\": 0.4682608724736681, \"label\": 0, \"legend\": \"Cluster 0\"}, {\"Feature1\": 0.12424286391014264, \"Feature2\": -6.9949983448460245, \"label\": 1, \"legend\": \"Cluster 1\"}, {\"Feature1\": -10.033197500788674, \"Feature2\": -0.6104556172468282, \"label\": 0, \"legend\": \"Cluster 2\"}, {\"Feature1\": -8.368617034863641, \"Feature2\": -6.13223186440532, \"label\": 2, \"legend\": \"Cluster -1\"}, {\"Feature1\": -9.117245754853815, \"Feature2\": 0.06944995994147399, \"label\": 0, \"legend\": null}, {\"Feature1\": -9.495834704574598, \"Feature2\": 0.7449955048266638, \"label\": 0, \"legend\": null}, {\"Feature1\": -8.87437102598852, \"Feature2\": 0.4180013094150167, \"label\": 0, \"legend\": null}, {\"Feature1\": -7.657680910515842, \"Feature2\": -5.192407106517642, \"label\": 2, \"legend\": null}, {\"Feature1\": -7.85969398420216, \"Feature2\": -7.603097512601971, \"label\": 2, \"legend\": null}, {\"Feature1\": -2.7566441414890184, \"Feature2\": -8.236688701401215, \"label\": -1, \"legend\": null}, {\"Feature1\": -0.31184849456165675, \"Feature2\": -7.05409404385345, \"label\": 1, \"legend\": null}, {\"Feature1\": -7.814230868434529, \"Feature2\": -5.685083783355868, \"label\": 2, \"legend\": null}, {\"Feature1\": -11.309848101081673, \"Feature2\": -0.453380138246971, \"label\": 0, \"legend\": null}, {\"Feature1\": -8.249787296797914, \"Feature2\": -0.8632293284419132, \"label\": 0, \"legend\": null}, {\"Feature1\": -5.240528048753533, \"Feature2\": -5.779129329282049, \"label\": -1, \"legend\": null}, {\"Feature1\": -9.929641932664007, \"Feature2\": 1.3350708550548256, \"label\": 0, \"legend\": null}, {\"Feature1\": -9.156625842039169, \"Feature2\": 1.777609148259952, \"label\": 0, \"legend\": null}, {\"Feature1\": 0.4318333499208291, \"Feature2\": -7.678648879160572, \"label\": 1, \"legend\": null}, {\"Feature1\": -0.5827589037965719, \"Feature2\": -9.415186194354936, \"label\": -1, \"legend\": null}, {\"Feature1\": 1.0459271194596051, \"Feature2\": -6.281011973350507, \"label\": 1, \"legend\": null}, {\"Feature1\": -0.1671218779386094, \"Feature2\": -4.86822676851446, \"label\": 1, \"legend\": null}, {\"Feature1\": -9.813510455938939, \"Feature2\": -5.686508736256633, \"label\": 2, \"legend\": null}, {\"Feature1\": -7.5335913378001695, \"Feature2\": -6.551888070329714, \"label\": 2, \"legend\": null}, {\"Feature1\": -7.7965080468067125, \"Feature2\": -4.804056156976295, \"label\": 2, \"legend\": null}, {\"Feature1\": 1.2192763057634637, \"Feature2\": -5.9340086884526295, \"label\": 1, \"legend\": null}]}}, {\"mode\": \"vega-lite\"});\n</script>",
            "text/plain": "alt.Chart(...)"
          },
          "metadata": {}
        }
      ],
      "execution_count": 46,
      "metadata": {
        "collapsed": true,
        "jupyter": {
          "source_hidden": false,
          "outputs_hidden": false
        },
        "nteract": {
          "transient": {
            "deleting": false
          }
        },
        "gather": {
          "logged": 1624375348829
        }
      }
    },
    {
      "cell_type": "code",
      "source": [
        "from sklearn.cluster import AgglomerativeClustering\r\n",
        "X, y = make_blobs(random_state = 10)\r\n",
        "\r\n",
        "cls = AgglomerativeClustering(n_clusters = 3)\r\n",
        "cls_assignment = cls.fit_predict(X)\r\n",
        "\r\n",
        "X_df = pd.DataFrame(X, columns=[\"Feature1\", \"Feature2\"])\r\n",
        "X_df['label'] = pd.Series(cls_assignment)"
      ],
      "outputs": [],
      "execution_count": 47,
      "metadata": {
        "collapsed": true,
        "jupyter": {
          "source_hidden": false,
          "outputs_hidden": false
        },
        "nteract": {
          "transient": {
            "deleting": false
          }
        },
        "gather": {
          "logged": 1624375365677
        }
      }
    },
    {
      "cell_type": "code",
      "source": [],
      "outputs": [],
      "execution_count": null,
      "metadata": {
        "collapsed": true,
        "jupyter": {
          "source_hidden": false,
          "outputs_hidden": false
        },
        "nteract": {
          "transient": {
            "deleting": false
          }
        }
      }
    },
    {
      "cell_type": "code",
      "source": [
        "createClusteringChart(X_df)"
      ],
      "outputs": [
        {
          "output_type": "execute_result",
          "execution_count": 48,
          "data": {
            "text/html": "\n<div id=\"altair-viz-098f0ef4f713429fb53161ced4be8e6d\"></div>\n<script type=\"text/javascript\">\n  (function(spec, embedOpt){\n    let outputDiv = document.currentScript.previousElementSibling;\n    if (outputDiv.id !== \"altair-viz-098f0ef4f713429fb53161ced4be8e6d\") {\n      outputDiv = document.getElementById(\"altair-viz-098f0ef4f713429fb53161ced4be8e6d\");\n    }\n    const paths = {\n      \"vega\": \"https://cdn.jsdelivr.net/npm//vega@5?noext\",\n      \"vega-lib\": \"https://cdn.jsdelivr.net/npm//vega-lib?noext\",\n      \"vega-lite\": \"https://cdn.jsdelivr.net/npm//vega-lite@4.8.1?noext\",\n      \"vega-embed\": \"https://cdn.jsdelivr.net/npm//vega-embed@6?noext\",\n    };\n\n    function loadScript(lib) {\n      return new Promise(function(resolve, reject) {\n        var s = document.createElement('script');\n        s.src = paths[lib];\n        s.async = true;\n        s.onload = () => resolve(paths[lib]);\n        s.onerror = () => reject(`Error loading script: ${paths[lib]}`);\n        document.getElementsByTagName(\"head\")[0].appendChild(s);\n      });\n    }\n\n    function showError(err) {\n      outputDiv.innerHTML = `<div class=\"error\" style=\"color:red;\">${err}</div>`;\n      throw err;\n    }\n\n    function displayChart(vegaEmbed) {\n      vegaEmbed(outputDiv, spec, embedOpt)\n        .catch(err => showError(`Javascript Error: ${err.message}<br>This usually means there's a typo in your chart specification. See the javascript console for the full traceback.`));\n    }\n\n    if(typeof define === \"function\" && define.amd) {\n      requirejs.config({paths});\n      require([\"vega-embed\"], displayChart, err => showError(`Error loading script: ${err.message}`));\n    } else if (typeof vegaEmbed === \"function\") {\n      displayChart(vegaEmbed);\n    } else {\n      loadScript(\"vega\")\n        .then(() => loadScript(\"vega-lite\"))\n        .then(() => loadScript(\"vega-embed\"))\n        .catch(showError)\n        .then(() => displayChart(vegaEmbed));\n    }\n  })({\"config\": {\"view\": {\"continuousWidth\": 400, \"continuousHeight\": 300}}, \"data\": {\"name\": \"data-93f5584c8cf837bb401b3a5cb1f4f83e\"}, \"mark\": \"circle\", \"encoding\": {\"color\": {\"type\": \"nominal\", \"field\": \"legend\"}, \"x\": {\"type\": \"quantitative\", \"field\": \"Feature1\", \"title\": \"Feature 1\"}, \"y\": {\"type\": \"quantitative\", \"field\": \"Feature2\", \"title\": \"Feature 2\"}}, \"title\": \"Clusterings for random data\", \"$schema\": \"https://vega.github.io/schema/vega-lite/v4.8.1.json\", \"datasets\": {\"data-93f5584c8cf837bb401b3a5cb1f4f83e\": [{\"Feature1\": -2.3249630829108145, \"Feature2\": -6.6999964008465644, \"label\": 1, \"legend\": \"Cluster 1\"}, {\"Feature1\": 0.5185683123476337, \"Feature2\": -4.900868039152455, \"label\": 1, \"legend\": \"Cluster 0\"}, {\"Feature1\": 2.443018054750785, \"Feature2\": 3.8465264563384447, \"label\": 0, \"legend\": \"Cluster 2\"}, {\"Feature1\": 5.826622853587267, \"Feature2\": -9.9225933498975, \"label\": 2, \"legend\": null}, {\"Feature1\": 2.0330020942970104, \"Feature2\": 5.289908172331242, \"label\": 0, \"legend\": null}, {\"Feature1\": 3.379795153277143, \"Feature2\": 4.18880872452505, \"label\": 0, \"legend\": null}, {\"Feature1\": 6.0477488392254, \"Feature2\": -10.305046573530866, \"label\": 2, \"legend\": null}, {\"Feature1\": -0.42084193925459457, \"Feature2\": -4.2488933576734755, \"label\": 1, \"legend\": null}, {\"Feature1\": 3.780672933308158, \"Feature2\": 5.2206216274202255, \"label\": 0, \"legend\": null}, {\"Feature1\": 5.69248302933547, \"Feature2\": -7.199993682100873, \"label\": 2, \"legend\": null}, {\"Feature1\": 5.159095676661351, \"Feature2\": -10.134270026917449, \"label\": 2, \"legend\": null}, {\"Feature1\": 1.1646432113622922, \"Feature2\": 5.596678313780849, \"label\": 0, \"legend\": null}, {\"Feature1\": 2.946014018620819, \"Feature2\": 3.357506902956441, \"label\": 0, \"legend\": null}, {\"Feature1\": 1.1882890964028563, \"Feature2\": -5.560587812465637, \"label\": 1, \"legend\": null}, {\"Feature1\": -0.31748916759877177, \"Feature2\": -6.863377662489047, \"label\": 1, \"legend\": null}, {\"Feature1\": 4.3296813230038, \"Feature2\": 5.643967259605678, \"label\": 0, \"legend\": null}, {\"Feature1\": 4.289810653503875, \"Feature2\": -9.449824134363334, \"label\": 2, \"legend\": null}, {\"Feature1\": 3.499963321187773, \"Feature2\": 3.021565530770731, \"label\": 0, \"legend\": null}, {\"Feature1\": 5.314140394140759, \"Feature2\": -9.94714145995421, \"label\": 2, \"legend\": null}, {\"Feature1\": 2.6110526690331035, \"Feature2\": 4.222184690024537, \"label\": 0, \"legend\": null}, {\"Feature1\": 4.886533794002218, \"Feature2\": -8.876800992885366, \"label\": 2, \"legend\": null}, {\"Feature1\": 1.9555259921411976, \"Feature2\": -4.056901488714825, \"label\": 1, \"legend\": null}, {\"Feature1\": 2.0998513369659184, \"Feature2\": 3.6556301048807804, \"label\": 0, \"legend\": null}, {\"Feature1\": 1.31468966941775, \"Feature2\": -5.010551772134758, \"label\": 1, \"legend\": null}, {\"Feature1\": 5.525562081170163, \"Feature2\": -8.186964635718395, \"label\": 2, \"legend\": null}, {\"Feature1\": 0.81677921791436, \"Feature2\": 4.753303951669237, \"label\": 0, \"legend\": null}, {\"Feature1\": 2.5285979354985444, \"Feature2\": 4.5759392987865075, \"label\": 0, \"legend\": null}, {\"Feature1\": 3.695480805759644, \"Feature2\": 5.142887917791969, \"label\": 0, \"legend\": null}, {\"Feature1\": 2.3769808455862957, \"Feature2\": 5.824286259793892, \"label\": 0, \"legend\": null}, {\"Feature1\": 5.691924451027039, \"Feature2\": -9.476412487097, \"label\": 2, \"legend\": null}, {\"Feature1\": 0.9172663242269965, \"Feature2\": -6.526377781660441, \"label\": 1, \"legend\": null}, {\"Feature1\": 1.4471287177874532, \"Feature2\": 4.754284514372742, \"label\": 0, \"legend\": null}, {\"Feature1\": 2.9659054233574746, \"Feature2\": 4.505270399286719, \"label\": 0, \"legend\": null}, {\"Feature1\": 6.682885129090074, \"Feature2\": -10.316930514813178, \"label\": 2, \"legend\": null}, {\"Feature1\": -0.4355892815972831, \"Feature2\": -4.722291899007431, \"label\": 1, \"legend\": null}, {\"Feature1\": 0.34789333201715084, \"Feature2\": -3.889659115237582, \"label\": 1, \"legend\": null}, {\"Feature1\": 0.9770013846766314, \"Feature2\": -5.798493096772989, \"label\": 1, \"legend\": null}, {\"Feature1\": 2.457174806194986, \"Feature2\": 5.965150108271676, \"label\": 0, \"legend\": null}, {\"Feature1\": 2.607116850814307, \"Feature2\": 2.844365542290632, \"label\": 0, \"legend\": null}, {\"Feature1\": 2.8902298436435476, \"Feature2\": 2.981683881031179, \"label\": 0, \"legend\": null}, {\"Feature1\": -1.7409309511024555, \"Feature2\": -4.891769776884496, \"label\": 1, \"legend\": null}, {\"Feature1\": 5.859439055288517, \"Feature2\": -8.381923638999758, \"label\": 2, \"legend\": null}, {\"Feature1\": -1.1095571379070397, \"Feature2\": -5.6271369178931865, \"label\": 1, \"legend\": null}, {\"Feature1\": 0.24431302681191575, \"Feature2\": -6.0189770118542985, \"label\": 1, \"legend\": null}, {\"Feature1\": 4.056196928061026, \"Feature2\": 5.32231076612342, \"label\": 0, \"legend\": null}, {\"Feature1\": 5.55912116109487, \"Feature2\": -10.061103027739307, \"label\": 2, \"legend\": null}, {\"Feature1\": 5.991565534991547, \"Feature2\": -9.73238127053899, \"label\": 2, \"legend\": null}, {\"Feature1\": 4.461347194818156, \"Feature2\": -8.556686934829266, \"label\": 2, \"legend\": null}, {\"Feature1\": -1.0546127209934748, \"Feature2\": -5.343667926440488, \"label\": 1, \"legend\": null}, {\"Feature1\": 6.910949867171501, \"Feature2\": -10.664765898597246, \"label\": 2, \"legend\": null}, {\"Feature1\": 3.9091700247123238, \"Feature2\": 7.441402732833712, \"label\": 0, \"legend\": null}, {\"Feature1\": 2.1951898848750035, \"Feature2\": -5.386885669188564, \"label\": 1, \"legend\": null}, {\"Feature1\": 3.448684584677012, \"Feature2\": -11.328333308710878, \"label\": 2, \"legend\": null}, {\"Feature1\": 6.5501041187443425, \"Feature2\": -7.912338799504142, \"label\": 2, \"legend\": null}, {\"Feature1\": -0.07790107917761174, \"Feature2\": -5.984854429515071, \"label\": 1, \"legend\": null}, {\"Feature1\": 7.821116530219454, \"Feature2\": -8.66750207530154, \"label\": 2, \"legend\": null}, {\"Feature1\": 2.6241341871867547, \"Feature2\": 5.369418867853976, \"label\": 0, \"legend\": null}, {\"Feature1\": 0.4808546574496717, \"Feature2\": -5.089769448189037, \"label\": 1, \"legend\": null}, {\"Feature1\": 6.086644416561232, \"Feature2\": -9.935832904251841, \"label\": 2, \"legend\": null}, {\"Feature1\": 5.063913682179279, \"Feature2\": -9.706866703973859, \"label\": 2, \"legend\": null}, {\"Feature1\": 2.987718477337242, \"Feature2\": 7.443728707206839, \"label\": 0, \"legend\": null}, {\"Feature1\": 5.077290304462858, \"Feature2\": 4.236720912263564, \"label\": 0, \"legend\": null}, {\"Feature1\": -1.1529637891725741, \"Feature2\": -5.8927950362378585, \"label\": 1, \"legend\": null}, {\"Feature1\": 0.10327774292286693, \"Feature2\": -4.3013232154131416, \"label\": 1, \"legend\": null}, {\"Feature1\": 1.1373086144559263, \"Feature2\": -6.076043902670813, \"label\": 1, \"legend\": null}, {\"Feature1\": 6.555198018444797, \"Feature2\": -10.282771043283685, \"label\": 2, \"legend\": null}, {\"Feature1\": 5.655042995459579, \"Feature2\": -9.139823399981623, \"label\": 2, \"legend\": null}, {\"Feature1\": 0.5040250553626839, \"Feature2\": -4.760092685597122, \"label\": 1, \"legend\": null}, {\"Feature1\": -0.3629609160860261, \"Feature2\": -6.29545786035049, \"label\": 1, \"legend\": null}, {\"Feature1\": 0.3024901955833257, \"Feature2\": -4.369093916301141, \"label\": 1, \"legend\": null}, {\"Feature1\": 4.658049289951239, \"Feature2\": 6.720891799111538, \"label\": 0, \"legend\": null}, {\"Feature1\": 6.734885946198397, \"Feature2\": -9.389947733578877, \"label\": 2, \"legend\": null}, {\"Feature1\": 2.3601359411884184, \"Feature2\": 4.627195732554743, \"label\": 0, \"legend\": null}, {\"Feature1\": 2.2339384623054936, \"Feature2\": 5.117181818836668, \"label\": 0, \"legend\": null}, {\"Feature1\": 0.21475476631679907, \"Feature2\": -5.681365912028614, \"label\": 1, \"legend\": null}, {\"Feature1\": 1.6278321610110704, \"Feature2\": 4.178068833099992, \"label\": 0, \"legend\": null}, {\"Feature1\": 4.012891008483061, \"Feature2\": 5.005387361715406, \"label\": 0, \"legend\": null}, {\"Feature1\": 0.9126406549919491, \"Feature2\": -8.483663860444182, \"label\": 1, \"legend\": null}, {\"Feature1\": 5.155164877369138, \"Feature2\": -8.971756827952332, \"label\": 2, \"legend\": null}, {\"Feature1\": 5.430704296268953, \"Feature2\": -9.759561223404912, \"label\": 2, \"legend\": null}, {\"Feature1\": 5.745769286426143, \"Feature2\": -9.124058111140252, \"label\": 2, \"legend\": null}, {\"Feature1\": 1.750055433676562, \"Feature2\": 5.445829084855279, \"label\": 0, \"legend\": null}, {\"Feature1\": 4.621821723064965, \"Feature2\": -9.797658651522482, \"label\": 2, \"legend\": null}, {\"Feature1\": 3.3849237150453475, \"Feature2\": 5.894346802251651, \"label\": 0, \"legend\": null}, {\"Feature1\": -0.7426591907752509, \"Feature2\": -5.764926567937222, \"label\": 1, \"legend\": null}, {\"Feature1\": 2.190871559690029, \"Feature2\": 5.065665263361752, \"label\": 0, \"legend\": null}, {\"Feature1\": -1.4507402691024254, \"Feature2\": -6.183013864003088, \"label\": 1, \"legend\": null}, {\"Feature1\": 5.087272619271484, \"Feature2\": -9.272791076498748, \"label\": 2, \"legend\": null}, {\"Feature1\": 1.0702696200651376, \"Feature2\": -4.939714562996929, \"label\": 1, \"legend\": null}, {\"Feature1\": 0.4310286984506749, \"Feature2\": -4.841693077658414, \"label\": 1, \"legend\": null}, {\"Feature1\": 5.194230609390829, \"Feature2\": -10.086689912406838, \"label\": 2, \"legend\": null}, {\"Feature1\": 6.472595722143184, \"Feature2\": -11.003517042035364, \"label\": 2, \"legend\": null}, {\"Feature1\": 5.345290681517973, \"Feature2\": -10.114257093811458, \"label\": 2, \"legend\": null}, {\"Feature1\": 0.3236178598556589, \"Feature2\": -5.711346575104485, \"label\": 1, \"legend\": null}, {\"Feature1\": -0.2668639384716721, \"Feature2\": -5.446781939227029, \"label\": 1, \"legend\": null}, {\"Feature1\": -0.7369312010153549, \"Feature2\": -4.957402251848512, \"label\": 1, \"legend\": null}, {\"Feature1\": 2.790440359552146, \"Feature2\": 3.0686207626478357, \"label\": 0, \"legend\": null}, {\"Feature1\": 4.486979505572368, \"Feature2\": -10.074298229696621, \"label\": 2, \"legend\": null}, {\"Feature1\": 6.268637603717575, \"Feature2\": -9.38138021548449, \"label\": 2, \"legend\": null}, {\"Feature1\": 5.400507528518733, \"Feature2\": -9.295866809008036, \"label\": 2, \"legend\": null}]}}, {\"mode\": \"vega-lite\"});\n</script>",
            "text/plain": "alt.Chart(...)"
          },
          "metadata": {}
        }
      ],
      "execution_count": 48,
      "metadata": {
        "collapsed": true,
        "jupyter": {
          "source_hidden": false,
          "outputs_hidden": false
        },
        "nteract": {
          "transient": {
            "deleting": false
          }
        },
        "gather": {
          "logged": 1624375368133
        }
      }
    },
    {
      "cell_type": "code",
      "source": [
        "from scipy.cluster.hierarchy import ward, dendrogram\r\n",
        "import matplotlib.pyplot as plt\r\n",
        "plt.figure()\r\n",
        "dendrogram(ward(X))\r\n",
        "plt.show()"
      ],
      "outputs": [
        {
          "output_type": "display_data",
          "data": {
            "text/plain": "<Figure size 432x288 with 1 Axes>",
            "image/png": "[encoded data removed]"
          },
          "metadata": {
            "needs_background": "light"
          }
        }
      ],
      "execution_count": 30,
      "metadata": {
        "collapsed": true,
        "jupyter": {
          "source_hidden": false,
          "outputs_hidden": false
        },
        "nteract": {
          "transient": {
            "deleting": false
          }
        },
        "gather": {
          "logged": 1624373569653
        }
      }
    },
    {
      "cell_type": "code",
      "source": [
        "from sklearn.cluster import DBSCAN\r\n",
        "X, y = make_blobs(random_state = 9, n_samples = 25)\r\n",
        "\r\n",
        "dbscan = DBSCAN(eps = 2, min_samples = 2)\r\n",
        "\r\n",
        "cls = dbscan.fit_predict(X)\r\n",
        "print(\"Cluster membership values:\\n{}\", format(cls))\r\n",
        "\r\n",
        "X_df = pd.DataFrame(X, columns=[\"Feature1\", \"Feature2\"])\r\n",
        "X_df['label'] = pd.Series(cls)\r\n",
        "createClusteringChart(X_df)\r\n"
      ],
      "outputs": [
        {
          "output_type": "stream",
          "name": "stdout",
          "text": [
            "Cluster membership values:\n",
            "{} [ 0  1  0  2  0  0  0  2  2 -1  1  2  0  0 -1  0  0  1 -1  1  1  2  2  2\n",
            "  1]\n"
          ]
        },
        {
          "output_type": "execute_result",
          "execution_count": 49,
          "data": {
            "text/html": "\n<div id=\"altair-viz-cd72c3131a734682968e9af68c8f07e9\"></div>\n<script type=\"text/javascript\">\n  (function(spec, embedOpt){\n    let outputDiv = document.currentScript.previousElementSibling;\n    if (outputDiv.id !== \"altair-viz-cd72c3131a734682968e9af68c8f07e9\") {\n      outputDiv = document.getElementById(\"altair-viz-cd72c3131a734682968e9af68c8f07e9\");\n    }\n    const paths = {\n      \"vega\": \"https://cdn.jsdelivr.net/npm//vega@5?noext\",\n      \"vega-lib\": \"https://cdn.jsdelivr.net/npm//vega-lib?noext\",\n      \"vega-lite\": \"https://cdn.jsdelivr.net/npm//vega-lite@4.8.1?noext\",\n      \"vega-embed\": \"https://cdn.jsdelivr.net/npm//vega-embed@6?noext\",\n    };\n\n    function loadScript(lib) {\n      return new Promise(function(resolve, reject) {\n        var s = document.createElement('script');\n        s.src = paths[lib];\n        s.async = true;\n        s.onload = () => resolve(paths[lib]);\n        s.onerror = () => reject(`Error loading script: ${paths[lib]}`);\n        document.getElementsByTagName(\"head\")[0].appendChild(s);\n      });\n    }\n\n    function showError(err) {\n      outputDiv.innerHTML = `<div class=\"error\" style=\"color:red;\">${err}</div>`;\n      throw err;\n    }\n\n    function displayChart(vegaEmbed) {\n      vegaEmbed(outputDiv, spec, embedOpt)\n        .catch(err => showError(`Javascript Error: ${err.message}<br>This usually means there's a typo in your chart specification. See the javascript console for the full traceback.`));\n    }\n\n    if(typeof define === \"function\" && define.amd) {\n      requirejs.config({paths});\n      require([\"vega-embed\"], displayChart, err => showError(`Error loading script: ${err.message}`));\n    } else if (typeof vegaEmbed === \"function\") {\n      displayChart(vegaEmbed);\n    } else {\n      loadScript(\"vega\")\n        .then(() => loadScript(\"vega-lite\"))\n        .then(() => loadScript(\"vega-embed\"))\n        .catch(showError)\n        .then(() => displayChart(vegaEmbed));\n    }\n  })({\"config\": {\"view\": {\"continuousWidth\": 400, \"continuousHeight\": 300}}, \"data\": {\"name\": \"data-b5212df2826593b32809746fef737dea\"}, \"mark\": \"circle\", \"encoding\": {\"color\": {\"type\": \"nominal\", \"field\": \"legend\"}, \"x\": {\"type\": \"quantitative\", \"field\": \"Feature1\", \"title\": \"Feature 1\"}, \"y\": {\"type\": \"quantitative\", \"field\": \"Feature2\", \"title\": \"Feature 2\"}}, \"title\": \"Clusterings for random data\", \"$schema\": \"https://vega.github.io/schema/vega-lite/v4.8.1.json\", \"datasets\": {\"data-b5212df2826593b32809746fef737dea\": [{\"Feature1\": -7.969701159167765, \"Feature2\": 0.4682608724736681, \"label\": 0, \"legend\": \"Cluster 0\"}, {\"Feature1\": 0.12424286391014264, \"Feature2\": -6.9949983448460245, \"label\": 1, \"legend\": \"Cluster 1\"}, {\"Feature1\": -10.033197500788674, \"Feature2\": -0.6104556172468282, \"label\": 0, \"legend\": \"Cluster 2\"}, {\"Feature1\": -8.368617034863641, \"Feature2\": -6.13223186440532, \"label\": 2, \"legend\": \"Cluster -1\"}, {\"Feature1\": -9.117245754853815, \"Feature2\": 0.06944995994147399, \"label\": 0, \"legend\": null}, {\"Feature1\": -9.495834704574598, \"Feature2\": 0.7449955048266638, \"label\": 0, \"legend\": null}, {\"Feature1\": -8.87437102598852, \"Feature2\": 0.4180013094150167, \"label\": 0, \"legend\": null}, {\"Feature1\": -7.657680910515842, \"Feature2\": -5.192407106517642, \"label\": 2, \"legend\": null}, {\"Feature1\": -7.85969398420216, \"Feature2\": -7.603097512601971, \"label\": 2, \"legend\": null}, {\"Feature1\": -2.7566441414890184, \"Feature2\": -8.236688701401215, \"label\": -1, \"legend\": null}, {\"Feature1\": -0.31184849456165675, \"Feature2\": -7.05409404385345, \"label\": 1, \"legend\": null}, {\"Feature1\": -7.814230868434529, \"Feature2\": -5.685083783355868, \"label\": 2, \"legend\": null}, {\"Feature1\": -11.309848101081673, \"Feature2\": -0.453380138246971, \"label\": 0, \"legend\": null}, {\"Feature1\": -8.249787296797914, \"Feature2\": -0.8632293284419132, \"label\": 0, \"legend\": null}, {\"Feature1\": -5.240528048753533, \"Feature2\": -5.779129329282049, \"label\": -1, \"legend\": null}, {\"Feature1\": -9.929641932664007, \"Feature2\": 1.3350708550548256, \"label\": 0, \"legend\": null}, {\"Feature1\": -9.156625842039169, \"Feature2\": 1.777609148259952, \"label\": 0, \"legend\": null}, {\"Feature1\": 0.4318333499208291, \"Feature2\": -7.678648879160572, \"label\": 1, \"legend\": null}, {\"Feature1\": -0.5827589037965719, \"Feature2\": -9.415186194354936, \"label\": -1, \"legend\": null}, {\"Feature1\": 1.0459271194596051, \"Feature2\": -6.281011973350507, \"label\": 1, \"legend\": null}, {\"Feature1\": -0.1671218779386094, \"Feature2\": -4.86822676851446, \"label\": 1, \"legend\": null}, {\"Feature1\": -9.813510455938939, \"Feature2\": -5.686508736256633, \"label\": 2, \"legend\": null}, {\"Feature1\": -7.5335913378001695, \"Feature2\": -6.551888070329714, \"label\": 2, \"legend\": null}, {\"Feature1\": -7.7965080468067125, \"Feature2\": -4.804056156976295, \"label\": 2, \"legend\": null}, {\"Feature1\": 1.2192763057634637, \"Feature2\": -5.9340086884526295, \"label\": 1, \"legend\": null}]}}, {\"mode\": \"vega-lite\"});\n</script>",
            "text/plain": "alt.Chart(...)"
          },
          "metadata": {}
        }
      ],
      "execution_count": 49,
      "metadata": {
        "collapsed": true,
        "jupyter": {
          "source_hidden": false,
          "outputs_hidden": false
        },
        "nteract": {
          "transient": {
            "deleting": false
          }
        },
        "gather": {
          "logged": 1624375376760
        }
      }
    },
    {
      "cell_type": "code",
      "source": [
        "import altair as alt\r\n",
        "import pandas as pd\r\n",
        "df = pd.DataFrame({'Year': [2014, 2015, 2016, 2017, 2018, 2019],\r\n",
        " 'Total': [376, 1198, 1871, 4386, 4920, 2417],\r\n",
        " 'Missing': [299, 758, 1063, 233, 32, 11],\r\n",
        " 'Difference': [77, 440, 808, 4153, 4888, 2406]}\r\n",
        ")\r\n",
        "\r\n",
        "\r\n",
        "melted = pd.melt(df.drop('Total', axis=1).rename({'Difference': 'Total'}, axis=1),\r\n",
        "                 id_vars=['Year'], value_vars=['Total', 'Missing'])\r\n",
        "\r\n",
        "alt.Chart(melted).mark_bar().encode(\r\n",
        "    alt.X('Year:O', title=''),\r\n",
        "    alt.Y('value:Q', title=''),\r\n",
        "    alt.Color('variable:N', \r\n",
        "              scale=alt.Scale(domain=['Total', 'Missing'],\r\n",
        "                              range=['#ddccbb', 'red'])),\r\n",
        "    order=alt.Order('variable', sort='ascending')\r\n",
        ").properties(    \r\n",
        "    background='white'          \r\n",
        ")"
      ],
      "outputs": [
        {
          "output_type": "execute_result",
          "execution_count": 38,
          "data": {
            "text/html": "\n<div id=\"altair-viz-07f806720d7b45979484752844f67d0f\"></div>\n<script type=\"text/javascript\">\n  (function(spec, embedOpt){\n    let outputDiv = document.currentScript.previousElementSibling;\n    if (outputDiv.id !== \"altair-viz-07f806720d7b45979484752844f67d0f\") {\n      outputDiv = document.getElementById(\"altair-viz-07f806720d7b45979484752844f67d0f\");\n    }\n    const paths = {\n      \"vega\": \"https://cdn.jsdelivr.net/npm//vega@5?noext\",\n      \"vega-lib\": \"https://cdn.jsdelivr.net/npm//vega-lib?noext\",\n      \"vega-lite\": \"https://cdn.jsdelivr.net/npm//vega-lite@4.8.1?noext\",\n      \"vega-embed\": \"https://cdn.jsdelivr.net/npm//vega-embed@6?noext\",\n    };\n\n    function loadScript(lib) {\n      return new Promise(function(resolve, reject) {\n        var s = document.createElement('script');\n        s.src = paths[lib];\n        s.async = true;\n        s.onload = () => resolve(paths[lib]);\n        s.onerror = () => reject(`Error loading script: ${paths[lib]}`);\n        document.getElementsByTagName(\"head\")[0].appendChild(s);\n      });\n    }\n\n    function showError(err) {\n      outputDiv.innerHTML = `<div class=\"error\" style=\"color:red;\">${err}</div>`;\n      throw err;\n    }\n\n    function displayChart(vegaEmbed) {\n      vegaEmbed(outputDiv, spec, embedOpt)\n        .catch(err => showError(`Javascript Error: ${err.message}<br>This usually means there's a typo in your chart specification. See the javascript console for the full traceback.`));\n    }\n\n    if(typeof define === \"function\" && define.amd) {\n      requirejs.config({paths});\n      require([\"vega-embed\"], displayChart, err => showError(`Error loading script: ${err.message}`));\n    } else if (typeof vegaEmbed === \"function\") {\n      displayChart(vegaEmbed);\n    } else {\n      loadScript(\"vega\")\n        .then(() => loadScript(\"vega-lite\"))\n        .then(() => loadScript(\"vega-embed\"))\n        .catch(showError)\n        .then(() => displayChart(vegaEmbed));\n    }\n  })({\"config\": {\"view\": {\"continuousWidth\": 400, \"continuousHeight\": 300}}, \"data\": {\"name\": \"data-ba09942553b3e8df6e81c559b8380761\"}, \"mark\": \"bar\", \"background\": \"white\", \"encoding\": {\"color\": {\"type\": \"nominal\", \"field\": \"variable\", \"scale\": {\"domain\": [\"Total\", \"Missing\"], \"range\": [\"#ddccbb\", \"red\"]}}, \"order\": {\"type\": \"nominal\", \"field\": \"variable\", \"sort\": \"ascending\"}, \"x\": {\"type\": \"ordinal\", \"field\": \"Year\", \"title\": \"\"}, \"y\": {\"type\": \"quantitative\", \"field\": \"value\", \"title\": \"\"}}, \"$schema\": \"https://vega.github.io/schema/vega-lite/v4.8.1.json\", \"datasets\": {\"data-ba09942553b3e8df6e81c559b8380761\": [{\"Year\": 2014, \"variable\": \"Total\", \"value\": 77}, {\"Year\": 2015, \"variable\": \"Total\", \"value\": 440}, {\"Year\": 2016, \"variable\": \"Total\", \"value\": 808}, {\"Year\": 2017, \"variable\": \"Total\", \"value\": 4153}, {\"Year\": 2018, \"variable\": \"Total\", \"value\": 4888}, {\"Year\": 2019, \"variable\": \"Total\", \"value\": 2406}, {\"Year\": 2014, \"variable\": \"Missing\", \"value\": 299}, {\"Year\": 2015, \"variable\": \"Missing\", \"value\": 758}, {\"Year\": 2016, \"variable\": \"Missing\", \"value\": 1063}, {\"Year\": 2017, \"variable\": \"Missing\", \"value\": 233}, {\"Year\": 2018, \"variable\": \"Missing\", \"value\": 32}, {\"Year\": 2019, \"variable\": \"Missing\", \"value\": 11}]}}, {\"mode\": \"vega-lite\"});\n</script>",
            "text/plain": "alt.Chart(...)"
          },
          "metadata": {}
        }
      ],
      "execution_count": 38,
      "metadata": {
        "collapsed": true,
        "jupyter": {
          "source_hidden": false,
          "outputs_hidden": false
        },
        "nteract": {
          "transient": {
            "deleting": false
          }
        },
        "gather": {
          "logged": 1624374235335
        }
      }
    },
    {
      "cell_type": "code",
      "source": [
        "melted"
      ],
      "outputs": [
        {
          "output_type": "execute_result",
          "execution_count": 39,
          "data": {
            "text/plain": "    Year variable  value\n0   2014    Total     77\n1   2015    Total    440\n2   2016    Total    808\n3   2017    Total   4153\n4   2018    Total   4888\n5   2019    Total   2406\n6   2014  Missing    299\n7   2015  Missing    758\n8   2016  Missing   1063\n9   2017  Missing    233\n10  2018  Missing     32\n11  2019  Missing     11",
            "text/html": "<div>\n<style scoped>\n    .dataframe tbody tr th:only-of-type {\n        vertical-align: middle;\n    }\n\n    .dataframe tbody tr th {\n        vertical-align: top;\n    }\n\n    .dataframe thead th {\n        text-align: right;\n    }\n</style>\n<table border=\"1\" class=\"dataframe\">\n  <thead>\n    <tr style=\"text-align: right;\">\n      <th></th>\n      <th>Year</th>\n      <th>variable</th>\n      <th>value</th>\n    </tr>\n  </thead>\n  <tbody>\n    <tr>\n      <th>0</th>\n      <td>2014</td>\n      <td>Total</td>\n      <td>77</td>\n    </tr>\n    <tr>\n      <th>1</th>\n      <td>2015</td>\n      <td>Total</td>\n      <td>440</td>\n    </tr>\n    <tr>\n      <th>2</th>\n      <td>2016</td>\n      <td>Total</td>\n      <td>808</td>\n    </tr>\n    <tr>\n      <th>3</th>\n      <td>2017</td>\n      <td>Total</td>\n      <td>4153</td>\n    </tr>\n    <tr>\n      <th>4</th>\n      <td>2018</td>\n      <td>Total</td>\n      <td>4888</td>\n    </tr>\n    <tr>\n      <th>5</th>\n      <td>2019</td>\n      <td>Total</td>\n      <td>2406</td>\n    </tr>\n    <tr>\n      <th>6</th>\n      <td>2014</td>\n      <td>Missing</td>\n      <td>299</td>\n    </tr>\n    <tr>\n      <th>7</th>\n      <td>2015</td>\n      <td>Missing</td>\n      <td>758</td>\n    </tr>\n    <tr>\n      <th>8</th>\n      <td>2016</td>\n      <td>Missing</td>\n      <td>1063</td>\n    </tr>\n    <tr>\n      <th>9</th>\n      <td>2017</td>\n      <td>Missing</td>\n      <td>233</td>\n    </tr>\n    <tr>\n      <th>10</th>\n      <td>2018</td>\n      <td>Missing</td>\n      <td>32</td>\n    </tr>\n    <tr>\n      <th>11</th>\n      <td>2019</td>\n      <td>Missing</td>\n      <td>11</td>\n    </tr>\n  </tbody>\n</table>\n</div>"
          },
          "metadata": {}
        }
      ],
      "execution_count": 39,
      "metadata": {
        "collapsed": true,
        "jupyter": {
          "source_hidden": false,
          "outputs_hidden": false
        },
        "nteract": {
          "transient": {
            "deleting": false
          }
        },
        "gather": {
          "logged": 1624374560749
        }
      }
    },
    {
      "cell_type": "code",
      "source": [],
      "outputs": [],
      "execution_count": null,
      "metadata": {
        "collapsed": true,
        "jupyter": {
          "source_hidden": false,
          "outputs_hidden": false
        },
        "nteract": {
          "transient": {
            "deleting": false
          }
        }
      }
    }
  ],
  "metadata": {
    "kernelspec": {
      "name": "python3-azureml",
      "language": "python",
      "display_name": "Python 3.6 - AzureML"
    },
    "language_info": {
      "name": "python",
      "version": "3.6.9",
      "mimetype": "text/x-python",
      "codemirror_mode": {
        "name": "ipython",
        "version": 3
      },
      "pygments_lexer": "ipython3",
      "nbconvert_exporter": "python",
      "file_extension": ".py"
    },
    "kernel_info": {
      "name": "python3-azureml"
    },
    "nteract": {
      "version": "nteract-front-end@1.0.0"
    },
    "microsoft": {
      "host": {
        "AzureML": {
          "notebookHasBeenCompleted": true
        }
      }
    }
  },
  "nbformat": 4,
  "nbformat_minor": 2
}