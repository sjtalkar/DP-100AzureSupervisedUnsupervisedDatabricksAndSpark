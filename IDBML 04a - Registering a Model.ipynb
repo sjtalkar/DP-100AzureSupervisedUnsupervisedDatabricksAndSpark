{
 "cells": [
  {
   "cell_type": "markdown",
   "metadata": {
    "application/vnd.databricks.v1+cell": {
     "cellMetadata": {},
     "inputWidgets": {},
     "nuid": "71e73341-4a39-4b55-93db-598b5f145508",
     "showTitle": false,
     "title": ""
    }
   },
   "source": [
    "d-sandbox\n",
    "\n",
    "<div style=\"text-align: center; line-height: 0; padding-top: 9px;\">\n",
    "  <img src=\"https://databricks.com/wp-content/uploads/2018/03/db-academy-rgb-1200px.png\" alt=\"Databricks Learning\" style=\"width: 600px\">\n",
    "</div>"
   ]
  },
  {
   "cell_type": "markdown",
   "metadata": {
    "application/vnd.databricks.v1+cell": {
     "cellMetadata": {},
     "inputWidgets": {},
     "nuid": "51155131-b9d5-4b91-a2ad-c80d29650914",
     "showTitle": false,
     "title": ""
    }
   },
   "source": [
    "# IDBML 04a - Registering a Model\n",
    "\n",
    "<img src=\"https://s3.us-west-2.amazonaws.com/files.training.databricks.com/images/idbml/04-image.png\">"
   ]
  },
  {
   "cell_type": "markdown",
   "metadata": {
    "application/vnd.databricks.v1+cell": {
     "cellMetadata": {},
     "inputWidgets": {},
     "nuid": "d4c2bdc5-0004-4f80-8fe5-a7f8f2285a06",
     "showTitle": false,
     "title": ""
    }
   },
   "source": [
    "## Classroom Setup\n",
    "\n",
    "First, we'll run the `Classroom-Setup` notebook to set up our environment."
   ]
  },
  {
   "cell_type": "code",
   "execution_count": 0,
   "metadata": {
    "application/vnd.databricks.v1+cell": {
     "cellMetadata": {},
     "inputWidgets": {},
     "nuid": "c49cf5f5-ece2-4853-96eb-4f67dfbf6395",
     "showTitle": false,
     "title": ""
    }
   },
   "outputs": [],
   "source": [
    "%run \"./Includes/Classroom-Setup\""
   ]
  },
  {
   "cell_type": "markdown",
   "metadata": {
    "application/vnd.databricks.v1+cell": {
     "cellMetadata": {},
     "inputWidgets": {},
     "nuid": "b3cd2746-0837-48f6-af6f-ddfff4180e63",
     "showTitle": false,
     "title": ""
    }
   },
   "source": [
    "## Model Registry Overview\n",
    "\n",
    "One of the primary challenges among data scientists and machine learning engineers is the absence of a central repository for models, their versions, and the means to manage them throughout their lifecycle.  \n",
    "\n",
    "The [MLflow Model Registry](https://docs.databricks.com/applications/mlflow/model-registry.html) addresses this challenge and enables members of the data team to:\n",
    "<br><br>\n",
    "* **Discover** registered models, current stage in model development, experiment runs, and associated code with a registered model\n",
    "* **Transition** models to different stages of their lifecycle\n",
    "* **Deploy** different versions of a registered model in different stages, offering MLOps engineers ability to deploy and conduct testing of different model versions\n",
    "* **Test** models in an automated fashion\n",
    "* **Document** models throughout their lifecycle\n",
    "* **Secure** access and permission for model registrations, transitions or modifications\n",
    "\n",
    "<img src=\"https://databricks.com/wp-content/uploads/2020/04/databricks-adds-access-control-to-mlflow-model-registry_01.jpg\">"
   ]
  },
  {
   "cell_type": "markdown",
   "metadata": {
    "application/vnd.databricks.v1+cell": {
     "cellMetadata": {},
     "inputWidgets": {},
     "nuid": "1bbe6ab2-8090-4e04-8d77-78f97bd9eca4",
     "showTitle": false,
     "title": ""
    }
   },
   "source": [
    "## Registering Models to Model Registry\n",
    "\n",
    "There are two ways to register models to Model Registry:\n",
    "\n",
    "1. MLflow Run's page UI\n",
    "1. MLflow Model Registry API"
   ]
  },
  {
   "cell_type": "markdown",
   "metadata": {
    "application/vnd.databricks.v1+cell": {
     "cellMetadata": {},
     "inputWidgets": {},
     "nuid": "2946e7f8-3555-420b-bf0d-e0ec1b76bdfe",
     "showTitle": false,
     "title": ""
    }
   },
   "source": [
    "-sandbox\n",
    "### MLflow Run's Page UI\n",
    "\n",
    "First, we'll demonstrate how to register a model via the MLflow Run's page UI.\n",
    "\n",
    "#### Step 1\n",
    "\n",
    "The first thing that you need to do is navigate to the MLflow Experiment page for your project. On that page, you'll see a list of MLflow Runs.\n",
    "\n",
    "Click on the link in the **Models** tab for the row of the model you'd like to register.\n",
    "\n",
    "<img src=\"https://s3.us-west-2.amazonaws.com/files.training.databricks.com/images/idbml/model-registry-2.png\">\n",
    "\n",
    "#### Step 2\n",
    "\n",
    "This will take you to the MLflow Run page &mdash; it'll automatically scroll down the page and stop at the \"Artifacts\" section.\n",
    "\n",
    "In that area, there will be a **Register Model** button. Click on this button to begin registering your model.\n",
    "\n",
    "<img src=\"https://s3.us-west-2.amazonaws.com/files.training.databricks.com/images/idbml/model-registry-1.png\">\n",
    "\n",
    "#### Step 3\n",
    "\n",
    "When registering your model, you'll want to create a new Model in the Model Registry (if a model for your project hasn't already been registered) *and* give it a new name.\n",
    "\n",
    "When you've completed this form, click **Register**.\n",
    "\n",
    "<img src=\"https://s3.us-west-2.amazonaws.com/files.training.databricks.com/images/idbml/model-registry-3.png\">\n",
    "\n",
    "#### Step 4\n",
    "\n",
    "At this point, your model is registering to the Model Registry. You should see this on your Model page.\n",
    "\n",
    "<img src=\"https://s3.us-west-2.amazonaws.com/files.training.databricks.com/images/idbml/model-registry-4.png\">\n",
    "\n",
    "#### Step 5\n",
    "\n",
    "You can view the model's page in the Model Registry. You'll notice that one version is registered.\n",
    "\n",
    "Click on the **Version 1** link to view the page for that specific version of the model.\n",
    "\n",
    "<img src=\"https://s3.us-west-2.amazonaws.com/files.training.databricks.com/images/idbml/model-registry-5.png\">\n",
    "\n",
    "#### Step 6\n",
    "\n",
    "On the model's page, we want to request that we transition this model to the \"Staging\" stage of our deployment lifecycle. This will notify the owner of the model that a request has been made for them to review.\n",
    "\n",
    "<img alt=\"Side Note\" title=\"Side Note\" style=\"vertical-align: text-bottom; position: relative; height:1.75em; top:0.05em; transform:rotate(15deg)\" src=\"https://files.training.databricks.com/static/images/icon-note.webp\"/> If you have the appropriate permissions, you can transition the model to a stage without review from another member of the team.\n",
    "\n",
    "<img src=\"https://s3.us-west-2.amazonaws.com/files.training.databricks.com/images/idbml/model-registry-6.png\">\n",
    "\n",
    "#### Step 7\n",
    "\n",
    "The user requesting the stage transition will have the opportunity to leave comments on their request.\n",
    "\n",
    "<img src=\"https://s3.us-west-2.amazonaws.com/files.training.databricks.com/images/idbml/model-registry-7.png\">\n",
    "\n",
    "#### Step 8\n",
    "\n",
    "If you are a reviewer and need to review a stage transition request, you are able to do so in the UI.\n",
    "\n",
    "<img src=\"https://s3.us-west-2.amazonaws.com/files.training.databricks.com/images/idbml/model-registry-8.png\">\n",
    "\n",
    "#### Step 9\n",
    "\n",
    "The reviewer also has the opportunity to leave comments.\n",
    "\n",
    "<img src=\"https://s3.us-west-2.amazonaws.com/files.training.databricks.com/images/idbml/model-registry-9.png\">\n",
    "\n",
    "#### Step 10\n",
    "\n",
    "Finally, verify that your model is has successfully been moved to **Staging**.\n",
    "\n",
    "<img src=\"https://s3.us-west-2.amazonaws.com/files.training.databricks.com/images/idbml/model-registry-10.png\">"
   ]
  },
  {
   "cell_type": "markdown",
   "metadata": {
    "application/vnd.databricks.v1+cell": {
     "cellMetadata": {},
     "inputWidgets": {},
     "nuid": "587c0583-d76b-4179-99db-d8560c237fb8",
     "showTitle": false,
     "title": ""
    }
   },
   "source": [
    "-sandbox\n",
    "\n",
    "### MLflow Model Registry API\n",
    "\n",
    "Next, we'll provide the code to register a model and demonstrate how to request a stage transition.\n",
    "\n",
    "#### Registering a Model\n",
    "\n",
    "To register a model programmatically, you can use the following code block.\n",
    "\n",
    "<img alt=\"Side Note\" title=\"Side Note\" style=\"vertical-align: text-bottom; position: relative; height:1.75em; top:0.05em; transform:rotate(15deg)\" src=\"https://files.training.databricks.com/static/images/icon-note.webp\"/> Note that we're registering the same model to the same MLflow Model Registry Model here, so it'll create a new version of that model."
   ]
  },
  {
   "cell_type": "code",
   "execution_count": 0,
   "metadata": {
    "application/vnd.databricks.v1+cell": {
     "cellMetadata": {},
     "inputWidgets": {},
     "nuid": "80fcbfb8-2756-4e78-92cc-2edb3d2d76ea",
     "showTitle": false,
     "title": ""
    }
   },
   "outputs": [],
   "source": [
    "# Import libraries\n",
    "import mlflow\n",
    "from mlflow.tracking import MlflowClient\n",
    "\n",
    "# Manually set parameter values\n",
    "experiment_name = f\"/Users/{username}/databricks_automl/price_listings_features-idbml\"\n",
    "model_name = \"idbml-airbnb-price\"\n",
    "\n",
    "# Instantiate client\n",
    "client = MlflowClient()\n",
    "\n",
    "# Find best run ID for experiment\n",
    "experiment = client.get_experiment_by_name(experiment_name)\n",
    "best_run_id = mlflow.search_runs(experiment.experiment_id).sort_values(\"metrics.val_r2_score\", ascending=False).loc[0, \"run_id\"]\n",
    "\n",
    "# Register model\n",
    "model_uri = f\"runs:/{best_run_id}/model\"\n",
    "model_details = mlflow.register_model(model_uri, model_name)"
   ]
  },
  {
   "cell_type": "markdown",
   "metadata": {
    "application/vnd.databricks.v1+cell": {
     "cellMetadata": {},
     "inputWidgets": {},
     "nuid": "3fc2c7e4-31ee-4230-851e-67d579f4823e",
     "showTitle": false,
     "title": ""
    }
   },
   "source": [
    "-sandbox\n",
    "#### Update Description\n",
    "\n",
    "We can now update the description with some useful information.\n",
    "\n",
    "<img alt=\"Side Note\" title=\"Side Note\" style=\"vertical-align: text-bottom; position: relative; height:1.75em; top:0.05em; transform:rotate(15deg)\" src=\"https://files.training.databricks.com/static/images/icon-note.webp\"/> We can also do this in the UI."
   ]
  },
  {
   "cell_type": "code",
   "execution_count": 0,
   "metadata": {
    "application/vnd.databricks.v1+cell": {
     "cellMetadata": {},
     "inputWidgets": {},
     "nuid": "b75f670f-e082-4c24-9795-c3ea804ed58b",
     "showTitle": false,
     "title": ""
    }
   },
   "outputs": [],
   "source": [
    "client.update_registered_model(\n",
    "    name=model_details.name,\n",
    "    description=\"This model predicts the price of Airbnb rentals in London.\"\n",
    ")\n",
    "\n",
    "client.update_model_version(\n",
    "    name=model_details.name,\n",
    "    version=model_details.version,\n",
    "    description=\"This model version was built using sklearn.\"\n",
    ")"
   ]
  },
  {
   "cell_type": "markdown",
   "metadata": {
    "application/vnd.databricks.v1+cell": {
     "cellMetadata": {},
     "inputWidgets": {},
     "nuid": "3cd82079-042b-4103-bf4e-b094ebbf6274",
     "showTitle": false,
     "title": ""
    }
   },
   "source": [
    "#### Transition to Staging\n",
    "\n",
    "Next, we can transition the model we just registered to \"Staging\"."
   ]
  },
  {
   "cell_type": "code",
   "execution_count": 0,
   "metadata": {
    "application/vnd.databricks.v1+cell": {
     "cellMetadata": {},
     "inputWidgets": {},
     "nuid": "58613631-f527-41f8-b6df-32d21991cc7e",
     "showTitle": false,
     "title": ""
    }
   },
   "outputs": [],
   "source": [
    "client.transition_model_version_stage(\n",
    "    name=model_details.name,\n",
    "    version=model_details.version,\n",
    "    stage=\"Staging\",\n",
    "    archive_existing_versions=True\n",
    ")"
   ]
  },
  {
   "cell_type": "markdown",
   "metadata": {
    "application/vnd.databricks.v1+cell": {
     "cellMetadata": {},
     "inputWidgets": {},
     "nuid": "69c757b1-072e-4c64-80d6-449473ad404c",
     "showTitle": false,
     "title": ""
    }
   },
   "source": [
    "And finally, head to the Model Registry to verify that your model is in the **Staging** stage."
   ]
  },
  {
   "cell_type": "markdown",
   "metadata": {
    "application/vnd.databricks.v1+cell": {
     "cellMetadata": {},
     "inputWidgets": {},
     "nuid": "a94e22fb-3ad7-40d7-bcd0-8d0f52cb5059",
     "showTitle": false,
     "title": ""
    }
   },
   "source": [
    "-sandbox\n",
    "&copy; 2021 Databricks, Inc. All rights reserved.<br/>\n",
    "Apache, Apache Spark, Spark and the Spark logo are trademarks of the <a href=\"http://www.apache.org/\">Apache Software Foundation</a>.<br/>\n",
    "<br/>\n",
    "<a href=\"https://databricks.com/privacy-policy\">Privacy Policy</a> | <a href=\"https://databricks.com/terms-of-use\">Terms of Use</a> | <a href=\"http://help.databricks.com/\">Support</a>"
   ]
  }
 ],
 "metadata": {
  "application/vnd.databricks.v1+notebook": {
   "dashboards": [],
   "language": "python",
   "notebookMetadata": {
    "pythonIndentUnit": 2
   },
   "notebookName": "IDBML 04a - Registering a Model",
   "notebookOrigID": 3350865296187807,
   "widgets": {}
  }
 },
 "nbformat": 4,
 "nbformat_minor": 0
}
