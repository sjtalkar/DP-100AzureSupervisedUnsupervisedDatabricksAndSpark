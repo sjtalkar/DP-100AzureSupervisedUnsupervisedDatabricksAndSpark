{
 "cells": [
  {
   "cell_type": "markdown",
   "metadata": {
    "application/vnd.databricks.v1+cell": {
     "cellMetadata": {},
     "inputWidgets": {},
     "nuid": "45c9a34d-4a90-4146-a7d9-3a1282022376",
     "showTitle": false,
     "title": ""
    }
   },
   "source": [
    "d-sandbox\n",
    "\n",
    "<div style=\"text-align: center; line-height: 0; padding-top: 9px;\">\n",
    "  <img src=\"https://databricks.com/wp-content/uploads/2018/03/db-academy-rgb-1200px.png\" alt=\"Databricks Learning\" style=\"width: 600px\">\n",
    "</div>"
   ]
  },
  {
   "cell_type": "markdown",
   "metadata": {
    "application/vnd.databricks.v1+cell": {
     "cellMetadata": {},
     "inputWidgets": {},
     "nuid": "f6ee3786-bbba-48f8-ab0a-286e100735fe",
     "showTitle": false,
     "title": ""
    }
   },
   "source": [
    "# IDBML 02 - Creating a Feature Table\n",
    "\n",
    "<img src=\"https://files.training.databricks.com/images/idbml/02-image.png\">"
   ]
  },
  {
   "cell_type": "markdown",
   "metadata": {
    "application/vnd.databricks.v1+cell": {
     "cellMetadata": {},
     "inputWidgets": {},
     "nuid": "a411b3c9-cd9f-46fd-9ea0-da8a396b4f44",
     "showTitle": false,
     "title": ""
    }
   },
   "source": [
    "## Classroom Setup\n",
    "\n",
    "First, we'll run the `Classroom-Setup` notebook to set up our environment."
   ]
  },
  {
   "cell_type": "code",
   "execution_count": 0,
   "metadata": {
    "application/vnd.databricks.v1+cell": {
     "cellMetadata": {},
     "inputWidgets": {},
     "nuid": "7548d1ba-a7d2-4973-9cb8-fb8c76554acc",
     "showTitle": false,
     "title": ""
    }
   },
   "outputs": [],
   "source": [
    "%run \"./Includes/Classroom-Setup\""
   ]
  },
  {
   "cell_type": "markdown",
   "metadata": {
    "application/vnd.databricks.v1+cell": {
     "cellMetadata": {},
     "inputWidgets": {},
     "nuid": "27e0d0a3-7a4b-4ba0-908f-53b404bee735",
     "showTitle": false,
     "title": ""
    }
   },
   "source": [
    "## Import Data\n",
    "\n",
    "Next, we'll import our data for the course.\n",
    "\n",
    "In this course, we'll be using a dataset containing Airbnb listings and we'll be trying to predict the price of those listings."
   ]
  },
  {
   "cell_type": "code",
   "execution_count": 0,
   "metadata": {
    "application/vnd.databricks.v1+cell": {
     "cellMetadata": {},
     "inputWidgets": {},
     "nuid": "9d91f1ad-70a8-420a-a8fb-ea77db379ee9",
     "showTitle": false,
     "title": ""
    }
   },
   "outputs": [],
   "source": [
    "listings_df = spark.read.load(input_path)\n",
    "display(listings_df)"
   ]
  },
  {
   "cell_type": "markdown",
   "metadata": {
    "application/vnd.databricks.v1+cell": {
     "cellMetadata": {},
     "inputWidgets": {},
     "nuid": "18e9b5e1-c9d5-41fe-bc9f-e66065e478c7",
     "showTitle": false,
     "title": ""
    }
   },
   "source": [
    "-sandbox\n",
    "## Featurization\n",
    "\n",
    "The `listings_df` DataFrame is already pretty clean, but we do have some categorical features that we'll need to convert to numeric features for modeling.\n",
    "\n",
    "These features include:\n",
    "\n",
    "* **`neighbourhood_cleansed`**\n",
    "* **`property_type`**\n",
    "* **`room_type`**\n",
    "* **`instant_bookable`**\n",
    "\n",
    "### Create `compute_features` Function\n",
    "\n",
    "A lot of data scientists are familiar with Pandas DataFrames, so we'll use the Koalas library to one-hot encode these categorical features.\n",
    "\n",
    "<img alt=\"Side Note\" title=\"Side Note\" style=\"vertical-align: text-bottom; position: relative; height:1.75em; top:0.05em; transform:rotate(15deg)\" src=\"https://files.training.databricks.com/static/images/icon-note.webp\"/> Notice that we are creating a function to perform these computations. We'll use it to refer to this set of instructions when creating our feature table."
   ]
  },
  {
   "cell_type": "code",
   "execution_count": 0,
   "metadata": {
    "application/vnd.databricks.v1+cell": {
     "cellMetadata": {},
     "inputWidgets": {},
     "nuid": "99eac78b-5db5-4dc1-bdd5-4a52561097a4",
     "showTitle": false,
     "title": ""
    }
   },
   "outputs": [],
   "source": [
    "import databricks.koalas as ks\n",
    "\n",
    "def compute_features(spark_df):\n",
    "  \n",
    "    # Convert to Koalas DataFrame\n",
    "    koalas_df = spark_df.to_koalas()\n",
    "\n",
    "    # OHE\n",
    "    ohe_koalas_df = ks.get_dummies(\n",
    "      koalas_df, \n",
    "      columns=[\"neighbourhood_cleansed\", \"property_type\", \"room_type\", \"instant_bookable\"],\n",
    "      dtype=\"float64\"\n",
    "    )\n",
    "\n",
    "    # Clean up column names\n",
    "    ohe_koalas_df.columns = ohe_koalas_df.columns.str.replace(' ', '')\n",
    "    ohe_koalas_df.columns = ohe_koalas_df.columns.str.replace('(', '-')\n",
    "    ohe_koalas_df.columns = ohe_koalas_df.columns.str.replace(')', '')\n",
    "\n",
    "    return ohe_koalas_df"
   ]
  },
  {
   "cell_type": "markdown",
   "metadata": {
    "application/vnd.databricks.v1+cell": {
     "cellMetadata": {},
     "inputWidgets": {},
     "nuid": "4476e6be-1562-4e0a-96a5-7b6f713bfcf0",
     "showTitle": false,
     "title": ""
    }
   },
   "source": [
    "### Compute Features\n",
    "\n",
    "Next, we can use our featurization function `compute_features` to create create a DataFrame of our features."
   ]
  },
  {
   "cell_type": "code",
   "execution_count": 0,
   "metadata": {
    "application/vnd.databricks.v1+cell": {
     "cellMetadata": {},
     "inputWidgets": {},
     "nuid": "da355471-c82b-4526-ae5b-becfd6ca15aa",
     "showTitle": false,
     "title": ""
    }
   },
   "outputs": [],
   "source": [
    "features_df = compute_features(listings_df)\n",
    "display(features_df)"
   ]
  },
  {
   "cell_type": "markdown",
   "metadata": {
    "application/vnd.databricks.v1+cell": {
     "cellMetadata": {},
     "inputWidgets": {},
     "nuid": "405ee224-debe-4db4-822c-06365905b9e4",
     "showTitle": false,
     "title": ""
    }
   },
   "source": [
    "## Create Feature Table\n",
    "\n",
    "Next, we can use the DataFrame **`features_df`** to create a feature table using Feature Store.\n",
    "\n",
    "### Instantiate the `FeatureStoreClient`\n",
    "\n",
    "Our first step is to instantiate the feature store client using `FeatureStoreClient()`."
   ]
  },
  {
   "cell_type": "code",
   "execution_count": 0,
   "metadata": {
    "application/vnd.databricks.v1+cell": {
     "cellMetadata": {},
     "inputWidgets": {},
     "nuid": "0eb21327-5eab-434f-98c5-b6e19bee5b6e",
     "showTitle": false,
     "title": ""
    }
   },
   "outputs": [],
   "source": [
    "from databricks.feature_store import FeatureStoreClient\n",
    "fs = FeatureStoreClient()"
   ]
  },
  {
   "cell_type": "markdown",
   "metadata": {
    "application/vnd.databricks.v1+cell": {
     "cellMetadata": {},
     "inputWidgets": {},
     "nuid": "af75f0c8-91c2-4720-8207-a54335c44b84",
     "showTitle": false,
     "title": ""
    }
   },
   "source": [
    "-sandbox\n",
    "### Create the Feature Table\n",
    "\n",
    "Next, we can use the `feature_table` operation to register the DataFrame as a Feature Store table.\n",
    "\n",
    "In order to do this, we'll want to provide the following:\n",
    "\n",
    "1. The `name` of the database and table where we want to store the feature table\n",
    "1. The `keys` for the table\n",
    "1. The `schema` of the table\n",
    "1. A `description` of the contents of the feature table\n",
    "\n",
    "<img alt=\"Side Note\" title=\"Side Note\" style=\"vertical-align: text-bottom; position: relative; height:1.75em; top:0.05em; transform:rotate(15deg)\" src=\"https://files.training.databricks.com/static/images/icon-note.webp\"/> This creates our feature table, but we still need to write our values in the DataFrame to the table."
   ]
  },
  {
   "cell_type": "code",
   "execution_count": 0,
   "metadata": {
    "application/vnd.databricks.v1+cell": {
     "cellMetadata": {},
     "inputWidgets": {},
     "nuid": "2d75deb5-03dd-4e46-ba4f-3aa2128db5c9",
     "showTitle": false,
     "title": ""
    }
   },
   "outputs": [],
   "source": [
    "from databricks.feature_store import feature_table\n",
    "\n",
    "feature_table = fs.create_feature_table(\n",
    "  name=f\"{database_name}.listings_features\",\n",
    "  keys=[\"listing_id\"],\n",
    "  schema=features_df.spark.schema(),\n",
    "  description=\"This listings-level table contains one-hot encoded and numeric features to predict the price of a listing.\"\n",
    ")"
   ]
  },
  {
   "cell_type": "markdown",
   "metadata": {
    "application/vnd.databricks.v1+cell": {
     "cellMetadata": {},
     "inputWidgets": {},
     "nuid": "66b8294c-5ea3-4bb2-94f8-52ebed216acb",
     "showTitle": false,
     "title": ""
    }
   },
   "source": [
    "Now, we can write the records from **`features_df`** to the feature table."
   ]
  },
  {
   "cell_type": "code",
   "execution_count": 0,
   "metadata": {
    "application/vnd.databricks.v1+cell": {
     "cellMetadata": {},
     "inputWidgets": {},
     "nuid": "0cc77766-eb10-4267-ada7-4ea79a66a183",
     "showTitle": false,
     "title": ""
    }
   },
   "outputs": [],
   "source": [
    "fs.write_table(df=features_df.to_spark(), name=f\"{database_name}.listings_features\", mode=\"overwrite\")"
   ]
  },
  {
   "cell_type": "markdown",
   "metadata": {
    "application/vnd.databricks.v1+cell": {
     "cellMetadata": {},
     "inputWidgets": {},
     "nuid": "1e2f96da-ac56-46f8-be33-929893fd5a34",
     "showTitle": false,
     "title": ""
    }
   },
   "source": [
    "At this point, we can head to the Feature Store UI to check out our table."
   ]
  },
  {
   "cell_type": "markdown",
   "metadata": {
    "application/vnd.databricks.v1+cell": {
     "cellMetadata": {},
     "inputWidgets": {},
     "nuid": "c803d027-c4e5-4eb0-a598-83d6cca88483",
     "showTitle": false,
     "title": ""
    }
   },
   "source": [
    "-sandbox\n",
    "&copy; 2021 Databricks, Inc. All rights reserved.<br/>\n",
    "Apache, Apache Spark, Spark and the Spark logo are trademarks of the <a href=\"http://www.apache.org/\">Apache Software Foundation</a>.<br/>\n",
    "<br/>\n",
    "<a href=\"https://databricks.com/privacy-policy\">Privacy Policy</a> | <a href=\"https://databricks.com/terms-of-use\">Terms of Use</a> | <a href=\"http://help.databricks.com/\">Support</a>"
   ]
  }
 ],
 "metadata": {
  "application/vnd.databricks.v1+notebook": {
   "dashboards": [],
   "language": "python",
   "notebookMetadata": {
    "pythonIndentUnit": 2
   },
   "notebookName": "IDBML 02 - Creating a Feature Table",
   "notebookOrigID": 3350865296187775,
   "widgets": {}
  }
 },
 "nbformat": 4,
 "nbformat_minor": 0
}
