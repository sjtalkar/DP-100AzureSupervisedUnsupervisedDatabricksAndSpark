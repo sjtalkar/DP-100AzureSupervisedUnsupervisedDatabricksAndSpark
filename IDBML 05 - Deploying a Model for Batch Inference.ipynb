{
 "cells": [
  {
   "cell_type": "markdown",
   "metadata": {
    "application/vnd.databricks.v1+cell": {
     "cellMetadata": {},
     "inputWidgets": {},
     "nuid": "49dbdef9-4cc1-4184-b35a-a95874af090c",
     "showTitle": false,
     "title": ""
    }
   },
   "source": [
    "d-sandbox\n",
    "\n",
    "<div style=\"text-align: center; line-height: 0; padding-top: 9px;\">\n",
    "  <img src=\"https://databricks.com/wp-content/uploads/2018/03/db-academy-rgb-1200px.png\" alt=\"Databricks Learning\" style=\"width: 600px\">\n",
    "</div>"
   ]
  },
  {
   "cell_type": "markdown",
   "metadata": {
    "application/vnd.databricks.v1+cell": {
     "cellMetadata": {},
     "inputWidgets": {},
     "nuid": "9f05e08a-4672-4800-9990-1bf571a695f0",
     "showTitle": false,
     "title": ""
    }
   },
   "source": [
    "# IDBML 05 - Deploying a Model for Batch Inference\n",
    "\n",
    "<img src=\"https://s3.us-west-2.amazonaws.com/files.training.databricks.com/images/idbml/05-image.png\">"
   ]
  },
  {
   "cell_type": "markdown",
   "metadata": {
    "application/vnd.databricks.v1+cell": {
     "cellMetadata": {},
     "inputWidgets": {},
     "nuid": "0063b4d4-2ada-40e1-bcb3-04c32d652db7",
     "showTitle": false,
     "title": ""
    }
   },
   "source": [
    "## Classroom Setup\n",
    "\n",
    "First, we'll run the `Classroom-Setup` notebook to set up our environment."
   ]
  },
  {
   "cell_type": "code",
   "execution_count": 0,
   "metadata": {
    "application/vnd.databricks.v1+cell": {
     "cellMetadata": {},
     "inputWidgets": {},
     "nuid": "7d799ad0-0c31-431d-aeea-db21f0cc28dd",
     "showTitle": false,
     "title": ""
    }
   },
   "outputs": [],
   "source": [
    "%run \"./Includes/Classroom-Setup\""
   ]
  },
  {
   "cell_type": "markdown",
   "metadata": {
    "application/vnd.databricks.v1+cell": {
     "cellMetadata": {},
     "inputWidgets": {},
     "nuid": "f691d1ba-397c-47e4-bcf9-426a070b57dc",
     "showTitle": false,
     "title": ""
    }
   },
   "source": [
    "-sandbox\n",
    "## Loading Necessary Components\n",
    "\n",
    "In this demonstration, we'll be deploying a model for batch inference.\n",
    "\n",
    "Before we begin, we need to load our **model** and our **feature table**.\n",
    "\n",
    "### Load Model\n",
    "\n",
    "We can load the model directly from the Model Registry.\n",
    "\n",
    "<img alt=\"Side Note\" title=\"Side Note\" style=\"vertical-align: text-bottom; position: relative; height:1.75em; top:0.05em; transform:rotate(15deg)\" src=\"https://files.training.databricks.com/static/images/icon-note.webp\"/> When we load the model as a Spark UDF, it allows us to easily broadcast the model to the different nodes in our cluster to scale out our inference on our distributed feature table."
   ]
  },
  {
   "cell_type": "code",
   "execution_count": 0,
   "metadata": {
    "application/vnd.databricks.v1+cell": {
     "cellMetadata": {},
     "inputWidgets": {},
     "nuid": "c7e68f60-23bd-46e1-afb0-0f0c738c91da",
     "showTitle": false,
     "title": ""
    }
   },
   "outputs": [],
   "source": [
    "import mlflow\n",
    "\n",
    "model = mlflow.pyfunc.spark_udf(spark, model_uri=\"models:/idbml-airbnb-price/production\")"
   ]
  },
  {
   "cell_type": "markdown",
   "metadata": {
    "application/vnd.databricks.v1+cell": {
     "cellMetadata": {},
     "inputWidgets": {},
     "nuid": "19f8e18e-6303-41cb-bfdf-da739ede24aa",
     "showTitle": false,
     "title": ""
    }
   },
   "source": [
    "### Load Feature Table\n",
    "\n",
    "Next, we need to load our feature table. Remember that we created this feature table way back in our first demonstration."
   ]
  },
  {
   "cell_type": "code",
   "execution_count": 0,
   "metadata": {
    "application/vnd.databricks.v1+cell": {
     "cellMetadata": {},
     "inputWidgets": {},
     "nuid": "2eebdbd8-af6d-47a3-aa6a-c50e33d21a81",
     "showTitle": false,
     "title": ""
    }
   },
   "outputs": [],
   "source": [
    "from databricks.feature_store import FeatureStoreClient\n",
    "\n",
    "fs = FeatureStoreClient()\n",
    "features = fs.read_table(f\"{database_name}.listings_features\")"
   ]
  },
  {
   "cell_type": "markdown",
   "metadata": {
    "application/vnd.databricks.v1+cell": {
     "cellMetadata": {},
     "inputWidgets": {},
     "nuid": "42fe5f98-96b3-4f70-9fa4-275720901c78",
     "showTitle": false,
     "title": ""
    }
   },
   "source": [
    "## Performing Batch Inference\n",
    "\n",
    "In order to perform batch inference,"
   ]
  },
  {
   "cell_type": "code",
   "execution_count": 0,
   "metadata": {
    "application/vnd.databricks.v1+cell": {
     "cellMetadata": {},
     "inputWidgets": {},
     "nuid": "7ccf9856-48ae-4512-8a96-3ab2ecf14d80",
     "showTitle": false,
     "title": ""
    }
   },
   "outputs": [],
   "source": [
    "predictions = features.withColumn('predictions', model(*features.columns))\n",
    "display(predictions.select(\"listing_id\", \"predictions\"))"
   ]
  },
  {
   "cell_type": "markdown",
   "metadata": {
    "application/vnd.databricks.v1+cell": {
     "cellMetadata": {},
     "inputWidgets": {},
     "nuid": "1819fad2-25e8-4676-a005-d0665ec86a94",
     "showTitle": false,
     "title": ""
    }
   },
   "source": [
    "## Write to Delta Lake\n",
    "\n",
    "Finally, we can write our features to Delta Lake."
   ]
  },
  {
   "cell_type": "code",
   "execution_count": 0,
   "metadata": {
    "application/vnd.databricks.v1+cell": {
     "cellMetadata": {},
     "inputWidgets": {},
     "nuid": "49c823cd-81e1-49e2-aed6-9463ba82fdf6",
     "showTitle": false,
     "title": ""
    }
   },
   "outputs": [],
   "source": [
    "predictions.write.mode(\"append\").saveAsTable(f\"{database_name}.predictions\")\n"
   ]
  },
  {
   "cell_type": "markdown",
   "metadata": {
    "application/vnd.databricks.v1+cell": {
     "cellMetadata": {},
     "inputWidgets": {},
     "nuid": "811ea26b-1577-404b-9758-ae11e03e5447",
     "showTitle": false,
     "title": ""
    }
   },
   "source": [
    "-sandbox\n",
    "&copy; 2021 Databricks, Inc. All rights reserved.<br/>\n",
    "Apache, Apache Spark, Spark and the Spark logo are trademarks of the <a href=\"http://www.apache.org/\">Apache Software Foundation</a>.<br/>\n",
    "<br/>\n",
    "<a href=\"https://databricks.com/privacy-policy\">Privacy Policy</a> | <a href=\"https://databricks.com/terms-of-use\">Terms of Use</a> | <a href=\"http://help.databricks.com/\">Support</a>"
   ]
  }
 ],
 "metadata": {
  "application/vnd.databricks.v1+notebook": {
   "dashboards": [],
   "language": "python",
   "notebookMetadata": {
    "pythonIndentUnit": 2
   },
   "notebookName": "IDBML 05 - Deploying a Model for Batch Inference",
   "notebookOrigID": 3350865296187823,
   "widgets": {}
  }
 },
 "nbformat": 4,
 "nbformat_minor": 0
}
