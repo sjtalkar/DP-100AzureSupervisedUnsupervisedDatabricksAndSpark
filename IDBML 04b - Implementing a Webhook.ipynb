{
 "cells": [
  {
   "cell_type": "markdown",
   "metadata": {
    "application/vnd.databricks.v1+cell": {
     "cellMetadata": {},
     "inputWidgets": {},
     "nuid": "dfdc4c2d-4525-47a1-b03d-08a35b53071f",
     "showTitle": false,
     "title": ""
    }
   },
   "source": [
    "d-sandbox\n",
    "\n",
    "<div style=\"text-align: center; line-height: 0; padding-top: 9px;\">\n",
    "  <img src=\"https://databricks.com/wp-content/uploads/2018/03/db-academy-rgb-1200px.png\" alt=\"Databricks Learning\" style=\"width: 600px\">\n",
    "</div>"
   ]
  },
  {
   "cell_type": "markdown",
   "metadata": {
    "application/vnd.databricks.v1+cell": {
     "cellMetadata": {},
     "inputWidgets": {},
     "nuid": "14ebde83-bbdb-4f1f-bf5e-cc492487dd2f",
     "showTitle": false,
     "title": ""
    }
   },
   "source": [
    "# IDBML 04b - Implementing a Webhook\n",
    "\n",
    "<img src=\"https://s3.us-west-2.amazonaws.com/files.training.databricks.com/images/idbml/04b-image.png\">"
   ]
  },
  {
   "cell_type": "markdown",
   "metadata": {
    "application/vnd.databricks.v1+cell": {
     "cellMetadata": {},
     "inputWidgets": {},
     "nuid": "b6059e31-92cd-4fd0-b25b-c7bb0455ff6c",
     "showTitle": false,
     "title": ""
    }
   },
   "source": [
    "## Model Registry Webhooks\n",
    "\n",
    "### Supported Events\n",
    "* Registered model created\n",
    "* Model version created\n",
    "* **Transition request created**\n",
    "* **Model version transitioned stage**\n",
    "\n",
    "### Types of webhooks\n",
    "* **HTTP webhook** &mdash; send triggers to endpoints of your choosing such as slack, AWS Lambda, Azure Functions, or GCP Cloud Functions\n",
    "* Job webhook &mdash; trigger a job within the Databricks workspace"
   ]
  },
  {
   "cell_type": "markdown",
   "metadata": {
    "application/vnd.databricks.v1+cell": {
     "cellMetadata": {},
     "inputWidgets": {},
     "nuid": "d5226d28-d52a-42a8-b54f-6d14e17ddb8e",
     "showTitle": false,
     "title": ""
    }
   },
   "source": [
    "## Implementing a Webhook\n",
    "\n",
    "In this demonstration, we're going to implement a couple of notification webhooks using HTTP endpoints and Slack.\n",
    "\n",
    "### Helper Function\n",
    "\n",
    "The first thing we're going to do is create a helper function to call MLflow endpoints."
   ]
  },
  {
   "cell_type": "code",
   "execution_count": 0,
   "metadata": {
    "application/vnd.databricks.v1+cell": {
     "cellMetadata": {},
     "inputWidgets": {},
     "nuid": "6bbc27f3-ea3d-47c3-8be6-018f83aa62f9",
     "showTitle": false,
     "title": ""
    }
   },
   "outputs": [],
   "source": [
    "import mlflow\n",
    "from mlflow.utils.rest_utils import http_request\n",
    "import json\n",
    "\n",
    "def client():\n",
    "    return mlflow.tracking.client.MlflowClient()\n",
    "\n",
    "host_creds = client()._tracking_client.store.get_host_creds()\n",
    "host = host_creds.host\n",
    "token = host_creds.token\n",
    "\n",
    "def mlflow_call_endpoint(endpoint, method, body='{}'):\n",
    "    if method == 'GET':\n",
    "        response = http_request(\n",
    "            host_creds=host_creds, endpoint=\"/api/2.0/mlflow/{}\".format(endpoint), method=method, params=json.loads(body)\n",
    "        )\n",
    "    else:\n",
    "        response = http_request(\n",
    "            host_creds=host_creds, endpoint=\"/api/2.0/mlflow/{}\".format(endpoint), method=method, json=json.loads(body)\n",
    "        )\n",
    "    return response.json()"
   ]
  },
  {
   "cell_type": "markdown",
   "metadata": {
    "application/vnd.databricks.v1+cell": {
     "cellMetadata": {},
     "inputWidgets": {},
     "nuid": "616a4aea-81b2-48ae-afba-e54d68351922",
     "showTitle": false,
     "title": ""
    }
   },
   "source": [
    "-sandbox\n",
    "### Setting Up Slack Notifications\n",
    "\n",
    "Webhooks can be used to send emails, Slack messages, and more. In this case, we demonstrate the use **Slack for notification purposes**.\n",
    "\n",
    "<img alt=\"Side Note\" title=\"Side Note\" style=\"vertical-align: text-bottom; position: relative; height:1.75em; top:0.05em; transform:rotate(15deg)\" src=\"https://files.training.databricks.com/static/images/icon-note.webp\"/> You'll need to set up the Slack webhook yourself within Slack, but you can read more about Slack webhooks [here](https://api.slack.com/messaging/webhooks#create_a_webhook).\n",
    "\n",
    "#### Transition Request Notification\n",
    "\n",
    "First, we set up a webhook to notify us whenever a **Model Registry transition request is created**.\n",
    "\n",
    "<img alt=\"Side Note\" title=\"Side Note\" style=\"vertical-align: text-bottom; position: relative; height:1.75em; top:0.05em; transform:rotate(15deg)\" src=\"https://files.training.databricks.com/static/images/icon-note.webp\"/> We've hidden the Slack webhook [here]($./Includes/Slack-Webhook) for security purposes, but it should take the form of: `\"https://hooks.slack.com/services/T????????/B?????????/????????????????????????\"`"
   ]
  },
  {
   "cell_type": "code",
   "execution_count": 0,
   "metadata": {
    "application/vnd.databricks.v1+cell": {
     "cellMetadata": {},
     "inputWidgets": {},
     "nuid": "a7f95daa-02c4-4783-a1d7-0b3f48a9c068",
     "showTitle": false,
     "title": ""
    }
   },
   "outputs": [],
   "source": [
    "%run ./Includes/Slack-Webhook"
   ]
  },
  {
   "cell_type": "code",
   "execution_count": 0,
   "metadata": {
    "application/vnd.databricks.v1+cell": {
     "cellMetadata": {},
     "inputWidgets": {},
     "nuid": "90357716-90bc-4c41-a5ec-08c3866dca14",
     "showTitle": false,
     "title": ""
    }
   },
   "outputs": [],
   "source": [
    "import json \n",
    "\n",
    "model_name = \"idbml-airbnb-price\"\n",
    "\n",
    "trigger_slack = json.dumps({\n",
    "    \"model_name\": model_name,\n",
    "    \"events\": [\"TRANSITION_REQUEST_CREATED\"],\n",
    "    \"description\": \"This notification triggers when a model is requested to be transitioned to a new stage.\",\n",
    "    \"status\": \"ACTIVE\",\n",
    "    \"http_url_spec\": {\n",
    "        \"url\": slack_webhook\n",
    "    }\n",
    "})\n",
    "\n",
    "mlflow_call_endpoint(\"registry-webhooks/create\", method = \"POST\", body = trigger_slack)"
   ]
  },
  {
   "cell_type": "markdown",
   "metadata": {
    "application/vnd.databricks.v1+cell": {
     "cellMetadata": {},
     "inputWidgets": {},
     "nuid": "af6b6941-1690-41e2-bb44-e3b9ba4ce52c",
     "showTitle": false,
     "title": ""
    }
   },
   "source": [
    "Let's test it out by requesting to transition the model to the **Production** stage."
   ]
  },
  {
   "cell_type": "markdown",
   "metadata": {
    "application/vnd.databricks.v1+cell": {
     "cellMetadata": {},
     "inputWidgets": {},
     "nuid": "cf117fb9-626a-4744-8bce-c6a81ba23295",
     "showTitle": false,
     "title": ""
    }
   },
   "source": [
    "#### Transition Notification\n",
    "\n",
    "Rather than triggering on a request, this notification will trigger a Slack message when a model is successfully transitioned to a new stage."
   ]
  },
  {
   "cell_type": "code",
   "execution_count": 0,
   "metadata": {
    "application/vnd.databricks.v1+cell": {
     "cellMetadata": {},
     "inputWidgets": {},
     "nuid": "b0b265ca-71be-46ae-857c-fd37e2c221fa",
     "showTitle": false,
     "title": ""
    }
   },
   "outputs": [],
   "source": [
    "import json \n",
    "\n",
    "trigger_slack = json.dumps({\n",
    "  \"model_name\": model_name,\n",
    "  \"events\": [\"MODEL_VERSION_TRANSITIONED_STAGE\"],\n",
    "  \"description\": \"This notification triggers when a model is transitioned to a new stage.\",\n",
    "  \"http_url_spec\": {\n",
    "    \"url\": slack_webhook\n",
    "  }\n",
    "})\n",
    "\n",
    "mlflow_call_endpoint(\"registry-webhooks/create\", method = \"POST\", body = trigger_slack)"
   ]
  },
  {
   "cell_type": "markdown",
   "metadata": {
    "application/vnd.databricks.v1+cell": {
     "cellMetadata": {},
     "inputWidgets": {},
     "nuid": "d34917cd-bb54-446c-a68c-610b1bd3225a",
     "showTitle": false,
     "title": ""
    }
   },
   "source": [
    "Let's test it out by transitioning the model to the **Prodiction** stage."
   ]
  },
  {
   "cell_type": "code",
   "execution_count": 0,
   "metadata": {
    "application/vnd.databricks.v1+cell": {
     "cellMetadata": {},
     "inputWidgets": {},
     "nuid": "9d37ece3-89ae-4d9f-b2cc-7abdfdbad66c",
     "showTitle": false,
     "title": ""
    }
   },
   "outputs": [],
   "source": [
    "mlflow_client = mlflow.tracking.client.MlflowClient()\n",
    "model_version = int(dict(mlflow_client.get_latest_versions(model_name)[0])[\"version\"])\n",
    "mlflow_client.transition_model_version_stage(\n",
    "    name=model_name,\n",
    "    version=model_version,\n",
    "    stage=\"Production\",\n",
    "    archive_existing_versions=True\n",
    ")"
   ]
  },
  {
   "cell_type": "markdown",
   "metadata": {
    "application/vnd.databricks.v1+cell": {
     "cellMetadata": {},
     "inputWidgets": {},
     "nuid": "50a16e6c-fdb1-4926-a278-fcbaf8a1e7c7",
     "showTitle": false,
     "title": ""
    }
   },
   "source": [
    "-sandbox\n",
    "### Manage Webhooks\n",
    "\n",
    "You can manage your webhooks pretty easily, too.\n",
    "\n",
    "First, you can list all of your webhooks and corresponding information using the cell below.\n",
    "\n",
    "<img alt=\"Hint\" title=\"Hint\" style=\"vertical-align: text-bottom; position: relative; height:1.75em; top:0.3em\" src=\"https://files.training.databricks.com/static/images/icon-light-bulb.svg\"/>&nbsp;**Hint:** Notice that these are model-specific webhooks to keep from interfering with others' workflows."
   ]
  },
  {
   "cell_type": "code",
   "execution_count": 0,
   "metadata": {
    "application/vnd.databricks.v1+cell": {
     "cellMetadata": {},
     "inputWidgets": {},
     "nuid": "a8bc8130-fb0a-43f3-8e31-673a91ff4dd8",
     "showTitle": false,
     "title": ""
    }
   },
   "outputs": [],
   "source": [
    "list_model_webhooks = json.dumps({\"model_name\": model_name})\n",
    "\n",
    "model_webhooks = mlflow_call_endpoint(\"registry-webhooks/list\", method = \"GET\", body = list_model_webhooks)\n",
    "model_webhooks"
   ]
  },
  {
   "cell_type": "markdown",
   "metadata": {
    "application/vnd.databricks.v1+cell": {
     "cellMetadata": {},
     "inputWidgets": {},
     "nuid": "c44cab2b-a2d5-4af2-a25a-a24043906896",
     "showTitle": false,
     "title": ""
    }
   },
   "source": [
    "You can also **delete webhooks**.\n",
    "\n",
    "You can use the below cell to delete webhooks by ID."
   ]
  },
  {
   "cell_type": "code",
   "execution_count": 0,
   "metadata": {
    "application/vnd.databricks.v1+cell": {
     "cellMetadata": {},
     "inputWidgets": {},
     "nuid": "192996da-0eb8-4778-b8a0-87068cc62de2",
     "showTitle": false,
     "title": ""
    }
   },
   "outputs": [],
   "source": [
    "mlflow_call_endpoint(\n",
    "    \"registry-webhooks/delete\",\n",
    "    method=\"DELETE\",\n",
    "    body=json.dumps({'id': model_webhooks[\"webhooks\"][0][\"id\"]})\n",
    ")"
   ]
  },
  {
   "cell_type": "markdown",
   "metadata": {
    "application/vnd.databricks.v1+cell": {
     "cellMetadata": {},
     "inputWidgets": {},
     "nuid": "3304eed9-0049-447a-8c54-b9824ecb6e04",
     "showTitle": false,
     "title": ""
    }
   },
   "source": [
    "Or you can use the below cell to delete all webhooks for a specific model."
   ]
  },
  {
   "cell_type": "code",
   "execution_count": 0,
   "metadata": {
    "application/vnd.databricks.v1+cell": {
     "cellMetadata": {},
     "inputWidgets": {},
     "nuid": "5506caff-526b-409b-a955-aea66b804299",
     "showTitle": false,
     "title": ""
    }
   },
   "outputs": [],
   "source": [
    "for webhook in model_webhooks[\"webhooks\"]:\n",
    "    mlflow_call_endpoint(\n",
    "    \"registry-webhooks/delete\",\n",
    "    method=\"DELETE\",\n",
    "    body=json.dumps({'id': webhook[\"id\"]})\n",
    ")"
   ]
  },
  {
   "cell_type": "markdown",
   "metadata": {
    "application/vnd.databricks.v1+cell": {
     "cellMetadata": {},
     "inputWidgets": {},
     "nuid": "9c4c8c02-5896-4a8f-bdd3-6221bb5c58b4",
     "showTitle": false,
     "title": ""
    }
   },
   "source": [
    "And finally, verify that they're all deleted."
   ]
  },
  {
   "cell_type": "code",
   "execution_count": 0,
   "metadata": {
    "application/vnd.databricks.v1+cell": {
     "cellMetadata": {},
     "inputWidgets": {},
     "nuid": "bccb2c53-2e0c-479d-b1f3-bb5cbc0258de",
     "showTitle": false,
     "title": ""
    }
   },
   "outputs": [],
   "source": [
    "updated_model_webhooks = mlflow_call_endpoint(\"registry-webhooks/list\", method = \"GET\", body = list_model_webhooks)\n",
    "updated_model_webhooks\n"
   ]
  },
  {
   "cell_type": "markdown",
   "metadata": {
    "application/vnd.databricks.v1+cell": {
     "cellMetadata": {},
     "inputWidgets": {},
     "nuid": "7f92153e-2b02-499c-bd92-3723d7eebb46",
     "showTitle": false,
     "title": ""
    }
   },
   "source": [
    "-sandbox\n",
    "&copy; 2021 Databricks, Inc. All rights reserved.<br/>\n",
    "Apache, Apache Spark, Spark and the Spark logo are trademarks of the <a href=\"http://www.apache.org/\">Apache Software Foundation</a>.<br/>\n",
    "<br/>\n",
    "<a href=\"https://databricks.com/privacy-policy\">Privacy Policy</a> | <a href=\"https://databricks.com/terms-of-use\">Terms of Use</a> | <a href=\"http://help.databricks.com/\">Support</a>"
   ]
  }
 ],
 "metadata": {
  "application/vnd.databricks.v1+notebook": {
   "dashboards": [],
   "language": "python",
   "notebookMetadata": {
    "pythonIndentUnit": 2
   },
   "notebookName": "IDBML 04b - Implementing a Webhook",
   "notebookOrigID": 3350865296187744,
   "widgets": {}
  }
 },
 "nbformat": 4,
 "nbformat_minor": 0
}
