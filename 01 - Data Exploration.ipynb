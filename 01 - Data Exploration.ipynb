{
  "cells": [
    {
      "cell_type": "markdown",
      "source": [
        "# Exploring Data with Python\n",
        "\n",
        "A significant part of a data scientist's role is to explore, analyze, and visualize data. There's a wide range of tools and programming languages that they can use to do this, and of the most popular approaches is to use Jupyter notebooks (like this one) and Python.\n",
        "\n",
        "Python is a flexible programming language that is used in a wide range of scenarios; from web applications to device programming. It's extremely popular in the data science and machine learning community because of the many packages it supports for data analysis and visualization.\n",
        "\n",
        "In this notebook, we'll explore some of these packages, and apply basic techniques to analyze data. This is not intended to be a comprehensive Python programming exercise; or even a deep dive into data analysis. Rather, it's intended as a crash course in some of the common ways in which data scientists can use Python to work with data.\n",
        "\n",
        "> **Note**: If you've never used the Jupyter Notebooks environment before, there are a few things you should be aware of:\n",
        "> \n",
        "> - Notebooks are made up of *cells*. Some cells (like this one) contain *markdown* text, while others (like the one beneath this one) contain code.\n",
        "> - The notebook is connected to a Python *kernel* (you can see which one at the top right of the page - if you're running this notebook in an Azure Machine Learning compute instance it should be connected to the **Python 3.6 - AzureML** kernel). If you stop the kernel or disconnect from the server (for example, by closing and reopening the notebook, or ending and resuming your session), the output from cells that have been run will still be displayed; but any variables or functions defined in those cells will have been lost - you must rerun the cells before running any subsequent cells that depend on them.\n",
        "> - You can run each code cell by using the **&#9658; Run** button. The **&#9711;** symbol next to the kernel name at the top right will briefly turn to **&#9899;** while the cell runs before turning back to **&#9711;**.\n",
        "> - The output from each code cell will be displayed immediately below the cell.\n",
        "> - Even though the code cells can be run individually, some variables used in the code are global to the notebook. That means that you should run all of the code cells <u>**in order**</u>. There may be dependencies between code cells, so if you skip a cell, subsequent cells might not run correctly.\n",
        "\n",
        "\n",
        "## Exploring data arrays with NumPy\n",
        "\n",
        "Let's start by looking at some simple data.\n",
        "\n",
        "Suppose a college takes a sample of student grades for a data science class.\n",
        "\n",
        "Run the code in the cell below by clicking the **&#9658; Run** button to see the data."
      ],
      "metadata": {}
    },
    {
      "cell_type": "code",
      "source": [
        "data = [50,50,47,97,49,3,53,42,26,74,82,62,37,15,70,27,36,35,48,52,63,64]\n",
        "print(data)"
      ],
      "outputs": [
        {
          "output_type": "stream",
          "name": "stdout",
          "text": [
            "[50, 50, 47, 97, 49, 3, 53, 42, 26, 74, 82, 62, 37, 15, 70, 27, 36, 35, 48, 52, 63, 64]\n"
          ]
        }
      ],
      "execution_count": 1,
      "metadata": {
        "tags": [],
        "gather": {
          "logged": 1623491024211
        }
      }
    },
    {
      "cell_type": "markdown",
      "source": [
        "The data has been loaded into a Python **list** structure, which is a good data type for general data manipulation, but not optimized for numeric analysis. For that, we're going to use the **NumPy** package, which includes specific data types and functions for working with *Num*bers in *Py*thon.\n",
        "\n",
        "Run the cell below to load the data into a NumPy **array**."
      ],
      "metadata": {}
    },
    {
      "cell_type": "code",
      "source": [
        "import numpy as np\n",
        "\n",
        "grades = np.array(data)\n",
        "print(grades)"
      ],
      "outputs": [
        {
          "output_type": "stream",
          "name": "stdout",
          "text": [
            "[50 50 47 97 49  3 53 42 26 74 82 62 37 15 70 27 36 35 48 52 63 64]\n"
          ]
        }
      ],
      "execution_count": 2,
      "metadata": {
        "tags": [],
        "gather": {
          "logged": 1623491030821
        }
      }
    },
    {
      "cell_type": "markdown",
      "source": [
        "Just in case you're wondering about the differences between a **list** and a NumPy **array**, let's compare how these data types behave when we use them in an expression that multiplies them by 2."
      ],
      "metadata": {}
    },
    {
      "cell_type": "code",
      "source": [
        "print (type(data),'x 2:', data * 2)\n",
        "print('---')\n",
        "print (type(grades),'x 2:', grades * 2)"
      ],
      "outputs": [
        {
          "output_type": "stream",
          "name": "stdout",
          "text": [
            "<class 'list'> x 2: [50, 50, 47, 97, 49, 3, 53, 42, 26, 74, 82, 62, 37, 15, 70, 27, 36, 35, 48, 52, 63, 64, 50, 50, 47, 97, 49, 3, 53, 42, 26, 74, 82, 62, 37, 15, 70, 27, 36, 35, 48, 52, 63, 64]\n",
            "---\n",
            "<class 'numpy.ndarray'> x 2: [100 100  94 194  98   6 106  84  52 148 164 124  74  30 140  54  72  70\n",
            "  96 104 126 128]\n"
          ]
        }
      ],
      "execution_count": 3,
      "metadata": {
        "tags": [],
        "gather": {
          "logged": 1623491047192
        }
      }
    },
    {
      "cell_type": "markdown",
      "source": [
        "Note that multiplying a list by 2 creates a new list of twice the length with the original sequence of list elements repeated. Multiplying a NumPy array on the other hand performs an element-wise calculation in which the array behaves like a *vector*, so we end up with an array of the same size in which each element has been multiplied by 2.\n",
        "\n",
        "The key takeaway from this is that NumPy arrays are specifically designed to support mathematical operations on numeric data - which makes them more useful for data analysis than a generic list.\n",
        "\n",
        "You might have spotted that the class type for the numpy array above is a **numpy.ndarray**. The **nd** indicates that this is a structure that can consists of multiple *dimensions* (it can have *n* dimensions). Our specific instance has a single dimension of student grades.\n",
        "\n",
        "Run the cell below to view the **shape** of the array."
      ],
      "metadata": {}
    },
    {
      "cell_type": "code",
      "source": [
        "grades.shape"
      ],
      "outputs": [
        {
          "output_type": "execute_result",
          "execution_count": 4,
          "data": {
            "text/plain": "(22,)"
          },
          "metadata": {}
        }
      ],
      "execution_count": 4,
      "metadata": {
        "gather": {
          "logged": 1623491188834
        }
      }
    },
    {
      "cell_type": "markdown",
      "source": [
        "The shape confirms that this array has only one dimension, which contains 22 elements (there are 22 grades in the original list). You can access the individual elements in the array by their zero-based ordinal position. Let's get the first element (the one in position 0)."
      ],
      "metadata": {}
    },
    {
      "cell_type": "code",
      "source": [
        "grades[0]"
      ],
      "outputs": [
        {
          "output_type": "execute_result",
          "execution_count": 10,
          "data": {
            "text/plain": "50"
          },
          "metadata": {}
        }
      ],
      "execution_count": 10,
      "metadata": {
        "gather": {
          "logged": 1623491263228
        }
      }
    },
    {
      "cell_type": "markdown",
      "source": [
        "Alright, now you know your way around a NumPy array, it's time to perform some analysis of the grades data.\n",
        "\n",
        "You can apply aggregations across the elements in the array, so let's find the simple average grade (in other words, the *mean* grade value)."
      ],
      "metadata": {}
    },
    {
      "cell_type": "code",
      "source": [
        "grades.mean()"
      ],
      "outputs": [],
      "execution_count": null,
      "metadata": {}
    },
    {
      "cell_type": "markdown",
      "source": [
        "So the mean grade is just around 50 - more or less in the middle of the possible range from 0 to 100.\n",
        "\n",
        "Let's add a second set of data for the same students, this time recording the typical number of hours per week they devoted to studying."
      ],
      "metadata": {}
    },
    {
      "cell_type": "code",
      "source": [
        "# Define an array of study hours\n",
        "study_hours = [10.0,11.5,9.0,16.0,9.25,1.0,11.5,9.0,8.5,14.5,15.5,\n",
        "               13.75,9.0,8.0,15.5,8.0,9.0,6.0,10.0,12.0,12.5,12.0]\n",
        "\n",
        "# Create a 2D array (an array of arrays)\n",
        "student_data = np.array([study_hours, grades])\n",
        "\n",
        "# display the array\n",
        "student_data"
      ],
      "outputs": [
        {
          "output_type": "execute_result",
          "execution_count": 11,
          "data": {
            "text/plain": "array([[10.  , 11.5 ,  9.  , 16.  ,  9.25,  1.  , 11.5 ,  9.  ,  8.5 ,\n        14.5 , 15.5 , 13.75,  9.  ,  8.  , 15.5 ,  8.  ,  9.  ,  6.  ,\n        10.  , 12.  , 12.5 , 12.  ],\n       [50.  , 50.  , 47.  , 97.  , 49.  ,  3.  , 53.  , 42.  , 26.  ,\n        74.  , 82.  , 62.  , 37.  , 15.  , 70.  , 27.  , 36.  , 35.  ,\n        48.  , 52.  , 63.  , 64.  ]])"
          },
          "metadata": {}
        }
      ],
      "execution_count": 11,
      "metadata": {
        "gather": {
          "logged": 1623491282179
        }
      }
    },
    {
      "cell_type": "code",
      "source": [
        "student_data[1]"
      ],
      "outputs": [
        {
          "output_type": "execute_result",
          "execution_count": 24,
          "data": {
            "text/plain": "array([50., 50., 47., 97., 49.,  3., 53., 42., 26., 74., 82., 62., 37.,\n       15., 70., 27., 36., 35., 48., 52., 63., 64.])"
          },
          "metadata": {}
        }
      ],
      "execution_count": 24,
      "metadata": {
        "collapsed": true,
        "jupyter": {
          "source_hidden": false,
          "outputs_hidden": false
        },
        "nteract": {
          "transient": {
            "deleting": false
          }
        },
        "gather": {
          "logged": 1623491475870
        }
      }
    },
    {
      "cell_type": "code",
      "source": [
        "zipped_array = np.array(list(zip(study_hours, grades)))"
      ],
      "outputs": [],
      "execution_count": 18,
      "metadata": {
        "collapsed": true,
        "jupyter": {
          "source_hidden": false,
          "outputs_hidden": false
        },
        "nteract": {
          "transient": {
            "deleting": false
          }
        },
        "gather": {
          "logged": 1623491376554
        }
      }
    },
    {
      "cell_type": "code",
      "source": [
        "zipped_array[0]"
      ],
      "outputs": [
        {
          "output_type": "execute_result",
          "execution_count": 25,
          "data": {
            "text/plain": "array([10., 50.])"
          },
          "metadata": {}
        }
      ],
      "execution_count": 25,
      "metadata": {
        "collapsed": true,
        "jupyter": {
          "source_hidden": false,
          "outputs_hidden": false
        },
        "nteract": {
          "transient": {
            "deleting": false
          }
        },
        "gather": {
          "logged": 1623491486733
        }
      }
    },
    {
      "cell_type": "markdown",
      "source": [
        "Now the data consists of a 2-dimensional array - an array of arrays. Let's look at its shape."
      ],
      "metadata": {}
    },
    {
      "cell_type": "code",
      "source": [
        "# Show shape of 2D array\n",
        "student_data.shape"
      ],
      "outputs": [],
      "execution_count": null,
      "metadata": {}
    },
    {
      "cell_type": "markdown",
      "source": [
        "The **student_data** array contains two elements, each of which is an array containing 22 elements.\n",
        "\n",
        "To navigate this structure, you need to specify the position of each element in the hierarchy. So to find the first value in the first array (which contains the study hours data), you can use the following code."
      ],
      "metadata": {}
    },
    {
      "cell_type": "code",
      "source": [
        "# Show the first element of the first element\n",
        "student_data[0][0]"
      ],
      "outputs": [],
      "execution_count": null,
      "metadata": {}
    },
    {
      "cell_type": "markdown",
      "source": [
        "Now you have a multidimensional array containing both the student's study time and grade information, which you can use to compare data. For example, how does the mean study time compare to the mean grade?"
      ],
      "metadata": {}
    },
    {
      "cell_type": "code",
      "source": [
        "# Get the mean value of each sub-array\n",
        "avg_study = student_data[0].mean()\n",
        "avg_grade = student_data[1].mean()\n",
        "\n",
        "print('Average study hours: {:.2f}\\nAverage grade: {:.2f}'.format(avg_study, avg_grade))"
      ],
      "outputs": [
        {
          "output_type": "stream",
          "name": "stdout",
          "text": [
            "Average study hours: 10.52\n",
            "Average grade: 49.18\n"
          ]
        }
      ],
      "execution_count": 26,
      "metadata": {
        "tags": [],
        "gather": {
          "logged": 1623491590017
        }
      }
    },
    {
      "cell_type": "code",
      "source": [
        "zipped_array"
      ],
      "outputs": [
        {
          "output_type": "execute_result",
          "execution_count": 29,
          "data": {
            "text/plain": "array([[10.  , 50.  ],\n       [11.5 , 50.  ],\n       [ 9.  , 47.  ],\n       [16.  , 97.  ],\n       [ 9.25, 49.  ],\n       [ 1.  ,  3.  ],\n       [11.5 , 53.  ],\n       [ 9.  , 42.  ],\n       [ 8.5 , 26.  ],\n       [14.5 , 74.  ],\n       [15.5 , 82.  ],\n       [13.75, 62.  ],\n       [ 9.  , 37.  ],\n       [ 8.  , 15.  ],\n       [15.5 , 70.  ],\n       [ 8.  , 27.  ],\n       [ 9.  , 36.  ],\n       [ 6.  , 35.  ],\n       [10.  , 48.  ],\n       [12.  , 52.  ],\n       [12.5 , 63.  ],\n       [12.  , 64.  ]])"
          },
          "metadata": {}
        }
      ],
      "execution_count": 29,
      "metadata": {
        "collapsed": true,
        "jupyter": {
          "source_hidden": false,
          "outputs_hidden": false
        },
        "nteract": {
          "transient": {
            "deleting": false
          }
        },
        "gather": {
          "logged": 1623491644711
        }
      }
    },
    {
      "cell_type": "code",
      "source": [
        "zipped_array.mean(axis=0)"
      ],
      "outputs": [
        {
          "output_type": "execute_result",
          "execution_count": 30,
          "data": {
            "text/plain": "array([10.52272727, 49.18181818])"
          },
          "metadata": {}
        }
      ],
      "execution_count": 30,
      "metadata": {
        "collapsed": true,
        "jupyter": {
          "source_hidden": false,
          "outputs_hidden": false
        },
        "nteract": {
          "transient": {
            "deleting": false
          }
        },
        "gather": {
          "logged": 1623491665345
        }
      }
    },
    {
      "cell_type": "markdown",
      "source": [
        "## Exploring tabular data with Pandas\n",
        "\n",
        "While NumPy provides a lot of the functionality you need to work with numbers, and specifically arrays of numeric values; when you start to deal with two-dimensional tables of data, the **Pandas** package offers a more convenient structure to work with - the **DataFrame**.\n",
        "\n",
        "Run the following cell to import the Pandas library and create a DataFrame with three columns. The first column is a list of student names, and the second and third columns are the NumPy arrays containing the study time and grade data."
      ],
      "metadata": {}
    },
    {
      "cell_type": "code",
      "source": [
        "import pandas as pd\n",
        "\n",
        "df_students = pd.DataFrame({'Name': ['Dan', 'Joann', 'Pedro', 'Rosie', 'Ethan', 'Vicky', 'Frederic', 'Jimmie', \n",
        "                                     'Rhonda', 'Giovanni', 'Francesca', 'Rajab', 'Naiyana', 'Kian', 'Jenny',\n",
        "                                     'Jakeem','Helena','Ismat','Anila','Skye','Daniel','Aisha'],\n",
        "                            'StudyHours':student_data[0],\n",
        "                            'Grade':student_data[1]})\n",
        "\n",
        "df_students "
      ],
      "outputs": [
        {
          "output_type": "execute_result",
          "execution_count": 31,
          "data": {
            "text/plain": "         Name  StudyHours  Grade\n0         Dan       10.00   50.0\n1       Joann       11.50   50.0\n2       Pedro        9.00   47.0\n3       Rosie       16.00   97.0\n4       Ethan        9.25   49.0\n5       Vicky        1.00    3.0\n6    Frederic       11.50   53.0\n7      Jimmie        9.00   42.0\n8      Rhonda        8.50   26.0\n9    Giovanni       14.50   74.0\n10  Francesca       15.50   82.0\n11      Rajab       13.75   62.0\n12    Naiyana        9.00   37.0\n13       Kian        8.00   15.0\n14      Jenny       15.50   70.0\n15     Jakeem        8.00   27.0\n16     Helena        9.00   36.0\n17      Ismat        6.00   35.0\n18      Anila       10.00   48.0\n19       Skye       12.00   52.0\n20     Daniel       12.50   63.0\n21      Aisha       12.00   64.0",
            "text/html": "<div>\n<style scoped>\n    .dataframe tbody tr th:only-of-type {\n        vertical-align: middle;\n    }\n\n    .dataframe tbody tr th {\n        vertical-align: top;\n    }\n\n    .dataframe thead th {\n        text-align: right;\n    }\n</style>\n<table border=\"1\" class=\"dataframe\">\n  <thead>\n    <tr style=\"text-align: right;\">\n      <th></th>\n      <th>Name</th>\n      <th>StudyHours</th>\n      <th>Grade</th>\n    </tr>\n  </thead>\n  <tbody>\n    <tr>\n      <th>0</th>\n      <td>Dan</td>\n      <td>10.00</td>\n      <td>50.0</td>\n    </tr>\n    <tr>\n      <th>1</th>\n      <td>Joann</td>\n      <td>11.50</td>\n      <td>50.0</td>\n    </tr>\n    <tr>\n      <th>2</th>\n      <td>Pedro</td>\n      <td>9.00</td>\n      <td>47.0</td>\n    </tr>\n    <tr>\n      <th>3</th>\n      <td>Rosie</td>\n      <td>16.00</td>\n      <td>97.0</td>\n    </tr>\n    <tr>\n      <th>4</th>\n      <td>Ethan</td>\n      <td>9.25</td>\n      <td>49.0</td>\n    </tr>\n    <tr>\n      <th>5</th>\n      <td>Vicky</td>\n      <td>1.00</td>\n      <td>3.0</td>\n    </tr>\n    <tr>\n      <th>6</th>\n      <td>Frederic</td>\n      <td>11.50</td>\n      <td>53.0</td>\n    </tr>\n    <tr>\n      <th>7</th>\n      <td>Jimmie</td>\n      <td>9.00</td>\n      <td>42.0</td>\n    </tr>\n    <tr>\n      <th>8</th>\n      <td>Rhonda</td>\n      <td>8.50</td>\n      <td>26.0</td>\n    </tr>\n    <tr>\n      <th>9</th>\n      <td>Giovanni</td>\n      <td>14.50</td>\n      <td>74.0</td>\n    </tr>\n    <tr>\n      <th>10</th>\n      <td>Francesca</td>\n      <td>15.50</td>\n      <td>82.0</td>\n    </tr>\n    <tr>\n      <th>11</th>\n      <td>Rajab</td>\n      <td>13.75</td>\n      <td>62.0</td>\n    </tr>\n    <tr>\n      <th>12</th>\n      <td>Naiyana</td>\n      <td>9.00</td>\n      <td>37.0</td>\n    </tr>\n    <tr>\n      <th>13</th>\n      <td>Kian</td>\n      <td>8.00</td>\n      <td>15.0</td>\n    </tr>\n    <tr>\n      <th>14</th>\n      <td>Jenny</td>\n      <td>15.50</td>\n      <td>70.0</td>\n    </tr>\n    <tr>\n      <th>15</th>\n      <td>Jakeem</td>\n      <td>8.00</td>\n      <td>27.0</td>\n    </tr>\n    <tr>\n      <th>16</th>\n      <td>Helena</td>\n      <td>9.00</td>\n      <td>36.0</td>\n    </tr>\n    <tr>\n      <th>17</th>\n      <td>Ismat</td>\n      <td>6.00</td>\n      <td>35.0</td>\n    </tr>\n    <tr>\n      <th>18</th>\n      <td>Anila</td>\n      <td>10.00</td>\n      <td>48.0</td>\n    </tr>\n    <tr>\n      <th>19</th>\n      <td>Skye</td>\n      <td>12.00</td>\n      <td>52.0</td>\n    </tr>\n    <tr>\n      <th>20</th>\n      <td>Daniel</td>\n      <td>12.50</td>\n      <td>63.0</td>\n    </tr>\n    <tr>\n      <th>21</th>\n      <td>Aisha</td>\n      <td>12.00</td>\n      <td>64.0</td>\n    </tr>\n  </tbody>\n</table>\n</div>"
          },
          "metadata": {}
        }
      ],
      "execution_count": 31,
      "metadata": {
        "gather": {
          "logged": 1623491735397
        }
      }
    },
    {
      "cell_type": "markdown",
      "source": [
        "Note that in addition to the columns you specified, the DataFrame includes an *index* to unique identify each row. We could have specified the index explicitly, and assigned any kind of appropriate value (for example, an email address); but because we didn't specify an index, one has been created with a unique integer value for each row.\n",
        "\n",
        "### Finding and filtering data in a DataFrame\n",
        "\n",
        "You can use the DataFrame's **loc** method to retrieve data for a specific index value, like this."
      ],
      "metadata": {}
    },
    {
      "cell_type": "code",
      "source": [
        "# Get the data for index value 5\n",
        "df_students.loc[5]"
      ],
      "outputs": [
        {
          "output_type": "execute_result",
          "execution_count": 46,
          "data": {
            "text/plain": "Name          Vicky\nStudyHours        1\nGrade             3\nName: 5, dtype: object"
          },
          "metadata": {}
        }
      ],
      "execution_count": 46,
      "metadata": {
        "tags": [],
        "gather": {
          "logged": 1623491895009
        }
      }
    },
    {
      "cell_type": "code",
      "source": [],
      "outputs": [],
      "execution_count": null,
      "metadata": {
        "collapsed": true,
        "jupyter": {
          "source_hidden": false,
          "outputs_hidden": false
        },
        "nteract": {
          "transient": {
            "deleting": false
          }
        }
      }
    },
    {
      "cell_type": "markdown",
      "source": [
        "You can also get the data at a range of index values, like this:"
      ],
      "metadata": {}
    },
    {
      "cell_type": "code",
      "source": [
        "# Get the rows with index values from 0 to 5\n",
        "df_students.loc[0:5, 'Grade']"
      ],
      "outputs": [
        {
          "output_type": "execute_result",
          "execution_count": 44,
          "data": {
            "text/plain": "0    50.0\n1    50.0\n2    47.0\n3    97.0\n4    49.0\n5     3.0\nName: Grade, dtype: float64"
          },
          "metadata": {}
        }
      ],
      "execution_count": 44,
      "metadata": {
        "gather": {
          "logged": 1623491883176
        }
      }
    },
    {
      "cell_type": "markdown",
      "source": [
        "In addition to being able to use the **loc** method to find rows based on the index, you can use the **iloc** method to find rows based on their ordinal position in the DataFrame (regardless of the index):"
      ],
      "metadata": {}
    },
    {
      "cell_type": "code",
      "source": [
        "# Get data in the first five rows\n",
        "df_students.iloc[0:5]"
      ],
      "outputs": [
        {
          "output_type": "execute_result",
          "execution_count": 45,
          "data": {
            "text/plain": "    Name  StudyHours  Grade\n0    Dan       10.00   50.0\n1  Joann       11.50   50.0\n2  Pedro        9.00   47.0\n3  Rosie       16.00   97.0\n4  Ethan        9.25   49.0",
            "text/html": "<div>\n<style scoped>\n    .dataframe tbody tr th:only-of-type {\n        vertical-align: middle;\n    }\n\n    .dataframe tbody tr th {\n        vertical-align: top;\n    }\n\n    .dataframe thead th {\n        text-align: right;\n    }\n</style>\n<table border=\"1\" class=\"dataframe\">\n  <thead>\n    <tr style=\"text-align: right;\">\n      <th></th>\n      <th>Name</th>\n      <th>StudyHours</th>\n      <th>Grade</th>\n    </tr>\n  </thead>\n  <tbody>\n    <tr>\n      <th>0</th>\n      <td>Dan</td>\n      <td>10.00</td>\n      <td>50.0</td>\n    </tr>\n    <tr>\n      <th>1</th>\n      <td>Joann</td>\n      <td>11.50</td>\n      <td>50.0</td>\n    </tr>\n    <tr>\n      <th>2</th>\n      <td>Pedro</td>\n      <td>9.00</td>\n      <td>47.0</td>\n    </tr>\n    <tr>\n      <th>3</th>\n      <td>Rosie</td>\n      <td>16.00</td>\n      <td>97.0</td>\n    </tr>\n    <tr>\n      <th>4</th>\n      <td>Ethan</td>\n      <td>9.25</td>\n      <td>49.0</td>\n    </tr>\n  </tbody>\n</table>\n</div>"
          },
          "metadata": {}
        }
      ],
      "execution_count": 45,
      "metadata": {
        "gather": {
          "logged": 1623491886512
        }
      }
    },
    {
      "cell_type": "markdown",
      "source": [
        "Look carefully at the `iloc[0:5]` results, and compare them to the `loc[0:5]` results you obtained previously. Can you spot the difference?\n",
        "\n",
        "The **loc** method returned rows with index *label* in the list of values from *0* to *5* - which includes *0*, *1*, *2*, *3*, *4*, and *5* (six rows). However, the **iloc** method returns the rows in the *positions* included in the range 0 to 5, and since integer ranges don't include the upper-bound value, this includes positions *0*, *1*, *2*, *3*, and *4* (five rows).\n",
        "\n",
        "**iloc** identifies data values in a DataFrame by *position*, which extends beyond rows to columns. So for example, you can use it to find the values for the columns in positions 1 and 2 in row 0, like this:"
      ],
      "metadata": {}
    },
    {
      "cell_type": "code",
      "source": [
        "df_students.iloc[0,1:3]"
      ],
      "outputs": [
        {
          "output_type": "execute_result",
          "execution_count": 49,
          "data": {
            "text/plain": "StudyHours    10\nGrade         50\nName: 0, dtype: object"
          },
          "metadata": {}
        }
      ],
      "execution_count": 49,
      "metadata": {
        "gather": {
          "logged": 1623491935350
        }
      }
    },
    {
      "cell_type": "markdown",
      "source": [
        "Let's return to the **loc** method, and see how it works with columns. Remember that **loc** is used to locate data items based on index values rather than positions. In the absence of an explicit index column, the rows in our dataframe are indexed as integer values, but the columns are identified by name:"
      ],
      "metadata": {}
    },
    {
      "cell_type": "code",
      "source": [
        "df_students.loc[0,'Grade']"
      ],
      "outputs": [
        {
          "output_type": "execute_result",
          "execution_count": 50,
          "data": {
            "text/plain": "50.0"
          },
          "metadata": {}
        }
      ],
      "execution_count": 50,
      "metadata": {
        "gather": {
          "logged": 1623491947690
        }
      }
    },
    {
      "cell_type": "markdown",
      "source": [
        "Here's another useful trick. You can use the **loc** method to find indexed rows based on a filtering expression that references named columns other than the index, like this:"
      ],
      "metadata": {}
    },
    {
      "cell_type": "code",
      "source": [
        "df_students.loc[df_students['Name']=='Aisha']"
      ],
      "outputs": [
        {
          "output_type": "execute_result",
          "execution_count": 51,
          "data": {
            "text/plain": "     Name  StudyHours  Grade\n21  Aisha        12.0   64.0",
            "text/html": "<div>\n<style scoped>\n    .dataframe tbody tr th:only-of-type {\n        vertical-align: middle;\n    }\n\n    .dataframe tbody tr th {\n        vertical-align: top;\n    }\n\n    .dataframe thead th {\n        text-align: right;\n    }\n</style>\n<table border=\"1\" class=\"dataframe\">\n  <thead>\n    <tr style=\"text-align: right;\">\n      <th></th>\n      <th>Name</th>\n      <th>StudyHours</th>\n      <th>Grade</th>\n    </tr>\n  </thead>\n  <tbody>\n    <tr>\n      <th>21</th>\n      <td>Aisha</td>\n      <td>12.0</td>\n      <td>64.0</td>\n    </tr>\n  </tbody>\n</table>\n</div>"
          },
          "metadata": {}
        }
      ],
      "execution_count": 51,
      "metadata": {
        "gather": {
          "logged": 1623491951489
        }
      }
    },
    {
      "cell_type": "markdown",
      "source": [
        "Actually, you don't need to explicitly use the **loc** method to do this - you can simply apply a DataFrame filtering expression, like this:"
      ],
      "metadata": {}
    },
    {
      "cell_type": "code",
      "source": [
        "df_students[df_students['Name']=='Aisha']"
      ],
      "outputs": [],
      "execution_count": null,
      "metadata": {}
    },
    {
      "cell_type": "markdown",
      "source": [
        "And for good measure, you can achieve the same results by using the DataFrame's **query** method, like this:"
      ],
      "metadata": {}
    },
    {
      "cell_type": "code",
      "source": [
        "df_students.query('Name==\"Aisha\"')"
      ],
      "outputs": [
        {
          "output_type": "execute_result",
          "execution_count": 53,
          "data": {
            "text/plain": "     Name  StudyHours  Grade\n21  Aisha        12.0   64.0",
            "text/html": "<div>\n<style scoped>\n    .dataframe tbody tr th:only-of-type {\n        vertical-align: middle;\n    }\n\n    .dataframe tbody tr th {\n        vertical-align: top;\n    }\n\n    .dataframe thead th {\n        text-align: right;\n    }\n</style>\n<table border=\"1\" class=\"dataframe\">\n  <thead>\n    <tr style=\"text-align: right;\">\n      <th></th>\n      <th>Name</th>\n      <th>StudyHours</th>\n      <th>Grade</th>\n    </tr>\n  </thead>\n  <tbody>\n    <tr>\n      <th>21</th>\n      <td>Aisha</td>\n      <td>12.0</td>\n      <td>64.0</td>\n    </tr>\n  </tbody>\n</table>\n</div>"
          },
          "metadata": {}
        }
      ],
      "execution_count": 53,
      "metadata": {
        "gather": {
          "logged": 1623491974844
        }
      }
    },
    {
      "cell_type": "markdown",
      "source": [
        "The three previous examples underline an occassionally confusing truth about working with Pandas. Often, there are multiple ways to achieve the same results. Another example of this is the way you refer to a DataFrame column name. You can specify the column name as a named index value (as in the `df_students['Name']` examples we've seen so far), or you can use the column as a property of the DataFrame, like this:"
      ],
      "metadata": {}
    },
    {
      "cell_type": "code",
      "source": [
        "df_students[df_students.Name == 'Aisha']"
      ],
      "outputs": [
        {
          "output_type": "execute_result",
          "execution_count": 54,
          "data": {
            "text/plain": "     Name  StudyHours  Grade\n21  Aisha        12.0   64.0",
            "text/html": "<div>\n<style scoped>\n    .dataframe tbody tr th:only-of-type {\n        vertical-align: middle;\n    }\n\n    .dataframe tbody tr th {\n        vertical-align: top;\n    }\n\n    .dataframe thead th {\n        text-align: right;\n    }\n</style>\n<table border=\"1\" class=\"dataframe\">\n  <thead>\n    <tr style=\"text-align: right;\">\n      <th></th>\n      <th>Name</th>\n      <th>StudyHours</th>\n      <th>Grade</th>\n    </tr>\n  </thead>\n  <tbody>\n    <tr>\n      <th>21</th>\n      <td>Aisha</td>\n      <td>12.0</td>\n      <td>64.0</td>\n    </tr>\n  </tbody>\n</table>\n</div>"
          },
          "metadata": {}
        }
      ],
      "execution_count": 54,
      "metadata": {
        "gather": {
          "logged": 1623491988125
        }
      }
    },
    {
      "cell_type": "markdown",
      "source": [
        "### Loading a DataFrame from a  file\n",
        "\n",
        "We constructed the DataFrame from some existing arrays. However, in many real-world scenarios, data is loaded from sources such as files. Let's replace the student grades DataFrame with the contents of a text file."
      ],
      "metadata": {}
    },
    {
      "cell_type": "code",
      "source": [
        "df_students = pd.read_csv('data/grades.csv',delimiter=',',header='infer')\n",
        "df_students.head()"
      ],
      "outputs": [
        {
          "output_type": "execute_result",
          "execution_count": 55,
          "data": {
            "text/plain": "    Name  StudyHours  Grade\n0    Dan       10.00   50.0\n1  Joann       11.50   50.0\n2  Pedro        9.00   47.0\n3  Rosie       16.00   97.0\n4  Ethan        9.25   49.0",
            "text/html": "<div>\n<style scoped>\n    .dataframe tbody tr th:only-of-type {\n        vertical-align: middle;\n    }\n\n    .dataframe tbody tr th {\n        vertical-align: top;\n    }\n\n    .dataframe thead th {\n        text-align: right;\n    }\n</style>\n<table border=\"1\" class=\"dataframe\">\n  <thead>\n    <tr style=\"text-align: right;\">\n      <th></th>\n      <th>Name</th>\n      <th>StudyHours</th>\n      <th>Grade</th>\n    </tr>\n  </thead>\n  <tbody>\n    <tr>\n      <th>0</th>\n      <td>Dan</td>\n      <td>10.00</td>\n      <td>50.0</td>\n    </tr>\n    <tr>\n      <th>1</th>\n      <td>Joann</td>\n      <td>11.50</td>\n      <td>50.0</td>\n    </tr>\n    <tr>\n      <th>2</th>\n      <td>Pedro</td>\n      <td>9.00</td>\n      <td>47.0</td>\n    </tr>\n    <tr>\n      <th>3</th>\n      <td>Rosie</td>\n      <td>16.00</td>\n      <td>97.0</td>\n    </tr>\n    <tr>\n      <th>4</th>\n      <td>Ethan</td>\n      <td>9.25</td>\n      <td>49.0</td>\n    </tr>\n  </tbody>\n</table>\n</div>"
          },
          "metadata": {}
        }
      ],
      "execution_count": 55,
      "metadata": {
        "gather": {
          "logged": 1623492001441
        }
      }
    },
    {
      "cell_type": "markdown",
      "source": [
        "The DataFrame's **read_csv** method is used to load data from text files. As you can see in the example code, you can specify options such as the column delimiter and which row (if any) contains column headers (in this case, the delimiter is a comma and the first row contains the column names - these are the default settings, so the parameters could have been omitted).\n",
        "\n",
        "\n",
        "### Handling missing values\n",
        "\n",
        "One of the most common issues data scientists need to deal with is incomplete or missing data. So how would we know that the DataFrame contains missing values? You can use the **isnull** method to identify which individual values are null, like this:"
      ],
      "metadata": {}
    },
    {
      "cell_type": "code",
      "source": [
        "pd.options.display.max_rows = 1000"
      ],
      "outputs": [],
      "execution_count": 58,
      "metadata": {
        "collapsed": true,
        "jupyter": {
          "source_hidden": false,
          "outputs_hidden": false
        },
        "nteract": {
          "transient": {
            "deleting": false
          }
        },
        "gather": {
          "logged": 1623492112455
        }
      }
    },
    {
      "cell_type": "code",
      "source": [
        "df_students"
      ],
      "outputs": [
        {
          "output_type": "execute_result",
          "execution_count": 60,
          "data": {
            "text/plain": "         Name  StudyHours  Grade\n0         Dan       10.00   50.0\n1       Joann       11.50   50.0\n2       Pedro        9.00   47.0\n3       Rosie       16.00   97.0\n4       Ethan        9.25   49.0\n5       Vicky        1.00    3.0\n6    Frederic       11.50   53.0\n7      Jimmie        9.00   42.0\n8      Rhonda        8.50   26.0\n9    Giovanni       14.50   74.0\n10  Francesca       15.50   82.0\n11      Rajab       13.75   62.0\n12    Naiyana        9.00   37.0\n13       Kian        8.00   15.0\n14      Jenny       15.50   70.0\n15     Jakeem        8.00   27.0\n16     Helena        9.00   36.0\n17      Ismat        6.00   35.0\n18      Anila       10.00   48.0\n19       Skye       12.00   52.0\n20     Daniel       12.50   63.0\n21      Aisha       12.00   64.0\n22       Bill        8.00    NaN\n23        Ted         NaN    NaN",
            "text/html": "<div>\n<style scoped>\n    .dataframe tbody tr th:only-of-type {\n        vertical-align: middle;\n    }\n\n    .dataframe tbody tr th {\n        vertical-align: top;\n    }\n\n    .dataframe thead th {\n        text-align: right;\n    }\n</style>\n<table border=\"1\" class=\"dataframe\">\n  <thead>\n    <tr style=\"text-align: right;\">\n      <th></th>\n      <th>Name</th>\n      <th>StudyHours</th>\n      <th>Grade</th>\n    </tr>\n  </thead>\n  <tbody>\n    <tr>\n      <th>0</th>\n      <td>Dan</td>\n      <td>10.00</td>\n      <td>50.0</td>\n    </tr>\n    <tr>\n      <th>1</th>\n      <td>Joann</td>\n      <td>11.50</td>\n      <td>50.0</td>\n    </tr>\n    <tr>\n      <th>2</th>\n      <td>Pedro</td>\n      <td>9.00</td>\n      <td>47.0</td>\n    </tr>\n    <tr>\n      <th>3</th>\n      <td>Rosie</td>\n      <td>16.00</td>\n      <td>97.0</td>\n    </tr>\n    <tr>\n      <th>4</th>\n      <td>Ethan</td>\n      <td>9.25</td>\n      <td>49.0</td>\n    </tr>\n    <tr>\n      <th>5</th>\n      <td>Vicky</td>\n      <td>1.00</td>\n      <td>3.0</td>\n    </tr>\n    <tr>\n      <th>6</th>\n      <td>Frederic</td>\n      <td>11.50</td>\n      <td>53.0</td>\n    </tr>\n    <tr>\n      <th>7</th>\n      <td>Jimmie</td>\n      <td>9.00</td>\n      <td>42.0</td>\n    </tr>\n    <tr>\n      <th>8</th>\n      <td>Rhonda</td>\n      <td>8.50</td>\n      <td>26.0</td>\n    </tr>\n    <tr>\n      <th>9</th>\n      <td>Giovanni</td>\n      <td>14.50</td>\n      <td>74.0</td>\n    </tr>\n    <tr>\n      <th>10</th>\n      <td>Francesca</td>\n      <td>15.50</td>\n      <td>82.0</td>\n    </tr>\n    <tr>\n      <th>11</th>\n      <td>Rajab</td>\n      <td>13.75</td>\n      <td>62.0</td>\n    </tr>\n    <tr>\n      <th>12</th>\n      <td>Naiyana</td>\n      <td>9.00</td>\n      <td>37.0</td>\n    </tr>\n    <tr>\n      <th>13</th>\n      <td>Kian</td>\n      <td>8.00</td>\n      <td>15.0</td>\n    </tr>\n    <tr>\n      <th>14</th>\n      <td>Jenny</td>\n      <td>15.50</td>\n      <td>70.0</td>\n    </tr>\n    <tr>\n      <th>15</th>\n      <td>Jakeem</td>\n      <td>8.00</td>\n      <td>27.0</td>\n    </tr>\n    <tr>\n      <th>16</th>\n      <td>Helena</td>\n      <td>9.00</td>\n      <td>36.0</td>\n    </tr>\n    <tr>\n      <th>17</th>\n      <td>Ismat</td>\n      <td>6.00</td>\n      <td>35.0</td>\n    </tr>\n    <tr>\n      <th>18</th>\n      <td>Anila</td>\n      <td>10.00</td>\n      <td>48.0</td>\n    </tr>\n    <tr>\n      <th>19</th>\n      <td>Skye</td>\n      <td>12.00</td>\n      <td>52.0</td>\n    </tr>\n    <tr>\n      <th>20</th>\n      <td>Daniel</td>\n      <td>12.50</td>\n      <td>63.0</td>\n    </tr>\n    <tr>\n      <th>21</th>\n      <td>Aisha</td>\n      <td>12.00</td>\n      <td>64.0</td>\n    </tr>\n    <tr>\n      <th>22</th>\n      <td>Bill</td>\n      <td>8.00</td>\n      <td>NaN</td>\n    </tr>\n    <tr>\n      <th>23</th>\n      <td>Ted</td>\n      <td>NaN</td>\n      <td>NaN</td>\n    </tr>\n  </tbody>\n</table>\n</div>"
          },
          "metadata": {}
        }
      ],
      "execution_count": 60,
      "metadata": {
        "gather": {
          "logged": 1623492118980
        }
      }
    },
    {
      "cell_type": "markdown",
      "source": [
        "Of course, with a larger DataFrame, it would be inefficient to review all of the rows and columns individually; so we can get the sum of missing values for each column, like this:"
      ],
      "metadata": {}
    },
    {
      "cell_type": "code",
      "source": [
        "df_students.isnull()"
      ],
      "outputs": [
        {
          "output_type": "execute_result",
          "execution_count": 63,
          "data": {
            "text/plain": "     Name  StudyHours  Grade\n0   False       False  False\n1   False       False  False\n2   False       False  False\n3   False       False  False\n4   False       False  False\n5   False       False  False\n6   False       False  False\n7   False       False  False\n8   False       False  False\n9   False       False  False\n10  False       False  False\n11  False       False  False\n12  False       False  False\n13  False       False  False\n14  False       False  False\n15  False       False  False\n16  False       False  False\n17  False       False  False\n18  False       False  False\n19  False       False  False\n20  False       False  False\n21  False       False  False\n22  False       False   True\n23  False        True   True",
            "text/html": "<div>\n<style scoped>\n    .dataframe tbody tr th:only-of-type {\n        vertical-align: middle;\n    }\n\n    .dataframe tbody tr th {\n        vertical-align: top;\n    }\n\n    .dataframe thead th {\n        text-align: right;\n    }\n</style>\n<table border=\"1\" class=\"dataframe\">\n  <thead>\n    <tr style=\"text-align: right;\">\n      <th></th>\n      <th>Name</th>\n      <th>StudyHours</th>\n      <th>Grade</th>\n    </tr>\n  </thead>\n  <tbody>\n    <tr>\n      <th>0</th>\n      <td>False</td>\n      <td>False</td>\n      <td>False</td>\n    </tr>\n    <tr>\n      <th>1</th>\n      <td>False</td>\n      <td>False</td>\n      <td>False</td>\n    </tr>\n    <tr>\n      <th>2</th>\n      <td>False</td>\n      <td>False</td>\n      <td>False</td>\n    </tr>\n    <tr>\n      <th>3</th>\n      <td>False</td>\n      <td>False</td>\n      <td>False</td>\n    </tr>\n    <tr>\n      <th>4</th>\n      <td>False</td>\n      <td>False</td>\n      <td>False</td>\n    </tr>\n    <tr>\n      <th>5</th>\n      <td>False</td>\n      <td>False</td>\n      <td>False</td>\n    </tr>\n    <tr>\n      <th>6</th>\n      <td>False</td>\n      <td>False</td>\n      <td>False</td>\n    </tr>\n    <tr>\n      <th>7</th>\n      <td>False</td>\n      <td>False</td>\n      <td>False</td>\n    </tr>\n    <tr>\n      <th>8</th>\n      <td>False</td>\n      <td>False</td>\n      <td>False</td>\n    </tr>\n    <tr>\n      <th>9</th>\n      <td>False</td>\n      <td>False</td>\n      <td>False</td>\n    </tr>\n    <tr>\n      <th>10</th>\n      <td>False</td>\n      <td>False</td>\n      <td>False</td>\n    </tr>\n    <tr>\n      <th>11</th>\n      <td>False</td>\n      <td>False</td>\n      <td>False</td>\n    </tr>\n    <tr>\n      <th>12</th>\n      <td>False</td>\n      <td>False</td>\n      <td>False</td>\n    </tr>\n    <tr>\n      <th>13</th>\n      <td>False</td>\n      <td>False</td>\n      <td>False</td>\n    </tr>\n    <tr>\n      <th>14</th>\n      <td>False</td>\n      <td>False</td>\n      <td>False</td>\n    </tr>\n    <tr>\n      <th>15</th>\n      <td>False</td>\n      <td>False</td>\n      <td>False</td>\n    </tr>\n    <tr>\n      <th>16</th>\n      <td>False</td>\n      <td>False</td>\n      <td>False</td>\n    </tr>\n    <tr>\n      <th>17</th>\n      <td>False</td>\n      <td>False</td>\n      <td>False</td>\n    </tr>\n    <tr>\n      <th>18</th>\n      <td>False</td>\n      <td>False</td>\n      <td>False</td>\n    </tr>\n    <tr>\n      <th>19</th>\n      <td>False</td>\n      <td>False</td>\n      <td>False</td>\n    </tr>\n    <tr>\n      <th>20</th>\n      <td>False</td>\n      <td>False</td>\n      <td>False</td>\n    </tr>\n    <tr>\n      <th>21</th>\n      <td>False</td>\n      <td>False</td>\n      <td>False</td>\n    </tr>\n    <tr>\n      <th>22</th>\n      <td>False</td>\n      <td>False</td>\n      <td>True</td>\n    </tr>\n    <tr>\n      <th>23</th>\n      <td>False</td>\n      <td>True</td>\n      <td>True</td>\n    </tr>\n  </tbody>\n</table>\n</div>"
          },
          "metadata": {}
        }
      ],
      "execution_count": 63,
      "metadata": {
        "collapsed": true,
        "jupyter": {
          "source_hidden": false,
          "outputs_hidden": false
        },
        "nteract": {
          "transient": {
            "deleting": false
          }
        },
        "gather": {
          "logged": 1623492222275
        }
      }
    },
    {
      "cell_type": "code",
      "source": [
        "df_students.isnull().sum()"
      ],
      "outputs": [
        {
          "output_type": "execute_result",
          "execution_count": 64,
          "data": {
            "text/plain": "Name          0\nStudyHours    1\nGrade         2\ndtype: int64"
          },
          "metadata": {}
        }
      ],
      "execution_count": 64,
      "metadata": {
        "gather": {
          "logged": 1623492233535
        }
      }
    },
    {
      "cell_type": "markdown",
      "source": [
        "So now we know that there's one missing **StudyHours** value, and two missing **Grade** values.\n",
        "\n",
        "To see them in context, we can filter the dataframe to include only rows where any of the columns (axis 1 of the DataFrame) are null."
      ],
      "metadata": {}
    },
    {
      "cell_type": "code",
      "source": [
        "df_students[df_students.isnull().any(axis='columns')]"
      ],
      "outputs": [
        {
          "output_type": "execute_result",
          "execution_count": 68,
          "data": {
            "text/plain": "Empty DataFrame\nColumns: [Name, StudyHours, Grade]\nIndex: []",
            "text/html": "<div>\n<style scoped>\n    .dataframe tbody tr th:only-of-type {\n        vertical-align: middle;\n    }\n\n    .dataframe tbody tr th {\n        vertical-align: top;\n    }\n\n    .dataframe thead th {\n        text-align: right;\n    }\n</style>\n<table border=\"1\" class=\"dataframe\">\n  <thead>\n    <tr style=\"text-align: right;\">\n      <th></th>\n      <th>Name</th>\n      <th>StudyHours</th>\n      <th>Grade</th>\n    </tr>\n  </thead>\n  <tbody>\n  </tbody>\n</table>\n</div>"
          },
          "metadata": {}
        }
      ],
      "execution_count": 68,
      "metadata": {
        "gather": {
          "logged": 1623492351489
        }
      }
    },
    {
      "cell_type": "markdown",
      "source": [
        "When the DataFrame is retrieved, the missing numeric values show up as **NaN** (*not a number*).\n",
        "\n",
        "So now that we've found the null values, what can we do about them?\n",
        "\n",
        "One common approach is to *impute* replacement values. For example, if the number of study hours is missing, we could just assume that the student studied for an average amount of time and replace the missing value with the mean study hours. To do this, we can use the **fillna** method, like this:"
      ],
      "metadata": {}
    },
    {
      "cell_type": "code",
      "source": [
        "df_students.StudyHours = df_students.StudyHours.fillna(df_students.StudyHours.mean())\n",
        "df_students"
      ],
      "outputs": [
        {
          "output_type": "execute_result",
          "execution_count": 65,
          "data": {
            "text/plain": "         Name  StudyHours  Grade\n0         Dan   10.000000   50.0\n1       Joann   11.500000   50.0\n2       Pedro    9.000000   47.0\n3       Rosie   16.000000   97.0\n4       Ethan    9.250000   49.0\n5       Vicky    1.000000    3.0\n6    Frederic   11.500000   53.0\n7      Jimmie    9.000000   42.0\n8      Rhonda    8.500000   26.0\n9    Giovanni   14.500000   74.0\n10  Francesca   15.500000   82.0\n11      Rajab   13.750000   62.0\n12    Naiyana    9.000000   37.0\n13       Kian    8.000000   15.0\n14      Jenny   15.500000   70.0\n15     Jakeem    8.000000   27.0\n16     Helena    9.000000   36.0\n17      Ismat    6.000000   35.0\n18      Anila   10.000000   48.0\n19       Skye   12.000000   52.0\n20     Daniel   12.500000   63.0\n21      Aisha   12.000000   64.0\n22       Bill    8.000000    NaN\n23        Ted   10.413043    NaN",
            "text/html": "<div>\n<style scoped>\n    .dataframe tbody tr th:only-of-type {\n        vertical-align: middle;\n    }\n\n    .dataframe tbody tr th {\n        vertical-align: top;\n    }\n\n    .dataframe thead th {\n        text-align: right;\n    }\n</style>\n<table border=\"1\" class=\"dataframe\">\n  <thead>\n    <tr style=\"text-align: right;\">\n      <th></th>\n      <th>Name</th>\n      <th>StudyHours</th>\n      <th>Grade</th>\n    </tr>\n  </thead>\n  <tbody>\n    <tr>\n      <th>0</th>\n      <td>Dan</td>\n      <td>10.000000</td>\n      <td>50.0</td>\n    </tr>\n    <tr>\n      <th>1</th>\n      <td>Joann</td>\n      <td>11.500000</td>\n      <td>50.0</td>\n    </tr>\n    <tr>\n      <th>2</th>\n      <td>Pedro</td>\n      <td>9.000000</td>\n      <td>47.0</td>\n    </tr>\n    <tr>\n      <th>3</th>\n      <td>Rosie</td>\n      <td>16.000000</td>\n      <td>97.0</td>\n    </tr>\n    <tr>\n      <th>4</th>\n      <td>Ethan</td>\n      <td>9.250000</td>\n      <td>49.0</td>\n    </tr>\n    <tr>\n      <th>5</th>\n      <td>Vicky</td>\n      <td>1.000000</td>\n      <td>3.0</td>\n    </tr>\n    <tr>\n      <th>6</th>\n      <td>Frederic</td>\n      <td>11.500000</td>\n      <td>53.0</td>\n    </tr>\n    <tr>\n      <th>7</th>\n      <td>Jimmie</td>\n      <td>9.000000</td>\n      <td>42.0</td>\n    </tr>\n    <tr>\n      <th>8</th>\n      <td>Rhonda</td>\n      <td>8.500000</td>\n      <td>26.0</td>\n    </tr>\n    <tr>\n      <th>9</th>\n      <td>Giovanni</td>\n      <td>14.500000</td>\n      <td>74.0</td>\n    </tr>\n    <tr>\n      <th>10</th>\n      <td>Francesca</td>\n      <td>15.500000</td>\n      <td>82.0</td>\n    </tr>\n    <tr>\n      <th>11</th>\n      <td>Rajab</td>\n      <td>13.750000</td>\n      <td>62.0</td>\n    </tr>\n    <tr>\n      <th>12</th>\n      <td>Naiyana</td>\n      <td>9.000000</td>\n      <td>37.0</td>\n    </tr>\n    <tr>\n      <th>13</th>\n      <td>Kian</td>\n      <td>8.000000</td>\n      <td>15.0</td>\n    </tr>\n    <tr>\n      <th>14</th>\n      <td>Jenny</td>\n      <td>15.500000</td>\n      <td>70.0</td>\n    </tr>\n    <tr>\n      <th>15</th>\n      <td>Jakeem</td>\n      <td>8.000000</td>\n      <td>27.0</td>\n    </tr>\n    <tr>\n      <th>16</th>\n      <td>Helena</td>\n      <td>9.000000</td>\n      <td>36.0</td>\n    </tr>\n    <tr>\n      <th>17</th>\n      <td>Ismat</td>\n      <td>6.000000</td>\n      <td>35.0</td>\n    </tr>\n    <tr>\n      <th>18</th>\n      <td>Anila</td>\n      <td>10.000000</td>\n      <td>48.0</td>\n    </tr>\n    <tr>\n      <th>19</th>\n      <td>Skye</td>\n      <td>12.000000</td>\n      <td>52.0</td>\n    </tr>\n    <tr>\n      <th>20</th>\n      <td>Daniel</td>\n      <td>12.500000</td>\n      <td>63.0</td>\n    </tr>\n    <tr>\n      <th>21</th>\n      <td>Aisha</td>\n      <td>12.000000</td>\n      <td>64.0</td>\n    </tr>\n    <tr>\n      <th>22</th>\n      <td>Bill</td>\n      <td>8.000000</td>\n      <td>NaN</td>\n    </tr>\n    <tr>\n      <th>23</th>\n      <td>Ted</td>\n      <td>10.413043</td>\n      <td>NaN</td>\n    </tr>\n  </tbody>\n</table>\n</div>"
          },
          "metadata": {}
        }
      ],
      "execution_count": 65,
      "metadata": {
        "gather": {
          "logged": 1623492308727
        }
      }
    },
    {
      "cell_type": "markdown",
      "source": [
        "Alternatively, it might be important to ensure that you only use data you know to be absolutely correct; so you can drop rows or columns that contains null values by using the **dropna** method. In this case, we'll remove rows (axis 0 of the DataFrame) where any of the columns contain null values."
      ],
      "metadata": {}
    },
    {
      "cell_type": "code",
      "source": [
        "df_students = df_students.dropna(axis=0, how='any')\n",
        "df_students"
      ],
      "outputs": [
        {
          "output_type": "execute_result",
          "execution_count": 66,
          "data": {
            "text/plain": "         Name  StudyHours  Grade\n0         Dan       10.00   50.0\n1       Joann       11.50   50.0\n2       Pedro        9.00   47.0\n3       Rosie       16.00   97.0\n4       Ethan        9.25   49.0\n5       Vicky        1.00    3.0\n6    Frederic       11.50   53.0\n7      Jimmie        9.00   42.0\n8      Rhonda        8.50   26.0\n9    Giovanni       14.50   74.0\n10  Francesca       15.50   82.0\n11      Rajab       13.75   62.0\n12    Naiyana        9.00   37.0\n13       Kian        8.00   15.0\n14      Jenny       15.50   70.0\n15     Jakeem        8.00   27.0\n16     Helena        9.00   36.0\n17      Ismat        6.00   35.0\n18      Anila       10.00   48.0\n19       Skye       12.00   52.0\n20     Daniel       12.50   63.0\n21      Aisha       12.00   64.0",
            "text/html": "<div>\n<style scoped>\n    .dataframe tbody tr th:only-of-type {\n        vertical-align: middle;\n    }\n\n    .dataframe tbody tr th {\n        vertical-align: top;\n    }\n\n    .dataframe thead th {\n        text-align: right;\n    }\n</style>\n<table border=\"1\" class=\"dataframe\">\n  <thead>\n    <tr style=\"text-align: right;\">\n      <th></th>\n      <th>Name</th>\n      <th>StudyHours</th>\n      <th>Grade</th>\n    </tr>\n  </thead>\n  <tbody>\n    <tr>\n      <th>0</th>\n      <td>Dan</td>\n      <td>10.00</td>\n      <td>50.0</td>\n    </tr>\n    <tr>\n      <th>1</th>\n      <td>Joann</td>\n      <td>11.50</td>\n      <td>50.0</td>\n    </tr>\n    <tr>\n      <th>2</th>\n      <td>Pedro</td>\n      <td>9.00</td>\n      <td>47.0</td>\n    </tr>\n    <tr>\n      <th>3</th>\n      <td>Rosie</td>\n      <td>16.00</td>\n      <td>97.0</td>\n    </tr>\n    <tr>\n      <th>4</th>\n      <td>Ethan</td>\n      <td>9.25</td>\n      <td>49.0</td>\n    </tr>\n    <tr>\n      <th>5</th>\n      <td>Vicky</td>\n      <td>1.00</td>\n      <td>3.0</td>\n    </tr>\n    <tr>\n      <th>6</th>\n      <td>Frederic</td>\n      <td>11.50</td>\n      <td>53.0</td>\n    </tr>\n    <tr>\n      <th>7</th>\n      <td>Jimmie</td>\n      <td>9.00</td>\n      <td>42.0</td>\n    </tr>\n    <tr>\n      <th>8</th>\n      <td>Rhonda</td>\n      <td>8.50</td>\n      <td>26.0</td>\n    </tr>\n    <tr>\n      <th>9</th>\n      <td>Giovanni</td>\n      <td>14.50</td>\n      <td>74.0</td>\n    </tr>\n    <tr>\n      <th>10</th>\n      <td>Francesca</td>\n      <td>15.50</td>\n      <td>82.0</td>\n    </tr>\n    <tr>\n      <th>11</th>\n      <td>Rajab</td>\n      <td>13.75</td>\n      <td>62.0</td>\n    </tr>\n    <tr>\n      <th>12</th>\n      <td>Naiyana</td>\n      <td>9.00</td>\n      <td>37.0</td>\n    </tr>\n    <tr>\n      <th>13</th>\n      <td>Kian</td>\n      <td>8.00</td>\n      <td>15.0</td>\n    </tr>\n    <tr>\n      <th>14</th>\n      <td>Jenny</td>\n      <td>15.50</td>\n      <td>70.0</td>\n    </tr>\n    <tr>\n      <th>15</th>\n      <td>Jakeem</td>\n      <td>8.00</td>\n      <td>27.0</td>\n    </tr>\n    <tr>\n      <th>16</th>\n      <td>Helena</td>\n      <td>9.00</td>\n      <td>36.0</td>\n    </tr>\n    <tr>\n      <th>17</th>\n      <td>Ismat</td>\n      <td>6.00</td>\n      <td>35.0</td>\n    </tr>\n    <tr>\n      <th>18</th>\n      <td>Anila</td>\n      <td>10.00</td>\n      <td>48.0</td>\n    </tr>\n    <tr>\n      <th>19</th>\n      <td>Skye</td>\n      <td>12.00</td>\n      <td>52.0</td>\n    </tr>\n    <tr>\n      <th>20</th>\n      <td>Daniel</td>\n      <td>12.50</td>\n      <td>63.0</td>\n    </tr>\n    <tr>\n      <th>21</th>\n      <td>Aisha</td>\n      <td>12.00</td>\n      <td>64.0</td>\n    </tr>\n  </tbody>\n</table>\n</div>"
          },
          "metadata": {}
        }
      ],
      "execution_count": 66,
      "metadata": {
        "gather": {
          "logged": 1623492319415
        }
      }
    },
    {
      "cell_type": "markdown",
      "source": [
        "### Explore data in the DataFrame\n",
        "\n",
        "Now that we've cleaned up the missing values, we're ready to explore the data in the DataFrame. Let's start by comparing the mean study hours and grades."
      ],
      "metadata": {}
    },
    {
      "cell_type": "code",
      "source": [
        "pd.set_option(\"precision\", 3)"
      ],
      "outputs": [],
      "execution_count": 72,
      "metadata": {
        "collapsed": true,
        "jupyter": {
          "source_hidden": false,
          "outputs_hidden": false
        },
        "nteract": {
          "transient": {
            "deleting": false
          }
        },
        "gather": {
          "logged": 1623492533230
        }
      }
    },
    {
      "cell_type": "code",
      "source": [
        "# Get the mean study hours using the column name as an index\n",
        "mean_study = df_students['StudyHours'].mean()\n",
        "\n",
        "# Get the mean grade using the column name as a property (just to make the point!)\n",
        "mean_grade = df_students.Grade.mean()\n",
        "\n",
        "# Print the mean study hours and mean grade\n",
        "print(f'Average weekly study hours: {mean_study}\\nAverage grade: {mean_grade}')"
      ],
      "outputs": [
        {
          "output_type": "stream",
          "name": "stdout",
          "text": [
            "Average weekly study hours: 10.522727272727273\n",
            "Average grade: 49.18181818181818\n"
          ]
        }
      ],
      "execution_count": 73,
      "metadata": {
        "tags": [],
        "gather": {
          "logged": 1623492536090
        }
      }
    },
    {
      "cell_type": "markdown",
      "source": [
        "OK, let's filter the DataFrame to find only the students who studied for more than the average amount of time."
      ],
      "metadata": {}
    },
    {
      "cell_type": "code",
      "source": [
        "# Get students who studied for the mean or more hours\n",
        "df_students[df_students.StudyHours > mean_study]"
      ],
      "outputs": [
        {
          "output_type": "execute_result",
          "execution_count": 74,
          "data": {
            "text/plain": "         Name  StudyHours  Grade\n1       Joann       11.50   50.0\n3       Rosie       16.00   97.0\n6    Frederic       11.50   53.0\n9    Giovanni       14.50   74.0\n10  Francesca       15.50   82.0\n11      Rajab       13.75   62.0\n14      Jenny       15.50   70.0\n19       Skye       12.00   52.0\n20     Daniel       12.50   63.0\n21      Aisha       12.00   64.0",
            "text/html": "<div>\n<style scoped>\n    .dataframe tbody tr th:only-of-type {\n        vertical-align: middle;\n    }\n\n    .dataframe tbody tr th {\n        vertical-align: top;\n    }\n\n    .dataframe thead th {\n        text-align: right;\n    }\n</style>\n<table border=\"1\" class=\"dataframe\">\n  <thead>\n    <tr style=\"text-align: right;\">\n      <th></th>\n      <th>Name</th>\n      <th>StudyHours</th>\n      <th>Grade</th>\n    </tr>\n  </thead>\n  <tbody>\n    <tr>\n      <th>1</th>\n      <td>Joann</td>\n      <td>11.50</td>\n      <td>50.0</td>\n    </tr>\n    <tr>\n      <th>3</th>\n      <td>Rosie</td>\n      <td>16.00</td>\n      <td>97.0</td>\n    </tr>\n    <tr>\n      <th>6</th>\n      <td>Frederic</td>\n      <td>11.50</td>\n      <td>53.0</td>\n    </tr>\n    <tr>\n      <th>9</th>\n      <td>Giovanni</td>\n      <td>14.50</td>\n      <td>74.0</td>\n    </tr>\n    <tr>\n      <th>10</th>\n      <td>Francesca</td>\n      <td>15.50</td>\n      <td>82.0</td>\n    </tr>\n    <tr>\n      <th>11</th>\n      <td>Rajab</td>\n      <td>13.75</td>\n      <td>62.0</td>\n    </tr>\n    <tr>\n      <th>14</th>\n      <td>Jenny</td>\n      <td>15.50</td>\n      <td>70.0</td>\n    </tr>\n    <tr>\n      <th>19</th>\n      <td>Skye</td>\n      <td>12.00</td>\n      <td>52.0</td>\n    </tr>\n    <tr>\n      <th>20</th>\n      <td>Daniel</td>\n      <td>12.50</td>\n      <td>63.0</td>\n    </tr>\n    <tr>\n      <th>21</th>\n      <td>Aisha</td>\n      <td>12.00</td>\n      <td>64.0</td>\n    </tr>\n  </tbody>\n</table>\n</div>"
          },
          "metadata": {}
        }
      ],
      "execution_count": 74,
      "metadata": {
        "gather": {
          "logged": 1623492549932
        }
      }
    },
    {
      "cell_type": "markdown",
      "source": [
        "Note that the filtered result is itself a DataFrame, so you can work with its columns just like any other DataFrame.\n",
        "\n",
        "For example, let's find the average grade for students who undertook more than the average amount of study time."
      ],
      "metadata": {}
    },
    {
      "cell_type": "code",
      "source": [
        "# What was their mean grade?\n",
        "df_students[df_students.StudyHours > mean_study].Grade.mean()"
      ],
      "outputs": [
        {
          "output_type": "execute_result",
          "execution_count": 75,
          "data": {
            "text/plain": "66.7"
          },
          "metadata": {}
        }
      ],
      "execution_count": 75,
      "metadata": {
        "gather": {
          "logged": 1623492558324
        }
      }
    },
    {
      "cell_type": "markdown",
      "source": [
        "Let's assume that the passing grade for the course is 60.\n",
        "\n",
        "We can use that information to add a new column to the DataFrame, indicating whether or not each student passed.\n",
        "\n",
        "First, we'll create a Pandas **Series** containing the pass/fail indicator (True or False), and then we'll concatenate that series as a new column (axis 1) in the DataFrame."
      ],
      "metadata": {}
    },
    {
      "cell_type": "code",
      "source": [
        "passes  = pd.Series(df_students['Grade'] >= 60)\n",
        "df_students = pd.concat([df_students, passes.rename(\"Pass\")], axis=1)\n",
        "\n",
        "df_students"
      ],
      "outputs": [
        {
          "output_type": "execute_result",
          "execution_count": 77,
          "data": {
            "text/plain": "         Name  StudyHours  Grade  Pass New   Pass\n0         Dan       10.00   50.0     False  False\n1       Joann       11.50   50.0     False  False\n2       Pedro        9.00   47.0     False  False\n3       Rosie       16.00   97.0      True   True\n4       Ethan        9.25   49.0     False  False\n5       Vicky        1.00    3.0     False  False\n6    Frederic       11.50   53.0     False  False\n7      Jimmie        9.00   42.0     False  False\n8      Rhonda        8.50   26.0     False  False\n9    Giovanni       14.50   74.0      True   True\n10  Francesca       15.50   82.0      True   True\n11      Rajab       13.75   62.0      True   True\n12    Naiyana        9.00   37.0     False  False\n13       Kian        8.00   15.0     False  False\n14      Jenny       15.50   70.0      True   True\n15     Jakeem        8.00   27.0     False  False\n16     Helena        9.00   36.0     False  False\n17      Ismat        6.00   35.0     False  False\n18      Anila       10.00   48.0     False  False\n19       Skye       12.00   52.0     False  False\n20     Daniel       12.50   63.0      True   True\n21      Aisha       12.00   64.0      True   True",
            "text/html": "<div>\n<style scoped>\n    .dataframe tbody tr th:only-of-type {\n        vertical-align: middle;\n    }\n\n    .dataframe tbody tr th {\n        vertical-align: top;\n    }\n\n    .dataframe thead th {\n        text-align: right;\n    }\n</style>\n<table border=\"1\" class=\"dataframe\">\n  <thead>\n    <tr style=\"text-align: right;\">\n      <th></th>\n      <th>Name</th>\n      <th>StudyHours</th>\n      <th>Grade</th>\n      <th>Pass New</th>\n      <th>Pass</th>\n    </tr>\n  </thead>\n  <tbody>\n    <tr>\n      <th>0</th>\n      <td>Dan</td>\n      <td>10.00</td>\n      <td>50.0</td>\n      <td>False</td>\n      <td>False</td>\n    </tr>\n    <tr>\n      <th>1</th>\n      <td>Joann</td>\n      <td>11.50</td>\n      <td>50.0</td>\n      <td>False</td>\n      <td>False</td>\n    </tr>\n    <tr>\n      <th>2</th>\n      <td>Pedro</td>\n      <td>9.00</td>\n      <td>47.0</td>\n      <td>False</td>\n      <td>False</td>\n    </tr>\n    <tr>\n      <th>3</th>\n      <td>Rosie</td>\n      <td>16.00</td>\n      <td>97.0</td>\n      <td>True</td>\n      <td>True</td>\n    </tr>\n    <tr>\n      <th>4</th>\n      <td>Ethan</td>\n      <td>9.25</td>\n      <td>49.0</td>\n      <td>False</td>\n      <td>False</td>\n    </tr>\n    <tr>\n      <th>5</th>\n      <td>Vicky</td>\n      <td>1.00</td>\n      <td>3.0</td>\n      <td>False</td>\n      <td>False</td>\n    </tr>\n    <tr>\n      <th>6</th>\n      <td>Frederic</td>\n      <td>11.50</td>\n      <td>53.0</td>\n      <td>False</td>\n      <td>False</td>\n    </tr>\n    <tr>\n      <th>7</th>\n      <td>Jimmie</td>\n      <td>9.00</td>\n      <td>42.0</td>\n      <td>False</td>\n      <td>False</td>\n    </tr>\n    <tr>\n      <th>8</th>\n      <td>Rhonda</td>\n      <td>8.50</td>\n      <td>26.0</td>\n      <td>False</td>\n      <td>False</td>\n    </tr>\n    <tr>\n      <th>9</th>\n      <td>Giovanni</td>\n      <td>14.50</td>\n      <td>74.0</td>\n      <td>True</td>\n      <td>True</td>\n    </tr>\n    <tr>\n      <th>10</th>\n      <td>Francesca</td>\n      <td>15.50</td>\n      <td>82.0</td>\n      <td>True</td>\n      <td>True</td>\n    </tr>\n    <tr>\n      <th>11</th>\n      <td>Rajab</td>\n      <td>13.75</td>\n      <td>62.0</td>\n      <td>True</td>\n      <td>True</td>\n    </tr>\n    <tr>\n      <th>12</th>\n      <td>Naiyana</td>\n      <td>9.00</td>\n      <td>37.0</td>\n      <td>False</td>\n      <td>False</td>\n    </tr>\n    <tr>\n      <th>13</th>\n      <td>Kian</td>\n      <td>8.00</td>\n      <td>15.0</td>\n      <td>False</td>\n      <td>False</td>\n    </tr>\n    <tr>\n      <th>14</th>\n      <td>Jenny</td>\n      <td>15.50</td>\n      <td>70.0</td>\n      <td>True</td>\n      <td>True</td>\n    </tr>\n    <tr>\n      <th>15</th>\n      <td>Jakeem</td>\n      <td>8.00</td>\n      <td>27.0</td>\n      <td>False</td>\n      <td>False</td>\n    </tr>\n    <tr>\n      <th>16</th>\n      <td>Helena</td>\n      <td>9.00</td>\n      <td>36.0</td>\n      <td>False</td>\n      <td>False</td>\n    </tr>\n    <tr>\n      <th>17</th>\n      <td>Ismat</td>\n      <td>6.00</td>\n      <td>35.0</td>\n      <td>False</td>\n      <td>False</td>\n    </tr>\n    <tr>\n      <th>18</th>\n      <td>Anila</td>\n      <td>10.00</td>\n      <td>48.0</td>\n      <td>False</td>\n      <td>False</td>\n    </tr>\n    <tr>\n      <th>19</th>\n      <td>Skye</td>\n      <td>12.00</td>\n      <td>52.0</td>\n      <td>False</td>\n      <td>False</td>\n    </tr>\n    <tr>\n      <th>20</th>\n      <td>Daniel</td>\n      <td>12.50</td>\n      <td>63.0</td>\n      <td>True</td>\n      <td>True</td>\n    </tr>\n    <tr>\n      <th>21</th>\n      <td>Aisha</td>\n      <td>12.00</td>\n      <td>64.0</td>\n      <td>True</td>\n      <td>True</td>\n    </tr>\n  </tbody>\n</table>\n</div>"
          },
          "metadata": {}
        }
      ],
      "execution_count": 77,
      "metadata": {
        "gather": {
          "logged": 1623492645220
        }
      }
    },
    {
      "cell_type": "markdown",
      "source": [
        "DataFrames are designed for tabular data, and you can use them to perform many of the kinds of data analytics operation you can do in a relational database; such as grouping and aggregating tables of data.\n",
        "\n",
        "For example, you can use the **groupby** method to group the student data into groups based on the **Pass** column you added previously, and count the number of names in each group - in other words, you can determine how many students passed and failed."
      ],
      "metadata": {}
    },
    {
      "cell_type": "code",
      "source": [
        "df_students.Pass"
      ],
      "outputs": [
        {
          "output_type": "execute_result",
          "execution_count": 82,
          "data": {
            "text/plain": "0     False\n1     False\n2     False\n3      True\n4     False\n5     False\n6     False\n7     False\n8     False\n9      True\n10     True\n11     True\n12    False\n13    False\n14     True\n15    False\n16    False\n17    False\n18    False\n19    False\n20     True\n21     True\nName: Pass, dtype: bool"
          },
          "metadata": {}
        }
      ],
      "execution_count": 82,
      "metadata": {
        "collapsed": true,
        "jupyter": {
          "source_hidden": false,
          "outputs_hidden": false
        },
        "nteract": {
          "transient": {
            "deleting": false
          }
        },
        "gather": {
          "logged": 1623492875986
        }
      }
    },
    {
      "cell_type": "code",
      "source": [
        "df_students.groupby(['Pass']).agg( MeanStudyHours=('StudyHours', 'mean') ).reset_index()"
      ],
      "outputs": [
        {
          "output_type": "execute_result",
          "execution_count": 88,
          "data": {
            "text/plain": "    Pass  MeanStudyHours\n0  False           8.783\n1   True          14.250",
            "text/html": "<div>\n<style scoped>\n    .dataframe tbody tr th:only-of-type {\n        vertical-align: middle;\n    }\n\n    .dataframe tbody tr th {\n        vertical-align: top;\n    }\n\n    .dataframe thead th {\n        text-align: right;\n    }\n</style>\n<table border=\"1\" class=\"dataframe\">\n  <thead>\n    <tr style=\"text-align: right;\">\n      <th></th>\n      <th>Pass</th>\n      <th>MeanStudyHours</th>\n    </tr>\n  </thead>\n  <tbody>\n    <tr>\n      <th>0</th>\n      <td>False</td>\n      <td>8.783</td>\n    </tr>\n    <tr>\n      <th>1</th>\n      <td>True</td>\n      <td>14.250</td>\n    </tr>\n  </tbody>\n</table>\n</div>"
          },
          "metadata": {}
        }
      ],
      "execution_count": 88,
      "metadata": {
        "collapsed": true,
        "jupyter": {
          "source_hidden": false,
          "outputs_hidden": false
        },
        "nteract": {
          "transient": {
            "deleting": false
          }
        },
        "gather": {
          "logged": 1623492989019
        }
      }
    },
    {
      "cell_type": "markdown",
      "source": [
        "##  Find the length of each group "
      ],
      "metadata": {
        "nteract": {
          "transient": {
            "deleting": false
          }
        }
      }
    },
    {
      "cell_type": "code",
      "source": [
        "df_students.groupby(['Pass']).transform(len)"
      ],
      "outputs": [
        {
          "output_type": "execute_result",
          "execution_count": 104,
          "data": {
            "text/plain": "    Name  StudyHours  Grade  Pass New\n0     15          15     15        15\n1     15          15     15        15\n2     15          15     15        15\n3      7           7      7         7\n4     15          15     15        15\n5     15          15     15        15\n6     15          15     15        15\n7     15          15     15        15\n8     15          15     15        15\n9      7           7      7         7\n10     7           7      7         7\n11     7           7      7         7\n12    15          15     15        15\n13    15          15     15        15\n14     7           7      7         7\n15    15          15     15        15\n16    15          15     15        15\n17    15          15     15        15\n18    15          15     15        15\n19    15          15     15        15\n20     7           7      7         7\n21     7           7      7         7",
            "text/html": "<div>\n<style scoped>\n    .dataframe tbody tr th:only-of-type {\n        vertical-align: middle;\n    }\n\n    .dataframe tbody tr th {\n        vertical-align: top;\n    }\n\n    .dataframe thead th {\n        text-align: right;\n    }\n</style>\n<table border=\"1\" class=\"dataframe\">\n  <thead>\n    <tr style=\"text-align: right;\">\n      <th></th>\n      <th>Name</th>\n      <th>StudyHours</th>\n      <th>Grade</th>\n      <th>Pass New</th>\n    </tr>\n  </thead>\n  <tbody>\n    <tr>\n      <th>0</th>\n      <td>15</td>\n      <td>15</td>\n      <td>15</td>\n      <td>15</td>\n    </tr>\n    <tr>\n      <th>1</th>\n      <td>15</td>\n      <td>15</td>\n      <td>15</td>\n      <td>15</td>\n    </tr>\n    <tr>\n      <th>2</th>\n      <td>15</td>\n      <td>15</td>\n      <td>15</td>\n      <td>15</td>\n    </tr>\n    <tr>\n      <th>3</th>\n      <td>7</td>\n      <td>7</td>\n      <td>7</td>\n      <td>7</td>\n    </tr>\n    <tr>\n      <th>4</th>\n      <td>15</td>\n      <td>15</td>\n      <td>15</td>\n      <td>15</td>\n    </tr>\n    <tr>\n      <th>5</th>\n      <td>15</td>\n      <td>15</td>\n      <td>15</td>\n      <td>15</td>\n    </tr>\n    <tr>\n      <th>6</th>\n      <td>15</td>\n      <td>15</td>\n      <td>15</td>\n      <td>15</td>\n    </tr>\n    <tr>\n      <th>7</th>\n      <td>15</td>\n      <td>15</td>\n      <td>15</td>\n      <td>15</td>\n    </tr>\n    <tr>\n      <th>8</th>\n      <td>15</td>\n      <td>15</td>\n      <td>15</td>\n      <td>15</td>\n    </tr>\n    <tr>\n      <th>9</th>\n      <td>7</td>\n      <td>7</td>\n      <td>7</td>\n      <td>7</td>\n    </tr>\n    <tr>\n      <th>10</th>\n      <td>7</td>\n      <td>7</td>\n      <td>7</td>\n      <td>7</td>\n    </tr>\n    <tr>\n      <th>11</th>\n      <td>7</td>\n      <td>7</td>\n      <td>7</td>\n      <td>7</td>\n    </tr>\n    <tr>\n      <th>12</th>\n      <td>15</td>\n      <td>15</td>\n      <td>15</td>\n      <td>15</td>\n    </tr>\n    <tr>\n      <th>13</th>\n      <td>15</td>\n      <td>15</td>\n      <td>15</td>\n      <td>15</td>\n    </tr>\n    <tr>\n      <th>14</th>\n      <td>7</td>\n      <td>7</td>\n      <td>7</td>\n      <td>7</td>\n    </tr>\n    <tr>\n      <th>15</th>\n      <td>15</td>\n      <td>15</td>\n      <td>15</td>\n      <td>15</td>\n    </tr>\n    <tr>\n      <th>16</th>\n      <td>15</td>\n      <td>15</td>\n      <td>15</td>\n      <td>15</td>\n    </tr>\n    <tr>\n      <th>17</th>\n      <td>15</td>\n      <td>15</td>\n      <td>15</td>\n      <td>15</td>\n    </tr>\n    <tr>\n      <th>18</th>\n      <td>15</td>\n      <td>15</td>\n      <td>15</td>\n      <td>15</td>\n    </tr>\n    <tr>\n      <th>19</th>\n      <td>15</td>\n      <td>15</td>\n      <td>15</td>\n      <td>15</td>\n    </tr>\n    <tr>\n      <th>20</th>\n      <td>7</td>\n      <td>7</td>\n      <td>7</td>\n      <td>7</td>\n    </tr>\n    <tr>\n      <th>21</th>\n      <td>7</td>\n      <td>7</td>\n      <td>7</td>\n      <td>7</td>\n    </tr>\n  </tbody>\n</table>\n</div>"
          },
          "metadata": {}
        }
      ],
      "execution_count": 104,
      "metadata": {
        "collapsed": true,
        "jupyter": {
          "source_hidden": false,
          "outputs_hidden": false
        },
        "nteract": {
          "transient": {
            "deleting": false
          }
        },
        "gather": {
          "logged": 1623493489626
        }
      }
    },
    {
      "cell_type": "code",
      "source": [
        "print(df_students.groupby(df_students.Pass).Name.count())"
      ],
      "outputs": [
        {
          "output_type": "stream",
          "name": "stdout",
          "text": [
            "Pass\n",
            "False    15\n",
            "True      7\n",
            "Name: Name, dtype: int64\n"
          ]
        }
      ],
      "execution_count": 105,
      "metadata": {
        "gather": {
          "logged": 1623493671882
        }
      }
    },
    {
      "cell_type": "markdown",
      "source": [
        "You can aggregate multiple fields in a group using any available aggregation function. For example, you can find the mean study time and grade for the groups of students who passed and failed the course."
      ],
      "metadata": {}
    },
    {
      "cell_type": "code",
      "source": [
        "print(df_students.groupby(df_students.Pass)['StudyHours', 'Grade'].mean())"
      ],
      "outputs": [
        {
          "output_type": "stream",
          "name": "stdout",
          "text": [
            "       StudyHours   Grade\n",
            "Pass                     \n",
            "False       8.783  38.000\n",
            "True       14.250  73.143\n"
          ]
        }
      ],
      "execution_count": 106,
      "metadata": {
        "gather": {
          "logged": 1623493681815
        }
      }
    },
    {
      "cell_type": "markdown",
      "source": [
        "DataFrames are amazingly versatile, and make it easy to manipulate data. Many DataFrame operations return a new copy of the DataFrame; so if you want to modify a DataFrame but keep the existing variable, you need to assign the result of the operation to the existing variable. For example, the following code sorts the student data into descending order of Grade, and assigns the resulting sorted DataFrame to the original **df_students** variable."
      ],
      "metadata": {}
    },
    {
      "cell_type": "code",
      "source": [
        "# Create a DataFrame with the data sorted by Grade (descending)\n",
        "df_students = df_students.sort_values('Grade', ascending=False)\n",
        "\n",
        "# Show the DataFrame\n",
        "df_students"
      ],
      "outputs": [
        {
          "output_type": "execute_result",
          "execution_count": 107,
          "data": {
            "text/plain": "         Name  StudyHours  Grade  Pass New   Pass\n3       Rosie       16.00   97.0      True   True\n10  Francesca       15.50   82.0      True   True\n9    Giovanni       14.50   74.0      True   True\n14      Jenny       15.50   70.0      True   True\n21      Aisha       12.00   64.0      True   True\n20     Daniel       12.50   63.0      True   True\n11      Rajab       13.75   62.0      True   True\n6    Frederic       11.50   53.0     False  False\n19       Skye       12.00   52.0     False  False\n1       Joann       11.50   50.0     False  False\n0         Dan       10.00   50.0     False  False\n4       Ethan        9.25   49.0     False  False\n18      Anila       10.00   48.0     False  False\n2       Pedro        9.00   47.0     False  False\n7      Jimmie        9.00   42.0     False  False\n12    Naiyana        9.00   37.0     False  False\n16     Helena        9.00   36.0     False  False\n17      Ismat        6.00   35.0     False  False\n15     Jakeem        8.00   27.0     False  False\n8      Rhonda        8.50   26.0     False  False\n13       Kian        8.00   15.0     False  False\n5       Vicky        1.00    3.0     False  False",
            "text/html": "<div>\n<style scoped>\n    .dataframe tbody tr th:only-of-type {\n        vertical-align: middle;\n    }\n\n    .dataframe tbody tr th {\n        vertical-align: top;\n    }\n\n    .dataframe thead th {\n        text-align: right;\n    }\n</style>\n<table border=\"1\" class=\"dataframe\">\n  <thead>\n    <tr style=\"text-align: right;\">\n      <th></th>\n      <th>Name</th>\n      <th>StudyHours</th>\n      <th>Grade</th>\n      <th>Pass New</th>\n      <th>Pass</th>\n    </tr>\n  </thead>\n  <tbody>\n    <tr>\n      <th>3</th>\n      <td>Rosie</td>\n      <td>16.00</td>\n      <td>97.0</td>\n      <td>True</td>\n      <td>True</td>\n    </tr>\n    <tr>\n      <th>10</th>\n      <td>Francesca</td>\n      <td>15.50</td>\n      <td>82.0</td>\n      <td>True</td>\n      <td>True</td>\n    </tr>\n    <tr>\n      <th>9</th>\n      <td>Giovanni</td>\n      <td>14.50</td>\n      <td>74.0</td>\n      <td>True</td>\n      <td>True</td>\n    </tr>\n    <tr>\n      <th>14</th>\n      <td>Jenny</td>\n      <td>15.50</td>\n      <td>70.0</td>\n      <td>True</td>\n      <td>True</td>\n    </tr>\n    <tr>\n      <th>21</th>\n      <td>Aisha</td>\n      <td>12.00</td>\n      <td>64.0</td>\n      <td>True</td>\n      <td>True</td>\n    </tr>\n    <tr>\n      <th>20</th>\n      <td>Daniel</td>\n      <td>12.50</td>\n      <td>63.0</td>\n      <td>True</td>\n      <td>True</td>\n    </tr>\n    <tr>\n      <th>11</th>\n      <td>Rajab</td>\n      <td>13.75</td>\n      <td>62.0</td>\n      <td>True</td>\n      <td>True</td>\n    </tr>\n    <tr>\n      <th>6</th>\n      <td>Frederic</td>\n      <td>11.50</td>\n      <td>53.0</td>\n      <td>False</td>\n      <td>False</td>\n    </tr>\n    <tr>\n      <th>19</th>\n      <td>Skye</td>\n      <td>12.00</td>\n      <td>52.0</td>\n      <td>False</td>\n      <td>False</td>\n    </tr>\n    <tr>\n      <th>1</th>\n      <td>Joann</td>\n      <td>11.50</td>\n      <td>50.0</td>\n      <td>False</td>\n      <td>False</td>\n    </tr>\n    <tr>\n      <th>0</th>\n      <td>Dan</td>\n      <td>10.00</td>\n      <td>50.0</td>\n      <td>False</td>\n      <td>False</td>\n    </tr>\n    <tr>\n      <th>4</th>\n      <td>Ethan</td>\n      <td>9.25</td>\n      <td>49.0</td>\n      <td>False</td>\n      <td>False</td>\n    </tr>\n    <tr>\n      <th>18</th>\n      <td>Anila</td>\n      <td>10.00</td>\n      <td>48.0</td>\n      <td>False</td>\n      <td>False</td>\n    </tr>\n    <tr>\n      <th>2</th>\n      <td>Pedro</td>\n      <td>9.00</td>\n      <td>47.0</td>\n      <td>False</td>\n      <td>False</td>\n    </tr>\n    <tr>\n      <th>7</th>\n      <td>Jimmie</td>\n      <td>9.00</td>\n      <td>42.0</td>\n      <td>False</td>\n      <td>False</td>\n    </tr>\n    <tr>\n      <th>12</th>\n      <td>Naiyana</td>\n      <td>9.00</td>\n      <td>37.0</td>\n      <td>False</td>\n      <td>False</td>\n    </tr>\n    <tr>\n      <th>16</th>\n      <td>Helena</td>\n      <td>9.00</td>\n      <td>36.0</td>\n      <td>False</td>\n      <td>False</td>\n    </tr>\n    <tr>\n      <th>17</th>\n      <td>Ismat</td>\n      <td>6.00</td>\n      <td>35.0</td>\n      <td>False</td>\n      <td>False</td>\n    </tr>\n    <tr>\n      <th>15</th>\n      <td>Jakeem</td>\n      <td>8.00</td>\n      <td>27.0</td>\n      <td>False</td>\n      <td>False</td>\n    </tr>\n    <tr>\n      <th>8</th>\n      <td>Rhonda</td>\n      <td>8.50</td>\n      <td>26.0</td>\n      <td>False</td>\n      <td>False</td>\n    </tr>\n    <tr>\n      <th>13</th>\n      <td>Kian</td>\n      <td>8.00</td>\n      <td>15.0</td>\n      <td>False</td>\n      <td>False</td>\n    </tr>\n    <tr>\n      <th>5</th>\n      <td>Vicky</td>\n      <td>1.00</td>\n      <td>3.0</td>\n      <td>False</td>\n      <td>False</td>\n    </tr>\n  </tbody>\n</table>\n</div>"
          },
          "metadata": {}
        }
      ],
      "execution_count": 107,
      "metadata": {
        "gather": {
          "logged": 1623493698481
        }
      }
    },
    {
      "cell_type": "markdown",
      "source": [
        "## Visualizing data with Matplotlib\n",
        "\n",
        "DataFrames provide a great way to explore and analyze tabular data, but sometimes a picture is worth a thousand rows and columns. The **Matplotlib** library provides the foundation for plotting data visualizations that can greatly enhance your ability to analyze the data.\n",
        "\n",
        "Let's start with a simple bar chart that shows the grade of each student."
      ],
      "metadata": {}
    },
    {
      "cell_type": "code",
      "source": [
        "# Ensure plots are displayed inline in the notebook\n",
        "%matplotlib inline\n",
        "\n",
        "from matplotlib import pyplot as plt\n",
        "\n",
        "fig, ax = plt.subplots(figsize=(10, 10))\n",
        "\n",
        "# Create a bar plot of name vs grade\n",
        "ax.bar(x=df_students.Name, height=df_students.Grade)\n",
        "\n",
        "plt.xticks(rotation=30)\n",
        "\n",
        "# Display the plot\n",
        "plt.show()"
      ],
      "outputs": [
        {
          "output_type": "display_data",
          "data": {
            "text/plain": "<Figure size 720x720 with 1 Axes>",
            "image/png": "[encoded data removed]"
          },
          "metadata": {
            "needs_background": "light"
          }
        }
      ],
      "execution_count": 114,
      "metadata": {
        "gather": {
          "logged": 1623494167482
        }
      }
    },
    {
      "cell_type": "markdown",
      "source": [
        "Well, that worked; but the chart could use some improvements to make it clearer what we're looking at.\n",
        "\n",
        "Note that you used the **pyplot** class from Matplotlib to plot the chart. This class provides a whole bunch of ways to improve the visual elements of the plot. For example, the following code:\n",
        "\n",
        "- Specifies the color of the bar chart.\n",
        "- Adds a title to the chart (so we know what it represents)\n",
        "- Adds labels to the X and Y (so we know which axis shows which data)\n",
        "- Adds a grid (to make it easier to determine the values for the bars)\n",
        "- Rotates the X markers (so we can read them)"
      ],
      "metadata": {}
    },
    {
      "cell_type": "code",
      "source": [
        "# Create a bar plot of name vs grade\n",
        "plt.bar(x=df_students.Name, height=df_students.Grade, color='orange')\n",
        "\n",
        "# Customize the chart\n",
        "plt.title('Student Grades')\n",
        "plt.xlabel('Student')\n",
        "plt.ylabel('Grade')\n",
        "plt.grid(color='#95a5a6', linestyle='--', linewidth=2, axis='y', alpha=0.7)\n",
        "plt.xticks(rotation=90)\n",
        "\n",
        "# Display the plot\n",
        "plt.show()"
      ],
      "outputs": [
        {
          "output_type": "display_data",
          "data": {
            "text/plain": "<Figure size 432x288 with 1 Axes>",
            "image/png": "[encoded data removed]"
          },
          "metadata": {
            "needs_background": "light"
          }
        }
      ],
      "execution_count": 115,
      "metadata": {
        "gather": {
          "logged": 1623494187150
        }
      }
    },
    {
      "cell_type": "markdown",
      "source": [
        "A plot is technically contained with a **Figure**. In the previous examples, the figure was created implicitly for you; but you can create it explicitly. For example, the following code creates a figure with a specific size."
      ],
      "metadata": {}
    },
    {
      "cell_type": "code",
      "source": [
        "# Create a Figure\n",
        "fig = plt.figure(figsize=(8,3))\n",
        "\n",
        "# Create a bar plot of name vs grade\n",
        "plt.bar(x=df_students.Name, height=df_students.Grade, color='orange')\n",
        "\n",
        "# Customize the chart\n",
        "plt.title('Student Grades')\n",
        "plt.xlabel('Student')\n",
        "plt.ylabel('Grade')\n",
        "plt.grid(color='#95a5a6', linestyle='--', linewidth=2, axis='y', alpha=0.7)\n",
        "plt.xticks(rotation=90)\n",
        "\n",
        "# Show the figure\n",
        "plt.show()"
      ],
      "outputs": [
        {
          "output_type": "display_data",
          "data": {
            "text/plain": "<Figure size 576x216 with 1 Axes>",
            "image/png": "[encoded data removed]"
          },
          "metadata": {
            "needs_background": "light"
          }
        }
      ],
      "execution_count": 116,
      "metadata": {
        "gather": {
          "logged": 1623494213863
        }
      }
    },
    {
      "cell_type": "markdown",
      "source": [
        "A figure can contain multiple subplots, each on its own *axis*.\n",
        "\n",
        "For example, the following code creates a figure with two subplots - one is a bar chart showing student grades, and the other is a pie chart comparing the number of passing grades to non-passing grades."
      ],
      "metadata": {}
    },
    {
      "cell_type": "code",
      "source": [
        "# Create a figure for 2 subplots (1 row, 2 columns)\n",
        "fig, ax = plt.subplots(1, 2, figsize = (10,4))\n",
        "\n",
        "# Create a bar plot of name vs grade on the first axis\n",
        "ax[0].bar(x=df_students.Name, height=df_students.Grade, color='orange')\n",
        "ax[0].set_title('Grades')\n",
        "ax[0].set_xticklabels(df_students.Name, rotation=90)\n",
        "\n",
        "# Create a pie chart of pass counts on the second axis\n",
        "pass_counts = df_students['Pass'].value_counts()\n",
        "ax[1].pie(pass_counts, labels=pass_counts)\n",
        "ax[1].set_title('Passing Grades')\n",
        "ax[1].legend(pass_counts.keys().tol\n",
        "\n",
        "# Add a title to the Figure\n",
        "fig.suptitle('Student Data')\n",
        "\n",
        "# Show the figure\n",
        "fig.show()"
      ],
      "outputs": [
        {
          "output_type": "display_data",
          "data": {
            "text/plain": "<Figure size 720x288 with 2 Axes>",
            "image/png": "[encoded data removed]"
          },
          "metadata": {
            "needs_background": "light"
          }
        }
      ],
      "execution_count": 117,
      "metadata": {
        "gather": {
          "logged": 1623494227596
        }
      }
    },
    {
      "cell_type": "markdown",
      "source": [
        "Until now, you've used methods of the Matplotlib.pyplot object to plot charts. However, Matplotlib is so foundational to graphics in Python that many packages, including Pandas, provide methods that abstract the underlying Matplotlib functions and simplify plotting. For example, the DataFrame provides its own methods for plotting data, as shown in the following example to plot a bar chart of study hours."
      ],
      "metadata": {}
    },
    {
      "cell_type": "code",
      "source": [
        "df_students.plot.bar(x='Name', y='StudyHours', color='teal', figsize=(6,4))"
      ],
      "outputs": [
        {
          "output_type": "execute_result",
          "execution_count": 118,
          "data": {
            "text/plain": "<matplotlib.axes._subplots.AxesSubplot at 0x7f6e02707128>"
          },
          "metadata": {}
        },
        {
          "output_type": "display_data",
          "data": {
            "text/plain": "<Figure size 432x288 with 1 Axes>",
            "image/png": "[encoded data removed]"
          },
          "metadata": {
            "needs_background": "light"
          }
        }
      ],
      "execution_count": 118,
      "metadata": {
        "gather": {
          "logged": 1623494450673
        }
      }
    },
    {
      "cell_type": "markdown",
      "source": [
        "## Getting started with statistical analysis\n",
        "\n",
        "Now that you know how to use Python to manipulate and visualize data, you can start analyzing it.\n",
        "\n",
        "A lot of data science is rooted in *statistics*, so we'll explore some basic statistical techniques.\n",
        "\n",
        "> **Note**: This is not intended to teach you statistics - that's much too big a topic for this notebook. It will however introduce you to some statistical concepts and techniques that data scientists use as they explore data in preparation for machine learning modeling.\n",
        "\n",
        "### Descriptive statistics and data distribution\n",
        "\n",
        "When examining a *variable* (for example a sample of student grades), data scientists are particularly interested in its *distribution* (in other words, how are all the different grade values spread across the sample). The starting point for this exploration is often to visualize the data as a histogram, and see how frequently each value for the variable occurs.\n",
        "\n",
        "\n",
        "\n",
        "\n"
      ],
      "metadata": {}
    },
    {
      "cell_type": "code",
      "source": [
        "# Get the variable to examine\n",
        "var_data = df_students['Grade']\n",
        "\n",
        "# Create a Figure\n",
        "fig = plt.figure(figsize=(10,4))\n",
        "\n",
        "# Plot a histogram\n",
        "plt.hist(var_data)\n",
        "\n",
        "# Add titles and labels\n",
        "plt.title('Data Distribution')\n",
        "plt.xlabel('Value')\n",
        "plt.ylabel('Frequency')\n",
        "\n",
        "# Show the figure\n",
        "fig.show()"
      ],
      "outputs": [],
      "execution_count": null,
      "metadata": {}
    },
    {
      "cell_type": "markdown",
      "source": [
        "The histogram for grades is a symmetric shape, where the most frequently occurring grades tend to be in the middle of the range (around 50), with fewer grades at the extreme ends of the scale.\n",
        "\n",
        "#### Measures of central tendency\n",
        "\n",
        "To understand the distribution better, we can examine so-called *measures of central tendency*; which is a fancy way of describing statistics that represent the \"middle\" of the data. The goal of this is to try to find a \"typical\" value. Common ways to define the middle of the data include:\n",
        "\n",
        "- The *mean*: A simple average based on adding together all of the values in the sample set, and then dividing the total by the number of samples.\n",
        "- The *median*: The value in the middle of the range of all of the sample values.\n",
        "- The *mode*: The most commonly occuring value in the sample set<sup>\\*</sup>.\n",
        "\n",
        "Let's calculate these values, along with the minimum and maximum values for comparison, and show them on the histogram.\n",
        "\n",
        "> <sup>\\*</sup>Of course, in some sample sets , there may be a tie for the most common value - in which case the dataset is described as *bimodal* or even *multimodal*."
      ],
      "metadata": {}
    },
    {
      "cell_type": "code",
      "source": [
        "df_students.describe()"
      ],
      "outputs": [
        {
          "output_type": "execute_result",
          "execution_count": 124,
          "data": {
            "text/plain": "       StudyHours   Grade\ncount      22.000  22.000\nmean       10.523  49.182\nstd         3.487  21.738\nmin         1.000   3.000\n25%         9.000  36.250\n50%        10.000  49.500\n75%        12.375  62.750\nmax        16.000  97.000",
            "text/html": "<div>\n<style scoped>\n    .dataframe tbody tr th:only-of-type {\n        vertical-align: middle;\n    }\n\n    .dataframe tbody tr th {\n        vertical-align: top;\n    }\n\n    .dataframe thead th {\n        text-align: right;\n    }\n</style>\n<table border=\"1\" class=\"dataframe\">\n  <thead>\n    <tr style=\"text-align: right;\">\n      <th></th>\n      <th>StudyHours</th>\n      <th>Grade</th>\n    </tr>\n  </thead>\n  <tbody>\n    <tr>\n      <th>count</th>\n      <td>22.000</td>\n      <td>22.000</td>\n    </tr>\n    <tr>\n      <th>mean</th>\n      <td>10.523</td>\n      <td>49.182</td>\n    </tr>\n    <tr>\n      <th>std</th>\n      <td>3.487</td>\n      <td>21.738</td>\n    </tr>\n    <tr>\n      <th>min</th>\n      <td>1.000</td>\n      <td>3.000</td>\n    </tr>\n    <tr>\n      <th>25%</th>\n      <td>9.000</td>\n      <td>36.250</td>\n    </tr>\n    <tr>\n      <th>50%</th>\n      <td>10.000</td>\n      <td>49.500</td>\n    </tr>\n    <tr>\n      <th>75%</th>\n      <td>12.375</td>\n      <td>62.750</td>\n    </tr>\n    <tr>\n      <th>max</th>\n      <td>16.000</td>\n      <td>97.000</td>\n    </tr>\n  </tbody>\n</table>\n</div>"
          },
          "metadata": {}
        }
      ],
      "execution_count": 124,
      "metadata": {
        "collapsed": true,
        "jupyter": {
          "source_hidden": false,
          "outputs_hidden": false
        },
        "nteract": {
          "transient": {
            "deleting": false
          }
        },
        "gather": {
          "logged": 1623494649208
        }
      }
    },
    {
      "cell_type": "code",
      "source": [
        "# Get the variable to examine\n",
        "var = df_students['Grade']\n",
        "\n",
        "# Get statistics\n",
        "min_val = var.min()\n",
        "max_val = var.max()\n",
        "mean_val = var.mean()\n",
        "med_val = var.median()\n",
        "mod_val = var.mode()[0]\n",
        "\n",
        "print('Minimum:{:.2f}\\nMean:{:.2f}\\nMedian:{:.2f}\\nMode:{:.2f}\\nMaximum:{:.2f}\\n'.format(min_val,\n",
        "                                                                                        mean_val,\n",
        "                                                                                        med_val,\n",
        "                                                                                        mod_val,\n",
        "                                                                                        max_val))\n",
        "\n",
        "# Create a Figure\n",
        "fig = plt.figure(figsize=(10,4))\n",
        "\n",
        "# Plot a histogram\n",
        "plt.hist(var)\n",
        "\n",
        "# Add lines for the statistics\n",
        "plt.axvline(x=min_val, color = 'gray', linestyle='dashed', linewidth = 2)\n",
        "plt.axvline(x=mean_val, color = 'cyan', linestyle='dashed', linewidth = 2)\n",
        "plt.axvline(x=med_val, color = 'red', linestyle='dashed', linewidth = 2)\n",
        "plt.axvline(x=mod_val, color = 'yellow', linestyle='dashed', linewidth = 2)\n",
        "plt.axvline(x=max_val, color = 'gray', linestyle='dashed', linewidth = 2)\n",
        "\n",
        "# Add titles and labels\n",
        "plt.title('Data Distribution')\n",
        "plt.xlabel('Value')\n",
        "plt.ylabel('Frequency')\n",
        "\n",
        "# Show the figure\n",
        "fig.show()"
      ],
      "outputs": [
        {
          "output_type": "stream",
          "name": "stdout",
          "text": [
            "Minimum:3.00\n",
            "Mean:49.18\n",
            "Median:49.50\n",
            "Mode:50.00\n",
            "Maximum:97.00\n",
            "\n"
          ]
        },
        {
          "output_type": "display_data",
          "data": {
            "text/plain": "<Figure size 720x288 with 1 Axes>",
            "image/png": "[encoded data removed]"
          },
          "metadata": {
            "needs_background": "light"
          }
        }
      ],
      "execution_count": 122,
      "metadata": {
        "tags": [],
        "gather": {
          "logged": 1623494551917
        }
      }
    },
    {
      "cell_type": "markdown",
      "source": [
        "For the grade data, the mean, median, and mode all seem to be more or less in the middle of the minimum and maximum, at around 50.\n",
        "\n",
        "Another way to visualize the distribution of a variable is to use a *box* plot (sometimes called a *box-and-whiskers* plot). Let's create one for the grade data."
      ],
      "metadata": {}
    },
    {
      "cell_type": "code",
      "source": [
        "# Get the variable to examine\n",
        "var = df_students['Grade']\n",
        "\n",
        "# Create a Figure\n",
        "fig = plt.figure(figsize=(10,4))\n",
        "\n",
        "# Plot a box plot\n",
        "plt.violinplot(var)\n",
        "\n",
        "# Add titles and labels\n",
        "plt.title('Data Distribution')\n",
        "\n",
        "# Show the figure\n",
        "fig.show()"
      ],
      "outputs": [
        {
          "output_type": "display_data",
          "data": {
            "text/plain": "<Figure size 720x288 with 1 Axes>",
            "image/png": "[encoded data removed]"
          },
          "metadata": {
            "needs_background": "light"
          }
        }
      ],
      "execution_count": 127,
      "metadata": {
        "gather": {
          "logged": 1623495008487
        }
      }
    },
    {
      "cell_type": "markdown",
      "source": [
        "The box plot shows the distribution of the grade values in a different format to the histogram. The *box* part of the plot shows where the inner two *quartiles* of the data reside - so in this case, half of the grades are between approximately 36 and 63. The *whiskers* extending from the box show the outer two quartiles; so the other half of the grades in this case are between 0 and 36 or 63 and 100. The line in the box indicates the *median* value.\n",
        "\n",
        "It's often useful to combine histograms and box plots, with the box plot's orientation changed to align it with the histogram (in some ways, it can be helpful to think of the histogram as a \"front elevation\" view of the distribution, and the box plot as a \"plan\" view of the distribution from above.)"
      ],
      "metadata": {}
    },
    {
      "cell_type": "code",
      "source": [
        "# Create a function that we can re-use\n",
        "def show_distribution(var_data):\n",
        "    from matplotlib import pyplot as plt\n",
        "\n",
        "    # Get statistics\n",
        "    min_val = var_data.min()\n",
        "    max_val = var_data.max()\n",
        "    mean_val = var_data.mean()\n",
        "    med_val = var_data.median()\n",
        "    mod_val = var_data.mode()[0]\n",
        "\n",
        "    print('Minimum:{:.2f}\\nMean:{:.2f}\\nMedian:{:.2f}\\nMode:{:.2f}\\nMaximum:{:.2f}\\n'.format(min_val,\n",
        "                                                                                            mean_val,\n",
        "                                                                                            med_val,\n",
        "                                                                                            mod_val,\n",
        "                                                                                            max_val))\n",
        "\n",
        "    # Create a figure for 2 subplots (2 rows, 1 column)\n",
        "    fig, ax = plt.subplots(2, 1, figsize = (10,4))\n",
        "\n",
        "    # Plot the histogram   \n",
        "    ax[0].hist(var_data)\n",
        "    ax[0].set_ylabel('Frequency')\n",
        "\n",
        "    # Add lines for the mean, median, and mode\n",
        "    ax[0].axvline(x=min_val, color = 'gray', linestyle='dashed', linewidth = 2)\n",
        "    ax[0].axvline(x=mean_val, color = 'cyan', linestyle='dashed', linewidth = 2)\n",
        "    ax[0].axvline(x=med_val, color = 'red', linestyle='dashed', linewidth = 2)\n",
        "    ax[0].axvline(x=mod_val, color = 'yellow', linestyle='dashed', linewidth = 2)\n",
        "    ax[0].axvline(x=max_val, color = 'gray', linestyle='dashed', linewidth = 2)\n",
        "\n",
        "    # Plot the boxplot   \n",
        "    ax[1].boxplot(var_data, vert=False)\n",
        "    ax[1].set_xlabel('Value')\n",
        "\n",
        "    # Add a title to the Figure\n",
        "    fig.suptitle('Data Distribution')\n",
        "\n",
        "    # Show the figure\n",
        "    fig.show()\n",
        "\n",
        "# Get the variable to examine\n",
        "col = df_students['Grade']\n",
        "# Call the function\n",
        "show_distribution(col)"
      ],
      "outputs": [
        {
          "output_type": "stream",
          "name": "stdout",
          "text": [
            "Minimum:3.00\n",
            "Mean:49.18\n",
            "Median:49.50\n",
            "Mode:50.00\n",
            "Maximum:97.00\n",
            "\n"
          ]
        },
        {
          "output_type": "display_data",
          "data": {
            "text/plain": "<Figure size 720x288 with 2 Axes>",
            "image/png": "[encoded data removed]"
          },
          "metadata": {
            "needs_background": "light"
          }
        }
      ],
      "execution_count": 128,
      "metadata": {
        "tags": [],
        "gather": {
          "logged": 1623495050121
        }
      }
    },
    {
      "cell_type": "code",
      "source": [
        "import seaborn as sns"
      ],
      "outputs": [],
      "execution_count": 129,
      "metadata": {
        "collapsed": true,
        "jupyter": {
          "source_hidden": false,
          "outputs_hidden": false
        },
        "nteract": {
          "transient": {
            "deleting": false
          }
        },
        "gather": {
          "logged": 1623495122887
        }
      }
    },
    {
      "cell_type": "code",
      "source": [
        "sns.pairplot(df_students)"
      ],
      "outputs": [
        {
          "output_type": "stream",
          "name": "stderr",
          "text": [
            "<string>:6: RuntimeWarning: Converting input from bool to <class 'numpy.uint8'> for compatibility.\n",
            "<string>:6: RuntimeWarning: Converting input from bool to <class 'numpy.uint8'> for compatibility.\n",
            "<string>:6: RuntimeWarning: Converting input from bool to <class 'numpy.uint8'> for compatibility.\n",
            "<string>:6: RuntimeWarning: Converting input from bool to <class 'numpy.uint8'> for compatibility.\n"
          ]
        },
        {
          "output_type": "execute_result",
          "execution_count": 131,
          "data": {
            "text/plain": "<seaborn.axisgrid.PairGrid at 0x7f6df17d2438>"
          },
          "metadata": {}
        },
        {
          "output_type": "display_data",
          "data": {
            "text/plain": "<Figure size 720x720 with 20 Axes>",
            "image/png": "[encoded data removed]"
          },
          "metadata": {
            "needs_background": "light"
          }
        }
      ],
      "execution_count": 131,
      "metadata": {
        "collapsed": true,
        "jupyter": {
          "source_hidden": false,
          "outputs_hidden": false
        },
        "nteract": {
          "transient": {
            "deleting": false
          }
        },
        "gather": {
          "logged": 1623495225602
        }
      }
    },
    {
      "cell_type": "markdown",
      "source": [
        "All of the measurements of central tendency are right in the middle of the data distribution, which is symmetric with values becoming progressively lower in both directions from the middle.\n",
        "\n",
        "To explore this distribution in more detail, you need to understand that statistics is fundamentally about taking *samples* of data and using probability functions to extrapolate information about the full *population* of data. For example, the student data consists of 22 samples, and for each sample there is a grade value. You can think of each sample grade as a variable that's been randomly selected from the set of all grades awarded for this course. With enough of these random variables, you can calculate something called a *probability density function*, which estimates the distribution of grades for the full population.\n",
        "\n",
        "The Pandas DataFrame class provides a helpful plot function to show this density."
      ],
      "metadata": {}
    },
    {
      "cell_type": "code",
      "source": [
        "import altair as alt"
      ],
      "outputs": [],
      "execution_count": 134,
      "metadata": {
        "collapsed": true,
        "jupyter": {
          "source_hidden": false,
          "outputs_hidden": false
        },
        "nteract": {
          "transient": {
            "deleting": false
          }
        },
        "gather": {
          "logged": 1623495471864
        }
      }
    },
    {
      "cell_type": "code",
      "source": [
        "alt.Chart(df_students).mark_bar().encode(x='Name:N', y= 'StudyHours:Q')"
      ],
      "outputs": [
        {
          "output_type": "execute_result",
          "execution_count": 142,
          "data": {
            "text/html": "\n<div id=\"altair-viz-3046647ef27e446cbc1f3d1d26bc19ef\"></div>\n<script type=\"text/javascript\">\n  (function(spec, embedOpt){\n    let outputDiv = document.currentScript.previousElementSibling;\n    if (outputDiv.id !== \"altair-viz-3046647ef27e446cbc1f3d1d26bc19ef\") {\n      outputDiv = document.getElementById(\"altair-viz-3046647ef27e446cbc1f3d1d26bc19ef\");\n    }\n    const paths = {\n      \"vega\": \"https://cdn.jsdelivr.net/npm//vega@5?noext\",\n      \"vega-lib\": \"https://cdn.jsdelivr.net/npm//vega-lib?noext\",\n      \"vega-lite\": \"https://cdn.jsdelivr.net/npm//vega-lite@4.8.1?noext\",\n      \"vega-embed\": \"https://cdn.jsdelivr.net/npm//vega-embed@6?noext\",\n    };\n\n    function loadScript(lib) {\n      return new Promise(function(resolve, reject) {\n        var s = document.createElement('script');\n        s.src = paths[lib];\n        s.async = true;\n        s.onload = () => resolve(paths[lib]);\n        s.onerror = () => reject(`Error loading script: ${paths[lib]}`);\n        document.getElementsByTagName(\"head\")[0].appendChild(s);\n      });\n    }\n\n    function showError(err) {\n      outputDiv.innerHTML = `<div class=\"error\" style=\"color:red;\">${err}</div>`;\n      throw err;\n    }\n\n    function displayChart(vegaEmbed) {\n      vegaEmbed(outputDiv, spec, embedOpt)\n        .catch(err => showError(`Javascript Error: ${err.message}<br>This usually means there's a typo in your chart specification. See the javascript console for the full traceback.`));\n    }\n\n    if(typeof define === \"function\" && define.amd) {\n      requirejs.config({paths});\n      require([\"vega-embed\"], displayChart, err => showError(`Error loading script: ${err.message}`));\n    } else if (typeof vegaEmbed === \"function\") {\n      displayChart(vegaEmbed);\n    } else {\n      loadScript(\"vega\")\n        .then(() => loadScript(\"vega-lite\"))\n        .then(() => loadScript(\"vega-embed\"))\n        .catch(showError)\n        .then(() => displayChart(vegaEmbed));\n    }\n  })({\"config\": {\"view\": {\"continuousWidth\": 400, \"continuousHeight\": 300}}, \"data\": {\"name\": \"data-2c59dd5424fd4caab9460441a0134f77\"}, \"mark\": \"bar\", \"encoding\": {\"x\": {\"type\": \"nominal\", \"field\": \"Name\"}, \"y\": {\"type\": \"quantitative\", \"field\": \"StudyHours\"}}, \"$schema\": \"https://vega.github.io/schema/vega-lite/v4.8.1.json\", \"datasets\": {\"data-2c59dd5424fd4caab9460441a0134f77\": [{\"Name\": \"Rosie\", \"StudyHours\": 16.0, \"Grade\": 97.0, \"Pass New\": true, \"Pass\": true}, {\"Name\": \"Francesca\", \"StudyHours\": 15.5, \"Grade\": 82.0, \"Pass New\": true, \"Pass\": true}, {\"Name\": \"Giovanni\", \"StudyHours\": 14.5, \"Grade\": 74.0, \"Pass New\": true, \"Pass\": true}, {\"Name\": \"Jenny\", \"StudyHours\": 15.5, \"Grade\": 70.0, \"Pass New\": true, \"Pass\": true}, {\"Name\": \"Aisha\", \"StudyHours\": 12.0, \"Grade\": 64.0, \"Pass New\": true, \"Pass\": true}, {\"Name\": \"Daniel\", \"StudyHours\": 12.5, \"Grade\": 63.0, \"Pass New\": true, \"Pass\": true}, {\"Name\": \"Rajab\", \"StudyHours\": 13.75, \"Grade\": 62.0, \"Pass New\": true, \"Pass\": true}, {\"Name\": \"Frederic\", \"StudyHours\": 11.5, \"Grade\": 53.0, \"Pass New\": false, \"Pass\": false}, {\"Name\": \"Skye\", \"StudyHours\": 12.0, \"Grade\": 52.0, \"Pass New\": false, \"Pass\": false}, {\"Name\": \"Joann\", \"StudyHours\": 11.5, \"Grade\": 50.0, \"Pass New\": false, \"Pass\": false}, {\"Name\": \"Dan\", \"StudyHours\": 10.0, \"Grade\": 50.0, \"Pass New\": false, \"Pass\": false}, {\"Name\": \"Ethan\", \"StudyHours\": 9.25, \"Grade\": 49.0, \"Pass New\": false, \"Pass\": false}, {\"Name\": \"Anila\", \"StudyHours\": 10.0, \"Grade\": 48.0, \"Pass New\": false, \"Pass\": false}, {\"Name\": \"Pedro\", \"StudyHours\": 9.0, \"Grade\": 47.0, \"Pass New\": false, \"Pass\": false}, {\"Name\": \"Jimmie\", \"StudyHours\": 9.0, \"Grade\": 42.0, \"Pass New\": false, \"Pass\": false}, {\"Name\": \"Naiyana\", \"StudyHours\": 9.0, \"Grade\": 37.0, \"Pass New\": false, \"Pass\": false}, {\"Name\": \"Helena\", \"StudyHours\": 9.0, \"Grade\": 36.0, \"Pass New\": false, \"Pass\": false}, {\"Name\": \"Ismat\", \"StudyHours\": 6.0, \"Grade\": 35.0, \"Pass New\": false, \"Pass\": false}, {\"Name\": \"Jakeem\", \"StudyHours\": 8.0, \"Grade\": 27.0, \"Pass New\": false, \"Pass\": false}, {\"Name\": \"Rhonda\", \"StudyHours\": 8.5, \"Grade\": 26.0, \"Pass New\": false, \"Pass\": false}, {\"Name\": \"Kian\", \"StudyHours\": 8.0, \"Grade\": 15.0, \"Pass New\": false, \"Pass\": false}, {\"Name\": \"Vicky\", \"StudyHours\": 1.0, \"Grade\": 3.0, \"Pass New\": false, \"Pass\": false}]}}, {\"mode\": \"vega-lite\"});\n</script>",
            "text/plain": "alt.Chart(...)"
          },
          "metadata": {}
        }
      ],
      "execution_count": 142,
      "metadata": {
        "collapsed": true,
        "jupyter": {
          "source_hidden": false,
          "outputs_hidden": false
        },
        "nteract": {
          "transient": {
            "deleting": false
          }
        },
        "gather": {
          "logged": 1623495764507
        }
      }
    },
    {
      "cell_type": "code",
      "source": [
        "alt.Chart(df_students).transform_fold(\r\n",
        "    ['StudyHours', 'Grade',],\r\n",
        "    as_=['Experiment', 'Measurement']\r\n",
        ").mark_area(\r\n",
        "    opacity=0.3,\r\n",
        "    interpolate='step'\r\n",
        ").encode(\r\n",
        "    alt.X('Measurement:Q', bin=alt.Bin(maxbins=100)),\r\n",
        "    alt.Y('count()', stack=None),\r\n",
        "    alt.Color('Experiment:N')\r\n",
        ")"
      ],
      "outputs": [
        {
          "output_type": "execute_result",
          "execution_count": 144,
          "data": {
            "text/html": "\n<div id=\"altair-viz-70bdde1cf6c649319844ad90b99c0e70\"></div>\n<script type=\"text/javascript\">\n  (function(spec, embedOpt){\n    let outputDiv = document.currentScript.previousElementSibling;\n    if (outputDiv.id !== \"altair-viz-70bdde1cf6c649319844ad90b99c0e70\") {\n      outputDiv = document.getElementById(\"altair-viz-70bdde1cf6c649319844ad90b99c0e70\");\n    }\n    const paths = {\n      \"vega\": \"https://cdn.jsdelivr.net/npm//vega@5?noext\",\n      \"vega-lib\": \"https://cdn.jsdelivr.net/npm//vega-lib?noext\",\n      \"vega-lite\": \"https://cdn.jsdelivr.net/npm//vega-lite@4.8.1?noext\",\n      \"vega-embed\": \"https://cdn.jsdelivr.net/npm//vega-embed@6?noext\",\n    };\n\n    function loadScript(lib) {\n      return new Promise(function(resolve, reject) {\n        var s = document.createElement('script');\n        s.src = paths[lib];\n        s.async = true;\n        s.onload = () => resolve(paths[lib]);\n        s.onerror = () => reject(`Error loading script: ${paths[lib]}`);\n        document.getElementsByTagName(\"head\")[0].appendChild(s);\n      });\n    }\n\n    function showError(err) {\n      outputDiv.innerHTML = `<div class=\"error\" style=\"color:red;\">${err}</div>`;\n      throw err;\n    }\n\n    function displayChart(vegaEmbed) {\n      vegaEmbed(outputDiv, spec, embedOpt)\n        .catch(err => showError(`Javascript Error: ${err.message}<br>This usually means there's a typo in your chart specification. See the javascript console for the full traceback.`));\n    }\n\n    if(typeof define === \"function\" && define.amd) {\n      requirejs.config({paths});\n      require([\"vega-embed\"], displayChart, err => showError(`Error loading script: ${err.message}`));\n    } else if (typeof vegaEmbed === \"function\") {\n      displayChart(vegaEmbed);\n    } else {\n      loadScript(\"vega\")\n        .then(() => loadScript(\"vega-lite\"))\n        .then(() => loadScript(\"vega-embed\"))\n        .catch(showError)\n        .then(() => displayChart(vegaEmbed));\n    }\n  })({\"config\": {\"view\": {\"continuousWidth\": 400, \"continuousHeight\": 300}}, \"data\": {\"name\": \"data-2c59dd5424fd4caab9460441a0134f77\"}, \"mark\": {\"type\": \"area\", \"interpolate\": \"step\", \"opacity\": 0.3}, \"encoding\": {\"color\": {\"type\": \"nominal\", \"field\": \"Experiment\"}, \"x\": {\"type\": \"quantitative\", \"bin\": {\"maxbins\": 100}, \"field\": \"Measurement\"}, \"y\": {\"type\": \"quantitative\", \"aggregate\": \"count\", \"stack\": null}}, \"transform\": [{\"fold\": [\"StudyHours\", \"Grade\"], \"as\": [\"Experiment\", \"Measurement\"]}], \"$schema\": \"https://vega.github.io/schema/vega-lite/v4.8.1.json\", \"datasets\": {\"data-2c59dd5424fd4caab9460441a0134f77\": [{\"Name\": \"Rosie\", \"StudyHours\": 16.0, \"Grade\": 97.0, \"Pass New\": true, \"Pass\": true}, {\"Name\": \"Francesca\", \"StudyHours\": 15.5, \"Grade\": 82.0, \"Pass New\": true, \"Pass\": true}, {\"Name\": \"Giovanni\", \"StudyHours\": 14.5, \"Grade\": 74.0, \"Pass New\": true, \"Pass\": true}, {\"Name\": \"Jenny\", \"StudyHours\": 15.5, \"Grade\": 70.0, \"Pass New\": true, \"Pass\": true}, {\"Name\": \"Aisha\", \"StudyHours\": 12.0, \"Grade\": 64.0, \"Pass New\": true, \"Pass\": true}, {\"Name\": \"Daniel\", \"StudyHours\": 12.5, \"Grade\": 63.0, \"Pass New\": true, \"Pass\": true}, {\"Name\": \"Rajab\", \"StudyHours\": 13.75, \"Grade\": 62.0, \"Pass New\": true, \"Pass\": true}, {\"Name\": \"Frederic\", \"StudyHours\": 11.5, \"Grade\": 53.0, \"Pass New\": false, \"Pass\": false}, {\"Name\": \"Skye\", \"StudyHours\": 12.0, \"Grade\": 52.0, \"Pass New\": false, \"Pass\": false}, {\"Name\": \"Joann\", \"StudyHours\": 11.5, \"Grade\": 50.0, \"Pass New\": false, \"Pass\": false}, {\"Name\": \"Dan\", \"StudyHours\": 10.0, \"Grade\": 50.0, \"Pass New\": false, \"Pass\": false}, {\"Name\": \"Ethan\", \"StudyHours\": 9.25, \"Grade\": 49.0, \"Pass New\": false, \"Pass\": false}, {\"Name\": \"Anila\", \"StudyHours\": 10.0, \"Grade\": 48.0, \"Pass New\": false, \"Pass\": false}, {\"Name\": \"Pedro\", \"StudyHours\": 9.0, \"Grade\": 47.0, \"Pass New\": false, \"Pass\": false}, {\"Name\": \"Jimmie\", \"StudyHours\": 9.0, \"Grade\": 42.0, \"Pass New\": false, \"Pass\": false}, {\"Name\": \"Naiyana\", \"StudyHours\": 9.0, \"Grade\": 37.0, \"Pass New\": false, \"Pass\": false}, {\"Name\": \"Helena\", \"StudyHours\": 9.0, \"Grade\": 36.0, \"Pass New\": false, \"Pass\": false}, {\"Name\": \"Ismat\", \"StudyHours\": 6.0, \"Grade\": 35.0, \"Pass New\": false, \"Pass\": false}, {\"Name\": \"Jakeem\", \"StudyHours\": 8.0, \"Grade\": 27.0, \"Pass New\": false, \"Pass\": false}, {\"Name\": \"Rhonda\", \"StudyHours\": 8.5, \"Grade\": 26.0, \"Pass New\": false, \"Pass\": false}, {\"Name\": \"Kian\", \"StudyHours\": 8.0, \"Grade\": 15.0, \"Pass New\": false, \"Pass\": false}, {\"Name\": \"Vicky\", \"StudyHours\": 1.0, \"Grade\": 3.0, \"Pass New\": false, \"Pass\": false}]}}, {\"mode\": \"vega-lite\"});\n</script>",
            "text/plain": "alt.Chart(...)"
          },
          "metadata": {}
        }
      ],
      "execution_count": 144,
      "metadata": {
        "collapsed": true,
        "jupyter": {
          "source_hidden": false,
          "outputs_hidden": false
        },
        "nteract": {
          "transient": {
            "deleting": false
          }
        },
        "gather": {
          "logged": 1623496051483
        }
      }
    },
    {
      "cell_type": "code",
      "source": [
        "def show_density(var_data):\n",
        "    from matplotlib import pyplot as plt\n",
        "\n",
        "    fig = plt.figure(figsize=(10,4))\n",
        "\n",
        "    # Plot density\n",
        "    var_data.plot.density()\n",
        "\n",
        "    # Add titles and labels\n",
        "    plt.title('Data Density')\n",
        "\n",
        "    # Show the mean, median, and mode\n",
        "    plt.axvline(x=var_data.mean(), color = 'cyan', linestyle='dashed', linewidth = 2)\n",
        "    plt.axvline(x=var_data.median(), color = 'red', linestyle='dashed', linewidth = 2)\n",
        "    plt.axvline(x=var_data.mode()[0], color = 'yellow', linestyle='dashed', linewidth = 2)\n",
        "\n",
        "    # Show the figure\n",
        "    plt.show()\n",
        "\n",
        "# Get the density of Grade\n",
        "col = df_students['Grade']\n",
        "show_density(col)"
      ],
      "outputs": [
        {
          "output_type": "display_data",
          "data": {
            "text/plain": "<Figure size 720x288 with 1 Axes>",
            "image/png": "[encoded data removed]"
          },
          "metadata": {}
        }
      ],
      "execution_count": 159,
      "metadata": {
        "gather": {
          "logged": 1623496890189
        }
      }
    },
    {
      "cell_type": "markdown",
      "source": [
        "As expected from the histogram of the sample, the density shows the characteristic 'bell curve\" of what statisticians call a *normal* distribution with the mean and mode at the center and symmetric tails.\n",
        "\n",
        "Now let's take a look at the distribution of the study hours data."
      ],
      "metadata": {}
    },
    {
      "cell_type": "code",
      "source": [
        "sns.set(style=\"ticks\")\r\n",
        "\r\n",
        "x = df_students['StudyHours']\r\n",
        "\r\n",
        "f, (ax_box, ax_hist) = plt.subplots(2, sharex=True, \r\n",
        "                                    gridspec_kw={\"height_ratios\": (.15, .85)})\r\n",
        "\r\n",
        "sns.boxplot(x, ax=ax_box)\r\n",
        "sns.distplot(x, ax=ax_hist)\r\n",
        "\r\n",
        "ax_box.set(yticks=[])\r\n",
        "sns.despine(ax=ax_hist)\r\n",
        "sns.despine(ax=ax_box, left=True)"
      ],
      "outputs": [
        {
          "output_type": "stream",
          "name": "stderr",
          "text": [
            "/anaconda/envs/azureml_py36/lib/python3.6/site-packages/seaborn/_decorators.py:43: FutureWarning: Pass the following variable as a keyword arg: x. From version 0.12, the only valid positional argument will be `data`, and passing other arguments without an explicit keyword will result in an error or misinterpretation.\n",
            "  FutureWarning\n",
            "/anaconda/envs/azureml_py36/lib/python3.6/site-packages/seaborn/distributions.py:2557: FutureWarning: `distplot` is a deprecated function and will be removed in a future version. Please adapt your code to use either `displot` (a figure-level function with similar flexibility) or `histplot` (an axes-level function for histograms).\n",
            "  warnings.warn(msg, FutureWarning)\n"
          ]
        },
        {
          "output_type": "display_data",
          "data": {
            "text/plain": "<Figure size 432x288 with 2 Axes>",
            "image/png": "[encoded data removed]"
          },
          "metadata": {}
        }
      ],
      "execution_count": 147,
      "metadata": {
        "collapsed": true,
        "jupyter": {
          "source_hidden": false,
          "outputs_hidden": false
        },
        "nteract": {
          "transient": {
            "deleting": false
          }
        },
        "gather": {
          "logged": 1623496235844
        }
      }
    },
    {
      "cell_type": "code",
      "source": [
        "sns.set(style=\"ticks\")\r\n",
        "\r\n",
        "x = df_students['Grade']\r\n",
        "\r\n",
        "f, (ax_box, ax_hist) = plt.subplots(2, sharex=True, \r\n",
        "                                    gridspec_kw={\"height_ratios\": (.15, .85)})\r\n",
        "\r\n",
        "sns.boxplot(x, ax=ax_box)\r\n",
        "sns.distplot(x, ax=ax_hist)\r\n",
        "\r\n",
        "ax_box.set(yticks=[])\r\n",
        "sns.despine(ax=ax_hist)\r\n",
        "sns.despine(ax=ax_box, left=True)"
      ],
      "outputs": [
        {
          "output_type": "stream",
          "name": "stderr",
          "text": [
            "/anaconda/envs/azureml_py36/lib/python3.6/site-packages/seaborn/_decorators.py:43: FutureWarning: Pass the following variable as a keyword arg: x. From version 0.12, the only valid positional argument will be `data`, and passing other arguments without an explicit keyword will result in an error or misinterpretation.\n",
            "  FutureWarning\n",
            "/anaconda/envs/azureml_py36/lib/python3.6/site-packages/seaborn/distributions.py:2557: FutureWarning: `distplot` is a deprecated function and will be removed in a future version. Please adapt your code to use either `displot` (a figure-level function with similar flexibility) or `histplot` (an axes-level function for histograms).\n",
            "  warnings.warn(msg, FutureWarning)\n"
          ]
        },
        {
          "output_type": "display_data",
          "data": {
            "text/plain": "<Figure size 432x288 with 2 Axes>",
            "image/png": "[encoded data removed]"
          },
          "metadata": {}
        }
      ],
      "execution_count": 149,
      "metadata": {
        "collapsed": true,
        "jupyter": {
          "source_hidden": false,
          "outputs_hidden": false
        },
        "nteract": {
          "transient": {
            "deleting": false
          }
        },
        "gather": {
          "logged": 1623496304590
        }
      }
    },
    {
      "cell_type": "code",
      "source": [
        "sns.set(style=\"ticks\")\r\n",
        "\r\n",
        "sns.jointplot(df_students['StudyHours'], y = df_students['Grade'])\r\n"
      ],
      "outputs": [
        {
          "output_type": "stream",
          "name": "stderr",
          "text": [
            "/anaconda/envs/azureml_py36/lib/python3.6/site-packages/seaborn/_decorators.py:43: FutureWarning: Pass the following variable as a keyword arg: x. From version 0.12, the only valid positional argument will be `data`, and passing other arguments without an explicit keyword will result in an error or misinterpretation.\n",
            "  FutureWarning\n"
          ]
        },
        {
          "output_type": "execute_result",
          "execution_count": 151,
          "data": {
            "text/plain": "<seaborn.axisgrid.JointGrid at 0x7f6defb45e80>"
          },
          "metadata": {}
        },
        {
          "output_type": "display_data",
          "data": {
            "text/plain": "<Figure size 432x432 with 3 Axes>",
            "image/png": "[encoded data removed]"
          },
          "metadata": {}
        }
      ],
      "execution_count": 151,
      "metadata": {
        "collapsed": true,
        "jupyter": {
          "source_hidden": false,
          "outputs_hidden": false
        },
        "nteract": {
          "transient": {
            "deleting": false
          }
        },
        "gather": {
          "logged": 1623496673282
        }
      }
    },
    {
      "cell_type": "code",
      "source": [
        "# Get the variable to examine\n",
        "col = df_students['StudyHours']\n",
        "# Call the function\n",
        "show_distribution(col)"
      ],
      "outputs": [
        {
          "output_type": "stream",
          "name": "stdout",
          "text": [
            "Minimum:1.00\n",
            "Mean:10.52\n",
            "Median:10.00\n",
            "Mode:9.00\n",
            "Maximum:16.00\n",
            "\n"
          ]
        },
        {
          "output_type": "display_data",
          "data": {
            "text/plain": "<Figure size 720x288 with 2 Axes>",
            "image/png": "[encoded data removed]"
          },
          "metadata": {
            "needs_background": "light"
          }
        }
      ],
      "execution_count": 145,
      "metadata": {
        "tags": [],
        "gather": {
          "logged": 1623496082974
        }
      }
    },
    {
      "cell_type": "markdown",
      "source": [
        "The distribution of the study time data is significantly different from that of the grades.\n",
        "\n",
        "Note that the whiskers of the box plot only extend to around 6.0, indicating that the vast majority of the first quarter of the data is above this value. The minimum is marked with an **o**, indicating that it is statistically an *outlier* - a value that lies significantly outside the range of the rest of the distribution.\n",
        "\n",
        "Outliers can occur for many reasons. Maybe a student meant to record \"10\" hours of study time, but entered \"1\" and missed the \"0\". Or maybe the student was abnormally lazy when it comes to studying! Either way, it's a statistical anomaly that doesn't represent a typical student. Let's see what the distribution looks like without it."
      ],
      "metadata": {}
    },
    {
      "cell_type": "code",
      "source": [
        "# Get the variable to examine\n",
        "col = df_students[df_students.StudyHours>1]['StudyHours']\n",
        "# Call the function\n",
        "show_distribution(col)"
      ],
      "outputs": [
        {
          "output_type": "stream",
          "name": "stdout",
          "text": [
            "Minimum:6.00\n",
            "Mean:10.98\n",
            "Median:10.00\n",
            "Mode:9.00\n",
            "Maximum:16.00\n",
            "\n"
          ]
        },
        {
          "output_type": "display_data",
          "data": {
            "text/plain": "<Figure size 720x288 with 2 Axes>",
            "image/png": "[encoded data removed]"
          },
          "metadata": {}
        }
      ],
      "execution_count": 152,
      "metadata": {
        "tags": [],
        "gather": {
          "logged": 1623496716628
        }
      }
    },
    {
      "cell_type": "markdown",
      "source": [
        "In this example, the dataset is small enough to clearly see that the value **1** is an outlier for the **StudyHours** column, so you can exclude it explicitly. In most real-world cases, it's easier to consider outliers as being values that fall below or above percentiles within which most of the data lie. For example, the following code uses the Pandas **quantile** function to exclude observations below the 0.01th percentile (the value above which 99% of the data reside)."
      ],
      "metadata": {}
    },
    {
      "cell_type": "code",
      "source": [
        "q01 = df_students.StudyHours.quantile(0.01)\n",
        "# Get the variable to examine\n",
        "col = df_students[df_students.StudyHours>q01]['StudyHours']\n",
        "# Call the function\n",
        "show_distribution(col)"
      ],
      "outputs": [
        {
          "output_type": "stream",
          "name": "stdout",
          "text": [
            "Minimum:6.00\n",
            "Mean:10.98\n",
            "Median:10.00\n",
            "Mode:9.00\n",
            "Maximum:16.00\n",
            "\n"
          ]
        },
        {
          "output_type": "display_data",
          "data": {
            "text/plain": "<Figure size 720x288 with 2 Axes>",
            "image/png": "[encoded data removed]"
          },
          "metadata": {}
        }
      ],
      "execution_count": 153,
      "metadata": {
        "gather": {
          "logged": 1623496758138
        }
      }
    },
    {
      "cell_type": "code",
      "source": [
        "df_students.StudyHours.quantile(.75)"
      ],
      "outputs": [
        {
          "output_type": "execute_result",
          "execution_count": 157,
          "data": {
            "text/plain": "12.375"
          },
          "metadata": {}
        }
      ],
      "execution_count": 157,
      "metadata": {
        "collapsed": true,
        "jupyter": {
          "source_hidden": false,
          "outputs_hidden": false
        },
        "nteract": {
          "transient": {
            "deleting": false
          }
        },
        "gather": {
          "logged": 1623496816663
        }
      }
    },
    {
      "cell_type": "markdown",
      "source": [
        "> **Tip**: You can also eliminate outliers at the upper end of the distribution by defining a threshold at a high percentile value - for example, you could use the **quantile** function to find the 0.99 percentile below which 99% of the data reside.\n",
        "\n",
        "With the outliers removed, the box plot shows all data within the four quartiles. Note that the distribution is not symmetric like it is for the grade data though - there are some students with very high study times of around 16 hours, but the bulk of the data is between 7 and 13 hours; The few extremely high values pull the mean towards the higher end of the scale.\n",
        "\n",
        "Let's look at the density for this distribution."
      ],
      "metadata": {}
    },
    {
      "cell_type": "code",
      "source": [
        "# Get the density of StudyHours\n",
        "show_density(col)"
      ],
      "outputs": [
        {
          "output_type": "display_data",
          "data": {
            "text/plain": "<Figure size 720x288 with 1 Axes>",
            "image/png": "[encoded data removed]"
          },
          "metadata": {}
        }
      ],
      "execution_count": 160,
      "metadata": {
        "gather": {
          "logged": 1623496908758
        }
      }
    },
    {
      "cell_type": "markdown",
      "source": [
        "This kind of distribution is called *right skewed*. The mass of the data is on the left side of the distribution, creating a long tail to the right because of the values at the extreme high end; which pull the mean to the right.\n",
        "\n",
        "#### Measures of variance\n",
        "\n",
        "So now we have a good idea where the middle of the grade and study hours data distributions are. However, there's another aspect of the distributions we should examine: how much variability is there in the data?\n",
        "\n",
        "Typical statistics that measure variability in the data include:\n",
        "\n",
        "- **Range**: The difference between the maximum and minimum. There's no built-in function for this, but it's easy to calculate using the **min** and **max** functions.\n",
        "- **Variance**: The average of the squared difference from the mean. You can use the built-in **var** function to find this.\n",
        "- **Standard Deviation**: The square root of the variance. You can use the built-in **std** function to find this."
      ],
      "metadata": {}
    },
    {
      "cell_type": "code",
      "source": [
        "for col_name in ['Grade','StudyHours']:\n",
        "    col = df_students[col_name]\n",
        "    rng = col.max() - col.min()\n",
        "    var = col.var()\n",
        "    std = col.std()\n",
        "    print('\\n{}:\\n - Range: {:.2f}\\n - Variance: {:.2f}\\n - Std.Dev: {:.2f}'.format(col_name, rng, var, std))"
      ],
      "outputs": [
        {
          "output_type": "stream",
          "name": "stdout",
          "text": [
            "\n",
            "Grade:\n",
            " - Range: 94.00\n",
            " - Variance: 472.54\n",
            " - Std.Dev: 21.74\n",
            "\n",
            "StudyHours:\n",
            " - Range: 15.00\n",
            " - Variance: 12.16\n",
            " - Std.Dev: 3.49\n"
          ]
        }
      ],
      "execution_count": 161,
      "metadata": {
        "tags": [],
        "gather": {
          "logged": 1623496956467
        }
      }
    },
    {
      "cell_type": "markdown",
      "source": [
        "Of these statistics, the standard deviation is generally the most useful. It provides a measure of variance in the data on the same scale as the data itself (so grade points for the Grade distribution and hours for the StudyHours distribution). The higher the standard deviation, the more variance there is when comparing values in the distribution to the distribution mean - in other words, the data is more spread out.\n",
        "\n",
        "When working with a *normal* distribution, the standard deviation works with the particular characteristics of a normal distribution to provide even greater insight. Run the cell below to see the relationship between standard deviations and the data in the normal distribution."
      ],
      "metadata": {}
    },
    {
      "cell_type": "code",
      "source": [
        "import scipy.stats as stats\n",
        "\n",
        "# Get the Grade column\n",
        "col = df_students['Grade']\n",
        "\n",
        "# get the density\n",
        "density = stats.gaussian_kde(col)\n",
        "\n",
        "# Plot the density\n",
        "col.plot.density()\n",
        "\n",
        "# Get the mean and standard deviation\n",
        "s = col.std()\n",
        "m = col.mean()\n",
        "\n",
        "# Annotate 1 stdev\n",
        "x1 = [m-s, m+s]\n",
        "y1 = density(x1)\n",
        "plt.plot(x1,y1, color='magenta')\n",
        "plt.annotate('1 std (68.26%)', (x1[1],y1[1]))\n",
        "\n",
        "# Annotate 2 stdevs\n",
        "x2 = [m-(s*2), m+(s*2)]\n",
        "y2 = density(x2)\n",
        "plt.plot(x2,y2, color='green')\n",
        "plt.annotate('2 std (95.45%)', (x2[1],y2[1]))\n",
        "\n",
        "# Annotate 3 stdevs\n",
        "x3 = [m-(s*3), m+(s*3)]\n",
        "y3 = density(x3)\n",
        "plt.plot(x3,y3, color='orange')\n",
        "plt.annotate('3 std (99.73%)', (x3[1],y3[1]))\n",
        "\n",
        "# Show the location of the mean\n",
        "plt.axvline(col.mean(), color='cyan', linestyle='dashed', linewidth=1)\n",
        "\n",
        "plt.axis('off')\n",
        "\n",
        "plt.show()"
      ],
      "outputs": [
        {
          "output_type": "display_data",
          "data": {
            "text/plain": "<Figure size 432x288 with 1 Axes>",
            "image/png": "[encoded data removed]"
          },
          "metadata": {}
        }
      ],
      "execution_count": 162,
      "metadata": {
        "gather": {
          "logged": 1623496996703
        }
      }
    },
    {
      "cell_type": "markdown",
      "source": [
        "The horizontal lines show the percentage of data within 1, 2, and 3 standard deviations of the mean (plus or minus).\n",
        "\n",
        "In any normal distribution:\n",
        "- Approximately 68.26% of values fall within one standard deviation from the mean.\n",
        "- Approximately 95.45% of values fall within two standard deviations from the mean.\n",
        "- Approximately 99.73% of values fall within three standard deviations from the mean.\n",
        "\n",
        "So, since we know that the mean grade is 49.18, the standard deviation is 21.74, and distribution of grades is approximately normal; we can calculate that 68.26% of students should achieve a grade between 27.44 and 70.92.\n",
        "\n",
        "The descriptive statistics we've used to understand the distribution of the student data variables are the basis of statistical analysis; and because they're such an important part of exploring your data, there's a built-in **Describe** method of the DataFrame object that returns the main descriptive statistics for all numeric columns."
      ],
      "metadata": {}
    },
    {
      "cell_type": "code",
      "source": [
        "df_students.describe()"
      ],
      "outputs": [
        {
          "output_type": "execute_result",
          "execution_count": 163,
          "data": {
            "text/plain": "       StudyHours   Grade\ncount      22.000  22.000\nmean       10.523  49.182\nstd         3.487  21.738\nmin         1.000   3.000\n25%         9.000  36.250\n50%        10.000  49.500\n75%        12.375  62.750\nmax        16.000  97.000",
            "text/html": "<div>\n<style scoped>\n    .dataframe tbody tr th:only-of-type {\n        vertical-align: middle;\n    }\n\n    .dataframe tbody tr th {\n        vertical-align: top;\n    }\n\n    .dataframe thead th {\n        text-align: right;\n    }\n</style>\n<table border=\"1\" class=\"dataframe\">\n  <thead>\n    <tr style=\"text-align: right;\">\n      <th></th>\n      <th>StudyHours</th>\n      <th>Grade</th>\n    </tr>\n  </thead>\n  <tbody>\n    <tr>\n      <th>count</th>\n      <td>22.000</td>\n      <td>22.000</td>\n    </tr>\n    <tr>\n      <th>mean</th>\n      <td>10.523</td>\n      <td>49.182</td>\n    </tr>\n    <tr>\n      <th>std</th>\n      <td>3.487</td>\n      <td>21.738</td>\n    </tr>\n    <tr>\n      <th>min</th>\n      <td>1.000</td>\n      <td>3.000</td>\n    </tr>\n    <tr>\n      <th>25%</th>\n      <td>9.000</td>\n      <td>36.250</td>\n    </tr>\n    <tr>\n      <th>50%</th>\n      <td>10.000</td>\n      <td>49.500</td>\n    </tr>\n    <tr>\n      <th>75%</th>\n      <td>12.375</td>\n      <td>62.750</td>\n    </tr>\n    <tr>\n      <th>max</th>\n      <td>16.000</td>\n      <td>97.000</td>\n    </tr>\n  </tbody>\n</table>\n</div>"
          },
          "metadata": {}
        }
      ],
      "execution_count": 163,
      "metadata": {
        "gather": {
          "logged": 1623497042536
        }
      }
    },
    {
      "cell_type": "markdown",
      "source": [
        "## Comparing data\n",
        "\n",
        "Now that you know something about the statistical distribution of the data in your dataset, you're ready to examine your data to identify any apparent relationships between variables.\n",
        "\n",
        "First of all, let's get rid of any rows that contain outliers so that we have a sample that is representative of a typical class of students. We identified that the StudyHours column contains some outliers with extremely low values, so we'll remove those rows."
      ],
      "metadata": {}
    },
    {
      "cell_type": "code",
      "source": [
        "df_sample = df_students[df_students['StudyHours']>1]\n",
        "df_sample"
      ],
      "outputs": [
        {
          "output_type": "execute_result",
          "execution_count": 167,
          "data": {
            "text/plain": "         Name  StudyHours  Grade  Pass New   Pass\n3       Rosie       16.00   97.0      True   True\n10  Francesca       15.50   82.0      True   True\n9    Giovanni       14.50   74.0      True   True\n14      Jenny       15.50   70.0      True   True\n21      Aisha       12.00   64.0      True   True\n20     Daniel       12.50   63.0      True   True\n11      Rajab       13.75   62.0      True   True\n6    Frederic       11.50   53.0     False  False\n19       Skye       12.00   52.0     False  False\n1       Joann       11.50   50.0     False  False\n0         Dan       10.00   50.0     False  False\n4       Ethan        9.25   49.0     False  False\n18      Anila       10.00   48.0     False  False\n2       Pedro        9.00   47.0     False  False\n7      Jimmie        9.00   42.0     False  False\n12    Naiyana        9.00   37.0     False  False\n16     Helena        9.00   36.0     False  False\n17      Ismat        6.00   35.0     False  False\n15     Jakeem        8.00   27.0     False  False\n8      Rhonda        8.50   26.0     False  False\n13       Kian        8.00   15.0     False  False",
            "text/html": "<div>\n<style scoped>\n    .dataframe tbody tr th:only-of-type {\n        vertical-align: middle;\n    }\n\n    .dataframe tbody tr th {\n        vertical-align: top;\n    }\n\n    .dataframe thead th {\n        text-align: right;\n    }\n</style>\n<table border=\"1\" class=\"dataframe\">\n  <thead>\n    <tr style=\"text-align: right;\">\n      <th></th>\n      <th>Name</th>\n      <th>StudyHours</th>\n      <th>Grade</th>\n      <th>Pass New</th>\n      <th>Pass</th>\n    </tr>\n  </thead>\n  <tbody>\n    <tr>\n      <th>3</th>\n      <td>Rosie</td>\n      <td>16.00</td>\n      <td>97.0</td>\n      <td>True</td>\n      <td>True</td>\n    </tr>\n    <tr>\n      <th>10</th>\n      <td>Francesca</td>\n      <td>15.50</td>\n      <td>82.0</td>\n      <td>True</td>\n      <td>True</td>\n    </tr>\n    <tr>\n      <th>9</th>\n      <td>Giovanni</td>\n      <td>14.50</td>\n      <td>74.0</td>\n      <td>True</td>\n      <td>True</td>\n    </tr>\n    <tr>\n      <th>14</th>\n      <td>Jenny</td>\n      <td>15.50</td>\n      <td>70.0</td>\n      <td>True</td>\n      <td>True</td>\n    </tr>\n    <tr>\n      <th>21</th>\n      <td>Aisha</td>\n      <td>12.00</td>\n      <td>64.0</td>\n      <td>True</td>\n      <td>True</td>\n    </tr>\n    <tr>\n      <th>20</th>\n      <td>Daniel</td>\n      <td>12.50</td>\n      <td>63.0</td>\n      <td>True</td>\n      <td>True</td>\n    </tr>\n    <tr>\n      <th>11</th>\n      <td>Rajab</td>\n      <td>13.75</td>\n      <td>62.0</td>\n      <td>True</td>\n      <td>True</td>\n    </tr>\n    <tr>\n      <th>6</th>\n      <td>Frederic</td>\n      <td>11.50</td>\n      <td>53.0</td>\n      <td>False</td>\n      <td>False</td>\n    </tr>\n    <tr>\n      <th>19</th>\n      <td>Skye</td>\n      <td>12.00</td>\n      <td>52.0</td>\n      <td>False</td>\n      <td>False</td>\n    </tr>\n    <tr>\n      <th>1</th>\n      <td>Joann</td>\n      <td>11.50</td>\n      <td>50.0</td>\n      <td>False</td>\n      <td>False</td>\n    </tr>\n    <tr>\n      <th>0</th>\n      <td>Dan</td>\n      <td>10.00</td>\n      <td>50.0</td>\n      <td>False</td>\n      <td>False</td>\n    </tr>\n    <tr>\n      <th>4</th>\n      <td>Ethan</td>\n      <td>9.25</td>\n      <td>49.0</td>\n      <td>False</td>\n      <td>False</td>\n    </tr>\n    <tr>\n      <th>18</th>\n      <td>Anila</td>\n      <td>10.00</td>\n      <td>48.0</td>\n      <td>False</td>\n      <td>False</td>\n    </tr>\n    <tr>\n      <th>2</th>\n      <td>Pedro</td>\n      <td>9.00</td>\n      <td>47.0</td>\n      <td>False</td>\n      <td>False</td>\n    </tr>\n    <tr>\n      <th>7</th>\n      <td>Jimmie</td>\n      <td>9.00</td>\n      <td>42.0</td>\n      <td>False</td>\n      <td>False</td>\n    </tr>\n    <tr>\n      <th>12</th>\n      <td>Naiyana</td>\n      <td>9.00</td>\n      <td>37.0</td>\n      <td>False</td>\n      <td>False</td>\n    </tr>\n    <tr>\n      <th>16</th>\n      <td>Helena</td>\n      <td>9.00</td>\n      <td>36.0</td>\n      <td>False</td>\n      <td>False</td>\n    </tr>\n    <tr>\n      <th>17</th>\n      <td>Ismat</td>\n      <td>6.00</td>\n      <td>35.0</td>\n      <td>False</td>\n      <td>False</td>\n    </tr>\n    <tr>\n      <th>15</th>\n      <td>Jakeem</td>\n      <td>8.00</td>\n      <td>27.0</td>\n      <td>False</td>\n      <td>False</td>\n    </tr>\n    <tr>\n      <th>8</th>\n      <td>Rhonda</td>\n      <td>8.50</td>\n      <td>26.0</td>\n      <td>False</td>\n      <td>False</td>\n    </tr>\n    <tr>\n      <th>13</th>\n      <td>Kian</td>\n      <td>8.00</td>\n      <td>15.0</td>\n      <td>False</td>\n      <td>False</td>\n    </tr>\n  </tbody>\n</table>\n</div>"
          },
          "metadata": {}
        }
      ],
      "execution_count": 167,
      "metadata": {
        "gather": {
          "logged": 1623497084709
        }
      }
    },
    {
      "cell_type": "markdown",
      "source": [
        "### Comparing numeric and categorical variables\n",
        "\n",
        "The data includes two *numeric* variables (**StudyHours** and **Grade**) and two *categorical* variables (**Name** and **Pass**). Let's start by comparing the numeric **StudyHours** column to the categorical **Pass** column to see if there's an apparent relationship between the number of hours studied and a passing grade.\n",
        "\n",
        "To make this comparison, let's create box plots showing the distribution of StudyHours for each possible Pass value (true and false)."
      ],
      "metadata": {}
    },
    {
      "cell_type": "code",
      "source": [
        "df_sample.boxplot(column='StudyHours', by='Pass', figsize=(8,5))"
      ],
      "outputs": [
        {
          "output_type": "execute_result",
          "execution_count": 168,
          "data": {
            "text/plain": "<matplotlib.axes._subplots.AxesSubplot at 0x7f6dee4a4ef0>"
          },
          "metadata": {}
        },
        {
          "output_type": "display_data",
          "data": {
            "text/plain": "<Figure size 576x360 with 1 Axes>",
            "image/png": "[encoded data removed]"
          },
          "metadata": {}
        }
      ],
      "execution_count": 168,
      "metadata": {
        "gather": {
          "logged": 1623497093021
        }
      }
    },
    {
      "cell_type": "markdown",
      "source": [
        "Comparing the StudyHours distributions, it's immediately apparent (if not particularly surprising) that students who passed the course tended to study for more hours than students who didn't. So if you wanted to predict whether or not a student is likely to pass the course, the amount of time they spend studying may be a good predictive feature.\n",
        "\n",
        "### Comparing numeric variables\n",
        "\n",
        "Now let's compare two numeric variables. We'll start by creating a bar chart that shows both grade and study hours."
      ],
      "metadata": {}
    },
    {
      "cell_type": "code",
      "source": [
        "# Create a bar plot of name vs grade and study hours\n",
        "df_sample.plot(x='Name', y=['Grade','StudyHours'], kind='bar', figsize=(8,5))"
      ],
      "outputs": [
        {
          "output_type": "execute_result",
          "execution_count": 169,
          "data": {
            "text/plain": "<matplotlib.axes._subplots.AxesSubplot at 0x7f6dee4a4f28>"
          },
          "metadata": {}
        },
        {
          "output_type": "display_data",
          "data": {
            "text/plain": "<Figure size 576x360 with 1 Axes>",
            "image/png": "[encoded data removed]"
          },
          "metadata": {}
        }
      ],
      "execution_count": 169,
      "metadata": {
        "gather": {
          "logged": 1623497134771
        }
      }
    },
    {
      "cell_type": "markdown",
      "source": [
        "The chart shows bars for both grade and study hours for each student; but it's not easy to compare because the values are on different scales. Grades are measured in grade points, and range from 3 to 97; while study time is measured in hours and ranges from 1 to 16.\n",
        "\n",
        "A common technique when dealing with numeric data in different scales is to *normalize* the data so that the values retain their proportional distribution, but are measured on the same scale. To accomplish this, we'll use a technique called *MinMax* scaling that distributes the values proportionally on a scale of 0 to 1. You could write the code to apply this transformation; but the **Scikit-Learn** library provides a scaler to do it for you."
      ],
      "metadata": {}
    },
    {
      "cell_type": "code",
      "source": [
        "from sklearn.preprocessing import MinMaxScaler\n",
        "\n",
        "# Get a scaler object\n",
        "scaler = MinMaxScaler()\n",
        "\n",
        "# Create a new dataframe for the scaled values\n",
        "df_normalized = df_sample[['Name', 'Grade', 'StudyHours']].copy()\n",
        "\n",
        "# Normalize the numeric columns\n",
        "df_normalized[['Grade','StudyHours']] = scaler.fit_transform(df_normalized[['Grade','StudyHours']])\n",
        "\n",
        "# Plot the normalized values\n",
        "df_normalized.plot(x='Name', y=['Grade','StudyHours'], kind='bar', figsize=(8,5))"
      ],
      "outputs": [
        {
          "output_type": "execute_result",
          "execution_count": 170,
          "data": {
            "text/plain": "<matplotlib.axes._subplots.AxesSubplot at 0x7f6def7261d0>"
          },
          "metadata": {}
        },
        {
          "output_type": "display_data",
          "data": {
            "text/plain": "<Figure size 576x360 with 1 Axes>",
            "image/png": "[encoded data removed]"
          },
          "metadata": {}
        }
      ],
      "execution_count": 170,
      "metadata": {
        "gather": {
          "logged": 1623497147826
        }
      }
    },
    {
      "cell_type": "markdown",
      "source": [
        "With the data normalized, it's easier to see an apparent relationship between grade and study time. It's not an exact match, but it definitely seems like students with higher grades tend to have studied more.\n",
        "\n",
        "So there seems to be a correlation between study time and grade; and in fact, there's a statistical *correlation* measurement we can use to quantify the relationship between these columns."
      ],
      "metadata": {}
    },
    {
      "cell_type": "code",
      "source": [
        "df_normalized.Grade.corr(df_normalized.StudyHours)"
      ],
      "outputs": [
        {
          "output_type": "execute_result",
          "execution_count": 171,
          "data": {
            "text/plain": "0.9117666413789675"
          },
          "metadata": {}
        }
      ],
      "execution_count": 171,
      "metadata": {
        "gather": {
          "logged": 1623497157917
        }
      }
    },
    {
      "cell_type": "markdown",
      "source": [
        "The correlation statistic is a value between -1 and 1 that indicates the strength of a relationship. Values above 0 indicate a *positive* correlation (high values of one variable tend to coincide with high values of the other), while values below 0 indicate a *negative* correlation (high values of one variable tend to coincide with low values of the other). In this case, the correlation value is close to 1; showing a strongly positive correlation between study time and grade.\n",
        "\n",
        "> **Note**: Data scientists often quote the maxim \"*correlation* is not *causation*\". In other words, as tempting as it might be, you shouldn't interpret the statistical correlation as explaining *why* one of the values is high. In the case of the student data, the statistics demonstrates that students with high grades tend to also have high amounts of study time; but this is not the same as proving that they achieved high grades *because* they studied a lot. The statistic could equally be used as evidence to support the nonsensical conclusion that the students studied a lot *because* their grades were going to be high.\n",
        "\n",
        "Another way to visualise the apparent correlation between two numeric columns is to use a *scatter* plot."
      ],
      "metadata": {}
    },
    {
      "cell_type": "code",
      "source": [
        "# Create a scatter plot\n",
        "df_sample.plot.scatter(title='Study Time vs Grade', x='StudyHours', y='Grade')"
      ],
      "outputs": [
        {
          "output_type": "stream",
          "name": "stderr",
          "text": [
            "'c' argument looks like a single numeric RGB or RGBA sequence, which should be avoided as value-mapping will have precedence in case its length matches with 'x' & 'y'.  Please use a 2-D array with a single row if you really want to specify the same RGB or RGBA value for all points.\n"
          ]
        },
        {
          "output_type": "execute_result",
          "execution_count": 172,
          "data": {
            "text/plain": "<matplotlib.axes._subplots.AxesSubplot at 0x7f6defe970f0>"
          },
          "metadata": {}
        },
        {
          "output_type": "display_data",
          "data": {
            "text/plain": "<Figure size 432x288 with 1 Axes>",
            "image/png": "[encoded data removed]"
          },
          "metadata": {}
        }
      ],
      "execution_count": 172,
      "metadata": {
        "gather": {
          "logged": 1623497253677
        }
      }
    },
    {
      "cell_type": "markdown",
      "source": [
        "Again, it looks like there's a discernible pattern in which the students who studied the most hours are also the students who got the highest grades.\n",
        "\n",
        "We can see this more clearly by adding a *regression* line (or a *line of best fit*) to the plot that shows the general trend in the data. To do this, we'll use a statistical technique called *least squares regression*.\n",
        "\n",
        "> **Warning - Math Ahead!**\n",
        ">\n",
        "> Cast your mind back to when you were learning how to solve linear equations in school, and recall that the *slope-intercept* form of a linear equation looks like this:\n",
        ">\n",
        "> \\begin{equation}y = mx + b\\end{equation}\n",
        ">\n",
        "> In this equation, *y* and *x* are the coordinate variables, *m* is the slope of the line, and *b* is the y-intercept (where the line goes through the Y-axis).\n",
        ">\n",
        "> In the case of our scatter plot for our student data, we already have our values for *x* (*StudyHours*) and *y* (*Grade*), so we just need to calculate the intercept and slope of the straight line that lies closest to those points. Then we can form a linear equation that calculates a new *y* value on that line for each of our *x* (*StudyHours*) values - to avoid confusion, we'll call this new *y* value *f(x)* (because it's the output from a linear equation ***f***unction based on *x*). The difference between the original *y* (*Grade*) value and the *f(x)* value is the *error* between our regression line and the actual *Grade* achieved by the student. Our goal is to calculate the slope and intercept for a line with the lowest overall error.\n",
        ">\n",
        "> Specifically, we define the overall error by taking the error for each point, squaring it, and adding all the squared errors together. The line of best fit is the line that gives us the lowest value for the sum of the squared errors - hence the name *least squares regression*.\n",
        "\n",
        "Fortunately, you don't need to code the regression calculation yourself - the **SciPy** package includes a **stats** class that provides a **linregress** method to do the hard work for you. This returns (among other things) the coefficients you need for the slope equation - slope (*m*) and intercept (*b*) based on a given pair of variable samples you want to compare."
      ],
      "metadata": {}
    },
    {
      "cell_type": "code",
      "source": [
        "from scipy import stats\n",
        "\n",
        "#\n",
        "df_regression = df_sample[['Grade', 'StudyHours']].copy()\n",
        "\n",
        "# Get the regression slope and intercept\n",
        "m, b, r, p, se = stats.linregress(df_regression['StudyHours'], df_regression['Grade'])\n",
        "print('slope: {:.4f}\\ny-intercept: {:.4f}'.format(m,b))\n",
        "print('so...\\n f(x) = {:.4f}x + {:.4f}'.format(m,b))\n",
        "\n",
        "# Use the function (mx + b) to calculate f(x) for each x (StudyHours) value\n",
        "df_regression['fx'] = (m * df_regression['StudyHours']) + b\n",
        "\n",
        "# Calculate the error between f(x) and the actual y (Grade) value\n",
        "df_regression['error'] = df_regression['fx'] - df_regression['Grade']\n",
        "\n",
        "# Create a scatter plot of Grade vs StudyHours\n",
        "df_regression.plot.scatter(x='StudyHours', y='Grade')\n",
        "\n",
        "# Plot the regression line\n",
        "plt.plot(df_regression['StudyHours'],df_regression['fx'], color='cyan')\n",
        "\n",
        "# Display the plot\n",
        "plt.show()"
      ],
      "outputs": [
        {
          "output_type": "stream",
          "name": "stderr",
          "text": [
            "'c' argument looks like a single numeric RGB or RGBA sequence, which should be avoided as value-mapping will have precedence in case its length matches with 'x' & 'y'.  Please use a 2-D array with a single row if you really want to specify the same RGB or RGBA value for all points.\n"
          ]
        },
        {
          "output_type": "stream",
          "name": "stdout",
          "text": [
            "slope: 6.3134\n",
            "y-intercept: -17.9164\n",
            "so...\n",
            " f(x) = 6.3134x + -17.9164\n"
          ]
        },
        {
          "output_type": "display_data",
          "data": {
            "text/plain": "<Figure size 432x288 with 1 Axes>",
            "image/png": "[encoded data removed]"
          },
          "metadata": {}
        }
      ],
      "execution_count": 173,
      "metadata": {
        "tags": [],
        "gather": {
          "logged": 1623497297669
        }
      }
    },
    {
      "cell_type": "markdown",
      "source": [
        "Note that this time, the code plotted two distinct things - the scatter plot of the sample study hours and grades is plotted as before, and then a line of best fit based on the least squares regression coefficients is plotted.\n",
        "\n",
        "The slope and intercept coefficients calculated for the regression line are shown above the plot.\n",
        "\n",
        "The line is based on the ***f*(x)** values calculated for each **StudyHours** value. Run the following cell to see a table that includes the following values:\n",
        "\n",
        "- The **StudyHours** for each student.\n",
        "- The **Grade** achieved by each student.\n",
        "- The ***f(x)*** value calculated using the regression line coefficients.\n",
        "- The *error* between the calculated ***f(x)*** value and the actual **Grade** value.\n",
        "\n",
        "Some of the errors, particularly at the extreme ends, are quite large (up to over 17.5 grade points); but in general, the line is pretty close to the actual grades."
      ],
      "metadata": {}
    },
    {
      "cell_type": "code",
      "source": [
        "# Show the original x,y values, the f(x) value, and the error\n",
        "df_regression[['StudyHours', 'Grade', 'fx', 'error']]"
      ],
      "outputs": [
        {
          "output_type": "execute_result",
          "execution_count": 174,
          "data": {
            "text/plain": "    StudyHours  Grade      fx   error\n3        16.00   97.0  83.098 -13.902\n10       15.50   82.0  79.942  -2.058\n9        14.50   74.0  73.628  -0.372\n14       15.50   70.0  79.942   9.942\n21       12.00   64.0  57.845  -6.155\n20       12.50   63.0  61.001  -1.999\n11       13.75   62.0  68.893   6.893\n6        11.50   53.0  54.688   1.688\n19       12.00   52.0  57.845   5.845\n1        11.50   50.0  54.688   4.688\n0        10.00   50.0  45.218  -4.782\n4         9.25   49.0  40.483  -8.517\n18       10.00   48.0  45.218  -2.782\n2         9.00   47.0  38.904  -8.096\n7         9.00   42.0  38.904  -3.096\n12        9.00   37.0  38.904   1.904\n16        9.00   36.0  38.904   2.904\n17        6.00   35.0  19.964 -15.036\n15        8.00   27.0  32.591   5.591\n8         8.50   26.0  35.748   9.748\n13        8.00   15.0  32.591  17.591",
            "text/html": "<div>\n<style scoped>\n    .dataframe tbody tr th:only-of-type {\n        vertical-align: middle;\n    }\n\n    .dataframe tbody tr th {\n        vertical-align: top;\n    }\n\n    .dataframe thead th {\n        text-align: right;\n    }\n</style>\n<table border=\"1\" class=\"dataframe\">\n  <thead>\n    <tr style=\"text-align: right;\">\n      <th></th>\n      <th>StudyHours</th>\n      <th>Grade</th>\n      <th>fx</th>\n      <th>error</th>\n    </tr>\n  </thead>\n  <tbody>\n    <tr>\n      <th>3</th>\n      <td>16.00</td>\n      <td>97.0</td>\n      <td>83.098</td>\n      <td>-13.902</td>\n    </tr>\n    <tr>\n      <th>10</th>\n      <td>15.50</td>\n      <td>82.0</td>\n      <td>79.942</td>\n      <td>-2.058</td>\n    </tr>\n    <tr>\n      <th>9</th>\n      <td>14.50</td>\n      <td>74.0</td>\n      <td>73.628</td>\n      <td>-0.372</td>\n    </tr>\n    <tr>\n      <th>14</th>\n      <td>15.50</td>\n      <td>70.0</td>\n      <td>79.942</td>\n      <td>9.942</td>\n    </tr>\n    <tr>\n      <th>21</th>\n      <td>12.00</td>\n      <td>64.0</td>\n      <td>57.845</td>\n      <td>-6.155</td>\n    </tr>\n    <tr>\n      <th>20</th>\n      <td>12.50</td>\n      <td>63.0</td>\n      <td>61.001</td>\n      <td>-1.999</td>\n    </tr>\n    <tr>\n      <th>11</th>\n      <td>13.75</td>\n      <td>62.0</td>\n      <td>68.893</td>\n      <td>6.893</td>\n    </tr>\n    <tr>\n      <th>6</th>\n      <td>11.50</td>\n      <td>53.0</td>\n      <td>54.688</td>\n      <td>1.688</td>\n    </tr>\n    <tr>\n      <th>19</th>\n      <td>12.00</td>\n      <td>52.0</td>\n      <td>57.845</td>\n      <td>5.845</td>\n    </tr>\n    <tr>\n      <th>1</th>\n      <td>11.50</td>\n      <td>50.0</td>\n      <td>54.688</td>\n      <td>4.688</td>\n    </tr>\n    <tr>\n      <th>0</th>\n      <td>10.00</td>\n      <td>50.0</td>\n      <td>45.218</td>\n      <td>-4.782</td>\n    </tr>\n    <tr>\n      <th>4</th>\n      <td>9.25</td>\n      <td>49.0</td>\n      <td>40.483</td>\n      <td>-8.517</td>\n    </tr>\n    <tr>\n      <th>18</th>\n      <td>10.00</td>\n      <td>48.0</td>\n      <td>45.218</td>\n      <td>-2.782</td>\n    </tr>\n    <tr>\n      <th>2</th>\n      <td>9.00</td>\n      <td>47.0</td>\n      <td>38.904</td>\n      <td>-8.096</td>\n    </tr>\n    <tr>\n      <th>7</th>\n      <td>9.00</td>\n      <td>42.0</td>\n      <td>38.904</td>\n      <td>-3.096</td>\n    </tr>\n    <tr>\n      <th>12</th>\n      <td>9.00</td>\n      <td>37.0</td>\n      <td>38.904</td>\n      <td>1.904</td>\n    </tr>\n    <tr>\n      <th>16</th>\n      <td>9.00</td>\n      <td>36.0</td>\n      <td>38.904</td>\n      <td>2.904</td>\n    </tr>\n    <tr>\n      <th>17</th>\n      <td>6.00</td>\n      <td>35.0</td>\n      <td>19.964</td>\n      <td>-15.036</td>\n    </tr>\n    <tr>\n      <th>15</th>\n      <td>8.00</td>\n      <td>27.0</td>\n      <td>32.591</td>\n      <td>5.591</td>\n    </tr>\n    <tr>\n      <th>8</th>\n      <td>8.50</td>\n      <td>26.0</td>\n      <td>35.748</td>\n      <td>9.748</td>\n    </tr>\n    <tr>\n      <th>13</th>\n      <td>8.00</td>\n      <td>15.0</td>\n      <td>32.591</td>\n      <td>17.591</td>\n    </tr>\n  </tbody>\n</table>\n</div>"
          },
          "metadata": {}
        }
      ],
      "execution_count": 174,
      "metadata": {
        "gather": {
          "logged": 1623497390312
        }
      }
    },
    {
      "cell_type": "markdown",
      "source": [
        "### Using the regression coefficients for prediction\n",
        "\n",
        "Now that you have the regression coefficients for the study time and grade relationship, you can use them in a function to estimate the expected grade for a given amount of study."
      ],
      "metadata": {}
    },
    {
      "cell_type": "code",
      "source": [
        "# Define a function based on our regression coefficients\n",
        "def f(x):\n",
        "    m = 6.3134\n",
        "    b = -17.9164\n",
        "    return m*x + b\n",
        "\n",
        "study_time = 14\n",
        "\n",
        "# Get f(x) for study time\n",
        "prediction = f(study_time)\n",
        "\n",
        "# Grade can't be less than 0 or more than 100\n",
        "expected_grade = max(0,min(100,prediction))\n",
        "\n",
        "#Print the estimated grade\n",
        "print ('Studying for {} hours per week may result in a grade of {:.0f}'.format(study_time, expected_grade))"
      ],
      "outputs": [],
      "execution_count": null,
      "metadata": {
        "tags": []
      }
    },
    {
      "cell_type": "code",
      "source": [
        "import altair as alt"
      ],
      "outputs": [],
      "execution_count": 1,
      "metadata": {
        "collapsed": true,
        "jupyter": {
          "source_hidden": false,
          "outputs_hidden": false
        },
        "nteract": {
          "transient": {
            "deleting": false
          }
        },
        "gather": {
          "logged": 1623575643222
        }
      }
    },
    {
      "cell_type": "code",
      "source": [
        "!conda install geopandas"
      ],
      "outputs": [
        {
          "output_type": "stream",
          "name": "stdout",
          "text": [
            "Collecting package metadata (current_repodata.json): - \b\b\\ \b\b| \b\b/ \b\b- \b\b\\ \b\b| \b\b/ \b\b- \b\b\\ \b\b| \b\b/ \b\b- \b\b\\ \b\b| \b\b/ \b\b- \b\b\\ \b\b| \b\b/ \b\b- \b\b\\ \b\b| \b\b/ \b\bdone\n",
            "Solving environment: \\ \b\b| \b\b/ \b\b- \b\b\\ \b\b| \b\b/ \b\b- \b\b\\ \b\b| \b\b/ \b\b- \b\b\\ \b\b| \b\b/ \b\b- \b\b\\ \b\b| \b\b/ \b\b- \b\b\\ \b\b| \b\b/ \b\bfailed with initial frozen solve. Retrying with flexible solve.\n",
            "Solving environment: \\ \b\b| \b\b/ \b\b- \b\b\\ \b\b| \b\b/ \b\b- \b\b\\ \b\b| \b\b/ \b\b- \b\b\\ \b\b| \b\b/ \b\b- \b\b\\ \b\b| \b\b/ \b\b- \b\b\\ \b\b| \b\b/ \b\b- \b\bfailed with repodata from current_repodata.json, will retry with next repodata source.\n",
            "Collecting package metadata (repodata.json): | \b\b/ \b\b- \b\b\\ \b\b| \b\b/ \b\b- \b\b\\ \b\b| \b\b/ \b\b- \b\b\\ \b\b| \b\b/ \b\b- \b\b\\ \b\b| \b\b/ \b\b- \b\b\\ \b\b| \b\b/ \b\b- \b\b\\ \b\b| \b\b/ \b\bdone\n",
            "Solving environment: \\ \b\b| \b\b/ \b\b- \b\b\\ \b\b| \b\b/ \b\b- \b\b\\ \b\b| \b\b/ \b\b- \b\b\\ \b\b| \b\b/ \b\b- \b\b\\ \b\b| \b\b/ \b\b- \b\b\\ \b\b| \b\b/ \b\b- \b\b\\ \b\b| \b\b/ \b\b- \b\b\\ \b\b| \b\b/ \b\b- \b\b\\ \b\b| \b\b/ \b\b- \b\b\\ \b\b| \b\b/ \b\b- \b\b\\ \b\b| \b\b/ \b\b- \b\b\\ \b\b| \b\b/ \b\b- \b\b\\ \b\b| \b\b/ \b\b- \b\b\\ \b\b| \b\b/ \b\b- \b\b\\ \b\b| \b\b/ \b\b- \b\b\\ \b\b| \b\b/ \b\b- \b\b\\ \b\b| \b\b/ \b\b- \b\b\\ \b\b| \b\b/ \b\b- \b\b\\ \b\b| \b\b/ \b\b- \b\b\\ \b\b| \b\b/ \b\b- \b\b\\ \b\b| \b\b/ \b\b- \b\b\\ \b\b| \b\b/ \b\b- \b\b\\ \b\b| \b\b/ \b\b- \b\b\\ \b\b| \b\b/ \b\b- \b\b\\ \b\b| \b\b/ \b\b- \b\b\\ \b\b| \b\b/ \b\b- \b\b\\ \b\b| \b\b/ \b\b- \b\b\\ \b\b| \b\b/ \b\b- \b\b\\ \b\b| \b\b/ \b\b- \b\b\\ \b\b| \b\b/ \b\b- \b\b\\ \b\b| \b\b/ \b\b- \b\b\\ \b\b| \b\b/ \b\b- \b\b\\ \b\b| \b\b/ \b\b- \b\b\\ \b\b| \b\b/ \b\b- \b\b\\ \b\b| \b\b/ \b\b- \b\b\\ \b\b| \b\b/ \b\b- \b\b\\ \b\b| \b\b/ \b\b- \b\b\\ \b\b| \b\b/ \b\b- \b\b\\ \b\b| \b\b/ \b\b- \b\b\\ \b\b| \b\b/ \b\b- \b\b\\ \b\b| \b\b/ \b\b- \b\b\\ \b\b| \b\b/ \b\b- \b\b\\ \b\b| \b\b/ \b\b- \b\b\\ \b\b| \b\b/ \b\b- \b\b\\ \b\b| \b\b/ \b\b- \b\b\\ \b\b| \b\b/ \b\b- \b\b\\ \b\b| \b\b/ \b\b- \b\b\\ \b\b| \b\b/ \b\b- \b\b\\ \b\bdone\n",
            "\n",
            "## Package Plan ##\n",
            "\n",
            "  environment location: /anaconda\n",
            "\n",
            "  added / updated specs:\n",
            "    - geopandas\n",
            "\n",
            "\n",
            "The following packages will be downloaded:\n",
            "\n",
            "    package                    |            build\n",
            "    ---------------------------|-----------------\n",
            "    attrs-21.2.0               |     pyhd3eb1b0_0          46 KB\n",
            "    blas-1.0                   |              mkl           6 KB\n",
            "    bzip2-1.0.8                |       h7b6447c_0          78 KB\n",
            "    ca-certificates-2021.5.25  |       h06a4308_1         112 KB\n",
            "    cairo-1.14.12              |       h8948797_3         906 KB\n",
            "    certifi-2021.5.30          |   py38h06a4308_0         138 KB\n",
            "    cffi-1.14.0                |   py38h2e261b9_0         226 KB\n",
            "    cfitsio-3.470              |       hb7c8383_2         876 KB\n",
            "    click-7.1.2                |     pyhd3eb1b0_0          64 KB\n",
            "    click-plugins-1.1.1        |             py_0          12 KB\n",
            "    cligj-0.7.2                |   py38h06a4308_0          13 KB\n",
            "    curl-7.67.0                |       hbc83047_0         134 KB\n",
            "    expat-2.4.1                |       h2531618_2         168 KB\n",
            "    fiona-1.8.13.post1         |   py38hc820daa_0         752 KB\n",
            "    fontconfig-2.13.1          |       h6c09931_0         250 KB\n",
            "    freetype-2.10.4            |       h5ab3b9f_0         596 KB\n",
            "    freexl-1.0.6               |       h27cfd23_0          42 KB\n",
            "    gdal-3.0.2                 |   py38hbb2a789_0         1.0 MB\n",
            "    geopandas-0.8.1            |             py_0         902 KB\n",
            "    geos-3.8.0                 |       he6710b0_0         961 KB\n",
            "    geotiff-1.5.1              |       h21e8280_1         239 KB\n",
            "    giflib-5.1.4               |       h14c3975_1          68 KB\n",
            "    glib-2.63.1                |       h5a9c865_0         2.9 MB\n",
            "    hdf4-4.2.13                |       h3ca952b_2         714 KB\n",
            "    hdf5-1.10.4                |       hb1b8bf9_0         3.9 MB\n",
            "    icu-58.2                   |       he6710b0_3        10.5 MB\n",
            "    intel-openmp-2021.2.0      |     h06a4308_610         1.3 MB\n",
            "    jpeg-9b                    |       h024ee3a_2         214 KB\n",
            "    json-c-0.13.1              |       h1bed415_0          64 KB\n",
            "    kealib-1.4.7               |       hd0c454d_6         154 KB\n",
            "    krb5-1.16.4                |       h173b8e3_0         1.2 MB\n",
            "    libboost-1.67.0            |       h46d08c1_4        13.0 MB\n",
            "    libcurl-7.67.0             |       h20c2e04_0         426 KB\n",
            "    libdap4-3.19.1             |       h6ec2957_0         1.0 MB\n",
            "    libedit-3.1.20210216       |       h27cfd23_1         167 KB\n",
            "    libffi-3.2.1               |    hf484d3e_1007          48 KB\n",
            "    libgdal-3.0.2              |       h27ab9cc_0        11.7 MB\n",
            "    libgfortran-ng-7.5.0       |      ha8ba4b0_17          22 KB\n",
            "    libgfortran4-7.5.0         |      ha8ba4b0_17         995 KB\n",
            "    libkml-1.3.0               |       h590aaf7_4         564 KB\n",
            "    libnetcdf-4.6.1            |       h11d0813_2         833 KB\n",
            "    libpng-1.6.37              |       hbc83047_0         278 KB\n",
            "    libpq-11.2                 |       h20c2e04_0         2.0 MB\n",
            "    libspatialindex-1.9.3      |       h2531618_0         2.1 MB\n",
            "    libspatialite-4.3.0a       |       h793db0d_0         2.1 MB\n",
            "    libssh2-1.9.0              |       h1ba5d50_1         269 KB\n",
            "    libtiff-4.1.0              |       h2733197_0         447 KB\n",
            "    libuuid-1.0.3              |       h1bed415_2          15 KB\n",
            "    libxcb-1.14                |       h7b6447c_0         505 KB\n",
            "    libxml2-2.9.10             |       hb55368b_3         1.2 MB\n",
            "    lz4-c-1.8.1.2              |       h14c3975_0         130 KB\n",
            "    mkl-2021.2.0               |     h06a4308_296       144.3 MB\n",
            "    mkl-service-2.3.0          |   py38h27cfd23_1          57 KB\n",
            "    mkl_fft-1.3.0              |   py38h42c9631_2         180 KB\n",
            "    mkl_random-1.2.1           |   py38ha9443f7_2         305 KB\n",
            "    munch-2.5.0                |             py_0          15 KB\n",
            "    numpy-1.20.2               |   py38h2d18471_0          23 KB\n",
            "    numpy-base-1.20.2          |   py38hfae3a4d_0         4.6 MB\n",
            "    openjpeg-2.3.0             |       h05c96fa_1         301 KB\n",
            "    pandas-1.2.4               |   py38h2531618_0         8.9 MB\n",
            "    pcre-8.44                  |       he6710b0_0         212 KB\n",
            "    pixman-0.40.0              |       h7b6447c_0         370 KB\n",
            "    poppler-0.65.0             |       h581218d_1         1.3 MB\n",
            "    poppler-data-0.4.10        |       h06a4308_0         2.1 MB\n",
            "    postgresql-11.2            |       h20c2e04_0         3.7 MB\n",
            "    proj-6.2.1                 |       haa6030c_0         9.0 MB\n",
            "    pyproj-2.6.1.post1         |   py38hb3025e9_1         409 KB\n",
            "    python-3.8.2               |       h191fe78_0        49.6 MB\n",
            "    python-dateutil-2.8.1      |     pyhd3eb1b0_0         221 KB\n",
            "    pytz-2021.1                |     pyhd3eb1b0_0         181 KB\n",
            "    readline-7.0               |       h7b6447c_5         324 KB\n",
            "    rtree-0.9.7                |   py38h06a4308_1          48 KB\n",
            "    shapely-1.7.1              |   py38h98ec03d_0         398 KB\n",
            "    sqlite-3.33.0              |       h62c20be_0         1.1 MB\n",
            "    tbb-2018.0.5               |       h6bb024c_0         1.1 MB\n",
            "    tiledb-1.6.3               |       h1fb8f14_0         1.9 MB\n",
            "    xerces-c-3.2.3             |       h780794e_0         2.4 MB\n",
            "    zstd-1.3.7                 |       h0b5b093_0         401 KB\n",
            "    ------------------------------------------------------------\n",
            "                                           Total:       299.4 MB\n",
            "\n",
            "The following NEW packages will be INSTALLED:\n",
            "\n",
            "  attrs              pkgs/main/noarch::attrs-21.2.0-pyhd3eb1b0_0\n",
            "  blas               pkgs/main/linux-64::blas-1.0-mkl\n",
            "  bzip2              pkgs/main/linux-64::bzip2-1.0.8-h7b6447c_0\n",
            "  cairo              pkgs/main/linux-64::cairo-1.14.12-h8948797_3\n",
            "  cfitsio            pkgs/main/linux-64::cfitsio-3.470-hb7c8383_2\n",
            "  click              pkgs/main/noarch::click-7.1.2-pyhd3eb1b0_0\n",
            "  click-plugins      pkgs/main/noarch::click-plugins-1.1.1-py_0\n",
            "  cligj              pkgs/main/linux-64::cligj-0.7.2-py38h06a4308_0\n",
            "  curl               pkgs/main/linux-64::curl-7.67.0-hbc83047_0\n",
            "  expat              pkgs/main/linux-64::expat-2.4.1-h2531618_2\n",
            "  fiona              pkgs/main/linux-64::fiona-1.8.13.post1-py38hc820daa_0\n",
            "  fontconfig         pkgs/main/linux-64::fontconfig-2.13.1-h6c09931_0\n",
            "  freetype           pkgs/main/linux-64::freetype-2.10.4-h5ab3b9f_0\n",
            "  freexl             pkgs/main/linux-64::freexl-1.0.6-h27cfd23_0\n",
            "  gdal               pkgs/main/linux-64::gdal-3.0.2-py38hbb2a789_0\n",
            "  geopandas          pkgs/main/noarch::geopandas-0.8.1-py_0\n",
            "  geos               pkgs/main/linux-64::geos-3.8.0-he6710b0_0\n",
            "  geotiff            pkgs/main/linux-64::geotiff-1.5.1-h21e8280_1\n",
            "  giflib             pkgs/main/linux-64::giflib-5.1.4-h14c3975_1\n",
            "  glib               pkgs/main/linux-64::glib-2.63.1-h5a9c865_0\n",
            "  hdf4               pkgs/main/linux-64::hdf4-4.2.13-h3ca952b_2\n",
            "  hdf5               pkgs/main/linux-64::hdf5-1.10.4-hb1b8bf9_0\n",
            "  icu                pkgs/main/linux-64::icu-58.2-he6710b0_3\n",
            "  intel-openmp       pkgs/main/linux-64::intel-openmp-2021.2.0-h06a4308_610\n",
            "  jpeg               pkgs/main/linux-64::jpeg-9b-h024ee3a_2\n",
            "  json-c             pkgs/main/linux-64::json-c-0.13.1-h1bed415_0\n",
            "  kealib             pkgs/main/linux-64::kealib-1.4.7-hd0c454d_6\n",
            "  krb5               pkgs/main/linux-64::krb5-1.16.4-h173b8e3_0\n",
            "  libboost           pkgs/main/linux-64::libboost-1.67.0-h46d08c1_4\n",
            "  libcurl            pkgs/main/linux-64::libcurl-7.67.0-h20c2e04_0\n",
            "  libdap4            pkgs/main/linux-64::libdap4-3.19.1-h6ec2957_0\n",
            "  libedit            pkgs/main/linux-64::libedit-3.1.20210216-h27cfd23_1\n",
            "  libgdal            pkgs/main/linux-64::libgdal-3.0.2-h27ab9cc_0\n",
            "  libgfortran-ng     pkgs/main/linux-64::libgfortran-ng-7.5.0-ha8ba4b0_17\n",
            "  libgfortran4       pkgs/main/linux-64::libgfortran4-7.5.0-ha8ba4b0_17\n",
            "  libkml             pkgs/main/linux-64::libkml-1.3.0-h590aaf7_4\n",
            "  libnetcdf          pkgs/main/linux-64::libnetcdf-4.6.1-h11d0813_2\n",
            "  libpng             pkgs/main/linux-64::libpng-1.6.37-hbc83047_0\n",
            "  libpq              pkgs/main/linux-64::libpq-11.2-h20c2e04_0\n",
            "  libspatialindex    pkgs/main/linux-64::libspatialindex-1.9.3-h2531618_0\n",
            "  libspatialite      pkgs/main/linux-64::libspatialite-4.3.0a-h793db0d_0\n",
            "  libssh2            pkgs/main/linux-64::libssh2-1.9.0-h1ba5d50_1\n",
            "  libtiff            pkgs/main/linux-64::libtiff-4.1.0-h2733197_0\n",
            "  libuuid            pkgs/main/linux-64::libuuid-1.0.3-h1bed415_2\n",
            "  libxcb             pkgs/main/linux-64::libxcb-1.14-h7b6447c_0\n",
            "  libxml2            pkgs/main/linux-64::libxml2-2.9.10-hb55368b_3\n",
            "  lz4-c              pkgs/main/linux-64::lz4-c-1.8.1.2-h14c3975_0\n",
            "  mkl                pkgs/main/linux-64::mkl-2021.2.0-h06a4308_296\n",
            "  mkl-service        pkgs/main/linux-64::mkl-service-2.3.0-py38h27cfd23_1\n",
            "  mkl_fft            pkgs/main/linux-64::mkl_fft-1.3.0-py38h42c9631_2\n",
            "  mkl_random         pkgs/main/linux-64::mkl_random-1.2.1-py38ha9443f7_2\n",
            "  munch              pkgs/main/noarch::munch-2.5.0-py_0\n",
            "  numpy              pkgs/main/linux-64::numpy-1.20.2-py38h2d18471_0\n",
            "  numpy-base         pkgs/main/linux-64::numpy-base-1.20.2-py38hfae3a4d_0\n",
            "  openjpeg           pkgs/main/linux-64::openjpeg-2.3.0-h05c96fa_1\n",
            "  pandas             pkgs/main/linux-64::pandas-1.2.4-py38h2531618_0\n",
            "  pcre               pkgs/main/linux-64::pcre-8.44-he6710b0_0\n",
            "  pixman             pkgs/main/linux-64::pixman-0.40.0-h7b6447c_0\n",
            "  poppler            pkgs/main/linux-64::poppler-0.65.0-h581218d_1\n",
            "  poppler-data       pkgs/main/linux-64::poppler-data-0.4.10-h06a4308_0\n",
            "  postgresql         pkgs/main/linux-64::postgresql-11.2-h20c2e04_0\n",
            "  proj               pkgs/main/linux-64::proj-6.2.1-haa6030c_0\n",
            "  pyproj             pkgs/main/linux-64::pyproj-2.6.1.post1-py38hb3025e9_1\n",
            "  python-dateutil    pkgs/main/noarch::python-dateutil-2.8.1-pyhd3eb1b0_0\n",
            "  pytz               pkgs/main/noarch::pytz-2021.1-pyhd3eb1b0_0\n",
            "  rtree              pkgs/main/linux-64::rtree-0.9.7-py38h06a4308_1\n",
            "  shapely            pkgs/main/linux-64::shapely-1.7.1-py38h98ec03d_0\n",
            "  tbb                pkgs/main/linux-64::tbb-2018.0.5-h6bb024c_0\n",
            "  tiledb             pkgs/main/linux-64::tiledb-1.6.3-h1fb8f14_0\n",
            "  xerces-c           pkgs/main/linux-64::xerces-c-3.2.3-h780794e_0\n",
            "  zstd               pkgs/main/linux-64::zstd-1.3.7-h0b5b093_0\n",
            "\n",
            "The following packages will be UPDATED:\n",
            "\n",
            "  ca-certificates    anaconda::ca-certificates-2020.10.14-0 --> pkgs/main::ca-certificates-2021.5.25-h06a4308_1\n",
            "  certifi                anaconda::certifi-2020.6.20-py38_0 --> pkgs/main::certifi-2021.5.30-py38h06a4308_0\n",
            "\n",
            "The following packages will be DOWNGRADED:\n",
            "\n",
            "  cffi                                1.14.5-py38h261ae71_0 --> 1.14.0-py38h2e261b9_0\n",
            "  libffi                                     3.3-he6710b0_2 --> 3.2.1-hf484d3e_1007\n",
            "  python                                   3.8.5-h7579374_1 --> 3.8.2-h191fe78_0\n",
            "  readline                                   8.1-h27cfd23_0 --> 7.0-h7b6447c_5\n",
            "  sqlite                                  3.35.4-hdfb4753_0 --> 3.33.0-h62c20be_0\n",
            "\n",
            "\n",
            "Proceed ([y]/n)? "
          ]
        }
      ],
      "execution_count": 3,
      "metadata": {
        "collapsed": true,
        "jupyter": {
          "source_hidden": false,
          "outputs_hidden": false
        },
        "nteract": {
          "transient": {
            "deleting": false
          }
        }
      }
    },
    {
      "cell_type": "markdown",
      "source": [
        "So by applying statistics to sample data, you've determined a relationship between study time and grade; and encapsulated that relationship in a general function that can be used to predict a grade for a given amount of study time.\n",
        "\n",
        "This technique is in fact the basic premise of machine learning. You can take a set of sample data that includes one or more *features* (in this case, the number of hours studied) and a known *label* value (in this case, the grade achieved) and use the sample data to derive a function that calculates predicted label values for any given set of features."
      ],
      "metadata": {}
    },
    {
      "cell_type": "markdown",
      "source": [
        "## Further Reading\n",
        "\n",
        "To learn more about the Python packages you explored in this notebook, see the following documentation:\n",
        "\n",
        "- [NumPy](https://numpy.org/doc/stable/)\n",
        "- [Pandas](https://pandas.pydata.org/pandas-docs/stable/)\n",
        "- [Matplotlib](https://matplotlib.org/contents.html)\n",
        "\n",
        "## Challenge: Analyze Flight Data\n",
        "\n",
        "If this notebook has inspired you to try exploring data for yourself, why not take on the challenge of a real-world dataset containing flight records from the US Department of Transportation? You'll find the challenge in the [/challenges/01 - Flights Challenge.ipynb](./challenges/01%20-%20Flights%20Challenge.ipynb) notebook!\n",
        "\n",
        "> **Note**: The time to complete this optional challenge is not included in the estimated time for this exercise - you can spend as little or as much time on it as you like!"
      ],
      "metadata": {}
    }
  ],
  "metadata": {
    "kernelspec": {
      "name": "python3-azureml",
      "language": "python",
      "display_name": "Python 3.6 - AzureML"
    },
    "language_info": {
      "name": "python",
      "version": "3.6.9",
      "mimetype": "text/x-python",
      "codemirror_mode": {
        "name": "ipython",
        "version": 3
      },
      "pygments_lexer": "ipython3",
      "nbconvert_exporter": "python",
      "file_extension": ".py"
    },
    "kernel_info": {
      "name": "python3-azureml"
    },
    "nteract": {
      "version": "nteract-front-end@1.0.0"
    },
    "microsoft": {
      "host": {
        "AzureML": {
          "notebookHasBeenCompleted": true
        }
      }
    }
  },
  "nbformat": 4,
  "nbformat_minor": 2
}