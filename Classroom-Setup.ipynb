{
 "cells": [
  {
   "cell_type": "code",
   "execution_count": 0,
   "metadata": {
    "application/vnd.databricks.v1+cell": {
     "cellMetadata": {},
     "inputWidgets": {},
     "nuid": "ec74bc8c-aefc-4789-8f9b-4084ac192ba8",
     "showTitle": false,
     "title": ""
    }
   },
   "outputs": [],
   "source": [
    "\n",
    "%scala\n",
    "val tags = com.databricks.logging.AttributionContext.current.tags\n",
    "val name = tags.getOrElse(com.databricks.logging.BaseTagDefinitions.TAG_USER, java.util.UUID.randomUUID.toString.replace(\"-\", \"\"))\n",
    "val username = if (name != \"unknown\") name else dbutils.widgets.get(\"databricksUsername\")\n",
    "spark.conf.set(\"com.databricks.training.username\", username)\n",
    "\n",
    "displayHTML(\"Initialized classroom variables & functions...\")"
   ]
  },
  {
   "cell_type": "code",
   "execution_count": 0,
   "metadata": {
    "application/vnd.databricks.v1+cell": {
     "cellMetadata": {},
     "inputWidgets": {},
     "nuid": "3ac6e16c-e4ab-4828-ba68-bdaf22e9a1ff",
     "showTitle": false,
     "title": ""
    }
   },
   "outputs": [],
   "source": [
    "course_name = \"idbml\"\n",
    "\n",
    "username = spark.conf.get(\"com.databricks.training.username\", \"unknown-username\")\n",
    "\n",
    "dbutils.fs.mkdirs(\"dbfs:/user/\" + username)\n",
    "dbutils.fs.rm(\"dbfs:/user/\" + username + \"/\" + course_name, True)\n",
    "dbutils.fs.mkdirs(\"dbfs:/user/\" + username + \"/\" + course_name)\n",
    "\n",
    "database_name = username + \"_\" + course_name\n",
    "database_name = database_name.replace(\".\", \"_\").replace(\"@\", \"_\")\n",
    "try:\n",
    "    spark.sql(f\"CREATE DATABASE {database_name}\")\n",
    "except:\n",
    "    None\n",
    "\n",
    "base_read_path = \"wasbs://courseware@dbacademy.blob.core.windows.net/introduction-to-databricks-machine-learning/v01/\"\n",
    "london_read_path = base_read_path + \"london/\"\n",
    "base_write_path = \"dbfs:/user/\" + username + \"/\" + course_name + \"/\"\n",
    "\n",
    "input_path = london_read_path + \"london-listings-2021-01-31\"\n",
    "\n",
    "None\n"
   ]
  }
 ],
 "metadata": {
  "application/vnd.databricks.v1+notebook": {
   "dashboards": [],
   "language": "python",
   "notebookMetadata": {
    "pythonIndentUnit": 2
   },
   "notebookName": "Classroom-Setup",
   "notebookOrigID": 3350865296187768,
   "widgets": {}
  }
 },
 "nbformat": 4,
 "nbformat_minor": 0
}
