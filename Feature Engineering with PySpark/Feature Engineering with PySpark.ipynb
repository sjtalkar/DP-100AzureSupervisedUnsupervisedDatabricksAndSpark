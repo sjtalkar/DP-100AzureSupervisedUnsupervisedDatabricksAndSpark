{
  "cells": [
    {
      "cell_type": "markdown",
      "metadata": {
        "id": "vIw2-arCwbcB"
      },
      "source": [
        "# Feature Engineering with PySpark"
      ]
    },
    {
      "cell_type": "markdown",
      "metadata": {
        "id": "y0EdULw6wbcH"
      },
      "source": [
        "## Exploratory Data Analysis"
      ]
    },
    {
      "cell_type": "code",
      "execution_count": null,
      "metadata": {
        "id": "onaT5FulwbcI"
      },
      "outputs": [],
      "source": [
        "import pyspark as sp"
      ]
    },
    {
      "cell_type": "code",
      "execution_count": null,
      "metadata": {
        "id": "QbC_S-TNwbcK",
        "outputId": "0e1e40b4-e733-4c1c-a08e-76cc54b1686d"
      },
      "outputs": [
        {
          "data": {
            "text/plain": [
              "<module 'pyspark.version' from '/Users/hakan/.pyenv/versions/miniconda3-latest/lib/python3.6/site-packages/pyspark/version.py'>"
            ]
          },
          "execution_count": 2,
          "metadata": {},
          "output_type": "execute_result"
        }
      ],
      "source": [
        "sp.version"
      ]
    },
    {
      "cell_type": "code",
      "execution_count": null,
      "metadata": {
        "id": "iY9GkElJwbcL",
        "outputId": "f4ca894c-cb95-49fd-eb89-9efc61bf96ed"
      },
      "outputs": [
        {
          "name": "stdout",
          "output_type": "stream",
          "text": [
            "sys.version_info(major=3, minor=6, micro=7, releaselevel='final', serial=0)\n"
          ]
        }
      ],
      "source": [
        "import sys\n",
        "print(sys.version_info)"
      ]
    },
    {
      "cell_type": "code",
      "execution_count": null,
      "metadata": {
        "id": "70lspGqQwbcM",
        "outputId": "f82cd513-af2f-4c18-e8d2-b0225b95f1f5"
      },
      "outputs": [
        {
          "data": {
            "text/plain": [
              "'3.6.7 |Anaconda, Inc.| (default, Oct 23 2018, 14:01:38) \\n[GCC 4.2.1 Compatible Clang 4.0.1 (tags/RELEASE_401/final)]'"
            ]
          },
          "execution_count": 4,
          "metadata": {},
          "output_type": "execute_result"
        }
      ],
      "source": [
        "sys.version"
      ]
    },
    {
      "cell_type": "code",
      "execution_count": null,
      "metadata": {
        "id": "wkqmasutwbcN"
      },
      "outputs": [],
      "source": [
        "import os\n",
        "os.environ[\"JAVA_HOME\"] = \"/Library/Java/JavaVirtualMachines/jdk1.8.0_151.jdk/Contents/Home\""
      ]
    },
    {
      "cell_type": "code",
      "execution_count": null,
      "metadata": {
        "id": "5E6VKBSTwbcO"
      },
      "outputs": [],
      "source": [
        "sc = sp.SparkContext.getOrCreate()"
      ]
    },
    {
      "cell_type": "code",
      "execution_count": null,
      "metadata": {
        "id": "1YNZnhXbwbcP",
        "outputId": "47ff75e1-c30e-42b9-bf75-539c733cb8b1"
      },
      "outputs": [
        {
          "data": {
            "text/plain": [
              "'2.4.0'"
            ]
          },
          "execution_count": 7,
          "metadata": {},
          "output_type": "execute_result"
        }
      ],
      "source": [
        "sc.version"
      ]
    },
    {
      "cell_type": "code",
      "execution_count": null,
      "metadata": {
        "id": "GaAChj-4wbcP"
      },
      "outputs": [],
      "source": [
        "# spark session\n",
        "# Import SparkSession from pyspark.sql\n",
        "from pyspark.sql import SparkSession \n",
        "\n",
        "# Create a session as spark \n",
        "spark = SparkSession.builder.getOrCreate()"
      ]
    },
    {
      "cell_type": "code",
      "execution_count": null,
      "metadata": {
        "id": "6Hl4E-58wbcQ",
        "outputId": "b8616204-a508-4f66-ae08-c8368d149e2b"
      },
      "outputs": [
        {
          "data": {
            "text/plain": [
              "['No.',\n",
              " 'MLSID',\n",
              " 'StreetNumberNumeric',\n",
              " 'streetaddress',\n",
              " 'STREETNAME',\n",
              " 'PostalCode',\n",
              " 'StateOrProvince',\n",
              " 'City',\n",
              " 'SalesClosePrice',\n",
              " 'LISTDATE',\n",
              " 'LISTPRICE',\n",
              " 'LISTTYPE',\n",
              " 'OriginalListPrice',\n",
              " 'PricePerTSFT',\n",
              " 'FOUNDATIONSIZE',\n",
              " 'FENCE',\n",
              " 'MapLetter',\n",
              " 'LotSizeDimensions',\n",
              " 'SchoolDistrictNumber',\n",
              " 'DAYSONMARKET',\n",
              " 'offmarketdate',\n",
              " 'Fireplaces',\n",
              " 'RoomArea4',\n",
              " 'roomtype',\n",
              " 'ROOF',\n",
              " 'RoomFloor4',\n",
              " 'PotentialShortSale',\n",
              " 'PoolDescription',\n",
              " 'PDOM',\n",
              " 'GarageDescription',\n",
              " 'SQFTABOVEGROUND',\n",
              " 'Taxes',\n",
              " 'RoomFloor1',\n",
              " 'RoomArea1',\n",
              " 'TAXWITHASSESSMENTS',\n",
              " 'TAXYEAR',\n",
              " 'LivingArea',\n",
              " 'UNITNUMBER',\n",
              " 'YEARBUILT',\n",
              " 'ZONING',\n",
              " 'STYLE',\n",
              " 'ACRES',\n",
              " 'CoolingDescription',\n",
              " 'APPLIANCES',\n",
              " 'backonmarketdate',\n",
              " 'ROOMFAMILYCHAR',\n",
              " 'RoomArea3',\n",
              " 'EXTERIOR',\n",
              " 'RoomFloor3',\n",
              " 'RoomFloor2',\n",
              " 'RoomArea2',\n",
              " 'DiningRoomDescription',\n",
              " 'BASEMENT',\n",
              " 'BathsFull',\n",
              " 'BathsHalf',\n",
              " 'BATHQUARTER',\n",
              " 'BATHSTHREEQUARTER',\n",
              " 'Class',\n",
              " 'BATHSTOTAL',\n",
              " 'BATHDESC',\n",
              " 'RoomArea5',\n",
              " 'RoomFloor5',\n",
              " 'RoomArea6',\n",
              " 'RoomFloor6',\n",
              " 'RoomArea7',\n",
              " 'RoomFloor7',\n",
              " 'RoomArea8',\n",
              " 'RoomFloor8',\n",
              " 'Bedrooms',\n",
              " 'SQFTBELOWGROUND',\n",
              " 'AssumableMortgage',\n",
              " 'AssociationFee',\n",
              " 'ASSESSMENTPENDING',\n",
              " 'AssessedValuation']"
            ]
          },
          "execution_count": 9,
          "metadata": {},
          "output_type": "execute_result"
        }
      ],
      "source": [
        "df = spark.read.csv('2017_StPaul_MN_Real_Estate.csv', header=True)\n",
        "df.columns"
      ]
    },
    {
      "cell_type": "code",
      "execution_count": null,
      "metadata": {
        "id": "1843DvZYwbcR",
        "outputId": "604a7e2c-e692-44d9-c381-e92f3d4d483c"
      },
      "outputs": [
        {
          "data": {
            "text/plain": [
              "5000"
            ]
          },
          "execution_count": 10,
          "metadata": {},
          "output_type": "execute_result"
        }
      ],
      "source": [
        "df.count()"
      ]
    },
    {
      "cell_type": "code",
      "execution_count": null,
      "metadata": {
        "id": "U7Wj3laNwbcR",
        "outputId": "202510a9-d769-4723-89e7-41e46452a578"
      },
      "outputs": [
        {
          "data": {
            "text/plain": [
              "[('No.', 'string'),\n",
              " ('MLSID', 'string'),\n",
              " ('StreetNumberNumeric', 'string'),\n",
              " ('streetaddress', 'string'),\n",
              " ('STREETNAME', 'string'),\n",
              " ('PostalCode', 'string'),\n",
              " ('StateOrProvince', 'string'),\n",
              " ('City', 'string'),\n",
              " ('SalesClosePrice', 'string'),\n",
              " ('LISTDATE', 'string'),\n",
              " ('LISTPRICE', 'string'),\n",
              " ('LISTTYPE', 'string'),\n",
              " ('OriginalListPrice', 'string'),\n",
              " ('PricePerTSFT', 'string'),\n",
              " ('FOUNDATIONSIZE', 'string'),\n",
              " ('FENCE', 'string'),\n",
              " ('MapLetter', 'string'),\n",
              " ('LotSizeDimensions', 'string'),\n",
              " ('SchoolDistrictNumber', 'string'),\n",
              " ('DAYSONMARKET', 'string'),\n",
              " ('offmarketdate', 'string'),\n",
              " ('Fireplaces', 'string'),\n",
              " ('RoomArea4', 'string'),\n",
              " ('roomtype', 'string'),\n",
              " ('ROOF', 'string'),\n",
              " ('RoomFloor4', 'string'),\n",
              " ('PotentialShortSale', 'string'),\n",
              " ('PoolDescription', 'string'),\n",
              " ('PDOM', 'string'),\n",
              " ('GarageDescription', 'string'),\n",
              " ('SQFTABOVEGROUND', 'string'),\n",
              " ('Taxes', 'string'),\n",
              " ('RoomFloor1', 'string'),\n",
              " ('RoomArea1', 'string'),\n",
              " ('TAXWITHASSESSMENTS', 'string'),\n",
              " ('TAXYEAR', 'string'),\n",
              " ('LivingArea', 'string'),\n",
              " ('UNITNUMBER', 'string'),\n",
              " ('YEARBUILT', 'string'),\n",
              " ('ZONING', 'string'),\n",
              " ('STYLE', 'string'),\n",
              " ('ACRES', 'string'),\n",
              " ('CoolingDescription', 'string'),\n",
              " ('APPLIANCES', 'string'),\n",
              " ('backonmarketdate', 'string'),\n",
              " ('ROOMFAMILYCHAR', 'string'),\n",
              " ('RoomArea3', 'string'),\n",
              " ('EXTERIOR', 'string'),\n",
              " ('RoomFloor3', 'string'),\n",
              " ('RoomFloor2', 'string'),\n",
              " ('RoomArea2', 'string'),\n",
              " ('DiningRoomDescription', 'string'),\n",
              " ('BASEMENT', 'string'),\n",
              " ('BathsFull', 'string'),\n",
              " ('BathsHalf', 'string'),\n",
              " ('BATHQUARTER', 'string'),\n",
              " ('BATHSTHREEQUARTER', 'string'),\n",
              " ('Class', 'string'),\n",
              " ('BATHSTOTAL', 'string'),\n",
              " ('BATHDESC', 'string'),\n",
              " ('RoomArea5', 'string'),\n",
              " ('RoomFloor5', 'string'),\n",
              " ('RoomArea6', 'string'),\n",
              " ('RoomFloor6', 'string'),\n",
              " ('RoomArea7', 'string'),\n",
              " ('RoomFloor7', 'string'),\n",
              " ('RoomArea8', 'string'),\n",
              " ('RoomFloor8', 'string'),\n",
              " ('Bedrooms', 'string'),\n",
              " ('SQFTBELOWGROUND', 'string'),\n",
              " ('AssumableMortgage', 'string'),\n",
              " ('AssociationFee', 'string'),\n",
              " ('ASSESSMENTPENDING', 'string'),\n",
              " ('AssessedValuation', 'string')]"
            ]
          },
          "execution_count": 11,
          "metadata": {},
          "output_type": "execute_result"
        }
      ],
      "source": [
        "df.dtypes"
      ]
    },
    {
      "cell_type": "markdown",
      "metadata": {
        "id": "VFh6MnqtwbcS"
      },
      "source": [
        "### What are we predicting?"
      ]
    },
    {
      "cell_type": "code",
      "execution_count": null,
      "metadata": {
        "id": "8HDkgvuKwbcT",
        "outputId": "c82bb3dc-8853-4643-b0c0-f5248a1416c3"
      },
      "outputs": [
        {
          "name": "stdout",
          "output_type": "stream",
          "text": [
            "+-------+------------------+\n",
            "|summary|   SalesClosePrice|\n",
            "+-------+------------------+\n",
            "|  count|              5000|\n",
            "|   mean|       262804.4668|\n",
            "| stddev|140559.82591998563|\n",
            "|    min|            100000|\n",
            "|    max|             99900|\n",
            "+-------+------------------+\n",
            "\n"
          ]
        }
      ],
      "source": [
        "# Select our dependent variable\n",
        "Y_df = df.select(['SalesClosePrice'])\n",
        "\n",
        "# Display summary statistics\n",
        "Y_df.describe().show()"
      ]
    },
    {
      "cell_type": "markdown",
      "metadata": {
        "id": "Yqgn3MlRwbcT"
      },
      "source": [
        "Looks like we need to convert the data type of SalesClosePrice:"
      ]
    },
    {
      "cell_type": "code",
      "execution_count": null,
      "metadata": {
        "id": "4xby-AyfwbcT"
      },
      "outputs": [],
      "source": [
        "# convert the data type of SalesClosePrice to integer\n",
        "df = df.withColumn(\"SalesClosePrice\", df.SalesClosePrice.cast(\"integer\"))"
      ]
    },
    {
      "cell_type": "code",
      "execution_count": null,
      "metadata": {
        "id": "X78OWB7LwbcU",
        "outputId": "2eabd614-7dc3-4ba2-aa7b-de4715d72836"
      },
      "outputs": [
        {
          "name": "stdout",
          "output_type": "stream",
          "text": [
            "+-------+------------------+\n",
            "|summary|   SalesClosePrice|\n",
            "+-------+------------------+\n",
            "|  count|              5000|\n",
            "|   mean|       262804.4668|\n",
            "| stddev|140559.82591998563|\n",
            "|    min|             48000|\n",
            "|    max|           1700000|\n",
            "+-------+------------------+\n",
            "\n"
          ]
        }
      ],
      "source": [
        "df.select('SalesClosePrice').describe().show()"
      ]
    },
    {
      "cell_type": "code",
      "execution_count": null,
      "metadata": {
        "id": "lCqwMDK0wbcU"
      },
      "outputs": [],
      "source": [
        "df = df.withColumn(\"AssessedValuation\", df.AssessedValuation.cast(\"double\"))\n",
        "df = df.withColumn(\"AssociationFee\", df.AssociationFee.cast(\"bigint\"))\n",
        "df = df.withColumn(\"SQFTBELOWGROUND\", df.SQFTBELOWGROUND.cast(\"bigint\"))"
      ]
    },
    {
      "cell_type": "code",
      "execution_count": null,
      "metadata": {
        "id": "ZHwrpgfVwbcV"
      },
      "outputs": [],
      "source": [
        "required_dtypes = [('NO', 'bigint'),\n",
        " ('MLSID', 'string'),\n",
        " ('STREETNUMBERNUMERIC', 'bigint'),\n",
        " ('STREETADDRESS', 'string'),\n",
        " ('STREETNAME', 'string'),\n",
        " ('POSTALCODE', 'bigint'),\n",
        " ('STATEORPROVINCE', 'string'),\n",
        " ('CITY', 'string'),\n",
        " ('SALESCLOSEPRICE', 'bigint'),\n",
        " ('LISTDATE', 'string'),\n",
        " ('LISTPRICE', 'bigint'),\n",
        " ('LISTTYPE', 'string'),\n",
        " ('ORIGINALLISTPRICE', 'bigint'),\n",
        " ('PRICEPERTSFT', 'double'),\n",
        " ('FOUNDATIONSIZE', 'bigint'),\n",
        " ('FENCE', 'string'),\n",
        " ('MAPLETTER', 'string'),\n",
        " ('LOTSIZEDIMENSIONS', 'string'),\n",
        " ('SCHOOLDISTRICTNUMBER', 'string'),\n",
        " ('DAYSONMARKET', 'bigint'),\n",
        " ('OFFMARKETDATE', 'string'),\n",
        " ('FIREPLACES', 'bigint'),\n",
        " ('ROOMAREA4', 'string'),\n",
        " ('ROOMTYPE', 'string'),\n",
        " ('ROOF', 'string'),\n",
        " ('ROOMFLOOR4', 'string'),\n",
        " ('POTENTIALSHORTSALE', 'string'),\n",
        " ('POOLDESCRIPTION', 'string'),\n",
        " ('PDOM', 'bigint'),\n",
        " ('GARAGEDESCRIPTION', 'string'),\n",
        " ('SQFTABOVEGROUND', 'bigint'),\n",
        " ('TAXES', 'bigint'),\n",
        " ('ROOMFLOOR1', 'string'),\n",
        " ('ROOMAREA1', 'string'),\n",
        " ('TAXWITHASSESSMENTS', 'double'),\n",
        " ('TAXYEAR', 'bigint'),\n",
        " ('LIVINGAREA', 'bigint'),\n",
        " ('UNITNUMBER', 'string'),\n",
        " ('YEARBUILT', 'bigint'),\n",
        " ('ZONING', 'string'),\n",
        " ('STYLE', 'string'),\n",
        " ('ACRES', 'double'),\n",
        " ('COOLINGDESCRIPTION', 'string'),\n",
        " ('APPLIANCES', 'string'),\n",
        " ('BACKONMARKETDATE', 'double'),\n",
        " ('ROOMFAMILYCHAR', 'string'),\n",
        " ('ROOMAREA3', 'string'),\n",
        " ('EXTERIOR', 'string'),\n",
        " ('ROOMFLOOR3', 'string'),\n",
        " ('ROOMFLOOR2', 'string'),\n",
        " ('ROOMAREA2', 'string'),\n",
        " ('DININGROOMDESCRIPTION', 'string'),\n",
        " ('BASEMENT', 'string'),\n",
        " ('BATHSFULL', 'bigint'),\n",
        " ('BATHSHALF', 'bigint'),\n",
        " ('BATHQUARTER', 'bigint'),\n",
        " ('BATHSTHREEQUARTER', 'double'),\n",
        " ('CLASS', 'string'),\n",
        " ('BATHSTOTAL', 'bigint'),\n",
        " ('BATHDESC', 'string'),\n",
        " ('ROOMAREA5', 'string'),\n",
        " ('ROOMFLOOR5', 'string'),\n",
        " ('ROOMAREA6', 'string'),\n",
        " ('ROOMFLOOR6', 'string'),\n",
        " ('ROOMAREA7', 'string'),\n",
        " ('ROOMFLOOR7', 'string'),\n",
        " ('ROOMAREA8', 'string'),\n",
        " ('ROOMFLOOR8', 'string'),\n",
        " ('BEDROOMS', 'bigint'),\n",
        " ('SQFTBELOWGROUND', 'bigint'),\n",
        " ('ASSUMABLEMORTGAGE', 'string'),\n",
        " ('ASSOCIATIONFEE', 'bigint'),\n",
        " ('ASSESSMENTPENDING', 'string'),\n",
        " ('ASSESSEDVALUATION', 'double')]"
      ]
    },
    {
      "cell_type": "code",
      "execution_count": null,
      "metadata": {
        "id": "M3HDob2iwbcW"
      },
      "outputs": [],
      "source": [
        "old_columns = df.columns"
      ]
    },
    {
      "cell_type": "code",
      "execution_count": null,
      "metadata": {
        "id": "5HQOaYL0wbcW"
      },
      "outputs": [],
      "source": [
        "new_columns = [c for c, d in required_dtypes]"
      ]
    },
    {
      "cell_type": "code",
      "execution_count": null,
      "metadata": {
        "id": "vhPxBjvDwbcW"
      },
      "outputs": [],
      "source": [
        "for n, o in zip(new_columns, old_columns): \n",
        "    df = df.withColumnRenamed(o, n)"
      ]
    },
    {
      "cell_type": "markdown",
      "metadata": {
        "id": "A96YsIwjwbcX"
      },
      "source": [
        "### Verifying Data Load"
      ]
    },
    {
      "cell_type": "code",
      "execution_count": null,
      "metadata": {
        "id": "uXnXeVWzwbcX",
        "outputId": "06b644ba-0c31-4b39-f261-042ef13929bf"
      },
      "outputs": [
        {
          "name": "stdout",
          "output_type": "stream",
          "text": [
            "Validation Passed\n"
          ]
        }
      ],
      "source": [
        "def check_load(df, num_records, num_columns):\n",
        "    # Takes a dataframe and compares record and column counts to input\n",
        "    # Message to return if the critera below aren't met\n",
        "    message = 'Validation Failed'\n",
        "    # Check number of records\n",
        "    if num_records == df.count():\n",
        "        # Check number of columns\n",
        "        if num_columns == len(df.columns):\n",
        "          # Success message\n",
        "          message = 'Validation Passed'\n",
        "    return message\n",
        "\n",
        "# Print the data validation message\n",
        "print(check_load(df, 5000, 74))"
      ]
    },
    {
      "cell_type": "markdown",
      "metadata": {
        "id": "TecIkgARwbcX"
      },
      "source": [
        "### Verifying DataTypes"
      ]
    },
    {
      "cell_type": "code",
      "execution_count": null,
      "metadata": {
        "id": "-ghUPDNbwbcY"
      },
      "outputs": [],
      "source": [
        "validation_dict = {'ASSESSMENTPENDING': 'string',\n",
        " 'ASSESSEDVALUATION': 'double',\n",
        " 'ASSOCIATIONFEE': 'bigint',\n",
        " 'ASSUMABLEMORTGAGE': 'string',\n",
        " 'SQFTBELOWGROUND': 'bigint'}"
      ]
    },
    {
      "cell_type": "code",
      "execution_count": null,
      "metadata": {
        "id": "soCd7dEgwbcY",
        "outputId": "3c8ad06b-ea99-45f4-d4ba-8433ef67ba8b"
      },
      "outputs": [
        {
          "name": "stdout",
          "output_type": "stream",
          "text": [
            "SQFTBELOWGROUND has expected dtype.\n",
            "ASSUMABLEMORTGAGE has expected dtype.\n",
            "ASSOCIATIONFEE has expected dtype.\n",
            "ASSESSMENTPENDING has expected dtype.\n",
            "ASSESSEDVALUATION has expected dtype.\n"
          ]
        }
      ],
      "source": [
        "# create list of actual dtypes to check\n",
        "actual_dtypes_list = df.dtypes\n",
        "\n",
        "# Iterate through the list of actual dtypes tuples\n",
        "for attribute_tuple in actual_dtypes_list:\n",
        "  \n",
        "    # Check if column name is dictionary of expected dtypes\n",
        "    col_name = attribute_tuple[0]\n",
        "    if col_name in validation_dict:\n",
        "\n",
        "        # Compare attribute types\n",
        "        col_type = attribute_tuple[1]\n",
        "        if col_type == validation_dict[col_name]:\n",
        "            print(col_name + ' has expected dtype.')"
      ]
    },
    {
      "cell_type": "markdown",
      "metadata": {
        "id": "_vjIbAwewbcZ"
      },
      "source": [
        "### Using `Corr()`"
      ]
    },
    {
      "cell_type": "code",
      "execution_count": null,
      "metadata": {
        "id": "nrS2z-TAwbcZ"
      },
      "outputs": [],
      "source": [
        "for required_type, current_column in zip(required_dtypes, df.columns):\n",
        "    # since the required and current column names are the exact order we can do:\n",
        "    if required_type[1] != 'string':\n",
        "#         df = df.withColumn(\"{:}\".format(current_column), df[\"`{:}`\".format(current_column)].cast(req[1]))\n",
        "        df = df.withColumn(current_column, df[\"{:}\".format(current_column)].cast(required_type[1]))"
      ]
    },
    {
      "cell_type": "code",
      "execution_count": null,
      "metadata": {
        "id": "OPSbySSWwbcZ"
      },
      "outputs": [],
      "source": [
        "check_columns = ['FOUNDATIONSIZE',\n",
        " 'DAYSONMARKET',\n",
        " 'FIREPLACES',\n",
        " 'PDOM',\n",
        " 'SQFTABOVEGROUND',\n",
        " 'TAXES',\n",
        " 'TAXWITHASSESSMENTS',\n",
        " 'TAXYEAR',\n",
        " 'LIVINGAREA',\n",
        " 'YEARBUILT',\n",
        " 'ACRES',\n",
        " 'BACKONMARKETDATE',\n",
        " 'BATHSFULL',\n",
        " 'BATHSHALF',\n",
        " 'BATHQUARTER',\n",
        " 'BATHSTHREEQUARTER',\n",
        " 'BATHSTOTAL',\n",
        " 'BEDROOMS',\n",
        " 'SQFTBELOWGROUND',\n",
        " 'ASSOCIATIONFEE',\n",
        " 'ASSESSEDVALUATION']"
      ]
    },
    {
      "cell_type": "code",
      "execution_count": null,
      "metadata": {
        "id": "zOZcuXCPwbca",
        "outputId": "def02e0f-398a-42c0-ee43-65f568ad7cc2"
      },
      "outputs": [
        {
          "name": "stdout",
          "output_type": "stream",
          "text": [
            "LIVINGAREA\n"
          ]
        }
      ],
      "source": [
        "# Name and value of col with max corr\n",
        "corr_max = 0\n",
        "corr_max_col = check_columns[0]\n",
        "\n",
        "# Loop to check all columns contained in list\n",
        "for col in check_columns:\n",
        "    # Check the correlation of a pair of columns\n",
        "    corr_val = df.corr(col, 'SALESCLOSEPRICE')\n",
        "    # Logic to compare corr_max with current corr_val\n",
        "    if corr_val > corr_max:\n",
        "        # Update the column name and corr value\n",
        "        corr_max = corr_val\n",
        "        corr_max_col = col\n",
        "\n",
        "print(corr_max_col)"
      ]
    },
    {
      "cell_type": "markdown",
      "metadata": {
        "id": "XcwMvDlvwbca"
      },
      "source": [
        "### Using Visualizations: distplot"
      ]
    },
    {
      "cell_type": "code",
      "execution_count": null,
      "metadata": {
        "id": "_fwKBHz1wbcb"
      },
      "outputs": [],
      "source": [
        "%matplotlib inline\n",
        "\n",
        "import matplotlib.pyplot as plt\n",
        "import seaborn as sns"
      ]
    },
    {
      "cell_type": "code",
      "execution_count": null,
      "metadata": {
        "id": "YQZsx8Y4wbcb",
        "outputId": "916fbd3b-df10-403f-a876-7363b0ba7de9"
      },
      "outputs": [
        {
          "data": {
            "image/png": "[encoded data removed]",
            "text/plain": [
              "<Figure size 432x288 with 1 Axes>"
            ]
          },
          "metadata": {
            "needs_background": "light"
          },
          "output_type": "display_data"
        },
        {
          "name": "stdout",
          "output_type": "stream",
          "text": [
            "[Row(skewness(LISTPRICE)=2.790448093916559)]\n"
          ]
        }
      ],
      "source": [
        "# Select a single column and sample and convert to pandas\n",
        "# sample 50% and not use replacement and setting the random seed to 42.\n",
        "sample_df = df.select(['LISTPRICE']).sample(False, .5, 42)\n",
        "pandas_df = sample_df.toPandas()\n",
        "\n",
        "# Plot distribution of pandas_df and display plot\n",
        "sns.distplot(pandas_df)\n",
        "plt.show()\n",
        "\n",
        "# Import skewness function\n",
        "from pyspark.sql.functions import skewness\n",
        "\n",
        "# Compute and print skewness of LISTPRICE\n",
        "print(df.agg({'LISTPRICE': 'skewness'}).collect())"
      ]
    },
    {
      "cell_type": "markdown",
      "metadata": {
        "id": "WFT2NoeVwbcb"
      },
      "source": [
        "We can use the skewness function to verify this numerically rather than visually."
      ]
    },
    {
      "cell_type": "markdown",
      "metadata": {
        "id": "3zavER4awbcc"
      },
      "source": [
        "### Using Visualizations: lmplot"
      ]
    },
    {
      "cell_type": "code",
      "execution_count": null,
      "metadata": {
        "id": "m-_8k3L5wbcc",
        "outputId": "80d32488-95c8-43c2-ba27-3a7d54c78a69"
      },
      "outputs": [
        {
          "data": {
            "text/plain": [
              "<seaborn.axisgrid.FacetGrid at 0x11e35c7f0>"
            ]
          },
          "execution_count": 30,
          "metadata": {},
          "output_type": "execute_result"
        },
        {
          "data": {
            "image/png": "[encoded data removed]",
            "text/plain": [
              "<Figure size 360x360 with 1 Axes>"
            ]
          },
          "metadata": {
            "needs_background": "light"
          },
          "output_type": "display_data"
        }
      ],
      "source": [
        "# Select a the relevant columns and sample\n",
        "sample_df = df.select(['SALESCLOSEPRICE','LIVINGAREA']).sample(False, .5, 42)\n",
        "\n",
        "# Convert to pandas dataframe\n",
        "pandas_df = sample_df.toPandas()\n",
        "\n",
        "# Linear model plot of pandas_df\n",
        "sns.lmplot(x='LIVINGAREA', y='SALESCLOSEPRICE', data=pandas_df)"
      ]
    },
    {
      "cell_type": "markdown",
      "metadata": {
        "id": "JLKNSo1lwbcd"
      },
      "source": [
        "we can see that as LivingArea increases, the price of the home increases at a relatively steady rate"
      ]
    },
    {
      "cell_type": "markdown",
      "metadata": {
        "id": "0C1xssviwbcd"
      },
      "source": [
        "## Wrangling with Spark Functions"
      ]
    },
    {
      "cell_type": "markdown",
      "metadata": {
        "id": "PV-FTOy-wbcd"
      },
      "source": [
        "### Dropping a list of columns"
      ]
    },
    {
      "cell_type": "code",
      "execution_count": null,
      "metadata": {
        "id": "xkERH9tzwbcd"
      },
      "outputs": [],
      "source": [
        "# List of columns to remove from dataset\n",
        "cols_to_drop = ['STREETNUMBERNUMERIC', 'LOTSIZEDIMENSIONS']\n",
        "\n",
        "# Drop columns in list\n",
        "df = df.drop(*cols_to_drop)"
      ]
    },
    {
      "cell_type": "markdown",
      "metadata": {
        "id": "fCCbd6MFwbce"
      },
      "source": [
        "We can always come back to these after our intial model if we need more information."
      ]
    },
    {
      "cell_type": "markdown",
      "metadata": {
        "id": "8zJ8mZCqwbce"
      },
      "source": [
        "### Using text filters to remove records"
      ]
    },
    {
      "cell_type": "code",
      "execution_count": null,
      "metadata": {
        "id": "-7DLrDH6wbce",
        "outputId": "57f5e5be-c4b1-430c-b1ae-0c5f6314279b"
      },
      "outputs": [
        {
          "name": "stdout",
          "output_type": "stream",
          "text": [
            "+-------------------+\n",
            "|  ASSUMABLEMORTGAGE|\n",
            "+-------------------+\n",
            "|  Yes w/ Qualifying|\n",
            "| Information Coming|\n",
            "|               null|\n",
            "|Yes w/No Qualifying|\n",
            "|      Not Assumable|\n",
            "+-------------------+\n",
            "\n",
            "4976\n"
          ]
        }
      ],
      "source": [
        "# Inspect unique values in the column 'ASSUMABLEMORTGAGE'\n",
        "df.select(['ASSUMABLEMORTGAGE']).distinct().show()\n",
        "\n",
        "# List of possible values containing 'yes'\n",
        "yes_values = ['Yes w/ Qualifying', 'Yes w/No Qualifying']\n",
        "\n",
        "# Filter the text values out of df but keep null values\n",
        "text_filter = ~df['ASSUMABLEMORTGAGE'].isin(yes_values) | df['ASSUMABLEMORTGAGE'].isNull()\n",
        "df = df.where(text_filter)\n",
        "\n",
        "# Print count of remaining records\n",
        "print(df.count())"
      ]
    },
    {
      "cell_type": "markdown",
      "metadata": {
        "id": "M_wiCQPiwbcf"
      },
      "source": [
        "### Filtering numeric fields conditionally"
      ]
    },
    {
      "cell_type": "code",
      "execution_count": null,
      "metadata": {
        "id": "4ldNUR7gwbcf"
      },
      "outputs": [],
      "source": [
        "from pyspark.sql.functions import log\n",
        "\n",
        "df = df.withColumn('log_SalesClosePrice', log('SalesClosePrice'))"
      ]
    },
    {
      "cell_type": "code",
      "execution_count": null,
      "metadata": {
        "id": "ZeaVYiDZwbcf"
      },
      "outputs": [],
      "source": [
        "from pyspark.sql.functions import mean, stddev\n",
        "\n",
        "# Calculate values used for outlier filtering\n",
        "mean_val = df.agg({'log_SalesClosePrice': 'mean'}).collect()[0][0]\n",
        "stddev_val = df.agg({'log_SalesClosePrice': 'stddev'}).collect()[0][0]\n",
        "\n",
        "# Create three standard deviation (μ ± 3σ) lower and upper bounds for data\n",
        "low_bound = mean_val - (3 * stddev_val)\n",
        "hi_bound = mean_val + (3 * stddev_val)\n",
        "\n",
        "# Filter the data to fit between the lower and upper bounds\n",
        "df = df.where((df['log_SalesClosePrice'] < hi_bound) & (df['log_SalesClosePrice'] > low_bound))"
      ]
    },
    {
      "cell_type": "markdown",
      "metadata": {
        "id": "7K_9Q7DYwbcg"
      },
      "source": [
        "### Custom Percentage Scaling"
      ]
    },
    {
      "cell_type": "code",
      "execution_count": null,
      "metadata": {
        "id": "3NWj92KGwbcg"
      },
      "outputs": [],
      "source": [
        "from pyspark.sql.functions import round"
      ]
    },
    {
      "cell_type": "code",
      "execution_count": null,
      "metadata": {
        "id": "8JiiEurkwbcg",
        "outputId": "7836187f-b8a5-45ca-fd21-7ee0b072d31b"
      },
      "outputs": [
        {
          "name": "stdout",
          "output_type": "stream",
          "text": [
            "[Row(max(percentage_scaled_days)=100.0)]\n",
            "[Row(min(percentage_scaled_days)=0.0)]\n"
          ]
        }
      ],
      "source": [
        "# Define max and min values and collect them\n",
        "max_days = df.agg({'DAYSONMARKET': 'max'}).collect()[0][0]\n",
        "min_days = df.agg({'DAYSONMARKET': 'min'}).collect()[0][0]\n",
        "\n",
        "# Create a new column based off the scaled data\n",
        "df = df.withColumn('percentage_scaled_days', \n",
        "                  round((df['DAYSONMARKET'] - min_days) / (max_days - min_days)) * 100)\n",
        "\n",
        "# Calc max and min for new column\n",
        "print(df.agg({'percentage_scaled_days': 'max'}).collect())\n",
        "print(df.agg({'percentage_scaled_days': 'min'}).collect())"
      ]
    },
    {
      "cell_type": "markdown",
      "metadata": {
        "id": "3njXwQsOwbch"
      },
      "source": [
        "### Scaling your scalers"
      ]
    },
    {
      "cell_type": "code",
      "execution_count": null,
      "metadata": {
        "id": "LTclSqdxwbch",
        "outputId": "3e4fda97-2b7b-4036-f43a-00a7ea0f5fa4"
      },
      "outputs": [
        {
          "name": "stdout",
          "output_type": "stream",
          "text": [
            "+------------+--------------------+\n",
            "|DAYSONMARKET| scaled_DAYSONMARKET|\n",
            "+------------+--------------------+\n",
            "|          10|0.044444444444444446|\n",
            "|           4|0.017777777777777778|\n",
            "|          28| 0.12444444444444444|\n",
            "|          19| 0.08444444444444445|\n",
            "|          21| 0.09333333333333334|\n",
            "|          17| 0.07555555555555556|\n",
            "|          32| 0.14222222222222222|\n",
            "|           5|0.022222222222222223|\n",
            "|          23| 0.10222222222222223|\n",
            "|          73|  0.3244444444444444|\n",
            "|          80| 0.35555555555555557|\n",
            "|          79|  0.3511111111111111|\n",
            "|          12| 0.05333333333333334|\n",
            "|           1|0.004444444444444...|\n",
            "|          18|                0.08|\n",
            "|           2|0.008888888888888889|\n",
            "|          12| 0.05333333333333334|\n",
            "|          45|                 0.2|\n",
            "|          31| 0.13777777777777778|\n",
            "|          16| 0.07111111111111111|\n",
            "+------------+--------------------+\n",
            "only showing top 20 rows\n",
            "\n"
          ]
        }
      ],
      "source": [
        "def min_max_scaler(df, cols_to_scale):\n",
        "    # Takes a dataframe and list of columns to minmax scale. Returns a dataframe.\n",
        "    for col in cols_to_scale:\n",
        "        # Define min and max values and collect them\n",
        "        max_days = df.agg({col: 'max'}).collect()[0][0]\n",
        "        min_days = df.agg({col: 'min'}).collect()[0][0]\n",
        "        new_column_name = 'scaled_' + col\n",
        "        # Create a new column based off the scaled data\n",
        "        df = df.withColumn(new_column_name, \n",
        "                          (df[col] - min_days) / (max_days - min_days))\n",
        "    return df\n",
        "  \n",
        "df = min_max_scaler(df, ['FOUNDATIONSIZE', 'DAYSONMARKET', 'FIREPLACES'])\n",
        "# Show that our data is now between 0 and 1\n",
        "df[['DAYSONMARKET', 'scaled_DAYSONMARKET']].show()"
      ]
    },
    {
      "cell_type": "markdown",
      "metadata": {
        "id": "hac7f2Tzwbch"
      },
      "source": [
        "### Correcting Right Skew Data"
      ]
    },
    {
      "cell_type": "code",
      "execution_count": null,
      "metadata": {
        "id": "hpGqmKinwbch",
        "outputId": "2bd13c6e-fd40-4312-e223-284e3157c542"
      },
      "outputs": [
        {
          "name": "stdout",
          "output_type": "stream",
          "text": [
            "[Row(skewness(YEARBUILT)=-0.25317374723020336)]\n"
          ]
        }
      ],
      "source": [
        "# Compute the skewness\n",
        "print(df.agg({'YEARBUILT': 'skewness'}).collect())\n",
        "\n",
        "# Calculate the max year\n",
        "max_year = df.agg({'YEARBUILT': 'max'}).collect()[0][0]\n",
        "\n",
        "# Create a new column of reflected data\n",
        "df = df.withColumn('Reflect_YearBuilt', (max_year + 1) - df['YEARBUILT'])\n",
        "\n",
        "# Create a new column based reflected data\n",
        "df = df.withColumn('adj_yearbuilt', 1 / log(df['Reflect_YearBuilt']))"
      ]
    },
    {
      "cell_type": "markdown",
      "metadata": {
        "id": "b7mDpA1gwbci"
      },
      "source": [
        "What you've seen here are only a few of the ways that you might try to make your data fit a normal distribution."
      ]
    },
    {
      "cell_type": "markdown",
      "metadata": {
        "id": "krVjvy9Swbci"
      },
      "source": [
        "### Visualizing Missing Data"
      ]
    },
    {
      "cell_type": "code",
      "execution_count": null,
      "metadata": {
        "id": "N5pcTTq_wbci"
      },
      "outputs": [],
      "source": [
        "columns = ['APPLIANCES',\n",
        " 'BACKONMARKETDATE',\n",
        " 'ROOMFAMILYCHAR',\n",
        " 'BASEMENT',\n",
        " 'DININGROOMDESCRIPTION']"
      ]
    },
    {
      "cell_type": "code",
      "execution_count": null,
      "metadata": {
        "id": "7xMhDj2Vwbcj",
        "outputId": "16f041ef-d367-4a51-e1cf-bf3e72049283"
      },
      "outputs": [
        {
          "name": "stdout",
          "output_type": "stream",
          "text": [
            "+--------------------+----------------+--------------------+--------------------+---------------------+\n",
            "|          APPLIANCES|BACKONMARKETDATE|      ROOMFAMILYCHAR|            BASEMENT|DININGROOMDESCRIPTION|\n",
            "+--------------------+----------------+--------------------+--------------------+---------------------+\n",
            "|Range, Dishwasher...|            null|                null|                Full|       Eat In Kitchen|\n",
            "|Range, Microwave,...|            null|         Lower Level|Full, Partial Fin...| Informal Dining R...|\n",
            "|Range, Microwave,...|            null|                null|Full, Crawl Space...| Informal Dining Room|\n",
            "|Range, Washer, Dryer|            null|          Main Level|Full, Partial Fin...|                 null|\n",
            "|Range, Exhaust Fa...|            null|         Lower Level|Walkout, Full, Fi...| Breakfast Area, K...|\n",
            "|Range, Microwave,...|            null|                null|Full, Sump Pump, ...| Separate/Formal D...|\n",
            "|Range, Microwave,...|            null|                Loft|                Slab| Informal Dining R...|\n",
            "|Range, Microwave,...|            null|Main Level, Famil...|                None| Informal Dining R...|\n",
            "|Range, Microwave,...|            null|                null|                None| Informal Dining R...|\n",
            "|Range, Microwave,...|            null|Main Level, Famil...|                None| Informal Dining R...|\n",
            "|Range, Microwave,...|            null|Main Level, Famil...|                None| Informal Dining R...|\n",
            "|Range, Microwave,...|            null|                null|                None| Informal Dining R...|\n",
            "|Range, Microwave,...|            null|Main Level, Famil...|                None| Informal Dining R...|\n",
            "|Range, Microwave,...|            null|Main Level, Great...|                None| Informal Dining R...|\n",
            "|Cooktop, Wall Ove...|            null|                null|Full, Concrete Bl...| Informal Dining R...|\n",
            "|Range, Microwave,...|            null|                Loft|                None| Informal Dining R...|\n",
            "|Range, Microwave,...|            null|                Loft|                None| Informal Dining R...|\n",
            "|Range, Microwave,...|            null|Main Level, Great...|                None| Informal Dining R...|\n",
            "|Range, Microwave,...|            null|                Loft|                None| Informal Dining R...|\n",
            "|Range, Microwave,...|            null|                Loft|                None| Informal Dining R...|\n",
            "+--------------------+----------------+--------------------+--------------------+---------------------+\n",
            "only showing top 20 rows\n",
            "\n"
          ]
        }
      ],
      "source": [
        "df.select(columns).show()"
      ]
    },
    {
      "cell_type": "code",
      "execution_count": null,
      "metadata": {
        "id": "a3Xxf3kMwbcj",
        "outputId": "039aefab-51ce-4e9b-ffa2-6c05e2661d52"
      },
      "outputs": [
        {
          "data": {
            "image/png": "[encoded data removed]",
            "text/plain": [
              "<Figure size 432x288 with 2 Axes>"
            ]
          },
          "metadata": {
            "needs_background": "light"
          },
          "output_type": "display_data"
        },
        {
          "data": {
            "text/plain": [
              "'BACKONMARKETDATE'"
            ]
          },
          "execution_count": 44,
          "metadata": {},
          "output_type": "execute_result"
        }
      ],
      "source": [
        "# Sample the dataframe and convert to Pandas\n",
        "sample_df = df.select(columns).sample(False, 0.5, 42)\n",
        "pandas_df = sample_df.toPandas()\n",
        "\n",
        "# Convert all values to T/F\n",
        "tf_df = pandas_df.isnull()\n",
        "\n",
        "# Plot it\n",
        "sns.heatmap(data=tf_df)\n",
        "plt.xticks(rotation=30, fontsize=10)\n",
        "plt.yticks(rotation=0, fontsize=10)\n",
        "plt.show()\n",
        "\n",
        "# Set the answer to the column with the most missing data\n",
        "answer = 'BACKONMARKETDATE'\n",
        "answer"
      ]
    },
    {
      "cell_type": "markdown",
      "metadata": {
        "id": "Z3amQ6xKwbcj"
      },
      "source": [
        "### Imputing Missing Data"
      ]
    },
    {
      "cell_type": "code",
      "execution_count": null,
      "metadata": {
        "id": "lMwJyQ6Uwbcj",
        "outputId": "9faf21ad-da33-4b3e-9520-a3c5dbcc478a"
      },
      "outputs": [
        {
          "data": {
            "text/plain": [
              "DataFrame[NO: bigint, MLSID: string, STREETADDRESS: string, STREETNAME: string, POSTALCODE: bigint, STATEORPROVINCE: string, CITY: string, SALESCLOSEPRICE: bigint, LISTDATE: string, LISTPRICE: bigint, LISTTYPE: string, ORIGINALLISTPRICE: bigint, PRICEPERTSFT: double, FOUNDATIONSIZE: bigint, FENCE: string, MAPLETTER: string, SCHOOLDISTRICTNUMBER: string, DAYSONMARKET: bigint, OFFMARKETDATE: string, FIREPLACES: bigint, ROOMAREA4: string, ROOMTYPE: string, ROOF: string, ROOMFLOOR4: string, POTENTIALSHORTSALE: string, POOLDESCRIPTION: string, PDOM: bigint, GARAGEDESCRIPTION: string, SQFTABOVEGROUND: bigint, TAXES: bigint, ROOMFLOOR1: string, ROOMAREA1: string, TAXWITHASSESSMENTS: double, TAXYEAR: bigint, LIVINGAREA: bigint, UNITNUMBER: string, YEARBUILT: bigint, ZONING: string, STYLE: string, ACRES: double, COOLINGDESCRIPTION: string, APPLIANCES: string, BACKONMARKETDATE: double, ROOMFAMILYCHAR: string, ROOMAREA3: string, EXTERIOR: string, ROOMFLOOR3: string, ROOMFLOOR2: string, ROOMAREA2: string, DININGROOMDESCRIPTION: string, BASEMENT: string, BATHSFULL: bigint, BATHSHALF: bigint, BATHQUARTER: bigint, BATHSTHREEQUARTER: double, CLASS: string, BATHSTOTAL: bigint, BATHDESC: string, ROOMAREA5: string, ROOMFLOOR5: string, ROOMAREA6: string, ROOMFLOOR6: string, ROOMAREA7: string, ROOMFLOOR7: string, ROOMAREA8: string, ROOMFLOOR8: string, BEDROOMS: bigint, SQFTBELOWGROUND: bigint, ASSUMABLEMORTGAGE: string, ASSOCIATIONFEE: bigint, ASSESSMENTPENDING: string, ASSESSEDVALUATION: double, log_SalesClosePrice: double, percentage_scaled_days: double, scaled_FOUNDATIONSIZE: double, scaled_DAYSONMARKET: double, scaled_FIREPLACES: double, Reflect_YearBuilt: bigint, adj_yearbuilt: double]"
            ]
          },
          "execution_count": 40,
          "metadata": {},
          "output_type": "execute_result"
        }
      ],
      "source": [
        "# Count missing rows\n",
        "missing = df.where(df['PDOM'].isNull()).count()\n",
        "\n",
        "# Calculate the mean value\n",
        "col_mean = df.agg({'PDOM': 'mean'}).collect()[0][0]\n",
        "\n",
        "# Replacing with the mean value for that column\n",
        "df.fillna(col_mean, subset=['PDOM'])"
      ]
    },
    {
      "cell_type": "markdown",
      "metadata": {
        "id": "65ZGsilpwbck"
      },
      "source": [
        "Make sure to spend time considering the appropriate ways to handle missing data in your problems."
      ]
    },
    {
      "cell_type": "markdown",
      "metadata": {
        "id": "zgvo2S47wbck"
      },
      "source": [
        "### Calculate Missing Percents"
      ]
    },
    {
      "cell_type": "code",
      "execution_count": null,
      "metadata": {
        "id": "6UsPsaB1wbck"
      },
      "outputs": [],
      "source": [
        "def column_dropper(df, threshold):\n",
        "    # Takes a dataframe and threshold for missing values. Returns a dataframe.\n",
        "    total_records = df.count()\n",
        "    for col in df.columns:\n",
        "    # Calculate the percentage of missing values\n",
        "        missing = df.where(df[col].isNull()).count()\n",
        "        missing_percent = missing / total_records\n",
        "        # Drop column if percent of missing is more than threshold\n",
        "        if missing_percent > threshold:\n",
        "            df = df.drop(col)\n",
        "    return df\n",
        "\n",
        "# Drop columns that are more than 60% missing\n",
        "df = column_dropper(df, .6)"
      ]
    },
    {
      "cell_type": "markdown",
      "metadata": {
        "id": "v8ZmCIhZwbck"
      },
      "source": [
        "### A Dangerous Join"
      ]
    },
    {
      "cell_type": "code",
      "execution_count": null,
      "metadata": {
        "id": "c80VV4LJwbcl"
      },
      "outputs": [],
      "source": [
        "# Cast data types\n",
        "walk_df = walk_df.withColumn('longitude', walk_df.longitude.cast('double'))\n",
        "walk_df = walk_df.withColumn('latitude', walk_df.latitude.cast('double'))\n",
        "\n",
        "# Round precision\n",
        "df = df.withColumn('longitude', round(df['longitude'], 5))\n",
        "df = df.withColumn('latitude', round(df['latitude'], 5))\n",
        "\n",
        "# Create join condition\n",
        "condition = [walk_df['latitude'] == df['latitude'], walk_df['longitude'] == df['longitude']]\n",
        "\n",
        "# Join the dataframes together\n",
        "join_df = df.join(walk_df, on=condition, how='left')\n",
        "# Count non-null records from new field\n",
        "print(join_df.where(~join_df['walkscore'].isNull()).count())"
      ]
    },
    {
      "cell_type": "markdown",
      "metadata": {
        "id": "1CAoPVfMwbcl"
      },
      "source": [
        "### Spark SQL Join"
      ]
    },
    {
      "cell_type": "code",
      "execution_count": null,
      "metadata": {
        "id": "W-IaWEvuwbcl"
      },
      "outputs": [],
      "source": [
        "# Register dataframes as tables\n",
        "df.createOrReplaceTempView(\"df\")\n",
        "walk_df.createOrReplaceTempView(\"walk_df\")\n",
        "\n",
        "# SQL to join dataframes\n",
        "join_sql = \t\"\"\"\n",
        "\t\t\tSELECT \n",
        "\t\t\t\t*\n",
        "\t\t\tFROM df\n",
        "\t\t\tLEFT JOIN walk_df\n",
        "\t\t\tON df.longitude = walk_df.longitude\n",
        "\t\t\tAND df.latitude = walk_df.latitude\n",
        "\t\t\t\"\"\"\n",
        "# Perform sql join\n",
        "joined_df = spark.sql(join_sql)"
      ]
    },
    {
      "cell_type": "markdown",
      "metadata": {
        "id": "a-igA4RZwbcl"
      },
      "source": [
        "### Checking for Bad Joins"
      ]
    },
    {
      "cell_type": "code",
      "execution_count": null,
      "metadata": {
        "id": "FZhyxuG4wbcm"
      },
      "outputs": [],
      "source": [
        "# Join on mismatched keys precision \n",
        "wrong_prec_cond = [walk_df['latitude'] == df_orig['latitude'], walk_df['longitude'] == df_orig['longitude']]\n",
        "wrong_prec_df = df_orig.join(walk_df, on=wrong_prec_cond, how='left')\n",
        "\n",
        "# Compare bad join to the correct one\n",
        "print(wrong_prec_df.where(wrong_prec_df['walkscore'].isNull()).count())\n",
        "print(correct_join_df.where(correct_join_df['walkscore'].isNull()).count())\n",
        "\n",
        "# Create a join on too few keys\n",
        "few_keys_cond = [walk_df['longitude'] == df['longitude']]\n",
        "few_keys_df = df.join(walk_df, on=few_keys_cond, how='left')\n",
        "\n",
        "# Compare bad join to the correct one\n",
        "print(\"Record Count of the Too Few Keys Join Example: \" + str(few_keys_df.count()))\n",
        "print(\"Record Count of the Correct Join Example: \" + str(correct_join_df.count()))"
      ]
    },
    {
      "cell_type": "markdown",
      "metadata": {
        "id": "6PaCiWajwbcm"
      },
      "source": [
        "## Feature Engineering"
      ]
    },
    {
      "cell_type": "markdown",
      "metadata": {
        "id": "gg9M6w9vwbcm"
      },
      "source": [
        "### Differences"
      ]
    },
    {
      "cell_type": "code",
      "execution_count": null,
      "metadata": {
        "id": "Kpw6I9k_wbcm",
        "outputId": "e6aab456-bf5e-4a49-e51f-36f9ea2292d4"
      },
      "outputs": [
        {
          "name": "stdout",
          "output_type": "stream",
          "text": [
            "Corr of ACRES vs SALESCLOSEPRICE: 0.2130819260750225\n",
            "Corr of FOUNDATIONSIZE vs SALESCLOSEPRICE: 0.5976957088401492\n",
            "Corr of YARD_SIZE vs SALESCLOSEPRICE: 0.20032633979612804\n"
          ]
        }
      ],
      "source": [
        "# Lot size in square feet\n",
        "acres_to_sqfeet = 43560\n",
        "df = df.withColumn('LOT_SIZE_SQFT', df['ACRES'] * acres_to_sqfeet)\n",
        "\n",
        "# Create new column YARD_SIZE\n",
        "df = df.withColumn('YARD_SIZE', df['LOT_SIZE_SQFT'] - df['FOUNDATIONSIZE'])\n",
        "\n",
        "# Corr of ACRES vs SALESCLOSEPRICE\n",
        "print(\"Corr of ACRES vs SALESCLOSEPRICE: \" + str(df.corr('ACRES', 'SALESCLOSEPRICE')))\n",
        "# Corr of FOUNDATIONSIZE vs SALESCLOSEPRICE\n",
        "print(\"Corr of FOUNDATIONSIZE vs SALESCLOSEPRICE: \" + str(df.corr('FOUNDATIONSIZE', 'SALESCLOSEPRICE')))\n",
        "# Corr of YARD_SIZE vs SALESCLOSEPRICE\n",
        "print(\"Corr of YARD_SIZE vs SALESCLOSEPRICE: \" + str(df.corr('YARD_SIZE', 'SALESCLOSEPRICE')))"
      ]
    },
    {
      "cell_type": "markdown",
      "metadata": {
        "id": "rIwwqEGRwbcn"
      },
      "source": [
        "### Ratios"
      ]
    },
    {
      "cell_type": "code",
      "execution_count": null,
      "metadata": {
        "id": "2QC6IwbAwbcn",
        "outputId": "7e675ea8-1349-4294-c9ee-c413c0dc51cb"
      },
      "outputs": [
        {
          "name": "stdout",
          "output_type": "stream",
          "text": [
            "+-----------------+---------+----------------+\n",
            "|ASSESSEDVALUATION|LISTPRICE|ASSESSED_TO_LIST|\n",
            "+-----------------+---------+----------------+\n",
            "|              0.0|   139900|             0.0|\n",
            "|              0.0|   210000|             0.0|\n",
            "|              0.0|   225000|             0.0|\n",
            "|              0.0|   230000|             0.0|\n",
            "|              0.0|   239900|             0.0|\n",
            "+-----------------+---------+----------------+\n",
            "only showing top 5 rows\n",
            "\n",
            "+--------------------+-----+---------+\n",
            "|         TAX_TO_LIST|TAXES|LISTPRICE|\n",
            "+--------------------+-----+---------+\n",
            "|0.013280914939242315| 1858|   139900|\n",
            "| 0.00780952380952381| 1640|   210000|\n",
            "|0.010622222222222222| 2390|   225000|\n",
            "|0.009330434782608695| 2146|   230000|\n",
            "|0.008378491037932471| 2010|   239900|\n",
            "+--------------------+-----+---------+\n",
            "only showing top 5 rows\n",
            "\n",
            "+------------------+--------+----------+\n",
            "|      BED_TO_BATHS|BEDROOMS|BATHSTOTAL|\n",
            "+------------------+--------+----------+\n",
            "|               1.5|       3|         2|\n",
            "|1.3333333333333333|       4|         3|\n",
            "|               2.0|       2|         1|\n",
            "|               1.0|       2|         2|\n",
            "|               1.5|       3|         2|\n",
            "+------------------+--------+----------+\n",
            "only showing top 5 rows\n",
            "\n"
          ]
        }
      ],
      "source": [
        "# ASSESSED_TO_LIST\n",
        "df = df.withColumn('ASSESSED_TO_LIST', df['ASSESSEDVALUATION'] / df['LISTPRICE'])\n",
        "df[['ASSESSEDVALUATION', 'LISTPRICE', 'ASSESSED_TO_LIST']].show(5)\n",
        "# TAX_TO_LIST\n",
        "df = df.withColumn('TAX_TO_LIST', df['TAXES'] / df['LISTPRICE'])\n",
        "df[['TAX_TO_LIST', 'TAXES', 'LISTPRICE']].show(5)\n",
        "# BED_TO_BATHS\n",
        "df = df.withColumn('BED_TO_BATHS', df['BEDROOMS'] / df['BATHSTOTAL'])\n",
        "df[['BED_TO_BATHS', 'BEDROOMS', 'BATHSTOTAL']].show(5)"
      ]
    },
    {
      "cell_type": "markdown",
      "metadata": {
        "id": "5xTbxUnywbcn"
      },
      "source": [
        "### Deeper Features"
      ]
    },
    {
      "cell_type": "code",
      "execution_count": null,
      "metadata": {
        "id": "Pzo6MQXuwbcn"
      },
      "outputs": [],
      "source": [
        "from scipy import stats\n",
        "\n",
        "def r2(x, y):\n",
        "    return stats.pearsonr(x, y)[0] ** 2"
      ]
    },
    {
      "cell_type": "code",
      "execution_count": null,
      "metadata": {
        "id": "JjkxurLSwbcn",
        "outputId": "b1e80ce8-fa34-472a-c52d-0e714105dcf0"
      },
      "outputs": [
        {
          "name": "stdout",
          "output_type": "stream",
          "text": [
            "+-------+-------------------+\n",
            "|summary| BATHS_PER_1000SQFT|\n",
            "+-------+-------------------+\n",
            "|  count|               4946|\n",
            "|   mean| 1.4339460530042523|\n",
            "| stddev| 14.205761576339642|\n",
            "|    min|0.39123630672926446|\n",
            "|    max|             1000.0|\n",
            "+-------+-------------------+\n",
            "\n"
          ]
        },
        {
          "name": "stderr",
          "output_type": "stream",
          "text": [
            "/Users/hakan/.pyenv/versions/miniconda3-latest/lib/python3.6/site-packages/seaborn/axisgrid.py:1847: UserWarning: JointGrid annotation is deprecated and will be removed in a future release.\n",
            "  warnings.warn(UserWarning(msg))\n",
            "/Users/hakan/.pyenv/versions/miniconda3-latest/lib/python3.6/site-packages/seaborn/axisgrid.py:1847: UserWarning: JointGrid annotation is deprecated and will be removed in a future release.\n",
            "  warnings.warn(UserWarning(msg))\n"
          ]
        },
        {
          "data": {
            "text/plain": [
              "<seaborn.axisgrid.JointGrid at 0x11e4b9978>"
            ]
          },
          "execution_count": 48,
          "metadata": {},
          "output_type": "execute_result"
        },
        {
          "data": {
            "image/png": "[encoded data removed]",
            "text/plain": [
              "<Figure size 432x432 with 3 Axes>"
            ]
          },
          "metadata": {
            "needs_background": "light"
          },
          "output_type": "display_data"
        },
        {
          "data": {
            "image/png": "[encoded data removed]",
            "text/plain": [
              "<Figure size 432x432 with 3 Axes>"
            ]
          },
          "metadata": {
            "needs_background": "light"
          },
          "output_type": "display_data"
        }
      ],
      "source": [
        "# Create new feature by adding two features together\n",
        "df = df.withColumn('Total_SQFT', df['SQFTBELOWGROUND'] + df['SQFTABOVEGROUND'])\n",
        "\n",
        "# Create additional new feature using previously created feature\n",
        "df = df.withColumn('BATHS_PER_1000SQFT', df['BATHSTOTAL'] / (df['Total_SQFT'] / 1000))\n",
        "df[['BATHS_PER_1000SQFT']].describe().show()\n",
        "\n",
        "# Sample and create pandas dataframe\n",
        "pandas_df = df.sample(False, 0.5, 0).toPandas()\n",
        "\n",
        "# Linear model plots\n",
        "sns.jointplot(x='Total_SQFT', y='SALESCLOSEPRICE', data=pandas_df, kind=\"reg\", stat_func=r2)\n",
        "sns.jointplot(x='BATHS_PER_1000SQFT', y='SALESCLOSEPRICE', data=pandas_df, kind=\"reg\", stat_func=r2)"
      ]
    },
    {
      "cell_type": "markdown",
      "metadata": {
        "id": "vlbF3_0Iwbcn"
      },
      "source": [
        "### Time Components"
      ]
    },
    {
      "cell_type": "code",
      "execution_count": null,
      "metadata": {
        "id": "ap4OibBjwbcn"
      },
      "outputs": [],
      "source": [
        "# Import needed functions\n",
        "from pyspark.sql.functions import to_date, dayofweek\n",
        "\n",
        "# Convert to date type\n",
        "df = df.withColumn('LISTDATE', to_date(df['LISTDATE'], format='MM/dd/yyyy HH:mm'))\n",
        "\n",
        "# Get the day of the week\n",
        "df = df.withColumn('List_Day_of_Week', dayofweek(df['LISTDATE']))\n",
        "\n",
        "# Sample and convert to pandas dataframe\n",
        "sample_df = df.sample(False, .5, 42).toPandas()"
      ]
    },
    {
      "cell_type": "code",
      "execution_count": null,
      "metadata": {
        "id": "Q5scxH4lwbcn",
        "outputId": "188aeda7-d7f3-4e17-fdc8-143777e1d3a9"
      },
      "outputs": [
        {
          "data": {
            "image/png": "[encoded data removed]",
            "text/plain": [
              "<Figure size 432x288 with 1 Axes>"
            ]
          },
          "metadata": {
            "needs_background": "light"
          },
          "output_type": "display_data"
        }
      ],
      "source": [
        "# Plot count plot of of day of week\n",
        "sns.countplot(x=\"List_Day_of_Week\", data=sample_df)\n",
        "plt.show()"
      ]
    },
    {
      "cell_type": "markdown",
      "metadata": {
        "id": "zw3GSYwxwbco"
      },
      "source": [
        "### Joining On Time Components"
      ]
    },
    {
      "cell_type": "code",
      "execution_count": null,
      "metadata": {
        "id": "dYBXPPuXwbco"
      },
      "outputs": [],
      "source": [
        "import pandas as pd"
      ]
    },
    {
      "cell_type": "code",
      "execution_count": null,
      "metadata": {
        "id": "Kmh5CEqUwbco"
      },
      "outputs": [],
      "source": [
        "data = dict(City=['LELM - Lake Elmo', 'MAPW - Maplewood','STP - Saint Paul','WB - Woodbury', \\\n",
        "                  'OAKD - Oakdale', 'LELM - Lake Elmo', 'MAPW - Maplewood', \\\n",
        "                  'STP - Saint Paul', 'WB - Woodbury', 'OAKD - Oakdale'],\n",
        "     MedianHomeValue=[401000, 193000, 172000, 291000, 210000, 385000, 187000, 162000, 277000, 192000],\n",
        "     Year= [2016,2016,2016,2016,2016,2015,2015,2015,2015, 2015])\n",
        "\n",
        "df_price = pd.DataFrame(data)\n",
        "price_df = spark.createDataFrame(df_price)"
      ]
    },
    {
      "cell_type": "code",
      "execution_count": null,
      "metadata": {
        "id": "pM11UNx4wbco",
        "outputId": "b875a6b9-db14-4552-fc9a-21287fd85c91"
      },
      "outputs": [
        {
          "name": "stdout",
          "output_type": "stream",
          "text": [
            "+----------------+---------------+----+\n",
            "|            City|MedianHomeValue|Year|\n",
            "+----------------+---------------+----+\n",
            "|LELM - Lake Elmo|         401000|2016|\n",
            "|MAPW - Maplewood|         193000|2016|\n",
            "|STP - Saint Paul|         172000|2016|\n",
            "|   WB - Woodbury|         291000|2016|\n",
            "|  OAKD - Oakdale|         210000|2016|\n",
            "|LELM - Lake Elmo|         385000|2015|\n",
            "|MAPW - Maplewood|         187000|2015|\n",
            "|STP - Saint Paul|         162000|2015|\n",
            "|   WB - Woodbury|         277000|2015|\n",
            "|  OAKD - Oakdale|         192000|2015|\n",
            "+----------------+---------------+----+\n",
            "\n"
          ]
        }
      ],
      "source": [
        "price_df.show()"
      ]
    },
    {
      "cell_type": "code",
      "execution_count": null,
      "metadata": {
        "id": "PtNGEzHhwbco",
        "outputId": "b90cdac7-0612-405c-a1de-b9a54d7faa28"
      },
      "outputs": [
        {
          "name": "stdout",
          "output_type": "stream",
          "text": [
            "+---------------+\n",
            "|MedianHomeValue|\n",
            "+---------------+\n",
            "|         172000|\n",
            "|         172000|\n",
            "|         172000|\n",
            "|         172000|\n",
            "|         172000|\n",
            "|         172000|\n",
            "|         172000|\n",
            "|         172000|\n",
            "|         172000|\n",
            "|         172000|\n",
            "|         172000|\n",
            "|         172000|\n",
            "|         172000|\n",
            "|         172000|\n",
            "|         172000|\n",
            "|         172000|\n",
            "|         172000|\n",
            "|         172000|\n",
            "|         172000|\n",
            "|         172000|\n",
            "+---------------+\n",
            "only showing top 20 rows\n",
            "\n"
          ]
        }
      ],
      "source": [
        "from pyspark.sql.functions import year\n",
        "\n",
        "# Create year column\n",
        "df = df.withColumn('list_year', year(df['LISTDATE']))\n",
        "\n",
        "# Adjust year to match\n",
        "df = df.withColumn('report_year', (df['list_year'] - 1))\n",
        "\n",
        "# Create join condition\n",
        "condition = [df['CITY'] == price_df['City'], df['report_year'] == price_df['year']]\n",
        "\n",
        "# Join the dataframes together\n",
        "df = df.join(price_df, on=condition, how='left')\n",
        "# Inspect that new columns are available\n",
        "df[['MedianHomeValue']].show()"
      ]
    },
    {
      "cell_type": "markdown",
      "metadata": {
        "id": "7pylbYWUwbco"
      },
      "source": [
        "### Date Math"
      ]
    },
    {
      "cell_type": "code",
      "execution_count": null,
      "metadata": {
        "id": "ENAHVBrYwbco"
      },
      "outputs": [],
      "source": [
        "from pyspark.sql.functions import lag, datediff, to_date\n",
        "from pyspark.sql.window import Window\n",
        "\n",
        "# Cast data type\n",
        "mort_df = mort_df.withColumn('DATE', to_date(mort_df['DATE']))\n",
        "\n",
        "# Create window\n",
        "w = Window().orderBy(mort_df['DATE'])\n",
        "# Create lag column\n",
        "mort_df = mort_df.withColumn('DATE-1', lag(mort_df['DATE'], count=1).over(w))\n",
        "\n",
        "# Calculate difference between date columns\n",
        "mort_df = mort_df.withColumn('Days_Between_Report', datediff(mort_df['DATE'], mort_df['DATE-1']))\n",
        "# Print results\n",
        "mort_df.select('Days_Between_Report').distinct().show()"
      ]
    },
    {
      "cell_type": "markdown",
      "metadata": {
        "id": "4MkFAGpBwbco"
      },
      "source": [
        "### Extracting Text to New Features"
      ]
    },
    {
      "cell_type": "code",
      "execution_count": null,
      "metadata": {
        "id": "34E2FCrJwbcp",
        "outputId": "3f9c03af-6b4d-4a77-c147-e37fe764df07"
      },
      "outputs": [
        {
          "name": "stdout",
          "output_type": "stream",
          "text": [
            "+------------------------------------------------------------------------------+-------------------+\n",
            "|                                                             GARAGEDESCRIPTION|has_attached_garage|\n",
            "+------------------------------------------------------------------------------+-------------------+\n",
            "|                                                           Driveway - Concrete|               null|\n",
            "|                                                             Driveway - Gravel|               null|\n",
            "|                                                                         Other|               null|\n",
            "|                                                               Detached Garage|                  0|\n",
            "|                                                                         Other|               null|\n",
            "|                                                               Detached Garage|                  0|\n",
            "|                                                               Detached Garage|                  0|\n",
            "|                                                                          None|               null|\n",
            "|                                          Detached Garage, Driveway - Concrete|                  0|\n",
            "|                     Underground Garage, Secured, Assigned, Garage Door Opener|               null|\n",
            "|Underground Garage, Driveway - Concrete, Secured, Assigned, Garage Door Opener|               null|\n",
            "|                                                                Uncovered/Open|               null|\n",
            "|                                                               Detached Garage|                  0|\n",
            "|                                                            Underground Garage|               null|\n",
            "|                                                                         Other|               null|\n",
            "|                                                                          None|               null|\n",
            "|                                                               Detached Garage|                  0|\n",
            "|                                          Detached Garage, Driveway - Concrete|                  0|\n",
            "|                                                         Contract Pkg Required|               null|\n",
            "|                                                               Detached Garage|                  0|\n",
            "+------------------------------------------------------------------------------+-------------------+\n",
            "only showing top 20 rows\n",
            "\n"
          ]
        }
      ],
      "source": [
        "# Import needed functions\n",
        "from pyspark.sql.functions import when\n",
        "\n",
        "# Create boolean conditions for string matches\n",
        "has_attached_garage = df['GARAGEDESCRIPTION'].like('%Attached%')\n",
        "has_detached_garage = df['GARAGEDESCRIPTION'].like('%Detached%')\n",
        "\n",
        "# Conditional value assignment \n",
        "df = df.withColumn('has_attached_garage', (when(has_attached_garage, 1)\n",
        "                                          .when(has_detached_garage, 0)\n",
        "                                          .otherwise(None)))\n",
        "\n",
        "# Inspect results\n",
        "df[['GARAGEDESCRIPTION', 'has_attached_garage']].show(truncate=100)"
      ]
    },
    {
      "cell_type": "markdown",
      "metadata": {
        "id": "l0b-G-0mwbcp"
      },
      "source": [
        "### Splitting & Exploding"
      ]
    },
    {
      "cell_type": "code",
      "execution_count": null,
      "metadata": {
        "id": "bS6PXdXkwbcp",
        "outputId": "11f0c9a1-d66a-4ed4-e49a-b80c061ce459"
      },
      "outputs": [
        {
          "name": "stdout",
          "output_type": "stream",
          "text": [
            "+------------------------------------------------------------------------------+\n",
            "|                                                             GARAGEDESCRIPTION|\n",
            "+------------------------------------------------------------------------------+\n",
            "|                                                           Driveway - Concrete|\n",
            "|                                                             Driveway - Gravel|\n",
            "|                                                                         Other|\n",
            "|                                                               Detached Garage|\n",
            "|                                                                         Other|\n",
            "|                                                               Detached Garage|\n",
            "|                                                               Detached Garage|\n",
            "|                                                                          None|\n",
            "|                                          Detached Garage, Driveway - Concrete|\n",
            "|                     Underground Garage, Secured, Assigned, Garage Door Opener|\n",
            "|Underground Garage, Driveway - Concrete, Secured, Assigned, Garage Door Opener|\n",
            "|                                                                Uncovered/Open|\n",
            "|                                                               Detached Garage|\n",
            "|                                                            Underground Garage|\n",
            "|                                                                         Other|\n",
            "|                                                                          None|\n",
            "|                                                               Detached Garage|\n",
            "|                                          Detached Garage, Driveway - Concrete|\n",
            "|                                                         Contract Pkg Required|\n",
            "|                                                               Detached Garage|\n",
            "+------------------------------------------------------------------------------+\n",
            "only showing top 20 rows\n",
            "\n"
          ]
        }
      ],
      "source": [
        "df.select(['GARAGEDESCRIPTION']).show(truncate=100)"
      ]
    },
    {
      "cell_type": "code",
      "execution_count": null,
      "metadata": {
        "id": "hjLvPrFkwbcp",
        "outputId": "ae737505-9678-4420-e5c7-88adfd65c64d"
      },
      "outputs": [
        {
          "name": "stdout",
          "output_type": "stream",
          "text": [
            "+----------------------------+\n",
            "|              ex_garage_list|\n",
            "+----------------------------+\n",
            "|             Attached Garage|\n",
            "|      On-Street Parking Only|\n",
            "|                        None|\n",
            "| More Parking Onsite for Fee|\n",
            "|          Garage Door Opener|\n",
            "|   No Int Access to Dwelling|\n",
            "|           Driveway - Gravel|\n",
            "|       Valet Parking for Fee|\n",
            "|              Uncovered/Open|\n",
            "|               Heated Garage|\n",
            "|          Underground Garage|\n",
            "|                       Other|\n",
            "|                  Unassigned|\n",
            "|More Parking Offsite for Fee|\n",
            "|    Driveway - Other Surface|\n",
            "|       Contract Pkg Required|\n",
            "|                     Carport|\n",
            "|                     Secured|\n",
            "|             Detached Garage|\n",
            "|          Driveway - Asphalt|\n",
            "|                  Units Vary|\n",
            "|                    Assigned|\n",
            "|                   Tuckunder|\n",
            "|                     Covered|\n",
            "|            Insulated Garage|\n",
            "|         Driveway - Concrete|\n",
            "|                      Tandem|\n",
            "|           Driveway - Shared|\n",
            "+----------------------------+\n",
            "\n"
          ]
        }
      ],
      "source": [
        "# Import needed functions\n",
        "from pyspark.sql.functions import split, explode\n",
        "\n",
        "# Convert string to list-like array\n",
        "df = df.withColumn('garage_list', split(df['GARAGEDESCRIPTION'], ', '))\n",
        "\n",
        "# Explode the values into new records\n",
        "ex_df = df.withColumn('ex_garage_list', explode(df['garage_list']))\n",
        "\n",
        "# Inspect the values\n",
        "ex_df[['ex_garage_list']].distinct().show(100, truncate=50)"
      ]
    },
    {
      "cell_type": "markdown",
      "metadata": {
        "id": "CdSJAF3Dwbcp"
      },
      "source": [
        "### Pivot & Join"
      ]
    },
    {
      "cell_type": "code",
      "execution_count": null,
      "metadata": {
        "id": "3thB4dWowbcq"
      },
      "outputs": [],
      "source": [
        "from pyspark.sql.functions import coalesce, first\n",
        "\n",
        "# Pivot \n",
        "piv_df = ex_df.groupBy('NO').pivot('ex_garage_list').agg(coalesce(first('constant_val')))\n",
        "\n",
        "# Join the dataframes together and fill null\n",
        "joined_df = df.join(piv_df, on='NO', how='left')\n",
        "\n",
        "# Columns to zero fill\n",
        "zfill_cols = piv_df.columns\n",
        "\n",
        "# Zero fill the pivoted values\n",
        "zfilled_df = joined_df.fillna(0, subset=zfill_cols)"
      ]
    },
    {
      "cell_type": "markdown",
      "metadata": {
        "id": "4VEPPamjwbcq"
      },
      "source": [
        "### Binarizing Day of Week"
      ]
    },
    {
      "cell_type": "code",
      "execution_count": null,
      "metadata": {
        "id": "Oal9N8Qewbcq"
      },
      "outputs": [],
      "source": [
        "df = df.withColumn('List_Day_of_Week', df['List_Day_of_Week'].cast('double'))"
      ]
    },
    {
      "cell_type": "code",
      "execution_count": null,
      "metadata": {
        "id": "cWanvxi4wbcr",
        "outputId": "54be75ff-37cf-483f-a861-33d3b6eb4974"
      },
      "outputs": [
        {
          "name": "stdout",
          "output_type": "stream",
          "text": [
            "+----------------+-----------------+\n",
            "|List_Day_of_Week|Listed_On_Weekend|\n",
            "+----------------+-----------------+\n",
            "|             6.0|              1.0|\n",
            "|             5.0|              0.0|\n",
            "|             6.0|              1.0|\n",
            "|             5.0|              0.0|\n",
            "|             6.0|              1.0|\n",
            "|             5.0|              0.0|\n",
            "|             5.0|              0.0|\n",
            "|             2.0|              0.0|\n",
            "|             7.0|              1.0|\n",
            "|             6.0|              1.0|\n",
            "|             6.0|              1.0|\n",
            "|             4.0|              0.0|\n",
            "|             3.0|              0.0|\n",
            "|             4.0|              0.0|\n",
            "|             5.0|              0.0|\n",
            "|             7.0|              1.0|\n",
            "|             4.0|              0.0|\n",
            "|             3.0|              0.0|\n",
            "|             5.0|              0.0|\n",
            "|             4.0|              0.0|\n",
            "+----------------+-----------------+\n",
            "only showing top 20 rows\n",
            "\n"
          ]
        }
      ],
      "source": [
        "# Import transformer\n",
        "from pyspark.ml.feature import Binarizer\n",
        "\n",
        "# Create the transformer\n",
        "binarizer = Binarizer(threshold=5, inputCol='List_Day_of_Week', outputCol='Listed_On_Weekend')\n",
        "\n",
        "# Apply the transformation to df\n",
        "df = binarizer.transform(df)\n",
        "\n",
        "# Verify transformation\n",
        "df[['List_Day_of_Week', 'Listed_On_Weekend']].show()"
      ]
    },
    {
      "cell_type": "markdown",
      "metadata": {
        "id": "5KFTMmR1wbcr"
      },
      "source": [
        "### Bucketing"
      ]
    },
    {
      "cell_type": "code",
      "execution_count": null,
      "metadata": {
        "id": "5hvF6C8Ywbcr",
        "outputId": "33cbc224-f0c6-4b9f-e7a2-54ae78e3eab4"
      },
      "outputs": [
        {
          "data": {
            "text/html": [
              "<div>\n",
              "<style scoped>\n",
              "    .dataframe tbody tr th:only-of-type {\n",
              "        vertical-align: middle;\n",
              "    }\n",
              "\n",
              "    .dataframe tbody tr th {\n",
              "        vertical-align: top;\n",
              "    }\n",
              "\n",
              "    .dataframe thead th {\n",
              "        text-align: right;\n",
              "    }\n",
              "</style>\n",
              "<table border=\"1\" class=\"dataframe\">\n",
              "  <thead>\n",
              "    <tr style=\"text-align: right;\">\n",
              "      <th></th>\n",
              "      <th>NO</th>\n",
              "      <th>MLSID</th>\n",
              "      <th>STREETNUMBERNUMERIC</th>\n",
              "      <th>STREETADDRESS</th>\n",
              "      <th>STREETNAME</th>\n",
              "      <th>POSTALCODE</th>\n",
              "      <th>STATEORPROVINCE</th>\n",
              "      <th>CITY</th>\n",
              "      <th>SALESCLOSEPRICE</th>\n",
              "      <th>LISTDATE</th>\n",
              "      <th>...</th>\n",
              "      <th>ROOMAREA8</th>\n",
              "      <th>ROOMFLOOR8</th>\n",
              "      <th>BEDROOMS</th>\n",
              "      <th>SQFTBELOWGROUND</th>\n",
              "      <th>ASSUMABLEMORTGAGE</th>\n",
              "      <th>ASSOCIATIONFEE</th>\n",
              "      <th>ASSESSMENTPENDING</th>\n",
              "      <th>ASSESSEDVALUATION</th>\n",
              "      <th>LISTDATER</th>\n",
              "      <th>List_Day_of_Week</th>\n",
              "    </tr>\n",
              "  </thead>\n",
              "  <tbody>\n",
              "    <tr>\n",
              "      <th>0</th>\n",
              "      <td>5</td>\n",
              "      <td>RMLS</td>\n",
              "      <td>2915</td>\n",
              "      <td>2915 Inwood Ave N</td>\n",
              "      <td>Inwood</td>\n",
              "      <td>55042</td>\n",
              "      <td>MN</td>\n",
              "      <td>LELM - Lake Elmo</td>\n",
              "      <td>249900</td>\n",
              "      <td>2017-09-12</td>\n",
              "      <td>...</td>\n",
              "      <td>None</td>\n",
              "      <td>None</td>\n",
              "      <td>3</td>\n",
              "      <td>1026</td>\n",
              "      <td>None</td>\n",
              "      <td>0</td>\n",
              "      <td>No</td>\n",
              "      <td>0.0</td>\n",
              "      <td>2017-09-12</td>\n",
              "      <td>3</td>\n",
              "    </tr>\n",
              "    <tr>\n",
              "      <th>1</th>\n",
              "      <td>7</td>\n",
              "      <td>RMLS</td>\n",
              "      <td>9957</td>\n",
              "      <td>9957 5th Street Ln N</td>\n",
              "      <td>5th Street</td>\n",
              "      <td>55042</td>\n",
              "      <td>MN</td>\n",
              "      <td>LELM - Lake Elmo</td>\n",
              "      <td>248000</td>\n",
              "      <td>2017-06-08</td>\n",
              "      <td>...</td>\n",
              "      <td>None</td>\n",
              "      <td>None</td>\n",
              "      <td>3</td>\n",
              "      <td>0</td>\n",
              "      <td>None</td>\n",
              "      <td>200</td>\n",
              "      <td>Yes</td>\n",
              "      <td>3.0</td>\n",
              "      <td>2017-06-08</td>\n",
              "      <td>5</td>\n",
              "    </tr>\n",
              "    <tr>\n",
              "      <th>2</th>\n",
              "      <td>8</td>\n",
              "      <td>RMLS</td>\n",
              "      <td>9934</td>\n",
              "      <td>9934 5th Street Ln N</td>\n",
              "      <td>5th Street</td>\n",
              "      <td>55042</td>\n",
              "      <td>MN</td>\n",
              "      <td>LELM - Lake Elmo</td>\n",
              "      <td>245000</td>\n",
              "      <td>2017-11-05</td>\n",
              "      <td>...</td>\n",
              "      <td>None</td>\n",
              "      <td>None</td>\n",
              "      <td>3</td>\n",
              "      <td>0</td>\n",
              "      <td>None</td>\n",
              "      <td>200</td>\n",
              "      <td>No</td>\n",
              "      <td>0.0</td>\n",
              "      <td>2017-11-05</td>\n",
              "      <td>1</td>\n",
              "    </tr>\n",
              "    <tr>\n",
              "      <th>3</th>\n",
              "      <td>9</td>\n",
              "      <td>RMLS</td>\n",
              "      <td>9926</td>\n",
              "      <td>9926 5th Street Ln N</td>\n",
              "      <td>5th Street</td>\n",
              "      <td>55042</td>\n",
              "      <td>MN</td>\n",
              "      <td>LELM - Lake Elmo</td>\n",
              "      <td>254990</td>\n",
              "      <td>2017-10-12</td>\n",
              "      <td>...</td>\n",
              "      <td>None</td>\n",
              "      <td>None</td>\n",
              "      <td>3</td>\n",
              "      <td>0</td>\n",
              "      <td>None</td>\n",
              "      <td>200</td>\n",
              "      <td>No</td>\n",
              "      <td>0.0</td>\n",
              "      <td>2017-10-12</td>\n",
              "      <td>5</td>\n",
              "    </tr>\n",
              "    <tr>\n",
              "      <th>4</th>\n",
              "      <td>11</td>\n",
              "      <td>RMLS</td>\n",
              "      <td>9902</td>\n",
              "      <td>9902 5th Street Ln N</td>\n",
              "      <td>5th Street</td>\n",
              "      <td>55042</td>\n",
              "      <td>MN</td>\n",
              "      <td>LELM - Lake Elmo</td>\n",
              "      <td>254500</td>\n",
              "      <td>2017-05-19</td>\n",
              "      <td>...</td>\n",
              "      <td>None</td>\n",
              "      <td>None</td>\n",
              "      <td>3</td>\n",
              "      <td>0</td>\n",
              "      <td>None</td>\n",
              "      <td>200</td>\n",
              "      <td>No</td>\n",
              "      <td>0.0</td>\n",
              "      <td>2017-05-19</td>\n",
              "      <td>6</td>\n",
              "    </tr>\n",
              "  </tbody>\n",
              "</table>\n",
              "<p>5 rows × 76 columns</p>\n",
              "</div>"
            ],
            "text/plain": [
              "   NO MLSID  STREETNUMBERNUMERIC         STREETADDRESS  STREETNAME  \\\n",
              "0   5  RMLS                 2915     2915 Inwood Ave N      Inwood   \n",
              "1   7  RMLS                 9957  9957 5th Street Ln N  5th Street   \n",
              "2   8  RMLS                 9934  9934 5th Street Ln N  5th Street   \n",
              "3   9  RMLS                 9926  9926 5th Street Ln N  5th Street   \n",
              "4  11  RMLS                 9902  9902 5th Street Ln N  5th Street   \n",
              "\n",
              "   POSTALCODE STATEORPROVINCE              CITY  SALESCLOSEPRICE    LISTDATE  \\\n",
              "0       55042              MN  LELM - Lake Elmo           249900  2017-09-12   \n",
              "1       55042              MN  LELM - Lake Elmo           248000  2017-06-08   \n",
              "2       55042              MN  LELM - Lake Elmo           245000  2017-11-05   \n",
              "3       55042              MN  LELM - Lake Elmo           254990  2017-10-12   \n",
              "4       55042              MN  LELM - Lake Elmo           254500  2017-05-19   \n",
              "\n",
              "         ...         ROOMAREA8 ROOMFLOOR8  BEDROOMS  SQFTBELOWGROUND  \\\n",
              "0        ...              None       None         3             1026   \n",
              "1        ...              None       None         3                0   \n",
              "2        ...              None       None         3                0   \n",
              "3        ...              None       None         3                0   \n",
              "4        ...              None       None         3                0   \n",
              "\n",
              "   ASSUMABLEMORTGAGE ASSOCIATIONFEE ASSESSMENTPENDING ASSESSEDVALUATION  \\\n",
              "0               None              0                No               0.0   \n",
              "1               None            200               Yes               3.0   \n",
              "2               None            200                No               0.0   \n",
              "3               None            200                No               0.0   \n",
              "4               None            200                No               0.0   \n",
              "\n",
              "    LISTDATER  List_Day_of_Week  \n",
              "0  2017-09-12                 3  \n",
              "1  2017-06-08                 5  \n",
              "2  2017-11-05                 1  \n",
              "3  2017-10-12                 5  \n",
              "4  2017-05-19                 6  \n",
              "\n",
              "[5 rows x 76 columns]"
            ]
          },
          "execution_count": 82,
          "metadata": {},
          "output_type": "execute_result"
        }
      ],
      "source": [
        "sample_df.head()"
      ]
    },
    {
      "cell_type": "code",
      "execution_count": null,
      "metadata": {
        "id": "kqX-cZmWwbcr",
        "outputId": "cbe3141b-5b4c-47dc-9565-bef93d93245a"
      },
      "outputs": [
        {
          "data": {
            "text/plain": [
              "dtype('int64')"
            ]
          },
          "execution_count": 85,
          "metadata": {},
          "output_type": "execute_result"
        }
      ],
      "source": [
        "sample_df.BEDROOMS.dtype"
      ]
    },
    {
      "cell_type": "code",
      "execution_count": null,
      "metadata": {
        "id": "PbmEypTKwbcr",
        "outputId": "0ec3f293-4fc7-4924-bea1-64edde2efe74"
      },
      "outputs": [
        {
          "data": {
            "image/png": "[encoded data removed]",
            "text/plain": [
              "<Figure size 432x288 with 1 Axes>"
            ]
          },
          "metadata": {
            "needs_background": "light"
          },
          "output_type": "display_data"
        },
        {
          "name": "stdout",
          "output_type": "stream",
          "text": [
            "+--------+--------+\n",
            "|BEDROOMS|bedrooms|\n",
            "+--------+--------+\n",
            "|     3.0|     3.0|\n",
            "|     4.0|     4.0|\n",
            "|     1.0|     1.0|\n",
            "|     4.0|     4.0|\n",
            "|     3.0|     3.0|\n",
            "|     3.0|     3.0|\n",
            "|     4.0|     4.0|\n",
            "|     4.0|     4.0|\n",
            "|     1.0|     1.0|\n",
            "|     1.0|     1.0|\n",
            "|     1.0|     1.0|\n",
            "|     1.0|     1.0|\n",
            "|     1.0|     1.0|\n",
            "|     1.0|     1.0|\n",
            "|     1.0|     1.0|\n",
            "|     2.0|     2.0|\n",
            "|     2.0|     2.0|\n",
            "|     3.0|     3.0|\n",
            "|     0.0|     0.0|\n",
            "|     3.0|     3.0|\n",
            "+--------+--------+\n",
            "only showing top 20 rows\n",
            "\n"
          ]
        }
      ],
      "source": [
        "from pyspark.ml.feature import Bucketizer\n",
        "\n",
        "# Plot distribution of sample_df\n",
        "sns.distplot(sample_df.BEDROOMS, axlabel='BEDROOMS')\n",
        "plt.show()\n",
        "\n",
        "# Create the bucket splits and bucketizer\n",
        "splits = [0, 1, 2, 3, 4, 5, float('Inf')]\n",
        "buck = Bucketizer(splits=splits, inputCol='BEDROOMS', outputCol='bedrooms')\n",
        "\n",
        "# Apply the transformation to df\n",
        "df = buck.transform(df)\n",
        "\n",
        "# Display results\n",
        "df[['BEDROOMS', 'bedrooms']].show()"
      ]
    },
    {
      "cell_type": "markdown",
      "metadata": {
        "id": "SuTNJdq_wbcr"
      },
      "source": [
        "### One Hot Encoding"
      ]
    },
    {
      "cell_type": "code",
      "execution_count": null,
      "metadata": {
        "id": "5KURibDTwbcr",
        "outputId": "9f0093b4-4ee4-4c1e-8c33-680df931c763"
      },
      "outputs": [
        {
          "name": "stdout",
          "output_type": "stream",
          "text": [
            "+--------------------+\n",
            "|SCHOOLDISTRICTNUMBER|\n",
            "+--------------------+\n",
            "|      625 - St. Paul|\n",
            "|      625 - St. Paul|\n",
            "|      625 - St. Paul|\n",
            "|      625 - St. Paul|\n",
            "|      625 - St. Paul|\n",
            "|      625 - St. Paul|\n",
            "|      625 - St. Paul|\n",
            "|      625 - St. Paul|\n",
            "|      625 - St. Paul|\n",
            "|      625 - St. Paul|\n",
            "|      625 - St. Paul|\n",
            "|      625 - St. Paul|\n",
            "|      625 - St. Paul|\n",
            "|      625 - St. Paul|\n",
            "|      625 - St. Paul|\n",
            "|      625 - St. Paul|\n",
            "|      625 - St. Paul|\n",
            "|      625 - St. Paul|\n",
            "|      625 - St. Paul|\n",
            "|      625 - St. Paul|\n",
            "+--------------------+\n",
            "only showing top 20 rows\n",
            "\n"
          ]
        }
      ],
      "source": [
        "df.select(['SCHOOLDISTRICTNUMBER']).show()"
      ]
    },
    {
      "cell_type": "code",
      "execution_count": null,
      "metadata": {
        "id": "7KgGW928wbcs",
        "outputId": "15681265-f310-4234-f214-6d1437f15421"
      },
      "outputs": [
        {
          "name": "stdout",
          "output_type": "stream",
          "text": [
            "+--------------------+------------+-------------+\n",
            "|SCHOOLDISTRICTNUMBER|School_Index|   School_Vec|\n",
            "+--------------------+------------+-------------+\n",
            "|      625 - St. Paul|         0.0|(7,[0],[1.0])|\n",
            "|      625 - St. Paul|         0.0|(7,[0],[1.0])|\n",
            "|      625 - St. Paul|         0.0|(7,[0],[1.0])|\n",
            "|      625 - St. Paul|         0.0|(7,[0],[1.0])|\n",
            "|      625 - St. Paul|         0.0|(7,[0],[1.0])|\n",
            "|      625 - St. Paul|         0.0|(7,[0],[1.0])|\n",
            "|      625 - St. Paul|         0.0|(7,[0],[1.0])|\n",
            "|      625 - St. Paul|         0.0|(7,[0],[1.0])|\n",
            "|      625 - St. Paul|         0.0|(7,[0],[1.0])|\n",
            "|      625 - St. Paul|         0.0|(7,[0],[1.0])|\n",
            "|      625 - St. Paul|         0.0|(7,[0],[1.0])|\n",
            "|      625 - St. Paul|         0.0|(7,[0],[1.0])|\n",
            "|      625 - St. Paul|         0.0|(7,[0],[1.0])|\n",
            "|      625 - St. Paul|         0.0|(7,[0],[1.0])|\n",
            "|      625 - St. Paul|         0.0|(7,[0],[1.0])|\n",
            "|      625 - St. Paul|         0.0|(7,[0],[1.0])|\n",
            "|      625 - St. Paul|         0.0|(7,[0],[1.0])|\n",
            "|      625 - St. Paul|         0.0|(7,[0],[1.0])|\n",
            "|      625 - St. Paul|         0.0|(7,[0],[1.0])|\n",
            "|      625 - St. Paul|         0.0|(7,[0],[1.0])|\n",
            "+--------------------+------------+-------------+\n",
            "only showing top 20 rows\n",
            "\n"
          ]
        }
      ],
      "source": [
        "from pyspark.ml.feature import OneHotEncoder, StringIndexer\n",
        "\n",
        "# Map strings to numbers with string indexer\n",
        "string_indexer = StringIndexer(inputCol='SCHOOLDISTRICTNUMBER', outputCol='School_Index')\n",
        "indexed_df = string_indexer.fit(df).transform(df)\n",
        "\n",
        "# Onehot encode indexed values\n",
        "encoder = OneHotEncoder(inputCol='School_Index', outputCol='School_Vec')\n",
        "encoded_df = encoder.transform(indexed_df)\n",
        "\n",
        "# Inspect the transformation steps\n",
        "encoded_df[['SCHOOLDISTRICTNUMBER', 'School_Index', 'School_Vec']].show(truncate=100)"
      ]
    },
    {
      "cell_type": "markdown",
      "metadata": {
        "id": "8dCdc2ykwbcs"
      },
      "source": [
        "notice that the implementation in PySpark is different than Pandas get_dummies() as it puts everything into a single column of type vector rather than a new column for each value. It's also different from sklearn's OneHotEncoder in that the last categorical value is captured by a vector of all zeros"
      ]
    },
    {
      "cell_type": "markdown",
      "metadata": {
        "id": "pGii_LqCwbcs"
      },
      "source": [
        "### Building a Model"
      ]
    },
    {
      "cell_type": "code",
      "execution_count": null,
      "metadata": {
        "id": "dDLXh0Rlwbcs",
        "outputId": "c1c3dbef-4ae9-42fb-fae5-e80b32f8b589"
      },
      "outputs": [
        {
          "name": "stdout",
          "output_type": "stream",
          "text": [
            "+---------------+\n",
            "|  OFFMARKETDATE|\n",
            "+---------------+\n",
            "|  9/6/2017 0:00|\n",
            "| 8/12/2017 0:00|\n",
            "| 10/4/2017 0:00|\n",
            "| 8/22/2017 0:00|\n",
            "| 3/27/2017 0:00|\n",
            "| 8/18/2017 0:00|\n",
            "| 5/10/2017 0:00|\n",
            "|  9/2/2017 0:00|\n",
            "|  9/1/2017 0:00|\n",
            "| 7/26/2017 0:00|\n",
            "| 5/18/2017 0:00|\n",
            "| 9/20/2017 0:00|\n",
            "| 8/29/2017 0:00|\n",
            "| 3/29/2017 0:00|\n",
            "| 3/13/2017 0:00|\n",
            "|  9/6/2017 0:00|\n",
            "| 6/25/2017 0:00|\n",
            "| 9/15/2017 0:00|\n",
            "| 6/14/2017 0:00|\n",
            "|11/20/2017 0:00|\n",
            "+---------------+\n",
            "only showing top 20 rows\n",
            "\n"
          ]
        }
      ],
      "source": [
        "df.select(['OFFMARKETDATE']).show()"
      ]
    },
    {
      "cell_type": "code",
      "execution_count": null,
      "metadata": {
        "id": "CIv7yFLvwbcs"
      },
      "outputs": [],
      "source": [
        "from datetime import timedelta\n",
        "\n",
        "df = df.withColumn('OFFMARKETDATE', to_date(df['OFFMARKETDATE'], format='MM/dd/yyyy HH:mm'))"
      ]
    },
    {
      "cell_type": "code",
      "execution_count": null,
      "metadata": {
        "id": "t0fvC8Ewwbcs"
      },
      "outputs": [],
      "source": [
        "def train_test_split_date(df, split_col, test_days=45):\n",
        "    \"\"\"Calculate the date to split test and training sets\"\"\"\n",
        "    # Find how many days our data spans\n",
        "    max_date = df.agg({split_col: 'max'}).collect()[0][0]\n",
        "    min_date = df.agg({split_col: 'min'}).collect()[0][0]\n",
        "    # Subtract an integer number of days from the last date in dataset\n",
        "    split_date = max_date - timedelta(days=test_days)\n",
        "    return split_date\n",
        "\n",
        "# Find the date to use in spitting test and train\n",
        "split_date = train_test_split_date(df, 'OFFMARKETDATE')\n",
        "\n",
        "# Create Sequential Test and Training Sets\n",
        "train_df = df.where(df['OFFMARKETDATE'] < split_date) \n",
        "test_df = df.where(df['OFFMARKETDATE'] >= split_date).where(df['LISTDATE'] <= split_date) "
      ]
    },
    {
      "cell_type": "code",
      "execution_count": null,
      "metadata": {
        "id": "TSrTMr1Xwbcs",
        "outputId": "77565af9-a18f-4227-b0f3-439f0e7cbb58"
      },
      "outputs": [
        {
          "data": {
            "text/plain": [
              "Column<b\"to_date('2017-12-10')\">"
            ]
          },
          "execution_count": 100,
          "metadata": {},
          "output_type": "execute_result"
        }
      ],
      "source": [
        "split_date"
      ]
    },
    {
      "cell_type": "code",
      "execution_count": null,
      "metadata": {
        "id": "ot-aPwstwbcs",
        "outputId": "518f9d91-56fa-467f-85f5-bad00977cd1a"
      },
      "outputs": [
        {
          "data": {
            "text/plain": [
              "(4828, 154)"
            ]
          },
          "execution_count": 98,
          "metadata": {},
          "output_type": "execute_result"
        }
      ],
      "source": [
        "train_df.count(), test_df.count()"
      ]
    },
    {
      "cell_type": "markdown",
      "metadata": {
        "id": "YpkjB4B_wbct"
      },
      "source": [
        "### Adjusting Time Features"
      ]
    },
    {
      "cell_type": "code",
      "execution_count": null,
      "metadata": {
        "id": "-9T9vePVwbct",
        "outputId": "47548cb1-8d1c-4944-f241-6d471eb6e81b"
      },
      "outputs": [
        {
          "name": "stdout",
          "output_type": "stream",
          "text": [
            "+----------+-------------+---------------------+------------+\n",
            "|  LISTDATE|OFFMARKETDATE|DAYSONMARKET_Original|DAYSONMARKET|\n",
            "+----------+-------------+---------------------+------------+\n",
            "|2017-10-07|   2017-12-17|                   71|          64|\n",
            "|2017-08-14|   2018-01-09|                  114|         118|\n",
            "|2017-10-24|   2017-12-19|                   56|          47|\n",
            "|2017-09-21|   2018-01-03|                  100|          80|\n",
            "|2017-12-08|   2017-12-13|                    4|           2|\n",
            "|2017-11-03|   2017-12-19|                   46|          37|\n",
            "|2017-10-14|   2017-12-15|                    6|          57|\n",
            "|2017-11-27|   2017-12-27|                    3|          13|\n",
            "|2017-12-10|   2017-12-14|                    4|           0|\n",
            "|2017-11-14|   2018-01-02|                   49|          26|\n",
            "|2017-11-21|   2017-12-29|                   38|          19|\n",
            "|2017-12-08|   2017-12-12|                    4|           2|\n",
            "|2017-11-13|   2017-12-21|                   38|          27|\n",
            "|2017-12-03|   2018-01-15|                   43|           7|\n",
            "|2017-07-27|   2017-12-14|                  138|         136|\n",
            "|2017-12-04|   2018-01-04|                   31|           6|\n",
            "|2017-12-07|   2017-12-27|                   20|           3|\n",
            "|2017-12-04|   2017-12-17|                   13|           6|\n",
            "|2017-11-10|   2017-12-31|                   50|          30|\n",
            "|2017-11-07|   2017-12-22|                    7|          33|\n",
            "+----------+-------------+---------------------+------------+\n",
            "only showing top 20 rows\n",
            "\n"
          ]
        }
      ],
      "source": [
        "from pyspark.sql.functions import datediff, to_date, lit\n",
        "\n",
        "split_date = to_date(lit('2017-12-10'))\n",
        "\n",
        "# Create a copy of DAYSONMARKET to review later\n",
        "test_df = test_df.withColumn('DAYSONMARKET_Original', test_df['DAYSONMARKET'])\n",
        "\n",
        "# Recalculate DAYSONMARKET from what we know on our split date\n",
        "test_df = test_df.withColumn('DAYSONMARKET', datediff(split_date, test_df['LISTDATE']))\n",
        "\n",
        "# Review the difference\n",
        "test_df[['LISTDATE', 'OFFMARKETDATE', 'DAYSONMARKET_Original', 'DAYSONMARKET']].show()"
      ]
    },
    {
      "cell_type": "markdown",
      "metadata": {
        "id": "EBQZ7kfRwbct"
      },
      "source": [
        "if the house is still on the market, we don't know how many more days it will stay on the market. We need to adjust our test_df to reflect what information we currently have as of 2017-12-10."
      ]
    },
    {
      "cell_type": "markdown",
      "metadata": {
        "id": "i8QurAYvwbct"
      },
      "source": [
        "Missing values are handled by Random Forests internally where they partition on missing values. As long as you replace them with something outside of the range of normal values, they will be handled correctly. Likewise, categorical features only need to be mapped to numbers, they are fine to stay all in one column by using a StringIndexer as we saw in chapter 3. OneHot encoding which converts each possible value to its own boolean feature is not needed."
      ]
    },
    {
      "cell_type": "markdown",
      "metadata": {
        "id": "7n4e82y8wbct"
      },
      "source": [
        "### Dropping Columns with Low Observations"
      ]
    },
    {
      "cell_type": "code",
      "execution_count": null,
      "metadata": {
        "id": "HlL93s0owbct",
        "outputId": "10bd0ceb-a322-4b73-b60d-b68a3936b68e"
      },
      "outputs": [
        {
          "name": "stdout",
          "output_type": "stream",
          "text": [
            "+--------------------+\n",
            "|               FENCE|\n",
            "+--------------------+\n",
            "|                null|\n",
            "|                null|\n",
            "|               Other|\n",
            "|          Chain Link|\n",
            "|          Chain Link|\n",
            "|                None|\n",
            "|       Wire, Partial|\n",
            "|                null|\n",
            "| Chain Link, Partial|\n",
            "|                null|\n",
            "|                None|\n",
            "| Chain Link, Partial|\n",
            "|                null|\n",
            "|                null|\n",
            "|Wood, Chain Link,...|\n",
            "|          Chain Link|\n",
            "|                null|\n",
            "| Chain Link, Partial|\n",
            "|                None|\n",
            "|                null|\n",
            "+--------------------+\n",
            "only showing top 20 rows\n",
            "\n"
          ]
        }
      ],
      "source": [
        "df.select('FENCE').show()"
      ]
    },
    {
      "cell_type": "code",
      "execution_count": null,
      "metadata": {
        "id": "5Wd0eBgpwbct"
      },
      "outputs": [],
      "source": [
        "binary_cols = ['FENCE_WIRE',\n",
        " 'FENCE_ELECTRIC',\n",
        " 'FENCE_NAN',\n",
        " 'FENCE_PARTIAL',\n",
        " 'FENCE_RAIL',\n",
        " 'FENCE_OTHER',\n",
        " 'FENCE_CHAIN LINK',\n",
        " 'FENCE_FULL',\n",
        " 'FENCE_NONE',\n",
        " 'FENCE_PRIVACY',\n",
        " 'FENCE_WOOD',\n",
        " 'FENCE_INVISIBLE', # e.g. one hot = fence columns \n",
        " 'ROOF_ASPHALT SHINGLES',\n",
        " 'ROOF_SHAKES',\n",
        " 'ROOF_NAN',\n",
        " 'ROOF_UNSPECIFIED SHINGLE',\n",
        " 'ROOF_SLATE',\n",
        " 'ROOF_PITCHED',\n",
        " 'ROOF_FLAT',\n",
        " 'ROOF_TAR/GRAVEL',\n",
        " 'ROOF_OTHER',\n",
        " 'ROOF_METAL',\n",
        " 'ROOF_TILE',\n",
        " 'ROOF_RUBBER',\n",
        " 'ROOF_WOOD SHINGLES',\n",
        " 'ROOF_AGE OVER 8 YEARS',\n",
        " 'ROOF_AGE 8 YEARS OR LESS',\n",
        " 'POOLDESCRIPTION_NAN',\n",
        " 'POOLDESCRIPTION_HEATED',\n",
        " 'POOLDESCRIPTION_NONE',\n",
        " 'POOLDESCRIPTION_SHARED',\n",
        " 'POOLDESCRIPTION_INDOOR',\n",
        " 'POOLDESCRIPTION_OUTDOOR',\n",
        " 'POOLDESCRIPTION_ABOVE GROUND',\n",
        " 'POOLDESCRIPTION_BELOW GROUND',\n",
        " 'GARAGEDESCRIPTION_ASSIGNED',\n",
        " 'GARAGEDESCRIPTION_TANDEM',\n",
        " 'GARAGEDESCRIPTION_UNCOVERED/OPEN',\n",
        " 'GARAGEDESCRIPTION_TUCKUNDER',\n",
        " 'GARAGEDESCRIPTION_DRIVEWAY - ASPHALT',\n",
        " 'GARAGEDESCRIPTION_HEATED GARAGE',\n",
        " 'GARAGEDESCRIPTION_UNDERGROUND GARAGE',\n",
        " 'GARAGEDESCRIPTION_DRIVEWAY - SHARED',\n",
        " 'GARAGEDESCRIPTION_CONTRACT PKG REQUIRED',\n",
        " 'GARAGEDESCRIPTION_GARAGE DOOR OPENER',\n",
        " 'GARAGEDESCRIPTION_MORE PARKING OFFSITE FOR FEE',\n",
        " 'GARAGEDESCRIPTION_VALET PARKING FOR FEE',\n",
        " 'GARAGEDESCRIPTION_OTHER',\n",
        " 'GARAGEDESCRIPTION_MORE PARKING ONSITE FOR FEE',\n",
        " 'GARAGEDESCRIPTION_DRIVEWAY - OTHER SURFACE',\n",
        " 'GARAGEDESCRIPTION_DETACHED GARAGE',\n",
        " 'GARAGEDESCRIPTION_SECURED',\n",
        " 'GARAGEDESCRIPTION_CARPORT',\n",
        " 'GARAGEDESCRIPTION_DRIVEWAY - CONCRETE',\n",
        " 'GARAGEDESCRIPTION_ON-STREET PARKING ONLY',\n",
        " 'GARAGEDESCRIPTION_COVERED',\n",
        " 'GARAGEDESCRIPTION_INSULATED GARAGE',\n",
        " 'GARAGEDESCRIPTION_UNASSIGNED',\n",
        " 'GARAGEDESCRIPTION_NONE',\n",
        " 'GARAGEDESCRIPTION_DRIVEWAY - GRAVEL',\n",
        " 'GARAGEDESCRIPTION_NO INT ACCESS TO DWELLING',\n",
        " 'GARAGEDESCRIPTION_UNITS VARY',\n",
        " 'GARAGEDESCRIPTION_ATTACHED GARAGE',\n",
        " 'APPLIANCES_NAN',\n",
        " 'APPLIANCES_COOKTOP',\n",
        " 'APPLIANCES_WALL OVEN',\n",
        " 'APPLIANCES_WATER SOFTENER - OWNED',\n",
        " 'APPLIANCES_DISPOSAL',\n",
        " 'APPLIANCES_DISHWASHER',\n",
        " 'APPLIANCES_OTHER',\n",
        " 'APPLIANCES_INDOOR GRILL',\n",
        " 'APPLIANCES_WASHER',\n",
        " 'APPLIANCES_RANGE',\n",
        " 'APPLIANCES_REFRIGERATOR',\n",
        " 'APPLIANCES_FURNACE HUMIDIFIER',\n",
        " 'APPLIANCES_TANKLESS WATER  HEATER',\n",
        " 'APPLIANCES_ELECTRONIC AIR FILTER',\n",
        " 'APPLIANCES_MICROWAVE',\n",
        " 'APPLIANCES_EXHAUST FAN/HOOD',\n",
        " 'APPLIANCES_NONE',\n",
        " 'APPLIANCES_CENTRAL VACUUM',\n",
        " 'APPLIANCES_TRASH COMPACTOR',\n",
        " 'APPLIANCES_AIR-TO-AIR EXCHANGER',\n",
        " 'APPLIANCES_DRYER',\n",
        " 'APPLIANCES_FREEZER',\n",
        " 'APPLIANCES_WATER SOFTENER - RENTED',\n",
        " 'EXTERIOR_SHAKES',\n",
        " 'EXTERIOR_CEMENT BOARD',\n",
        " 'EXTERIOR_BLOCK',\n",
        " 'EXTERIOR_VINYL',\n",
        " 'EXTERIOR_FIBER BOARD',\n",
        " 'EXTERIOR_OTHER',\n",
        " 'EXTERIOR_METAL',\n",
        " 'EXTERIOR_BRICK/STONE',\n",
        " 'EXTERIOR_STUCCO',\n",
        " 'EXTERIOR_ENGINEERED WOOD',\n",
        " 'EXTERIOR_WOOD',\n",
        " 'DININGROOMDESCRIPTION_EAT IN KITCHEN',\n",
        " 'DININGROOMDESCRIPTION_NAN',\n",
        " 'DININGROOMDESCRIPTION_OTHER',\n",
        " 'DININGROOMDESCRIPTION_LIVING/DINING ROOM',\n",
        " 'DININGROOMDESCRIPTION_SEPARATE/FORMAL DINING ROOM',\n",
        " 'DININGROOMDESCRIPTION_KITCHEN/DINING ROOM',\n",
        " 'DININGROOMDESCRIPTION_INFORMAL DINING ROOM',\n",
        " 'DININGROOMDESCRIPTION_BREAKFAST AREA',\n",
        " 'BASEMENT_FINISHED (LIVABLE)',\n",
        " 'BASEMENT_PARTIAL',\n",
        " 'BASEMENT_SUMP PUMP',\n",
        " 'BASEMENT_INSULATING CONCRETE FORMS',\n",
        " 'BASEMENT_CRAWL SPACE',\n",
        " 'BASEMENT_PARTIAL FINISHED',\n",
        " 'BASEMENT_CONCRETE BLOCK',\n",
        " 'BASEMENT_DRAINAGE SYSTEM',\n",
        " 'BASEMENT_POURED CONCRETE',\n",
        " 'BASEMENT_UNFINISHED',\n",
        " 'BASEMENT_DRAIN TILED',\n",
        " 'BASEMENT_WOOD',\n",
        " 'BASEMENT_FULL',\n",
        " 'BASEMENT_EGRESS WINDOWS',\n",
        " 'BASEMENT_DAY/LOOKOUT WINDOWS',\n",
        " 'BASEMENT_SLAB',\n",
        " 'BASEMENT_STONE',\n",
        " 'BASEMENT_NONE',\n",
        " 'BASEMENT_WALKOUT',\n",
        " 'BATHDESC_MAIN FLOOR 1/2 BATH',\n",
        " 'BATHDESC_TWO MASTER BATHS',\n",
        " 'BATHDESC_MASTER WALK-THRU',\n",
        " 'BATHDESC_WHIRLPOOL',\n",
        " 'BATHDESC_NAN',\n",
        " 'BATHDESC_3/4 BASEMENT',\n",
        " 'BATHDESC_TWO BASEMENT BATHS',\n",
        " 'BATHDESC_OTHER',\n",
        " 'BATHDESC_3/4 MASTER',\n",
        " 'BATHDESC_MAIN FLOOR 3/4 BATH',\n",
        " 'BATHDESC_FULL MASTER',\n",
        " 'BATHDESC_MAIN FLOOR FULL BATH',\n",
        " 'BATHDESC_WALK-IN SHOWER',\n",
        " 'BATHDESC_SEPARATE TUB & SHOWER',\n",
        " 'BATHDESC_FULL BASEMENT',\n",
        " 'BATHDESC_BASEMENT',\n",
        " 'BATHDESC_WALK THRU',\n",
        " 'BATHDESC_BATHROOM ENSUITE',\n",
        " 'BATHDESC_PRIVATE MASTER',\n",
        " 'BATHDESC_JACK & JILL 3/4',\n",
        " 'BATHDESC_UPPER LEVEL 1/2 BATH',\n",
        " 'BATHDESC_ROUGH IN',\n",
        " 'BATHDESC_UPPER LEVEL FULL BATH',\n",
        " 'BATHDESC_1/2 MASTER',\n",
        " 'BATHDESC_1/2 BASEMENT',\n",
        " 'BATHDESC_JACK AND JILL',\n",
        " 'BATHDESC_UPPER LEVEL 3/4 BATH',\n",
        " 'ZONING_INDUSTRIAL',\n",
        " 'ZONING_BUSINESS/COMMERCIAL',\n",
        " 'ZONING_OTHER',\n",
        " 'ZONING_RESIDENTIAL-SINGLE',\n",
        " 'ZONING_RESIDENTIAL-MULTI-FAMILY',\n",
        " 'COOLINGDESCRIPTION_WINDOW',\n",
        " 'COOLINGDESCRIPTION_WALL',\n",
        " 'COOLINGDESCRIPTION_DUCTLESS MINI-SPLIT',\n",
        " 'COOLINGDESCRIPTION_NONE',\n",
        " 'COOLINGDESCRIPTION_GEOTHERMAL',\n",
        " 'COOLINGDESCRIPTION_CENTRAL',\n",
        " 'CITY:LELM - LAKE ELMO',\n",
        " 'CITY:MAPW - MAPLEWOOD',\n",
        " 'CITY:OAKD - OAKDALE',\n",
        " 'CITY:STP - SAINT PAUL',\n",
        " 'CITY:WB - WOODBURY',\n",
        " 'LISTTYPE:EXCLUSIVE AGENCY',\n",
        " 'LISTTYPE:EXCLUSIVE RIGHT',\n",
        " 'LISTTYPE:EXCLUSIVE RIGHT WITH EXCLUSIONS',\n",
        " 'LISTTYPE:OTHER',\n",
        " 'LISTTYPE:SERVICE AGREEMENT',\n",
        " 'SCHOOLDISTRICTNUMBER:6 - SOUTH ST. PAUL',\n",
        " 'SCHOOLDISTRICTNUMBER:622 - NORTH ST PAUL-MAPLEWOOD',\n",
        " 'SCHOOLDISTRICTNUMBER:623 - ROSEVILLE',\n",
        " 'SCHOOLDISTRICTNUMBER:624 - WHITE BEAR LAKE',\n",
        " 'SCHOOLDISTRICTNUMBER:625 - ST. PAUL',\n",
        " 'SCHOOLDISTRICTNUMBER:832 - MAHTOMEDI',\n",
        " 'SCHOOLDISTRICTNUMBER:833 - SOUTH WASHINGTON COUNTY',\n",
        " 'SCHOOLDISTRICTNUMBER:834 - STILLWATER',\n",
        " 'POTENTIALSHORTSALE:NO',\n",
        " 'POTENTIALSHORTSALE:NOT DISCLOSED',\n",
        " 'STYLE:(CC) CONVERTED MANSION',\n",
        " 'STYLE:(CC) HIGH RISE (4+ LEVELS)',\n",
        " 'STYLE:(CC) LOW RISE (3- LEVELS)',\n",
        " 'STYLE:(CC) MANOR/VILLAGE',\n",
        " 'STYLE:(CC) TWO UNIT',\n",
        " 'STYLE:(SF) FOUR OR MORE LEVEL SPLIT',\n",
        " 'STYLE:(SF) MODIFIED TWO STORY',\n",
        " 'STYLE:(SF) MORE THAN TWO STORIES',\n",
        " 'STYLE:(SF) ONE 1/2 STORIES',\n",
        " 'STYLE:(SF) ONE STORY',\n",
        " 'STYLE:(SF) OTHER',\n",
        " 'STYLE:(SF) SPLIT ENTRY (BI-LEVEL)',\n",
        " 'STYLE:(SF) THREE LEVEL SPLIT',\n",
        " 'STYLE:(SF) TWO STORIES',\n",
        " 'STYLE:(TH) DETACHED',\n",
        " 'STYLE:(TH) QUAD/4 CORNERS',\n",
        " 'STYLE:(TH) SIDE X SIDE',\n",
        " 'STYLE:(TW) TWIN HOME',\n",
        " 'ASSUMABLEMORTGAGE:INFORMATION COMING',\n",
        " 'ASSUMABLEMORTGAGE:NOT ASSUMABLE',\n",
        " 'ASSUMABLEMORTGAGE:YES W/ QUALIFYING',\n",
        " 'ASSUMABLEMORTGAGE:YES W/NO QUALIFYING',\n",
        " 'ASSESSMENTPENDING:NO',\n",
        " 'ASSESSMENTPENDING:UNKNOWN',\n",
        " 'ASSESSMENTPENDING:YES']"
      ]
    },
    {
      "cell_type": "code",
      "execution_count": null,
      "metadata": {
        "id": "NIpfzZSXwbcu",
        "outputId": "9a659f42-730e-474b-e54b-3a18cb5b4a48"
      },
      "outputs": [
        {
          "data": {
            "text/plain": [
              "207"
            ]
          },
          "execution_count": 114,
          "metadata": {},
          "output_type": "execute_result"
        }
      ],
      "source": [
        "len(binary_cols)"
      ]
    },
    {
      "cell_type": "code",
      "execution_count": null,
      "metadata": {
        "id": "W_rWXTljwbcu"
      },
      "outputs": [],
      "source": [
        "obs_threshold = 30\n",
        "cols_to_remove = list()\n",
        "# Inspect first 10 binary columns in list\n",
        "for col in binary_cols[0:10]:\n",
        "  # Count the number of 1 values in the binary column\n",
        "  obs_count = df.agg({col: 'sum'}).collect()[0][0]\n",
        "  # If less than our observation threshold, remove\n",
        "  if obs_count < obs_threshold:\n",
        "    cols_to_remove.append(col)\n",
        "    \n",
        "# Drop columns and print starting and ending dataframe shapes\n",
        "new_df = df.drop(*cols_to_remove)\n",
        "\n",
        "print('Rows: ' + str(df.count()) + ' Columns: ' + str(len(df.columns)))\n",
        "print('Rows: ' + str(new_df.count()) + ' Columns: ' + str(len(new_df.columns)))"
      ]
    },
    {
      "cell_type": "markdown",
      "metadata": {
        "id": "5W4lxU5Twbcu"
      },
      "source": [
        "    Rows: 5000 Columns: 253\n",
        "    Rows: 5000 Columns: 250"
      ]
    },
    {
      "cell_type": "markdown",
      "metadata": {
        "id": "XJeGf_Jmwbcu"
      },
      "source": [
        "### Naively Handling Missing and Categorical Values"
      ]
    },
    {
      "cell_type": "markdown",
      "metadata": {
        "id": "zEwYDTsWwbcu"
      },
      "source": [
        "For missing values since our data is strictly positive, we will assign -1. The random forest will split on this value and handle it differently than the rest of the values in the same feature."
      ]
    },
    {
      "cell_type": "code",
      "execution_count": null,
      "metadata": {
        "id": "Z6OaNSEuwbcu"
      },
      "outputs": [],
      "source": [
        "categorical_cols = ['CITY', 'LISTTYPE',\n",
        "'SCHOOLDISTRICTNUMBER',\n",
        "'POTENTIALSHORTSALE',\n",
        "'STYLE',\n",
        "'ASSUMABLEMORTGAGE',\n",
        "'ASSESSMENTPENDING']"
      ]
    },
    {
      "cell_type": "code",
      "execution_count": null,
      "metadata": {
        "id": "tvPtqrrfwbcu"
      },
      "outputs": [],
      "source": [
        "from pyspark.ml import Pipeline"
      ]
    },
    {
      "cell_type": "code",
      "execution_count": null,
      "metadata": {
        "id": "mjh_JHemwbcu"
      },
      "outputs": [],
      "source": [
        "# Replace missing values\n",
        "df = df.fillna(-1, subset=['WALKSCORE', 'BIKESCORE'])\n",
        "\n",
        "# Create list of StringIndexers using list comprehension\n",
        "indexers = [StringIndexer(inputCol=col, outputCol=col+\"_IDX\")\\\n",
        "            .setHandleInvalid(\"keep\") for col in categorical_cols]\n",
        "\n",
        "# Create pipeline of indexers\n",
        "indexer_pipeline = Pipeline(stages=indexers)\n",
        "# Fit and Transform the pipeline to the original data\n",
        "df_indexed = indexer_pipeline.fit(df).transform(df)\n",
        "\n",
        "# Clean up redundant columns\n",
        "df_indexed = df_indexed.drop(*categorical_cols)\n",
        "# Inspect data transformations\n",
        "print(df_indexed.dtypes)"
      ]
    },
    {
      "cell_type": "markdown",
      "metadata": {
        "id": "D_T5qqEkwbcv"
      },
      "source": [
        "### Building a Regression Model"
      ]
    },
    {
      "cell_type": "code",
      "execution_count": null,
      "metadata": {
        "id": "t_7PqTOPwbcv"
      },
      "outputs": [],
      "source": [
        "from pyspark.ml.regression import GBTRegressor\n",
        "\n",
        "# Train a Gradient Boosted Trees (GBT) model.\n",
        "gbt = GBTRegressor(featuresCol='features',\n",
        "                           labelCol='SALESCLOSEPRICE',\n",
        "                           predictionCol=\"Prediction_Price\",\n",
        "                           seed=42\n",
        "                           )\n",
        "\n",
        "# Train model.\n",
        "model = gbt.fit(train_df)"
      ]
    },
    {
      "cell_type": "markdown",
      "metadata": {
        "id": "PqAjFFSzwbcv"
      },
      "source": [
        "### Evaluating & Comparing Algorithms"
      ]
    },
    {
      "cell_type": "code",
      "execution_count": null,
      "metadata": {
        "id": "_7eUZcsmwbcv"
      },
      "outputs": [],
      "source": [
        "from pyspark.ml.evaluation import RegressionEvaluator\n",
        "\n",
        "# Select columns to compute test error\n",
        "evaluator = RegressionEvaluator(labelCol='SALESCLOSEPRICE', \n",
        "                                  predictionCol='Prediction_Price')\n",
        "# Dictionary of model predictions to loop over\n",
        "models = {'Gradient Boosted Trees': gbt_predictions, 'Random Forest Regression': rfr_predictions}\n",
        "for key, preds in models.items():\n",
        "    # Create evaluation metrics\n",
        "    rmse = evaluator.evaluate(preds, {evaluator.metricName: 'rmse'})\n",
        "    r2 = evaluator.evaluate(preds, {evaluator.metricName: 'r2'})\n",
        "\n",
        "    # Print Model Metrics\n",
        "    print(key + ' RMSE: ' + str(rmse))\n",
        "    print(key + ' R^2: ' + str(r2))"
      ]
    },
    {
      "cell_type": "markdown",
      "metadata": {
        "id": "3DodObeowbcv"
      },
      "source": [
        "    Gradient Boosted Trees RMSE: 74380.63652512032\n",
        "    Gradient Boosted Trees R^2: 0.6482244200795505\n",
        "    Random Forest Regression RMSE: 22898.84041072095\n",
        "    Random Forest Regression R^2: 0.9666594402208077"
      ]
    },
    {
      "cell_type": "markdown",
      "metadata": {
        "id": "qe45RBUhwbcv"
      },
      "source": [
        "### Interpreting Results"
      ]
    },
    {
      "cell_type": "code",
      "execution_count": null,
      "metadata": {
        "id": "3cjvWRV-wbcv"
      },
      "outputs": [],
      "source": [
        "# Convert feature importances to a pandas column\n",
        "fi_df = pd.DataFrame(importances, columns=['importance'])\n",
        "\n",
        "# Convert list of feature names to pandas column\n",
        "fi_df['feature'] = pd.Series(feature_cols)\n",
        "\n",
        "# Sort the data based on feature importance\n",
        "fi_df.sort_values(by=['importance'], ascending=False, inplace=True)\n",
        "\n",
        "# Inspect Results\n",
        "fi_df.head(10)"
      ]
    },
    {
      "cell_type": "markdown",
      "metadata": {
        "id": "PP9kS9Ywwbcv"
      },
      "source": [
        "### Saving & Loading Models"
      ]
    },
    {
      "cell_type": "code",
      "execution_count": null,
      "metadata": {
        "id": "LyDUoKvhwbcv"
      },
      "outputs": [],
      "source": [
        "from pyspark.ml.regression import RandomForestRegressionModel\n",
        "\n",
        "# Save model\n",
        "model.save('rfr_no_listprice')\n",
        "\n",
        "# Load model\n",
        "loaded_model = RandomForestRegressionModel.load('rfr_no_listprice')"
      ]
    },
    {
      "cell_type": "code",
      "execution_count": null,
      "metadata": {
        "id": "ifGYjsSswbcv"
      },
      "outputs": [],
      "source": []
    }
  ],
  "metadata": {
    "kernelspec": {
      "display_name": "Python 3",
      "language": "python",
      "name": "python3"
    },
    "language_info": {
      "codemirror_mode": {
        "name": "ipython",
        "version": 3
      },
      "file_extension": ".py",
      "mimetype": "text/x-python",
      "name": "python",
      "nbconvert_exporter": "python",
      "pygments_lexer": "ipython3",
      "version": "3.6.7"
    },
    "colab": {
      "provenance": []
    }
  },
  "nbformat": 4,
  "nbformat_minor": 0
}